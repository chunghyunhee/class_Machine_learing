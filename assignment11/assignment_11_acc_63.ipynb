{
  "nbformat": 4,
  "nbformat_minor": 0,
  "metadata": {
    "colab": {
      "name": "assignment_11.ipynb",
      "provenance": []
    },
    "kernelspec": {
      "name": "python3",
      "display_name": "Python 3"
    }
  },
  "cells": [
    {
      "cell_type": "markdown",
      "metadata": {
        "id": "Yodd9EqUIy5s",
        "colab_type": "text"
      },
      "source": [
        "## codes for data processing for input data\n",
        "- input : dictionary의 형태에 해당(즉 벡터형태)\n",
        "- 단, 예외적으로 긍/부정에 상관없이 나오는 단어들(즉 모든 dataset에 uniform하게 나오는 단어들)은 제거\n",
        "- 모든 document에 극소하게 나오는 단어도 제외 \n",
        "- **dictionary를 reference로 사용하여 주어진 document에 해당 단어가 몇 번이나 나오는지(frequency)를 가지고 하나의 벡터를 생성한다 = input 형태**"
      ]
    },
    {
      "cell_type": "code",
      "metadata": {
        "id": "UeRclHLDIyUG",
        "colab_type": "code",
        "colab": {
          "base_uri": "https://localhost:8080/",
          "height": 92
        },
        "outputId": "f53bee5c-cbb0-4275-ced3-0f777bfbf437"
      },
      "source": [
        "import numpy as np\n",
        "import re\n",
        "import nltk\n",
        "from sklearn.datasets import load_files\n",
        "nltk.download('stopwords')\n",
        "nltk.download('wordnet')\n",
        "import pickle\n",
        "from nltk.corpus import stopwords\n",
        "from nltk.stem import WordNetLemmatizer\n",
        "from sklearn.feature_extraction.text import CountVectorizer\n",
        "from sklearn.feature_extraction.text import TfidfTransformer\n",
        "from sklearn.model_selection import train_test_split"
      ],
      "execution_count": 1,
      "outputs": [
        {
          "output_type": "stream",
          "text": [
            "[nltk_data] Downloading package stopwords to /root/nltk_data...\n",
            "[nltk_data]   Unzipping corpora/stopwords.zip.\n",
            "[nltk_data] Downloading package wordnet to /root/nltk_data...\n",
            "[nltk_data]   Unzipping corpora/wordnet.zip.\n"
          ],
          "name": "stdout"
        }
      ]
    },
    {
      "cell_type": "code",
      "metadata": {
        "id": "cAwH91G42z3o",
        "colab_type": "code",
        "colab": {
          "base_uri": "https://localhost:8080/",
          "height": 36
        },
        "outputId": "ba967c9b-077a-47c9-d93f-d0ba6c3a63b9"
      },
      "source": [
        "from google.colab import drive \n",
        "drive.mount('/content/gdrive/')"
      ],
      "execution_count": 342,
      "outputs": [
        {
          "output_type": "stream",
          "text": [
            "Mounted at /content/gdrive/\n"
          ],
          "name": "stdout"
        }
      ]
    },
    {
      "cell_type": "code",
      "metadata": {
        "id": "TYzufashva6T",
        "colab_type": "code",
        "colab": {}
      },
      "source": [
        "review_data = load_files(r\"/content/gdrive/My Drive/Colab Notebooks/movie_review\",categories=['pos','neg'])"
      ],
      "execution_count": 0,
      "outputs": []
    },
    {
      "cell_type": "code",
      "metadata": {
        "id": "RWvUQQE6KWT_",
        "colab_type": "code",
        "colab": {}
      },
      "source": [
        "X,y = review_data.data, review_data.target # 해당 feature이 될 데이터와 neg,pos값"
      ],
      "execution_count": 0,
      "outputs": []
    },
    {
      "cell_type": "code",
      "metadata": {
        "id": "6LdHykdaKemQ",
        "colab_type": "code",
        "colab": {}
      },
      "source": [
        "#X # 문장형태로 된 feature"
      ],
      "execution_count": 0,
      "outputs": []
    },
    {
      "cell_type": "code",
      "metadata": {
        "id": "2OkiOWt6KfzK",
        "colab_type": "code",
        "colab": {
          "base_uri": "https://localhost:8080/",
          "height": 36
        },
        "outputId": "69dd281d-ec9f-416f-f588-695044464faa"
      },
      "source": [
        "y[:10] # 1,0형태 "
      ],
      "execution_count": 347,
      "outputs": [
        {
          "output_type": "execute_result",
          "data": {
            "text/plain": [
              "array([0, 1, 1, 0, 1, 1, 1, 1, 1, 0])"
            ]
          },
          "metadata": {
            "tags": []
          },
          "execution_count": 347
        }
      ]
    },
    {
      "cell_type": "code",
      "metadata": {
        "id": "gqVGEdWBLCd0",
        "colab_type": "code",
        "colab": {}
      },
      "source": [
        "documents = []"
      ],
      "execution_count": 0,
      "outputs": []
    },
    {
      "cell_type": "code",
      "metadata": {
        "id": "cPOYkOkTLIFd",
        "colab_type": "code",
        "colab": {}
      },
      "source": [
        "stemmer = WordNetLemmatizer() # 표제어 추출하는 객체 "
      ],
      "execution_count": 0,
      "outputs": []
    },
    {
      "cell_type": "code",
      "metadata": {
        "id": "jfH46OiiLK2K",
        "colab_type": "code",
        "colab": {}
      },
      "source": [
        "for sen in range(0, len(X)):\n",
        "  # 긍, 부정에 영향을 주지 않는 단어 삭제 \n",
        "  # remove all the special character\n",
        "  document = re.sub(r'\\W',' ', str(X[sen]))\n",
        "  # remove all single characters\n",
        "  document = re.sub(r's+[a-zA-Z]\\s+',' ',document);\n",
        "  # remove single characters from the start\n",
        "  document = re.sub(r'\\^[a-zA-Z]\\s+', ' ', document) \n",
        "  # substituting multiple spaces with single space\n",
        "  document = re.sub(r'\\s+', ' ', document, flags=re.I)\n",
        "  # removing prefixed 'b'\n",
        "  document = re.sub(r'^b\\s+', '', document)\n",
        "  # converting to LowerCase\n",
        "  document = document.lower()\n",
        "\n",
        "  # Lemmatization(표제어 추출)\n",
        "  document = document.split()\n",
        "  document = [stemmer.lemmatize(word) for word in document]\n",
        "  document = ' '.join(document)\n",
        "\n",
        "  documents.append(document) # 필요없는 형태 제거와 표제어 추출 결과를 리스트에 저장"
      ],
      "execution_count": 0,
      "outputs": []
    },
    {
      "cell_type": "code",
      "metadata": {
        "id": "gQyacrHRM8WN",
        "colab_type": "code",
        "colab": {}
      },
      "source": [
        "# CountVectorizer : 단어 토큰 생성, 각 단어의 수를 세어 BOW 인코딩한 벡터 생성 \n",
        "vectorizer = CountVectorizer(max_features=2200, min_df=5, max_df=0.7, stop_words=stopwords.words('english'))"
      ],
      "execution_count": 0,
      "outputs": []
    },
    {
      "cell_type": "code",
      "metadata": {
        "id": "03_WOHcUNMlC",
        "colab_type": "code",
        "colab": {}
      },
      "source": [
        "X = vectorizer.fit_transform(documents).toarray()"
      ],
      "execution_count": 0,
      "outputs": []
    },
    {
      "cell_type": "code",
      "metadata": {
        "id": "u5I6uXdeNvA0",
        "colab_type": "code",
        "colab": {
          "base_uri": "https://localhost:8080/",
          "height": 36
        },
        "outputId": "374c96ed-9313-4ebe-c04a-3d5aeec5bff0"
      },
      "source": [
        "X.shape # 1000개의 문서에서  단어 딕셔너리 reference생성 "
      ],
      "execution_count": 950,
      "outputs": [
        {
          "output_type": "execute_result",
          "data": {
            "text/plain": [
              "(2000, 2200)"
            ]
          },
          "metadata": {
            "tags": []
          },
          "execution_count": 950
        }
      ]
    },
    {
      "cell_type": "code",
      "metadata": {
        "id": "1_PN2U6cNxjp",
        "colab_type": "code",
        "colab": {}
      },
      "source": [
        "# TfidfTransformer : CountVectorizer와 비슷하나, TF-IDF 방식으로 단어의 가중치 조정 \n",
        "tfidfconverter = TfidfTransformer()\n",
        "X = tfidfconverter.fit_transform(X).toarray()"
      ],
      "execution_count": 0,
      "outputs": []
    },
    {
      "cell_type": "code",
      "metadata": {
        "id": "IgIlx3aqOL0-",
        "colab_type": "code",
        "colab": {}
      },
      "source": [
        "X_train, X_test, y_train, y_test = train_test_split(X, y, test_size=0.3, shuffle=False)"
      ],
      "execution_count": 0,
      "outputs": []
    },
    {
      "cell_type": "code",
      "metadata": {
        "id": "RuSMw2UuqT1e",
        "colab_type": "code",
        "colab": {
          "base_uri": "https://localhost:8080/",
          "height": 36
        },
        "outputId": "9ae6fe80-478d-4b86-b130-e361b8b3fd67"
      },
      "source": [
        "y_train"
      ],
      "execution_count": 1021,
      "outputs": [
        {
          "output_type": "execute_result",
          "data": {
            "text/plain": [
              "array([0, 1, 1, ..., 0, 1, 1])"
            ]
          },
          "metadata": {
            "tags": []
          },
          "execution_count": 1021
        }
      ]
    },
    {
      "cell_type": "code",
      "metadata": {
        "id": "u2ehH-Kr6pov",
        "colab_type": "code",
        "colab": {}
      },
      "source": [
        "#y_train = y_train.reshape(y_train.shape[0],1)\n",
        "#y_test = y_test.reshape(y_test.shape[0],1)"
      ],
      "execution_count": 0,
      "outputs": []
    },
    {
      "cell_type": "code",
      "metadata": {
        "id": "Z_WArirbOSMs",
        "colab_type": "code",
        "colab": {
          "base_uri": "https://localhost:8080/",
          "height": 36
        },
        "outputId": "2ddb64b4-5f83-4f2d-8e97-10568957321e"
      },
      "source": [
        "print(X_train.shape, X_test.shape, y_train.shape, y_test.shape)"
      ],
      "execution_count": 1023,
      "outputs": [
        {
          "output_type": "stream",
          "text": [
            "(1400, 2200) (600, 2200) (1400,) (600,)\n"
          ],
          "name": "stdout"
        }
      ]
    },
    {
      "cell_type": "markdown",
      "metadata": {
        "id": "AsGS2IUZOSy4",
        "colab_type": "text"
      },
      "source": [
        "## training(Optimization)"
      ]
    },
    {
      "cell_type": "code",
      "metadata": {
        "id": "NRO9aSeEOOEN",
        "colab_type": "code",
        "colab": {}
      },
      "source": [
        "# h, sigmoid함수 정의 \n",
        "# activation function으로 sigmoid를 사용할 예정에 있음 \n",
        "def h(theta,X):\n",
        "  return np.dot(X,theta)\n",
        "\n",
        "def sigmoid(x):\n",
        "  return 1 / (1 + np.exp(-x))\n",
        "\n",
        "# 미분한 sigmoid식\n",
        "def Dsigmoid(x):\n",
        "  return sigmoid(x)*(1-sigmoid(x))"
      ],
      "execution_count": 0,
      "outputs": []
    },
    {
      "cell_type": "code",
      "metadata": {
        "id": "TZRc6kdJPCkO",
        "colab_type": "code",
        "colab": {}
      },
      "source": [
        "# 순전파 함수\n",
        "# 여기서의 theta는 각 layer별로 해당하는 theta를 전부 포함한 list에 해당한다. \n",
        "def Forward(image, theta_vector):\n",
        "    z_each_layer = []\n",
        "\n",
        "    # theta의 수대로 반복하고, 그에따라 각각 저장해야 한다. \n",
        "    for i in range(len(theta_vector)):\n",
        "      image = add_bias(image)\n",
        "      theta = theta_vector[i]\n",
        "      z = np.dot(image, theta)\n",
        "      a = sigmoid(z)\n",
        "      z_each_layer.append(a) # z와 a값 모두 저장한다\n",
        "      image = a\n",
        "\n",
        "    return z_each_layer"
      ],
      "execution_count": 0,
      "outputs": []
    },
    {
      "cell_type": "code",
      "metadata": {
        "id": "DGbdUiIUT1hT",
        "colab_type": "code",
        "colab": {}
      },
      "source": [
        "# label의 원핫인코딩을 위한 함수 \n",
        "def onehotencoding(label):\n",
        "  unique = np.unique(label)\n",
        "  m = label.shape[0]\n",
        "  n = unique.shape[0]\n",
        "  empty = np.zeros((m, n))\n",
        "\n",
        "  for i in range(m):\n",
        "    for j in range(n):\n",
        "      if label[i] == unique[j]:\n",
        "        empty[i, j] = 1\n",
        "  \n",
        "  return empty"
      ],
      "execution_count": 0,
      "outputs": []
    },
    {
      "cell_type": "code",
      "metadata": {
        "id": "o8RHdcOePID3",
        "colab_type": "code",
        "colab": {}
      },
      "source": [
        "# Objective function에 대한 정의 \n",
        "# regularization term추가 (L의 값은 lambda에 해당한다)\n",
        "def ObjectiveFunction(image, theta_vector,label_list,L ):\n",
        "  h = Forward(image, theta_vector) # 순전파로 계산한 값의 h(각 layer별로 a값을 출력한다. )\n",
        "  sigmoid_value = [h[0], h[1], h[2] ,h[3]]\n",
        "  output_layer = sigmoid_value[-1] # 마지막 h[2]가 결국은 output layer에 해당한다. \n",
        "  n = len(theta_vector)# theta의 수에 해당한다, \n",
        "  # m = image.shape[0] # 이부분 식 수정해야 하는지 확인하기 \n",
        "\n",
        "  # cost function에 대해 regularization term을 추가한다. \n",
        "  reg_value = 0\n",
        "  for theta in range(len(theta_vector)): \n",
        "    reg_value += np.sum(theta*theta)\n",
        "  reg_value *= float(L)/(2*n) \n",
        "   \n",
        "  cost = -np.mean(np.sum(label_list*np.log(output_layer+1e-7) + (1 - label_list)*np.log(1 - output_layer + 1e-7), axis=1)) #해당 J(theta)값\n",
        "  \n",
        "  return cost+reg_value, sigmoid_value"
      ],
      "execution_count": 0,
      "outputs": []
    },
    {
      "cell_type": "code",
      "metadata": {
        "id": "9vdDR1S4b9PZ",
        "colab_type": "code",
        "colab": {}
      },
      "source": [
        "#def predict(output_layer):\n",
        "#  predict_label = np.where(output_layer > 0.5, 1 , 0)\n",
        "#  return predict_label"
      ],
      "execution_count": 0,
      "outputs": []
    },
    {
      "cell_type": "code",
      "metadata": {
        "id": "9FNWjKZ2mPWD",
        "colab_type": "code",
        "colab": {}
      },
      "source": [
        "def predict(output_layer):\n",
        "  predict_label = np.argmax(output_layer, axis=1)\n",
        "  return predict_label"
      ],
      "execution_count": 0,
      "outputs": []
    },
    {
      "cell_type": "code",
      "metadata": {
        "id": "btAhabkRPSNV",
        "colab_type": "code",
        "colab": {}
      },
      "source": [
        "# accuracy\n",
        "def accuracy(pred, true):\n",
        "  acc = np.mean(pred == true)\n",
        "  return acc"
      ],
      "execution_count": 0,
      "outputs": []
    },
    {
      "cell_type": "code",
      "metadata": {
        "id": "4Id2rnVFPUFY",
        "colab_type": "code",
        "colab": {}
      },
      "source": [
        "# bias 추가 \n",
        "def add_bias(image):\n",
        "  m = image.shape[0]\n",
        "  temp = np.column_stack((np.ones((m, 1)), image))\n",
        "  return temp"
      ],
      "execution_count": 0,
      "outputs": []
    },
    {
      "cell_type": "code",
      "metadata": {
        "id": "PYKb67DePZKl",
        "colab_type": "code",
        "colab": {}
      },
      "source": [
        "# 역전파 함수 수정 \n",
        "def Back(image, theta_list, onehot, sigmoid_list):\n",
        "  m = image.shape[0]\n",
        "  delta5 = sigmoid_list[3] - onehot\n",
        "  delta4 = np.dot(delta5, theta_list[3][1:, :].T)*sigmoid_list[2]*(1-sigmoid_list[2])\n",
        "  delta3 = np.dot(delta4, theta_list[2][1:, :].T)*sigmoid_list[1]*(1-sigmoid_list[1])\n",
        "  delta2 = np.dot(delta3, theta_list[1][1:, :].T)*sigmoid_list[0]*(1-sigmoid_list[0])\n",
        "\n",
        "  add_bias_term4 = add_bias(sigmoid_list[2])\n",
        "  add_bias_term3 = add_bias(sigmoid_list[1])\n",
        "  add_bias_term2 = add_bias(sigmoid_list[0])\n",
        "  add_bias_term1 = add_bias(image)\n",
        "  \n",
        "  gradient4 = np.dot(add_bias_term4.T, delta5) / m\n",
        "  gradient3 = np.dot(add_bias_term3.T, delta4) / m\n",
        "  gradient2 = np.dot(add_bias_term2.T, delta3) / m\n",
        "  gradient1 = np.dot(add_bias_term1.T, delta2) / m\n",
        "  gradient_list = [gradient1, gradient2, gradient3, gradient4]\n",
        "\n",
        "  return gradient_list"
      ],
      "execution_count": 0,
      "outputs": []
    },
    {
      "cell_type": "code",
      "metadata": {
        "id": "AN6YYvVSPkSy",
        "colab_type": "code",
        "colab": {
          "base_uri": "https://localhost:8080/",
          "height": 36
        },
        "outputId": "a27d6206-54e6-4d8a-9901-9192118c5656"
      },
      "source": [
        "y_train.shape"
      ],
      "execution_count": 1009,
      "outputs": [
        {
          "output_type": "execute_result",
          "data": {
            "text/plain": [
              "(1400,)"
            ]
          },
          "metadata": {
            "tags": []
          },
          "execution_count": 1009
        }
      ]
    },
    {
      "cell_type": "code",
      "metadata": {
        "id": "c_d7X74ArFLA",
        "colab_type": "code",
        "colab": {}
      },
      "source": [
        "y_train_one = onehotencoding(y_train)\n",
        "y_test_one = onehotencoding(y_test)"
      ],
      "execution_count": 0,
      "outputs": []
    },
    {
      "cell_type": "code",
      "metadata": {
        "id": "DMQP_lIzrOxd",
        "colab_type": "code",
        "colab": {
          "base_uri": "https://localhost:8080/",
          "height": 36
        },
        "outputId": "41f4e4c1-f93e-49eb-c205-691b96d5d955"
      },
      "source": [
        "y_train"
      ],
      "execution_count": 1011,
      "outputs": [
        {
          "output_type": "execute_result",
          "data": {
            "text/plain": [
              "array([0, 1, 1, ..., 0, 1, 1])"
            ]
          },
          "metadata": {
            "tags": []
          },
          "execution_count": 1011
        }
      ]
    },
    {
      "cell_type": "code",
      "metadata": {
        "id": "9gmRW7GIrx-b",
        "colab_type": "code",
        "colab": {
          "base_uri": "https://localhost:8080/",
          "height": 148
        },
        "outputId": "01efc1bc-1ca7-48f5-c682-7e6300a5906e"
      },
      "source": [
        "y_train_one"
      ],
      "execution_count": 1012,
      "outputs": [
        {
          "output_type": "execute_result",
          "data": {
            "text/plain": [
              "array([[1., 0.],\n",
              "       [0., 1.],\n",
              "       [0., 1.],\n",
              "       ...,\n",
              "       [1., 0.],\n",
              "       [0., 1.],\n",
              "       [0., 1.]])"
            ]
          },
          "metadata": {
            "tags": []
          },
          "execution_count": 1012
        }
      ]
    },
    {
      "cell_type": "code",
      "metadata": {
        "id": "-EYZ_RoqPtTI",
        "colab_type": "code",
        "colab": {}
      },
      "source": [
        "# 먼저 theta의 행렬의 형태에 대한 정의가 필요하다.  \n",
        "# 랜덤으로 정한 theta (U,V,W)에 해당 \n",
        "np.random.seed(20180378)\n",
        "\n",
        "# 파라미터 수를 늘리므로 더작은 std의 N(0,1)에서 랜덤값 뽑을 것임 initializer수정\n",
        "# 초깃값 너무 작게 두면 기울기 소실이 난다. 적당한 크기로 두는 것이 중요함. \n",
        "# N(0,0.01)에서 랜덤값을 initializer한다. \n",
        "theta1 = np.random.randn(2201, 255) \n",
        "theta2 = np.random.randn(256, 255)\n",
        "theta3 = np.random.randn(256, 255)\n",
        "theta4 = np.random.randn(256, 2)\n",
        "\n",
        "\n",
        "# 정한 theta들의 리스트\n",
        "theta_vector = [theta1, theta2, theta3, theta4]\n",
        "train_cost_value_list = []\n",
        "test_cost_value_list = []\n",
        "train_accuracy_list = []\n",
        "test_accuracy_list = []"
      ],
      "execution_count": 0,
      "outputs": []
    },
    {
      "cell_type": "code",
      "metadata": {
        "id": "fcjnux6yQGYk",
        "colab_type": "code",
        "colab": {}
      },
      "source": [
        "# hyperparameter값 (튜닝예정 )\n",
        "iteration = 5000\n",
        "learning_rate = 0.043\n",
        "L = 0.5 # reg term의 lambda값"
      ],
      "execution_count": 0,
      "outputs": []
    },
    {
      "cell_type": "code",
      "metadata": {
        "id": "2XjPrg-RQLQq",
        "colab_type": "code",
        "colab": {
          "base_uri": "https://localhost:8080/",
          "height": 1000
        },
        "outputId": "27013778-17b6-47e5-b74d-403133bc669f"
      },
      "source": [
        "for iter in range(iteration):\n",
        "\n",
        "  # compute cost\n",
        "  train_cost_value, train_sigmoid_value = ObjectiveFunction(X_train, theta_vector, y_train_one, L)\n",
        "  test_cost_value, test_sigmoid_value = ObjectiveFunction(X_test, theta_vector, y_test_one, L)\n",
        "  # predict the final label \n",
        "  train_predict_label = predict(train_sigmoid_value[-1])\n",
        "  test_predict_label = predict(test_sigmoid_value[-1])\n",
        " \n",
        "  # compute accuracy\n",
        "  train_accuracy = accuracy(train_predict_label, y_train)\n",
        "  test_accuracy = accuracy(test_predict_label, y_test)\n",
        "  gradient = Back(X_train, theta_vector, y_train_one, train_sigmoid_value)\n",
        "\n",
        "  # append\n",
        "  train_cost_value_list.append(train_cost_value)\n",
        "  test_cost_value_list.append(test_cost_value)\n",
        "  train_accuracy_list.append(train_accuracy)\n",
        "  test_accuracy_list.append(test_accuracy)\n",
        "  if iter > 300 :\n",
        "    learning_rate = 0.03\n",
        "  elif iter > 800 :\n",
        "    learning_rate = 0.02\n",
        "  # theta update \n",
        "  for i in range(len(theta_vector)):\n",
        "    theta_vector[i] = theta_vector[i] - learning_rate * gradient[i]\n",
        "  \n",
        "  # update되는 cost, sccuracy값 확인하기 \n",
        "  if(iter%50 == 0):\n",
        "    print(\"train:\",train_cost_value, train_accuracy )\n",
        "    print(\"test :\", test_cost_value, test_accuracy) "
      ],
      "execution_count": 1030,
      "outputs": [
        {
          "output_type": "stream",
          "text": [
            "train: 3.471489424546845 0.525\n",
            "test : 3.508984124290456 0.5116666666666667\n",
            "train: 2.727228766242777 0.5742857142857143\n",
            "test : 2.8996016017933415 0.5366666666666666\n",
            "train: 2.469290573417989 0.6007142857142858\n",
            "test : 2.689252549105916 0.535\n",
            "train: 2.34518804832953 0.6314285714285715\n",
            "test : 2.5928270687943806 0.545\n",
            "train: 2.2699108687075196 0.6478571428571429\n",
            "test : 2.5443368277596528 0.5533333333333333\n",
            "train: 2.2142928770496537 0.66\n",
            "test : 2.5132672833894683 0.5516666666666666\n",
            "train: 2.169816408684584 0.6657142857142857\n",
            "test : 2.4900138981060933 0.5566666666666666\n",
            "train: 2.1430303252648244 0.6735714285714286\n",
            "test : 2.477081025972386 0.5633333333333334\n",
            "train: 2.1190188568857558 0.6864285714285714\n",
            "test : 2.4665725902861695 0.5583333333333333\n",
            "train: 2.0968939361384384 0.6935714285714286\n",
            "test : 2.4579782646405173 0.5533333333333333\n",
            "train: 2.0762369280282535 0.7007142857142857\n",
            "test : 2.450977169409951 0.5516666666666666\n",
            "train: 2.056767197925561 0.7092857142857143\n",
            "test : 2.4453154469961946 0.5566666666666666\n",
            "train: 2.038282593424334 0.7164285714285714\n",
            "test : 2.4407852930093252 0.56\n",
            "train: 2.020626903078206 0.7228571428571429\n",
            "test : 2.437209827709415 0.5616666666666666\n",
            "train: 2.0036746663367615 0.725\n",
            "test : 2.4344359082089553 0.575\n",
            "train: 1.9873239609001947 0.7292857142857143\n",
            "test : 2.4323305187885316 0.5766666666666667\n",
            "train: 1.9714915454320736 0.7364285714285714\n",
            "test : 2.4307786060047185 0.58\n",
            "train: 1.9561085034814183 0.74\n",
            "test : 2.429681895355504 0.5816666666666667\n",
            "train: 1.9411165961807775 0.745\n",
            "test : 2.428958041187845 0.5816666666666667\n",
            "train: 1.9264659309987278 0.75\n",
            "test : 2.428539196598604 0.585\n",
            "train: 1.9121140309356306 0.7592857142857142\n",
            "test : 2.4283696703326005 0.5866666666666667\n",
            "train: 1.8980257794822533 0.765\n",
            "test : 2.4284032267577524 0.5883333333333334\n",
            "train: 1.884173465865969 0.7678571428571429\n",
            "test : 2.428600977226668 0.59\n",
            "train: 1.8705362986264626 0.7735714285714286\n",
            "test : 2.4289304397669804 0.5883333333333334\n",
            "train: 1.8570991854557695 0.7828571428571428\n",
            "test : 2.4293654897958694 0.59\n",
            "train: 1.8438510614657737 0.785\n",
            "test : 2.429886279402984 0.5883333333333334\n",
            "train: 1.8307832520700797 0.7892857142857143\n",
            "test : 2.430478400184845 0.5933333333333334\n",
            "train: 1.8178881957379505 0.7942857142857143\n",
            "test : 2.431131403319201 0.5933333333333334\n",
            "train: 1.805158617804625 0.7971428571428572\n",
            "test : 2.431837362479166 0.595\n",
            "train: 1.7925871476795896 0.8\n",
            "test : 2.432589997613965 0.5966666666666667\n",
            "train: 1.7801663081915697 0.8028571428571428\n",
            "test : 2.4333843796575323 0.595\n",
            "train: 1.7678887114384585 0.8064285714285714\n",
            "test : 2.434216951374966 0.5966666666666667\n",
            "train: 1.7557472702483758 0.8092857142857143\n",
            "test : 2.43508561260224 0.595\n",
            "train: 1.7437353177027008 0.8128571428571428\n",
            "test : 2.4359897386309446 0.5983333333333334\n",
            "train: 1.7318466347500943 0.815\n",
            "test : 2.4369300934501554 0.5983333333333334\n",
            "train: 1.7200754399762646 0.8185714285714286\n",
            "test : 2.4379086448298044 0.6\n",
            "train: 1.7084163902038747 0.8264285714285714\n",
            "test : 2.438928307276628 0.6\n",
            "train: 1.6968646093904058 0.83\n",
            "test : 2.439992647584136 0.6\n",
            "train: 1.685415736609146 0.8328571428571429\n",
            "test : 2.441105589654584 0.6033333333333334\n",
            "train: 1.6740659732267478 0.8407142857142857\n",
            "test : 2.4422711499063787 0.6\n",
            "train: 1.6628121118545807 0.8485714285714285\n",
            "test : 2.443493223531889 0.6066666666666667\n",
            "train: 1.6516515378117305 0.8507142857142858\n",
            "test : 2.4447754293298978 0.61\n",
            "train: 1.640582202055894 0.8528571428571429\n",
            "test : 2.446121010706583 0.6083333333333333\n",
            "train: 1.6296025704193648 0.8564285714285714\n",
            "test : 2.4475327843741885 0.6066666666666667\n",
            "train: 1.6187115572260296 0.8607142857142858\n",
            "test : 2.449013125847035 0.6083333333333333\n",
            "train: 1.6079084523730787 0.8642857142857143\n",
            "test : 2.450563980757343 0.6083333333333333\n",
            "train: 1.5971928502169939 0.8685714285714285\n",
            "test : 2.4521868921702406 0.6083333333333333\n",
            "train: 1.5865645865972027 0.8742857142857143\n",
            "test : 2.4538830358339583 0.6083333333333333\n",
            "train: 1.576023687657194 0.8764285714285714\n",
            "test : 2.455653257334678 0.6083333333333333\n",
            "train: 1.5655703314474718 0.8814285714285715\n",
            "test : 2.457498107175284 0.6083333333333333\n",
            "train: 1.5552048211853051 0.885\n",
            "test : 2.4594178715887454 0.61\n",
            "train: 1.544927567805456 0.8871428571428571\n",
            "test : 2.4614125982239057 0.61\n",
            "train: 1.5347390790548672 0.8885714285714286\n",
            "test : 2.463482116662438 0.615\n",
            "train: 1.524639952626396 0.8928571428571429\n",
            "test : 2.4656260541625175 0.6183333333333333\n",
            "train: 1.5146308713740315 0.8964285714285715\n",
            "test : 2.467843847273672 0.62\n",
            "train: 1.504712599230257 0.9\n",
            "test : 2.4701347501908044 0.6216666666666667\n",
            "train: 1.4948859768900042 0.9028571428571428\n",
            "test : 2.472497840978746 0.6233333333333333\n",
            "train: 1.4851519165867733 0.9064285714285715\n",
            "test : 2.4749320270636392 0.6233333333333333\n",
            "train: 1.4755113954073846 0.9092857142857143\n",
            "test : 2.4774360515464418 0.6233333333333333\n",
            "train: 1.4659654466650918 0.9142857142857143\n",
            "test : 2.480008501822988 0.6233333333333333\n",
            "train: 1.4565151489760506 0.9164285714285715\n",
            "test : 2.4826478216106374 0.62\n",
            "train: 1.4471616129274885 0.92\n",
            "test : 2.4853523267914803 0.6216666666666667\n",
            "train: 1.437905965589514 0.9214285714285714\n",
            "test : 2.4881202246134864 0.62\n",
            "train: 1.428749333536573 0.925\n",
            "test : 2.4909496349732327 0.62\n",
            "train: 1.4196928253910692 0.93\n",
            "test : 2.4938386119943945 0.6216666666666667\n",
            "train: 1.4107375150655013 0.9314285714285714\n",
            "test : 2.496785164091483 0.6216666666666667\n",
            "train: 1.40188442680269 0.9328571428571428\n",
            "test : 2.4997872711746383 0.625\n",
            "train: 1.3931345228232463 0.9357142857142857\n",
            "test : 2.5028428984324735 0.6266666666666667\n",
            "train: 1.3844886939816865 0.9371428571428572\n",
            "test : 2.5059500069474527 0.6266666666666667\n",
            "train: 1.375947753426292 0.94\n",
            "test : 2.5091065619971955 0.6233333333333333\n",
            "train: 1.367512432945489 0.9428571428571428\n",
            "test : 2.512310540143288 0.625\n",
            "train: 1.359183381505717 0.9442857142857143\n",
            "test : 2.5155599361209777 0.6266666666666667\n",
            "train: 1.3509611654341263 0.9464285714285714\n",
            "test : 2.5188527702333383 0.6283333333333333\n",
            "train: 1.3428462697374597 0.9471428571428572\n",
            "test : 2.5221870965638837 0.6283333333333333\n",
            "train: 1.3348391001336517 0.9514285714285714\n",
            "test : 2.525561011963997 0.63\n",
            "train: 1.3269399854710477 0.9528571428571428\n",
            "test : 2.528972665504913 0.6316666666666667\n",
            "train: 1.3191491803011586 0.955\n",
            "test : 2.532420267921537 0.6316666666666667\n",
            "train: 1.3114668674456653 0.9578571428571429\n",
            "test : 2.535902100503556 0.6316666666666667\n",
            "train: 1.3038931604557957 0.9592857142857143\n",
            "test : 2.539416522886854 0.6316666666666667\n",
            "train: 1.2964281059048521 0.9621428571428572\n",
            "test : 2.542961979246448 0.6333333333333333\n",
            "train: 1.2890716854861108 0.9621428571428572\n",
            "test : 2.5465370024784546 0.6333333333333333\n",
            "train: 1.281823817911767 0.965\n",
            "test : 2.5501402160745936 0.6333333333333333\n",
            "train: 1.2746843606263387 0.965\n",
            "test : 2.553770333530797 0.6316666666666667\n",
            "train: 1.2676531113613658 0.9664285714285714\n",
            "test : 2.55742615528255 0.6316666666666667\n",
            "train: 1.2607298095681232 0.9678571428571429\n",
            "test : 2.561106563311906 0.6316666666666667\n",
            "train: 1.2539141377717824 0.97\n",
            "test : 2.564810513711458 0.6316666666666667\n",
            "train: 1.2472057228942173 0.9707142857142858\n",
            "test : 2.568537027606244 0.6333333333333333\n",
            "train: 1.2406041375935453 0.9714285714285714\n",
            "test : 2.5722851809152605 0.6333333333333333\n",
            "train: 1.2341089016665854 0.9714285714285714\n",
            "test : 2.5760540934744074 0.6333333333333333\n",
            "train: 1.2277194835558098 0.9721428571428572\n",
            "test : 2.5798429180412312 0.635\n",
            "train: 1.2214353019951711 0.975\n",
            "test : 2.5836508296629708 0.6316666666666667\n",
            "train: 1.2152557278197238 0.975\n",
            "test : 2.5874770158207547 0.6333333333333333\n",
            "train: 1.2091800859526547 0.9771428571428571\n",
            "test : 2.591320667674357 0.6333333333333333\n",
            "train: 1.2032076575708868 0.9771428571428571\n",
            "test : 2.5951809726342816 0.6333333333333333\n",
            "train: 1.1973376824376198 0.9778571428571429\n",
            "test : 2.5990571083908844 0.635\n",
            "train: 1.191569361377929 0.9785714285714285\n",
            "test : 2.6029482384417975 0.635\n",
            "train: 1.1859018588627286 0.9792857142857143\n",
            "test : 2.606853509084427 0.635\n",
            "train: 1.180334305657731 0.98\n",
            "test : 2.610772047782814 0.6366666666666667\n",
            "train: 1.1748658014880249 0.9807142857142858\n",
            "test : 2.61470296277797 0.6366666666666667\n",
            "train: 1.1694954176658152 0.9814285714285714\n",
            "test : 2.618645343786536 0.6366666666666667\n"
          ],
          "name": "stdout"
        }
      ]
    },
    {
      "cell_type": "code",
      "metadata": {
        "id": "to0haaSGZXFx",
        "colab_type": "code",
        "colab": {}
      },
      "source": [
        ""
      ],
      "execution_count": 0,
      "outputs": []
    },
    {
      "cell_type": "markdown",
      "metadata": {
        "id": "46__d03cAixS",
        "colab_type": "text"
      },
      "source": [
        "## plot the loss curve"
      ]
    },
    {
      "cell_type": "code",
      "metadata": {
        "id": "t536u5KcAk-s",
        "colab_type": "code",
        "colab": {
          "base_uri": "https://localhost:8080/",
          "height": 284
        },
        "outputId": "7c22af76-974e-4864-e609-afe23995cd9b"
      },
      "source": [
        "plt.plot(train_cost_value_list,'b') # train\n",
        "plt.plot(test_cost_value_list,'r') # test"
      ],
      "execution_count": 1031,
      "outputs": [
        {
          "output_type": "execute_result",
          "data": {
            "text/plain": [
              "[<matplotlib.lines.Line2D at 0x7f808745edd8>]"
            ]
          },
          "metadata": {
            "tags": []
          },
          "execution_count": 1031
        },
        {
          "output_type": "display_data",
          "data": {
            "image/png": "[encoded data removed]",
            "text/plain": [
              "<Figure size 432x288 with 1 Axes>"
            ]
          },
          "metadata": {
            "tags": [],
            "needs_background": "light"
          }
        }
      ]
    },
    {
      "cell_type": "markdown",
      "metadata": {
        "id": "xqIPjMpLAxGk",
        "colab_type": "text"
      },
      "source": [
        "## plot the accuracy curve"
      ]
    },
    {
      "cell_type": "code",
      "metadata": {
        "id": "86DrTMZsA2Qj",
        "colab_type": "code",
        "colab": {
          "base_uri": "https://localhost:8080/",
          "height": 286
        },
        "outputId": "94c28946-9c32-4a35-a5eb-f399cca628e8"
      },
      "source": [
        "plt.plot(train_accuracy_list,'b')\n",
        "plt.plot(test_accuracy_list,'r')"
      ],
      "execution_count": 1032,
      "outputs": [
        {
          "output_type": "execute_result",
          "data": {
            "text/plain": [
              "[<matplotlib.lines.Line2D at 0x7f808756c6a0>]"
            ]
          },
          "metadata": {
            "tags": []
          },
          "execution_count": 1032
        },
        {
          "output_type": "display_data",
          "data": {
            "image/png": "[encoded data removed]",
            "text/plain": [
              "<Figure size 432x288 with 1 Axes>"
            ]
          },
          "metadata": {
            "tags": [],
            "needs_background": "light"
          }
        }
      ]
    },
    {
      "cell_type": "markdown",
      "metadata": {
        "id": "ThM-l0OAA4v2",
        "colab_type": "text"
      },
      "source": [
        "## plot the quantitative results"
      ]
    },
    {
      "cell_type": "code",
      "metadata": {
        "id": "T3AyUgeYBAhX",
        "colab_type": "code",
        "colab": {
          "base_uri": "https://localhost:8080/",
          "height": 241
        },
        "outputId": "39cb84ef-bea4-442c-e230-54fa0fa62648"
      },
      "source": [
        "# training results\n",
        "from sklearn.metrics import classification_report, confusion_matrix, accuracy_score\n",
        "\n",
        "# confusion matrix \n",
        "print(confusion_matrix(y_train,train_predict_label))\n",
        "# classification results\n",
        "print(classification_report(y_train,train_predict_label))\n",
        "# accuracy_score\n",
        "print(accuracy_score(y_train, train_predict_label))"
      ],
      "execution_count": 1033,
      "outputs": [
        {
          "output_type": "stream",
          "text": [
            "[[686  12]\n",
            " [ 13 689]]\n",
            "              precision    recall  f1-score   support\n",
            "\n",
            "           0       0.98      0.98      0.98       698\n",
            "           1       0.98      0.98      0.98       702\n",
            "\n",
            "    accuracy                           0.98      1400\n",
            "   macro avg       0.98      0.98      0.98      1400\n",
            "weighted avg       0.98      0.98      0.98      1400\n",
            "\n",
            "0.9821428571428571\n"
          ],
          "name": "stdout"
        }
      ]
    },
    {
      "cell_type": "code",
      "metadata": {
        "id": "qJ0lBrRWBu0p",
        "colab_type": "code",
        "colab": {
          "base_uri": "https://localhost:8080/",
          "height": 241
        },
        "outputId": "443e06fd-46b1-4ab1-a0f2-4432c993e485"
      },
      "source": [
        "# testing results\n",
        "print(confusion_matrix(y_test,test_predict_label))\n",
        "print(classification_report(y_test,test_predict_label))\n",
        "print(accuracy_score(y_test, test_predict_label))"
      ],
      "execution_count": 1034,
      "outputs": [
        {
          "output_type": "stream",
          "text": [
            "[[194 108]\n",
            " [110 188]]\n",
            "              precision    recall  f1-score   support\n",
            "\n",
            "           0       0.64      0.64      0.64       302\n",
            "           1       0.64      0.63      0.63       298\n",
            "\n",
            "    accuracy                           0.64       600\n",
            "   macro avg       0.64      0.64      0.64       600\n",
            "weighted avg       0.64      0.64      0.64       600\n",
            "\n",
            "0.6366666666666667\n"
          ],
          "name": "stdout"
        }
      ]
    },
    {
      "cell_type": "code",
      "metadata": {
        "id": "TKIzBU3qB2nK",
        "colab_type": "code",
        "colab": {}
      },
      "source": [
        ""
      ],
      "execution_count": 0,
      "outputs": []
    },
    {
      "cell_type": "markdown",
      "metadata": {
        "id": "ZanhdN-WB4LX",
        "colab_type": "text"
      },
      "source": [
        "## testing accuracy"
      ]
    },
    {
      "cell_type": "code",
      "metadata": {
        "id": "3q_tUeloB6HD",
        "colab_type": "code",
        "colab": {
          "base_uri": "https://localhost:8080/",
          "height": 36
        },
        "outputId": "ebb3d2fb-881a-4b65-b89c-b57bccae5c20"
      },
      "source": [
        "print(accuracy_score(y_test, test_predict_label)*100,'%')"
      ],
      "execution_count": 1035,
      "outputs": [
        {
          "output_type": "stream",
          "text": [
            "63.66666666666667 %\n"
          ],
          "name": "stdout"
        }
      ]
    },
    {
      "cell_type": "code",
      "metadata": {
        "id": "6E_DxZsaCVb0",
        "colab_type": "code",
        "colab": {}
      },
      "source": [
        ""
      ],
      "execution_count": 0,
      "outputs": []
    },
    {
      "cell_type": "code",
      "metadata": {
        "id": "sCC8pFxUCVsT",
        "colab_type": "code",
        "colab": {}
      },
      "source": [
        ""
      ],
      "execution_count": 0,
      "outputs": []
    },
    {
      "cell_type": "markdown",
      "metadata": {
        "id": "VRdv0tXnCV-h",
        "colab_type": "text"
      },
      "source": [
        "## 답"
      ]
    },
    {
      "cell_type": "markdown",
      "metadata": {
        "id": "BlftCd4TyfBi",
        "colab_type": "text"
      },
      "source": [
        "## 1. plot the loss curve"
      ]
    },
    {
      "cell_type": "code",
      "metadata": {
        "id": "gY10Hyr_CW2Z",
        "colab_type": "code",
        "colab": {
          "base_uri": "https://localhost:8080/",
          "height": 284
        },
        "outputId": "00df0a05-2b2a-4b3a-fcb9-01660be879cd"
      },
      "source": [
        "plt.plot(train_cost_value_list,'b') # train\n",
        "plt.plot(test_cost_value_list,'r') # test"
      ],
      "execution_count": 1036,
      "outputs": [
        {
          "output_type": "execute_result",
          "data": {
            "text/plain": [
              "[<matplotlib.lines.Line2D at 0x7f8087327978>]"
            ]
          },
          "metadata": {
            "tags": []
          },
          "execution_count": 1036
        },
        {
          "output_type": "display_data",
          "data": {
            "image/png": "[encoded data removed]",
            "text/plain": [
              "<Figure size 432x288 with 1 Axes>"
            ]
          },
          "metadata": {
            "tags": [],
            "needs_background": "light"
          }
        }
      ]
    },
    {
      "cell_type": "markdown",
      "metadata": {
        "id": "ut_xsQWGyl_J",
        "colab_type": "text"
      },
      "source": [
        "## 2. plot the accuracy curve"
      ]
    },
    {
      "cell_type": "code",
      "metadata": {
        "id": "AGkfgyTayktP",
        "colab_type": "code",
        "colab": {
          "base_uri": "https://localhost:8080/",
          "height": 286
        },
        "outputId": "a86dd8fe-b20c-4eaf-f077-661b3edbb537"
      },
      "source": [
        "plt.plot(train_accuracy_list,'b')\n",
        "plt.plot(test_accuracy_list,'r')"
      ],
      "execution_count": 1037,
      "outputs": [
        {
          "output_type": "execute_result",
          "data": {
            "text/plain": [
              "[<matplotlib.lines.Line2D at 0x7f808732a518>]"
            ]
          },
          "metadata": {
            "tags": []
          },
          "execution_count": 1037
        },
        {
          "output_type": "display_data",
          "data": {
            "image/png": "[encoded data removed]",
            "text/plain": [
              "<Figure size 432x288 with 1 Axes>"
            ]
          },
          "metadata": {
            "tags": [],
            "needs_background": "light"
          }
        }
      ]
    },
    {
      "cell_type": "markdown",
      "metadata": {
        "id": "5ETd8MT9yr5n",
        "colab_type": "text"
      },
      "source": [
        "## 3. plot the quantitative results"
      ]
    },
    {
      "cell_type": "markdown",
      "metadata": {
        "id": "jbLPv-RzywJB",
        "colab_type": "text"
      },
      "source": [
        "- training results"
      ]
    },
    {
      "cell_type": "code",
      "metadata": {
        "id": "66JS29fayqm1",
        "colab_type": "code",
        "colab": {
          "base_uri": "https://localhost:8080/",
          "height": 241
        },
        "outputId": "7f32ca0f-ebb9-41dd-9bdd-7bc9d2ca8cd9"
      },
      "source": [
        "# training results\n",
        "from sklearn.metrics import classification_report, confusion_matrix, accuracy_score\n",
        "\n",
        "# confusion matrix \n",
        "print(confusion_matrix(y_train,train_predict_label))\n",
        "# classification results\n",
        "print(classification_report(y_train,train_predict_label))\n",
        "# accuracy_score\n",
        "print(accuracy_score(y_train, train_predict_label))"
      ],
      "execution_count": 1038,
      "outputs": [
        {
          "output_type": "stream",
          "text": [
            "[[686  12]\n",
            " [ 13 689]]\n",
            "              precision    recall  f1-score   support\n",
            "\n",
            "           0       0.98      0.98      0.98       698\n",
            "           1       0.98      0.98      0.98       702\n",
            "\n",
            "    accuracy                           0.98      1400\n",
            "   macro avg       0.98      0.98      0.98      1400\n",
            "weighted avg       0.98      0.98      0.98      1400\n",
            "\n",
            "0.9821428571428571\n"
          ],
          "name": "stdout"
        }
      ]
    },
    {
      "cell_type": "markdown",
      "metadata": {
        "id": "NNkG6paDy1GE",
        "colab_type": "text"
      },
      "source": [
        "- testing results"
      ]
    },
    {
      "cell_type": "code",
      "metadata": {
        "id": "5IDqoSnQy0qr",
        "colab_type": "code",
        "colab": {
          "base_uri": "https://localhost:8080/",
          "height": 241
        },
        "outputId": "25278c04-66eb-4dc3-af4a-18a49f17176b"
      },
      "source": [
        "# testing results\n",
        "print(confusion_matrix(y_test,test_predict_label))\n",
        "print(classification_report(y_test,test_predict_label))\n",
        "print(accuracy_score(y_test, test_predict_label))"
      ],
      "execution_count": 1039,
      "outputs": [
        {
          "output_type": "stream",
          "text": [
            "[[194 108]\n",
            " [110 188]]\n",
            "              precision    recall  f1-score   support\n",
            "\n",
            "           0       0.64      0.64      0.64       302\n",
            "           1       0.64      0.63      0.63       298\n",
            "\n",
            "    accuracy                           0.64       600\n",
            "   macro avg       0.64      0.64      0.64       600\n",
            "weighted avg       0.64      0.64      0.64       600\n",
            "\n",
            "0.6366666666666667\n"
          ],
          "name": "stdout"
        }
      ]
    },
    {
      "cell_type": "markdown",
      "metadata": {
        "id": "GEEY7Ytmy5fk",
        "colab_type": "text"
      },
      "source": [
        "## 4. testing accuracy"
      ]
    },
    {
      "cell_type": "code",
      "metadata": {
        "id": "tVFF_5rOyz9F",
        "colab_type": "code",
        "colab": {
          "base_uri": "https://localhost:8080/",
          "height": 36
        },
        "outputId": "6b6eaea1-bb31-43ef-89f9-ac6e33203dd0"
      },
      "source": [
        "print(accuracy_score(y_test, test_predict_label)*100,'%')"
      ],
      "execution_count": 1040,
      "outputs": [
        {
          "output_type": "stream",
          "text": [
            "63.66666666666667 %\n"
          ],
          "name": "stdout"
        }
      ]
    },
    {
      "cell_type": "code",
      "metadata": {
        "id": "8B4Q6Euny---",
        "colab_type": "code",
        "colab": {}
      },
      "source": [
        ""
      ],
      "execution_count": 0,
      "outputs": []
    }
  ]
}