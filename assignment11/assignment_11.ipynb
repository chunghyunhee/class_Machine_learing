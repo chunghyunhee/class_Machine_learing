{
  "nbformat": 4,
  "nbformat_minor": 0,
  "metadata": {
    "colab": {
      "name": "assignment_11.ipynb",
      "provenance": []
    },
    "kernelspec": {
      "name": "python3",
      "display_name": "Python 3"
    }
  },
  "cells": [
    {
      "cell_type": "markdown",
      "metadata": {
        "id": "Yodd9EqUIy5s",
        "colab_type": "text"
      },
      "source": [
        "## codes for data processing for input data\n",
        "- input : dictionary의 형태에 해당(즉 벡터형태)\n",
        "- 단, 예외적으로 긍/부정에 상관없이 나오는 단어들(즉 모든 dataset에 uniform하게 나오는 단어들)은 제거\n",
        "- 모든 document에 극소하게 나오는 단어도 제외 \n",
        "- **dictionary를 reference로 사용하여 주어진 document에 해당 단어가 몇 번이나 나오는지(frequency)를 가지고 하나의 벡터를 생성한다 = input 형태**"
      ]
    },
    {
      "cell_type": "code",
      "metadata": {
        "id": "UeRclHLDIyUG",
        "colab_type": "code",
        "colab": {
          "base_uri": "https://localhost:8080/",
          "height": 92
        },
        "outputId": "f53bee5c-cbb0-4275-ced3-0f777bfbf437"
      },
      "source": [
        "import numpy as np\n",
        "import re\n",
        "import nltk\n",
        "from sklearn.datasets import load_files\n",
        "nltk.download('stopwords')\n",
        "nltk.download('wordnet')\n",
        "import pickle\n",
        "from nltk.corpus import stopwords\n",
        "from nltk.stem import WordNetLemmatizer\n",
        "from sklearn.feature_extraction.text import CountVectorizer\n",
        "from sklearn.feature_extraction.text import TfidfTransformer\n",
        "from sklearn.model_selection import train_test_split"
      ],
      "execution_count": 1,
      "outputs": [
        {
          "output_type": "stream",
          "text": [
            "[nltk_data] Downloading package stopwords to /root/nltk_data...\n",
            "[nltk_data]   Unzipping corpora/stopwords.zip.\n",
            "[nltk_data] Downloading package wordnet to /root/nltk_data...\n",
            "[nltk_data]   Unzipping corpora/wordnet.zip.\n"
          ],
          "name": "stdout"
        }
      ]
    },
    {
      "cell_type": "code",
      "metadata": {
        "id": "cAwH91G42z3o",
        "colab_type": "code",
        "colab": {
          "base_uri": "https://localhost:8080/",
          "height": 36
        },
        "outputId": "ba967c9b-077a-47c9-d93f-d0ba6c3a63b9"
      },
      "source": [
        "from google.colab import drive \n",
        "drive.mount('/content/gdrive/')"
      ],
      "execution_count": 342,
      "outputs": [
        {
          "output_type": "stream",
          "text": [
            "Mounted at /content/gdrive/\n"
          ],
          "name": "stdout"
        }
      ]
    },
    {
      "cell_type": "code",
      "metadata": {
        "id": "TYzufashva6T",
        "colab_type": "code",
        "colab": {}
      },
      "source": [
        "review_data = load_files(r\"/content/gdrive/My Drive/Colab Notebooks/movie_review\",categories=['pos','neg'])"
      ],
      "execution_count": 0,
      "outputs": []
    },
    {
      "cell_type": "code",
      "metadata": {
        "id": "RWvUQQE6KWT_",
        "colab_type": "code",
        "colab": {}
      },
      "source": [
        "X,y = review_data.data, review_data.target # 해당 feature이 될 데이터와 neg,pos값"
      ],
      "execution_count": 0,
      "outputs": []
    },
    {
      "cell_type": "code",
      "metadata": {
        "id": "6LdHykdaKemQ",
        "colab_type": "code",
        "colab": {}
      },
      "source": [
        "#X # 문장형태로 된 feature"
      ],
      "execution_count": 0,
      "outputs": []
    },
    {
      "cell_type": "code",
      "metadata": {
        "id": "2OkiOWt6KfzK",
        "colab_type": "code",
        "colab": {
          "base_uri": "https://localhost:8080/",
          "height": 36
        },
        "outputId": "69dd281d-ec9f-416f-f588-695044464faa"
      },
      "source": [
        "y[:10] # 1,0형태 "
      ],
      "execution_count": 347,
      "outputs": [
        {
          "output_type": "execute_result",
          "data": {
            "text/plain": [
              "array([0, 1, 1, 0, 1, 1, 1, 1, 1, 0])"
            ]
          },
          "metadata": {
            "tags": []
          },
          "execution_count": 347
        }
      ]
    },
    {
      "cell_type": "code",
      "metadata": {
        "id": "gqVGEdWBLCd0",
        "colab_type": "code",
        "colab": {}
      },
      "source": [
        "documents = []"
      ],
      "execution_count": 0,
      "outputs": []
    },
    {
      "cell_type": "code",
      "metadata": {
        "id": "cPOYkOkTLIFd",
        "colab_type": "code",
        "colab": {}
      },
      "source": [
        "stemmer = WordNetLemmatizer() # 표제어 추출하는 객체 "
      ],
      "execution_count": 0,
      "outputs": []
    },
    {
      "cell_type": "code",
      "metadata": {
        "id": "jfH46OiiLK2K",
        "colab_type": "code",
        "colab": {}
      },
      "source": [
        "for sen in range(0, len(X)):\n",
        "  # 긍, 부정에 영향을 주지 않는 단어 삭제 \n",
        "  # remove all the special character\n",
        "  document = re.sub(r'\\W',' ', str(X[sen]))\n",
        "  # remove all single characters\n",
        "  document = re.sub(r's+[a-zA-Z]\\s+',' ',document);\n",
        "  # remove single characters from the start\n",
        "  document = re.sub(r'\\^[a-zA-Z]\\s+', ' ', document) \n",
        "  # substituting multiple spaces with single space\n",
        "  document = re.sub(r'\\s+', ' ', document, flags=re.I)\n",
        "  # removing prefixed 'b'\n",
        "  document = re.sub(r'^b\\s+', '', document)\n",
        "  # converting to LowerCase\n",
        "  document = document.lower()\n",
        "\n",
        "  # Lemmatization(표제어 추출)\n",
        "  document = document.split()\n",
        "  document = [stemmer.lemmatize(word) for word in document]\n",
        "  document = ' '.join(document)\n",
        "\n",
        "  documents.append(document) # 필요없는 형태 제거와 표제어 추출 결과를 리스트에 저장"
      ],
      "execution_count": 0,
      "outputs": []
    },
    {
      "cell_type": "code",
      "metadata": {
        "id": "gQyacrHRM8WN",
        "colab_type": "code",
        "colab": {}
      },
      "source": [
        "# CountVectorizer : 단어 토큰 생성, 각 단어의 수를 세어 BOW 인코딩한 벡터 생성 \n",
        "vectorizer = CountVectorizer(max_features=1500, min_df=5, max_df=0.7, stop_words=stopwords.words('english'))"
      ],
      "execution_count": 0,
      "outputs": []
    },
    {
      "cell_type": "code",
      "metadata": {
        "id": "03_WOHcUNMlC",
        "colab_type": "code",
        "colab": {}
      },
      "source": [
        "X = vectorizer.fit_transform(documents).toarray()"
      ],
      "execution_count": 0,
      "outputs": []
    },
    {
      "cell_type": "code",
      "metadata": {
        "id": "u5I6uXdeNvA0",
        "colab_type": "code",
        "colab": {
          "base_uri": "https://localhost:8080/",
          "height": 36
        },
        "outputId": "e4057c70-a474-4517-f845-dcdf3a168280"
      },
      "source": [
        "X.shape # 1000개의 문서에서 1500개의 단어 딕셔너리 reference생성 "
      ],
      "execution_count": 616,
      "outputs": [
        {
          "output_type": "execute_result",
          "data": {
            "text/plain": [
              "(2000, 1500)"
            ]
          },
          "metadata": {
            "tags": []
          },
          "execution_count": 616
        }
      ]
    },
    {
      "cell_type": "code",
      "metadata": {
        "id": "1_PN2U6cNxjp",
        "colab_type": "code",
        "colab": {}
      },
      "source": [
        "# TfidfTransformer : CountVectorizer와 비슷하나, TF-IDF 방식으로 단어의 가중치 조정 \n",
        "tfidfconverter = TfidfTransformer()\n",
        "X = tfidfconverter.fit_transform(X).toarray()"
      ],
      "execution_count": 0,
      "outputs": []
    },
    {
      "cell_type": "code",
      "metadata": {
        "id": "IgIlx3aqOL0-",
        "colab_type": "code",
        "colab": {}
      },
      "source": [
        "X_train, X_test, y_train, y_test = train_test_split(X, y, test_size=0.3, shuffle=False)"
      ],
      "execution_count": 0,
      "outputs": []
    },
    {
      "cell_type": "code",
      "metadata": {
        "id": "RuSMw2UuqT1e",
        "colab_type": "code",
        "colab": {
          "base_uri": "https://localhost:8080/",
          "height": 36
        },
        "outputId": "ebfcf818-03e3-49dc-a522-ea0a6f32867e"
      },
      "source": [
        "y_train"
      ],
      "execution_count": 781,
      "outputs": [
        {
          "output_type": "execute_result",
          "data": {
            "text/plain": [
              "array([0, 1, 1, ..., 0, 1, 1])"
            ]
          },
          "metadata": {
            "tags": []
          },
          "execution_count": 781
        }
      ]
    },
    {
      "cell_type": "code",
      "metadata": {
        "id": "u2ehH-Kr6pov",
        "colab_type": "code",
        "colab": {}
      },
      "source": [
        "#y_train = y_train.reshape(y_train.shape[0],1)\n",
        "#y_test = y_test.reshape(y_test.shape[0],1)"
      ],
      "execution_count": 0,
      "outputs": []
    },
    {
      "cell_type": "code",
      "metadata": {
        "id": "Z_WArirbOSMs",
        "colab_type": "code",
        "colab": {
          "base_uri": "https://localhost:8080/",
          "height": 36
        },
        "outputId": "d3227811-91fc-4026-9a6e-4b90f9df6913"
      },
      "source": [
        "print(X_train.shape, X_test.shape, y_train.shape, y_test.shape)"
      ],
      "execution_count": 783,
      "outputs": [
        {
          "output_type": "stream",
          "text": [
            "(1400, 1500) (600, 1500) (1400,) (600,)\n"
          ],
          "name": "stdout"
        }
      ]
    },
    {
      "cell_type": "markdown",
      "metadata": {
        "id": "AsGS2IUZOSy4",
        "colab_type": "text"
      },
      "source": [
        "## training(Optimization)"
      ]
    },
    {
      "cell_type": "code",
      "metadata": {
        "id": "NRO9aSeEOOEN",
        "colab_type": "code",
        "colab": {}
      },
      "source": [
        "# h, sigmoid함수 정의 \n",
        "# activation function으로 sigmoid를 사용할 예정에 있음 \n",
        "def h(theta,X):\n",
        "  return np.dot(X,theta)\n",
        "\n",
        "def sigmoid(x):\n",
        "  return 1 / (1 + np.exp(-x))\n",
        "\n",
        "# 미분한 sigmoid식\n",
        "def Dsigmoid(x):\n",
        "  return sigmoid(x)*(1-sigmoid(x))"
      ],
      "execution_count": 0,
      "outputs": []
    },
    {
      "cell_type": "code",
      "metadata": {
        "id": "TZRc6kdJPCkO",
        "colab_type": "code",
        "colab": {}
      },
      "source": [
        "# 순전파 함수\n",
        "# 여기서의 theta는 각 layer별로 해당하는 theta를 전부 포함한 list에 해당한다. \n",
        "def Forward(image, theta_vector):\n",
        "    z_each_layer = []\n",
        "\n",
        "    # theta의 수대로 반복하고, 그에따라 각각 저장해야 한다. \n",
        "    for i in range(len(theta_vector)):\n",
        "      image = add_bias(image)\n",
        "      theta = theta_vector[i]\n",
        "      z = np.dot(image, theta)\n",
        "      a = sigmoid(z)\n",
        "      z_each_layer.append(a) # z와 a값 모두 저장한다\n",
        "      image = a\n",
        "\n",
        "    return z_each_layer"
      ],
      "execution_count": 0,
      "outputs": []
    },
    {
      "cell_type": "code",
      "metadata": {
        "id": "DGbdUiIUT1hT",
        "colab_type": "code",
        "colab": {}
      },
      "source": [
        "# label의 원핫인코딩을 위한 함수 \n",
        "def onehotencoding(label):\n",
        "  unique = np.unique(label)\n",
        "  m = label.shape[0]\n",
        "  n = unique.shape[0]\n",
        "  empty = np.zeros((m, n))\n",
        "\n",
        "  for i in range(m):\n",
        "    for j in range(n):\n",
        "      if label[i] == unique[j]:\n",
        "        empty[i, j] = 1\n",
        "  \n",
        "  return empty"
      ],
      "execution_count": 0,
      "outputs": []
    },
    {
      "cell_type": "code",
      "metadata": {
        "id": "o8RHdcOePID3",
        "colab_type": "code",
        "colab": {}
      },
      "source": [
        "# Objective function에 대한 정의 \n",
        "# regularization term추가 (L의 값은 lambda에 해당한다)\n",
        "def ObjectiveFunction(image, theta_vector,label_list,L ):\n",
        "  h = Forward(image, theta_vector) # 순전파로 계산한 값의 h(각 layer별로 a값을 출력한다. )\n",
        "  sigmoid_value = [h[0], h[1], h[2] ,h[3]]\n",
        "  output_layer = sigmoid_value[-1] # 마지막 h[2]가 결국은 output layer에 해당한다. \n",
        "  n = len(theta_vector)# theta의 수에 해당한다, \n",
        "  # m = image.shape[0] # 이부분 식 수정해야 하는지 확인하기 \n",
        "\n",
        "  # cost function에 대해 regularization term을 추가한다. \n",
        "  reg_value = 0\n",
        "  for theta in range(len(theta_vector)): \n",
        "    reg_value += np.sum(theta*theta)\n",
        "  reg_value *= float(L)/(2*n) \n",
        "   \n",
        "  cost = -np.mean(np.sum(label_list*np.log(output_layer+1e-7) + (1 - label_list)*np.log(1 - output_layer + 1e-7), axis=1)) #해당 J(theta)값\n",
        "  \n",
        "  return cost+reg_value, sigmoid_value"
      ],
      "execution_count": 0,
      "outputs": []
    },
    {
      "cell_type": "code",
      "metadata": {
        "id": "9vdDR1S4b9PZ",
        "colab_type": "code",
        "colab": {}
      },
      "source": [
        "def predict(output_layer):\n",
        "  predict_label = np.where(output_layer > 0.5, 1 , 0)\n",
        "  return predict_label"
      ],
      "execution_count": 0,
      "outputs": []
    },
    {
      "cell_type": "code",
      "metadata": {
        "id": "9FNWjKZ2mPWD",
        "colab_type": "code",
        "colab": {}
      },
      "source": [
        "def predict(output_layer):\n",
        "  predict_label = np.argmax(output_layer, axis=1)\n",
        "  return predict_label"
      ],
      "execution_count": 0,
      "outputs": []
    },
    {
      "cell_type": "code",
      "metadata": {
        "id": "btAhabkRPSNV",
        "colab_type": "code",
        "colab": {}
      },
      "source": [
        "# accuracy\n",
        "def accuracy(pred, true):\n",
        "  acc = np.mean(pred == true)\n",
        "  return acc"
      ],
      "execution_count": 0,
      "outputs": []
    },
    {
      "cell_type": "code",
      "metadata": {
        "id": "4Id2rnVFPUFY",
        "colab_type": "code",
        "colab": {}
      },
      "source": [
        "# bias 추가 \n",
        "def add_bias(image):\n",
        "  m = image.shape[0]\n",
        "  temp = np.column_stack((np.ones((m, 1)), image))\n",
        "  return temp"
      ],
      "execution_count": 0,
      "outputs": []
    },
    {
      "cell_type": "code",
      "metadata": {
        "id": "PYKb67DePZKl",
        "colab_type": "code",
        "colab": {}
      },
      "source": [
        "# 역전파 함수 수정 \n",
        "def Back(image, theta_list, onehot, sigmoid_list):\n",
        "  m = image.shape[0]\n",
        "  delta5 = sigmoid_list[3] - onehot\n",
        "  delta4 = np.dot(delta5, theta_list[3][1:, :].T)*sigmoid_list[2]*(1-sigmoid_list[2])\n",
        "  delta3 = np.dot(delta4, theta_list[2][1:, :].T)*sigmoid_list[1]*(1-sigmoid_list[1])\n",
        "  delta2 = np.dot(delta3, theta_list[1][1:, :].T)*sigmoid_list[0]*(1-sigmoid_list[0])\n",
        "\n",
        "  add_bias_term4 = add_bias(sigmoid_list[2])\n",
        "  add_bias_term3 = add_bias(sigmoid_list[1])\n",
        "  add_bias_term2 = add_bias(sigmoid_list[0])\n",
        "  add_bias_term1 = add_bias(image)\n",
        "  \n",
        "  gradient4 = np.dot(add_bias_term4.T, delta5) / m\n",
        "  gradient3 = np.dot(add_bias_term3.T, delta4) / m\n",
        "  gradient2 = np.dot(add_bias_term2.T, delta3) / m\n",
        "  gradient1 = np.dot(add_bias_term1.T, delta2) / m\n",
        "  gradient_list = [gradient1, gradient2, gradient3, gradient4]\n",
        "\n",
        "  return gradient_list"
      ],
      "execution_count": 0,
      "outputs": []
    },
    {
      "cell_type": "code",
      "metadata": {
        "id": "AN6YYvVSPkSy",
        "colab_type": "code",
        "colab": {
          "base_uri": "https://localhost:8080/",
          "height": 36
        },
        "outputId": "2489f310-c29c-4401-c551-34fece32d1ef"
      },
      "source": [
        "y_train.shape"
      ],
      "execution_count": 773,
      "outputs": [
        {
          "output_type": "execute_result",
          "data": {
            "text/plain": [
              "(1400,)"
            ]
          },
          "metadata": {
            "tags": []
          },
          "execution_count": 773
        }
      ]
    },
    {
      "cell_type": "code",
      "metadata": {
        "id": "c_d7X74ArFLA",
        "colab_type": "code",
        "colab": {}
      },
      "source": [
        "y_train_one = onehotencoding(y_train)\n",
        "y_test_one = onehotencoding(y_test)"
      ],
      "execution_count": 0,
      "outputs": []
    },
    {
      "cell_type": "code",
      "metadata": {
        "id": "DMQP_lIzrOxd",
        "colab_type": "code",
        "colab": {
          "base_uri": "https://localhost:8080/",
          "height": 36
        },
        "outputId": "4b5ff96e-e6b3-4da3-a255-ca692df62436"
      },
      "source": [
        "y_train"
      ],
      "execution_count": 785,
      "outputs": [
        {
          "output_type": "execute_result",
          "data": {
            "text/plain": [
              "array([0, 1, 1, ..., 0, 1, 1])"
            ]
          },
          "metadata": {
            "tags": []
          },
          "execution_count": 785
        }
      ]
    },
    {
      "cell_type": "code",
      "metadata": {
        "id": "9gmRW7GIrx-b",
        "colab_type": "code",
        "colab": {
          "base_uri": "https://localhost:8080/",
          "height": 148
        },
        "outputId": "5cd10f52-11b8-48b6-f291-b0a551cbf281"
      },
      "source": [
        "y_train_one"
      ],
      "execution_count": 786,
      "outputs": [
        {
          "output_type": "execute_result",
          "data": {
            "text/plain": [
              "array([[1., 0.],\n",
              "       [0., 1.],\n",
              "       [0., 1.],\n",
              "       ...,\n",
              "       [1., 0.],\n",
              "       [0., 1.],\n",
              "       [0., 1.]])"
            ]
          },
          "metadata": {
            "tags": []
          },
          "execution_count": 786
        }
      ]
    },
    {
      "cell_type": "code",
      "metadata": {
        "id": "-EYZ_RoqPtTI",
        "colab_type": "code",
        "colab": {}
      },
      "source": [
        "# 먼저 theta의 행렬의 형태에 대한 정의가 필요하다.  \n",
        "# 랜덤으로 정한 theta (U,V,W)에 해당 \n",
        "np.random.seed(20180378)\n",
        "\n",
        "# 파라미터 수를 늘리므로 더작은 std의 N(0,1)에서 랜덤값 뽑을 것임 initializer수정\n",
        "# 초깃값 너무 작게 두면 기울기 소실이 난다. 적당한 크기로 두는 것이 중요함. \n",
        "# N(0,0.01)에서 랜덤값을 initializer한다. \n",
        "theta1 = np.random.randn(1501, 624) \n",
        "theta2 = np.random.randn(625, 255)\n",
        "theta3 = np.random.randn(256, 624)\n",
        "theta4 = np.random.randn(625, 2)\n",
        "\n",
        "\n",
        "# 정한 theta들의 리스트\n",
        "theta_vector = [theta1, theta2, theta3, theta4]\n",
        "train_cost_value_list = []\n",
        "test_cost_value_list = []\n",
        "train_accuracy_list = []\n",
        "test_accuracy_list = []"
      ],
      "execution_count": 0,
      "outputs": []
    },
    {
      "cell_type": "code",
      "metadata": {
        "id": "fcjnux6yQGYk",
        "colab_type": "code",
        "colab": {}
      },
      "source": [
        "# hyperparameter값 (튜닝예정 )\n",
        "iteration = 1200\n",
        "learning_rate = 0.03\n",
        "L = 1e-3 # reg term의 lambda값"
      ],
      "execution_count": 0,
      "outputs": []
    },
    {
      "cell_type": "code",
      "metadata": {
        "id": "2XjPrg-RQLQq",
        "colab_type": "code",
        "colab": {
          "base_uri": "https://localhost:8080/",
          "height": 913
        },
        "outputId": "71fb4ba8-5820-4a50-f1fe-0bd241c400db"
      },
      "source": [
        "for iter in range(iteration):\n",
        "\n",
        "  # compute cost\n",
        "  train_cost_value, train_sigmoid_value = ObjectiveFunction(X_train, theta_vector, y_train_one, L)\n",
        "  test_cost_value, test_sigmoid_value = ObjectiveFunction(X_test, theta_vector, y_test_one, L)\n",
        "  # predict the final label \n",
        "  train_predict_label = predict(train_sigmoid_value[-1])\n",
        "  test_predict_label = predict(test_sigmoid_value[-1])\n",
        " \n",
        "  # compute accuracy\n",
        "  train_accuracy = accuracy(train_predict_label, y_train)\n",
        "  test_accuracy = accuracy(test_predict_label, y_test)\n",
        "  gradient = Back(X_train, theta_vector, y_train_one, train_sigmoid_value)\n",
        "\n",
        "  # append\n",
        "  train_cost_value_list.append(train_cost_value)\n",
        "  test_cost_value_list.append(test_cost_value)\n",
        "  train_accuracy_list.append(train_accuracy)\n",
        "  test_accuracy_list.append(test_accuracy)\n",
        "  if iter > 1000 :\n",
        "    learning_rate = 0.01\n",
        "  # theta update \n",
        "  for i in range(len(theta_vector)):\n",
        "    theta_vector[i] = theta_vector[i] - learning_rate * gradient[i]\n",
        "  \n",
        "  # update되는 cost, sccuracy값 확인하기 \n",
        "  if(iter%50 == 0):\n",
        "    print(\"train:\",train_cost_value, train_accuracy )\n",
        "    print(\"test :\", test_cost_value, test_accuracy) "
      ],
      "execution_count": 789,
      "outputs": [
        {
          "output_type": "stream",
          "text": [
            "train: 15.709845835186753 0.52\n",
            "test : 15.668476102275688 0.5033333333333333\n",
            "train: 2.699058230934089 0.5985714285714285\n",
            "test : 3.3046658730231915 0.5383333333333333\n",
            "train: 2.1809698060972855 0.6314285714285715\n",
            "test : 3.029592572324722 0.5433333333333333\n",
            "train: 1.8928731157202068 0.6764285714285714\n",
            "test : 2.87494760899828 0.545\n",
            "train: 1.691257162575604 0.7014285714285714\n",
            "test : 2.7657603112623366 0.5483333333333333\n",
            "train: 1.539898412152893 0.7278571428571429\n",
            "test : 2.6805520204543227 0.5566666666666666\n",
            "train: 1.4203858254607062 0.7507142857142857\n",
            "test : 2.6139265650911963 0.5583333333333333\n",
            "train: 1.3210050644620754 0.7678571428571429\n",
            "test : 2.562419762883022 0.5633333333333334\n",
            "train: 1.2350693601927947 0.7864285714285715\n",
            "test : 2.521907013525047 0.565\n",
            "train: 1.1589796852577852 0.8\n",
            "test : 2.489014656846173 0.565\n",
            "train: 1.090699668499104 0.8121428571428572\n",
            "test : 2.461491057205335 0.5733333333333334\n",
            "train: 1.0288611811496475 0.8242857142857143\n",
            "test : 2.437965491920599 0.5716666666666667\n",
            "train: 0.9724601761260271 0.8407142857142857\n",
            "test : 2.417599823147786 0.5816666666666667\n",
            "train: 0.920730424887359 0.8557142857142858\n",
            "test : 2.3998468353806715 0.5733333333333334\n",
            "train: 0.8730553717667502 0.865\n",
            "test : 2.384288756523299 0.575\n",
            "train: 0.8289198384717275 0.8742857142857143\n",
            "test : 2.3705647805836327 0.5733333333333334\n",
            "train: 0.7878975341655453 0.8821428571428571\n",
            "test : 2.3583769498482416 0.575\n",
            "train: 0.7496438084642866 0.8928571428571429\n",
            "test : 2.3475029465739854 0.5766666666666667\n",
            "train: 0.7138805720390006 0.9014285714285715\n",
            "test : 2.3377852861189368 0.575\n",
            "train: 0.6803792015942175 0.9092857142857143\n",
            "test : 2.3291109683696436 0.5733333333333334\n",
            "train: 0.6489468591248055 0.9171428571428571\n",
            "test : 2.321394151990757 0.575\n",
            "train: 0.6385042160055321 0.9192857142857143\n",
            "test : 2.3189307424488885 0.5766666666666667\n",
            "train: 0.6286727465516725 0.9214285714285714\n",
            "test : 2.316660165708803 0.5783333333333334\n",
            "train: 0.6190411231233585 0.9242857142857143\n",
            "test : 2.3144832742072903 0.5783333333333334\n"
          ],
          "name": "stdout"
        }
      ]
    },
    {
      "cell_type": "code",
      "metadata": {
        "id": "to0haaSGZXFx",
        "colab_type": "code",
        "colab": {}
      },
      "source": [
        ""
      ],
      "execution_count": 0,
      "outputs": []
    },
    {
      "cell_type": "markdown",
      "metadata": {
        "id": "46__d03cAixS",
        "colab_type": "text"
      },
      "source": [
        "## plot the loss curve"
      ]
    },
    {
      "cell_type": "code",
      "metadata": {
        "id": "t536u5KcAk-s",
        "colab_type": "code",
        "colab": {
          "base_uri": "https://localhost:8080/",
          "height": 284
        },
        "outputId": "280fe6d3-8776-4bbd-ae26-fe1505da23c9"
      },
      "source": [
        "plt.plot(train_cost_value_list,'b') # train\n",
        "plt.plot(test_cost_value_list,'r') # test"
      ],
      "execution_count": 790,
      "outputs": [
        {
          "output_type": "execute_result",
          "data": {
            "text/plain": [
              "[<matplotlib.lines.Line2D at 0x7f8087a668d0>]"
            ]
          },
          "metadata": {
            "tags": []
          },
          "execution_count": 790
        },
        {
          "output_type": "display_data",
          "data": {
            "image/png": "[encoded data removed]",
            "text/plain": [
              "<Figure size 432x288 with 1 Axes>"
            ]
          },
          "metadata": {
            "tags": [],
            "needs_background": "light"
          }
        }
      ]
    },
    {
      "cell_type": "markdown",
      "metadata": {
        "id": "xqIPjMpLAxGk",
        "colab_type": "text"
      },
      "source": [
        "## plot the accuracy curve"
      ]
    },
    {
      "cell_type": "code",
      "metadata": {
        "id": "86DrTMZsA2Qj",
        "colab_type": "code",
        "colab": {
          "base_uri": "https://localhost:8080/",
          "height": 284
        },
        "outputId": "7f2fd475-b0ee-4530-c8c7-66f358f9b624"
      },
      "source": [
        "plt.plot(train_accuracy_list,'b')\n",
        "plt.plot(test_accuracy_list,'r')"
      ],
      "execution_count": 791,
      "outputs": [
        {
          "output_type": "execute_result",
          "data": {
            "text/plain": [
              "[<matplotlib.lines.Line2D at 0x7f8087a35b38>]"
            ]
          },
          "metadata": {
            "tags": []
          },
          "execution_count": 791
        },
        {
          "output_type": "display_data",
          "data": {
            "image/png": "[encoded data removed]",
            "text/plain": [
              "<Figure size 432x288 with 1 Axes>"
            ]
          },
          "metadata": {
            "tags": [],
            "needs_background": "light"
          }
        }
      ]
    },
    {
      "cell_type": "markdown",
      "metadata": {
        "id": "ThM-l0OAA4v2",
        "colab_type": "text"
      },
      "source": [
        "## plot the quantitative results"
      ]
    },
    {
      "cell_type": "code",
      "metadata": {
        "id": "T3AyUgeYBAhX",
        "colab_type": "code",
        "colab": {
          "base_uri": "https://localhost:8080/",
          "height": 241
        },
        "outputId": "1b87a8ce-5409-4be8-f1da-23d725f350de"
      },
      "source": [
        "# training results\n",
        "from sklearn.metrics import classification_report, confusion_matrix, accuracy_score\n",
        "\n",
        "# confusion matrix \n",
        "print(confusion_matrix(y_train,train_predict_label))\n",
        "# classification results\n",
        "print(classification_report(y_train,train_predict_label))\n",
        "# accuracy_score\n",
        "print(accuracy_score(y_train, train_predict_label))"
      ],
      "execution_count": 792,
      "outputs": [
        {
          "output_type": "stream",
          "text": [
            "[[641  57]\n",
            " [ 48 654]]\n",
            "              precision    recall  f1-score   support\n",
            "\n",
            "           0       0.93      0.92      0.92       698\n",
            "           1       0.92      0.93      0.93       702\n",
            "\n",
            "    accuracy                           0.93      1400\n",
            "   macro avg       0.93      0.92      0.92      1400\n",
            "weighted avg       0.93      0.93      0.92      1400\n",
            "\n",
            "0.925\n"
          ],
          "name": "stdout"
        }
      ]
    },
    {
      "cell_type": "code",
      "metadata": {
        "id": "qJ0lBrRWBu0p",
        "colab_type": "code",
        "colab": {
          "base_uri": "https://localhost:8080/",
          "height": 241
        },
        "outputId": "73f2dc61-da70-46b7-abcf-2b353baf2b90"
      },
      "source": [
        "# testing results\n",
        "print(confusion_matrix(y_test,test_predict_label))\n",
        "print(classification_report(y_test,test_predict_label))\n",
        "print(accuracy_score(y_test, test_predict_label))"
      ],
      "execution_count": 793,
      "outputs": [
        {
          "output_type": "stream",
          "text": [
            "[[169 133]\n",
            " [120 178]]\n",
            "              precision    recall  f1-score   support\n",
            "\n",
            "           0       0.58      0.56      0.57       302\n",
            "           1       0.57      0.60      0.58       298\n",
            "\n",
            "    accuracy                           0.58       600\n",
            "   macro avg       0.58      0.58      0.58       600\n",
            "weighted avg       0.58      0.58      0.58       600\n",
            "\n",
            "0.5783333333333334\n"
          ],
          "name": "stdout"
        }
      ]
    },
    {
      "cell_type": "code",
      "metadata": {
        "id": "TKIzBU3qB2nK",
        "colab_type": "code",
        "colab": {}
      },
      "source": [
        ""
      ],
      "execution_count": 0,
      "outputs": []
    },
    {
      "cell_type": "markdown",
      "metadata": {
        "id": "ZanhdN-WB4LX",
        "colab_type": "text"
      },
      "source": [
        "## testing accuracy"
      ]
    },
    {
      "cell_type": "code",
      "metadata": {
        "id": "3q_tUeloB6HD",
        "colab_type": "code",
        "colab": {
          "base_uri": "https://localhost:8080/",
          "height": 36
        },
        "outputId": "5b84af55-75cb-4105-b195-574afe8ae498"
      },
      "source": [
        "print(accuracy_score(y_test, test_predict_label)*100,'%')"
      ],
      "execution_count": 794,
      "outputs": [
        {
          "output_type": "stream",
          "text": [
            "57.833333333333336 %\n"
          ],
          "name": "stdout"
        }
      ]
    },
    {
      "cell_type": "code",
      "metadata": {
        "id": "6E_DxZsaCVb0",
        "colab_type": "code",
        "colab": {}
      },
      "source": [
        ""
      ],
      "execution_count": 0,
      "outputs": []
    },
    {
      "cell_type": "code",
      "metadata": {
        "id": "sCC8pFxUCVsT",
        "colab_type": "code",
        "colab": {}
      },
      "source": [
        ""
      ],
      "execution_count": 0,
      "outputs": []
    },
    {
      "cell_type": "markdown",
      "metadata": {
        "id": "VRdv0tXnCV-h",
        "colab_type": "text"
      },
      "source": [
        "## 답"
      ]
    },
    {
      "cell_type": "markdown",
      "metadata": {
        "id": "BlftCd4TyfBi",
        "colab_type": "text"
      },
      "source": [
        "## 1. plot the loss curve"
      ]
    },
    {
      "cell_type": "code",
      "metadata": {
        "id": "gY10Hyr_CW2Z",
        "colab_type": "code",
        "colab": {
          "base_uri": "https://localhost:8080/",
          "height": 284
        },
        "outputId": "de48ce06-a9f5-4788-b643-844d62fa9e33"
      },
      "source": [
        "plt.plot(train_cost_value_list,'b') # train\n",
        "plt.plot(test_cost_value_list,'r') # test"
      ],
      "execution_count": 795,
      "outputs": [
        {
          "output_type": "execute_result",
          "data": {
            "text/plain": [
              "[<matplotlib.lines.Line2D at 0x7f8087b2f1d0>]"
            ]
          },
          "metadata": {
            "tags": []
          },
          "execution_count": 795
        },
        {
          "output_type": "display_data",
          "data": {
            "image/png": "[encoded data removed]",
            "text/plain": [
              "<Figure size 432x288 with 1 Axes>"
            ]
          },
          "metadata": {
            "tags": [],
            "needs_background": "light"
          }
        }
      ]
    },
    {
      "cell_type": "markdown",
      "metadata": {
        "id": "ut_xsQWGyl_J",
        "colab_type": "text"
      },
      "source": [
        "## 2. plot the accuracy curve"
      ]
    },
    {
      "cell_type": "code",
      "metadata": {
        "id": "AGkfgyTayktP",
        "colab_type": "code",
        "colab": {
          "base_uri": "https://localhost:8080/",
          "height": 284
        },
        "outputId": "dd08e324-68f0-45f7-e505-cbc60f9d69d0"
      },
      "source": [
        "plt.plot(train_accuracy_list,'b')\n",
        "plt.plot(test_accuracy_list,'r')"
      ],
      "execution_count": 796,
      "outputs": [
        {
          "output_type": "execute_result",
          "data": {
            "text/plain": [
              "[<matplotlib.lines.Line2D at 0x7f8087aeb320>]"
            ]
          },
          "metadata": {
            "tags": []
          },
          "execution_count": 796
        },
        {
          "output_type": "display_data",
          "data": {
            "image/png": "[encoded data removed]",
            "text/plain": [
              "<Figure size 432x288 with 1 Axes>"
            ]
          },
          "metadata": {
            "tags": [],
            "needs_background": "light"
          }
        }
      ]
    },
    {
      "cell_type": "markdown",
      "metadata": {
        "id": "5ETd8MT9yr5n",
        "colab_type": "text"
      },
      "source": [
        "## 3. plot the quantitative results"
      ]
    },
    {
      "cell_type": "markdown",
      "metadata": {
        "id": "jbLPv-RzywJB",
        "colab_type": "text"
      },
      "source": [
        "- training results"
      ]
    },
    {
      "cell_type": "code",
      "metadata": {
        "id": "66JS29fayqm1",
        "colab_type": "code",
        "colab": {
          "base_uri": "https://localhost:8080/",
          "height": 241
        },
        "outputId": "7ad61549-5213-4863-85d5-c9ec075b477c"
      },
      "source": [
        "# training results\n",
        "from sklearn.metrics import classification_report, confusion_matrix, accuracy_score\n",
        "\n",
        "# confusion matrix \n",
        "print(confusion_matrix(y_train,train_predict_label))\n",
        "# classification results\n",
        "print(classification_report(y_train,train_predict_label))\n",
        "# accuracy_score\n",
        "print(accuracy_score(y_train, train_predict_label))"
      ],
      "execution_count": 797,
      "outputs": [
        {
          "output_type": "stream",
          "text": [
            "[[641  57]\n",
            " [ 48 654]]\n",
            "              precision    recall  f1-score   support\n",
            "\n",
            "           0       0.93      0.92      0.92       698\n",
            "           1       0.92      0.93      0.93       702\n",
            "\n",
            "    accuracy                           0.93      1400\n",
            "   macro avg       0.93      0.92      0.92      1400\n",
            "weighted avg       0.93      0.93      0.92      1400\n",
            "\n",
            "0.925\n"
          ],
          "name": "stdout"
        }
      ]
    },
    {
      "cell_type": "markdown",
      "metadata": {
        "id": "NNkG6paDy1GE",
        "colab_type": "text"
      },
      "source": [
        "- testing results"
      ]
    },
    {
      "cell_type": "code",
      "metadata": {
        "id": "5IDqoSnQy0qr",
        "colab_type": "code",
        "colab": {
          "base_uri": "https://localhost:8080/",
          "height": 241
        },
        "outputId": "58bba19d-5ab0-40f5-8cc4-6af6dd18ed19"
      },
      "source": [
        "# testing results\n",
        "print(confusion_matrix(y_test,test_predict_label))\n",
        "print(classification_report(y_test,test_predict_label))\n",
        "print(accuracy_score(y_test, test_predict_label))"
      ],
      "execution_count": 798,
      "outputs": [
        {
          "output_type": "stream",
          "text": [
            "[[169 133]\n",
            " [120 178]]\n",
            "              precision    recall  f1-score   support\n",
            "\n",
            "           0       0.58      0.56      0.57       302\n",
            "           1       0.57      0.60      0.58       298\n",
            "\n",
            "    accuracy                           0.58       600\n",
            "   macro avg       0.58      0.58      0.58       600\n",
            "weighted avg       0.58      0.58      0.58       600\n",
            "\n",
            "0.5783333333333334\n"
          ],
          "name": "stdout"
        }
      ]
    },
    {
      "cell_type": "markdown",
      "metadata": {
        "id": "GEEY7Ytmy5fk",
        "colab_type": "text"
      },
      "source": [
        "## 4. testing accuracy"
      ]
    },
    {
      "cell_type": "code",
      "metadata": {
        "id": "tVFF_5rOyz9F",
        "colab_type": "code",
        "colab": {
          "base_uri": "https://localhost:8080/",
          "height": 36
        },
        "outputId": "ff8ef083-4686-42d4-c436-a84cdfd5cd5f"
      },
      "source": [
        "print(accuracy_score(y_test, test_predict_label)*100,'%')"
      ],
      "execution_count": 799,
      "outputs": [
        {
          "output_type": "stream",
          "text": [
            "57.833333333333336 %\n"
          ],
          "name": "stdout"
        }
      ]
    },
    {
      "cell_type": "code",
      "metadata": {
        "id": "8B4Q6Euny---",
        "colab_type": "code",
        "colab": {}
      },
      "source": [
        ""
      ],
      "execution_count": 0,
      "outputs": []
    }
  ]
}