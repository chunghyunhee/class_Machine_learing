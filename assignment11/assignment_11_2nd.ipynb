{
  "nbformat": 4,
  "nbformat_minor": 0,
  "metadata": {
    "colab": {
      "name": "assignment_11.ipynb",
      "provenance": []
    },
    "kernelspec": {
      "name": "python3",
      "display_name": "Python 3"
    }
  },
  "cells": [
    {
      "cell_type": "markdown",
      "metadata": {
        "id": "Yodd9EqUIy5s",
        "colab_type": "text"
      },
      "source": [
        "## codes for data processing for input data\n",
        "- input : dictionary의 형태에 해당(즉 벡터형태)\n",
        "- 단, 예외적으로 긍/부정에 상관없이 나오는 단어들(즉 모든 dataset에 uniform하게 나오는 단어들)은 제거\n",
        "- 모든 document에 극소하게 나오는 단어도 제외 \n",
        "- **dictionary를 reference로 사용하여 주어진 document에 해당 단어가 몇 번이나 나오는지(frequency)를 가지고 하나의 벡터를 생성한다 = input 형태**"
      ]
    },
    {
      "cell_type": "code",
      "metadata": {
        "id": "UeRclHLDIyUG",
        "colab_type": "code",
        "colab": {
          "base_uri": "https://localhost:8080/",
          "height": 92
        },
        "outputId": "f53bee5c-cbb0-4275-ced3-0f777bfbf437"
      },
      "source": [
        "import numpy as np\n",
        "import re\n",
        "import nltk\n",
        "from sklearn.datasets import load_files\n",
        "nltk.download('stopwords')\n",
        "nltk.download('wordnet')\n",
        "import pickle\n",
        "from nltk.corpus import stopwords\n",
        "from nltk.stem import WordNetLemmatizer\n",
        "from sklearn.feature_extraction.text import CountVectorizer\n",
        "from sklearn.feature_extraction.text import TfidfTransformer\n",
        "from sklearn.model_selection import train_test_split"
      ],
      "execution_count": 1,
      "outputs": [
        {
          "output_type": "stream",
          "text": [
            "[nltk_data] Downloading package stopwords to /root/nltk_data...\n",
            "[nltk_data]   Unzipping corpora/stopwords.zip.\n",
            "[nltk_data] Downloading package wordnet to /root/nltk_data...\n",
            "[nltk_data]   Unzipping corpora/wordnet.zip.\n"
          ],
          "name": "stdout"
        }
      ]
    },
    {
      "cell_type": "code",
      "metadata": {
        "id": "cAwH91G42z3o",
        "colab_type": "code",
        "colab": {
          "base_uri": "https://localhost:8080/",
          "height": 36
        },
        "outputId": "ba967c9b-077a-47c9-d93f-d0ba6c3a63b9"
      },
      "source": [
        "from google.colab import drive \n",
        "drive.mount('/content/gdrive/')"
      ],
      "execution_count": 342,
      "outputs": [
        {
          "output_type": "stream",
          "text": [
            "Mounted at /content/gdrive/\n"
          ],
          "name": "stdout"
        }
      ]
    },
    {
      "cell_type": "code",
      "metadata": {
        "id": "TYzufashva6T",
        "colab_type": "code",
        "colab": {}
      },
      "source": [
        "review_data = load_files(r\"/content/gdrive/My Drive/Colab Notebooks/movie_review\",categories=['pos','neg'])"
      ],
      "execution_count": 0,
      "outputs": []
    },
    {
      "cell_type": "code",
      "metadata": {
        "id": "RWvUQQE6KWT_",
        "colab_type": "code",
        "colab": {}
      },
      "source": [
        "X,y = review_data.data, review_data.target # 해당 feature이 될 데이터와 neg,pos값"
      ],
      "execution_count": 0,
      "outputs": []
    },
    {
      "cell_type": "code",
      "metadata": {
        "id": "6LdHykdaKemQ",
        "colab_type": "code",
        "colab": {}
      },
      "source": [
        "#X # 문장형태로 된 feature"
      ],
      "execution_count": 0,
      "outputs": []
    },
    {
      "cell_type": "code",
      "metadata": {
        "id": "2OkiOWt6KfzK",
        "colab_type": "code",
        "colab": {
          "base_uri": "https://localhost:8080/",
          "height": 36
        },
        "outputId": "69dd281d-ec9f-416f-f588-695044464faa"
      },
      "source": [
        "y[:10] # 1,0형태 "
      ],
      "execution_count": 347,
      "outputs": [
        {
          "output_type": "execute_result",
          "data": {
            "text/plain": [
              "array([0, 1, 1, 0, 1, 1, 1, 1, 1, 0])"
            ]
          },
          "metadata": {
            "tags": []
          },
          "execution_count": 347
        }
      ]
    },
    {
      "cell_type": "code",
      "metadata": {
        "id": "gqVGEdWBLCd0",
        "colab_type": "code",
        "colab": {}
      },
      "source": [
        "documents = []"
      ],
      "execution_count": 0,
      "outputs": []
    },
    {
      "cell_type": "code",
      "metadata": {
        "id": "cPOYkOkTLIFd",
        "colab_type": "code",
        "colab": {}
      },
      "source": [
        "stemmer = WordNetLemmatizer() # 표제어 추출하는 객체 "
      ],
      "execution_count": 0,
      "outputs": []
    },
    {
      "cell_type": "code",
      "metadata": {
        "id": "jfH46OiiLK2K",
        "colab_type": "code",
        "colab": {}
      },
      "source": [
        "for sen in range(0, len(X)):\n",
        "  # 긍, 부정에 영향을 주지 않는 단어 삭제 \n",
        "  # remove all the special character\n",
        "  document = re.sub(r'\\W',' ', str(X[sen]))\n",
        "  # remove all single characters\n",
        "  document = re.sub(r's+[a-zA-Z]\\s+',' ',document);\n",
        "  # remove single characters from the start\n",
        "  document = re.sub(r'\\^[a-zA-Z]\\s+', ' ', document) \n",
        "  # substituting multiple spaces with single space\n",
        "  document = re.sub(r'\\s+', ' ', document, flags=re.I)\n",
        "  # removing prefixed 'b'\n",
        "  document = re.sub(r'^b\\s+', '', document)\n",
        "  # converting to LowerCase\n",
        "  document = document.lower()\n",
        "\n",
        "  # Lemmatization(표제어 추출)\n",
        "  document = document.split()\n",
        "  document = [stemmer.lemmatize(word) for word in document]\n",
        "  document = ' '.join(document)\n",
        "\n",
        "  documents.append(document) # 필요없는 형태 제거와 표제어 추출 결과를 리스트에 저장"
      ],
      "execution_count": 0,
      "outputs": []
    },
    {
      "cell_type": "code",
      "metadata": {
        "id": "gQyacrHRM8WN",
        "colab_type": "code",
        "colab": {}
      },
      "source": [
        "# CountVectorizer : 단어 토큰 생성, 각 단어의 수를 세어 BOW 인코딩한 벡터 생성 \n",
        "vectorizer = CountVectorizer(max_features=2000, min_df=5, max_df=0.7, stop_words=stopwords.words('english'))"
      ],
      "execution_count": 0,
      "outputs": []
    },
    {
      "cell_type": "code",
      "metadata": {
        "id": "03_WOHcUNMlC",
        "colab_type": "code",
        "colab": {}
      },
      "source": [
        "X = vectorizer.fit_transform(documents).toarray()"
      ],
      "execution_count": 0,
      "outputs": []
    },
    {
      "cell_type": "code",
      "metadata": {
        "id": "u5I6uXdeNvA0",
        "colab_type": "code",
        "colab": {
          "base_uri": "https://localhost:8080/",
          "height": 36
        },
        "outputId": "3204330b-d6f5-4c9f-e944-c8755778f200"
      },
      "source": [
        "X.shape # 1000개의 문서에서 1500개의 단어 딕셔너리 reference생성 "
      ],
      "execution_count": 852,
      "outputs": [
        {
          "output_type": "execute_result",
          "data": {
            "text/plain": [
              "(2000, 2000)"
            ]
          },
          "metadata": {
            "tags": []
          },
          "execution_count": 852
        }
      ]
    },
    {
      "cell_type": "code",
      "metadata": {
        "id": "1_PN2U6cNxjp",
        "colab_type": "code",
        "colab": {}
      },
      "source": [
        "# TfidfTransformer : CountVectorizer와 비슷하나, TF-IDF 방식으로 단어의 가중치 조정 \n",
        "tfidfconverter = TfidfTransformer()\n",
        "X = tfidfconverter.fit_transform(X).toarray()"
      ],
      "execution_count": 0,
      "outputs": []
    },
    {
      "cell_type": "code",
      "metadata": {
        "id": "IgIlx3aqOL0-",
        "colab_type": "code",
        "colab": {}
      },
      "source": [
        "X_train, X_test, y_train, y_test = train_test_split(X, y, test_size=0.3, shuffle=False)"
      ],
      "execution_count": 0,
      "outputs": []
    },
    {
      "cell_type": "code",
      "metadata": {
        "id": "RuSMw2UuqT1e",
        "colab_type": "code",
        "colab": {
          "base_uri": "https://localhost:8080/",
          "height": 36
        },
        "outputId": "fa2a7f00-5f3c-4015-826c-47ee8766d6fc"
      },
      "source": [
        "y_train"
      ],
      "execution_count": 855,
      "outputs": [
        {
          "output_type": "execute_result",
          "data": {
            "text/plain": [
              "array([0, 1, 1, ..., 0, 1, 1])"
            ]
          },
          "metadata": {
            "tags": []
          },
          "execution_count": 855
        }
      ]
    },
    {
      "cell_type": "code",
      "metadata": {
        "id": "u2ehH-Kr6pov",
        "colab_type": "code",
        "colab": {}
      },
      "source": [
        "#y_train = y_train.reshape(y_train.shape[0],1)\n",
        "#y_test = y_test.reshape(y_test.shape[0],1)"
      ],
      "execution_count": 0,
      "outputs": []
    },
    {
      "cell_type": "code",
      "metadata": {
        "id": "Z_WArirbOSMs",
        "colab_type": "code",
        "colab": {
          "base_uri": "https://localhost:8080/",
          "height": 36
        },
        "outputId": "ce612d26-0046-45af-ed41-4b0530557012"
      },
      "source": [
        "print(X_train.shape, X_test.shape, y_train.shape, y_test.shape)"
      ],
      "execution_count": 857,
      "outputs": [
        {
          "output_type": "stream",
          "text": [
            "(1400, 2000) (600, 2000) (1400,) (600,)\n"
          ],
          "name": "stdout"
        }
      ]
    },
    {
      "cell_type": "markdown",
      "metadata": {
        "id": "AsGS2IUZOSy4",
        "colab_type": "text"
      },
      "source": [
        "## training(Optimization)"
      ]
    },
    {
      "cell_type": "code",
      "metadata": {
        "id": "NRO9aSeEOOEN",
        "colab_type": "code",
        "colab": {}
      },
      "source": [
        "# h, sigmoid함수 정의 \n",
        "# activation function으로 sigmoid를 사용할 예정에 있음 \n",
        "def h(theta,X):\n",
        "  return np.dot(X,theta)\n",
        "\n",
        "def sigmoid(x):\n",
        "  return 1 / (1 + np.exp(-x))\n",
        "\n",
        "# 미분한 sigmoid식\n",
        "def Dsigmoid(x):\n",
        "  return sigmoid(x)*(1-sigmoid(x))"
      ],
      "execution_count": 0,
      "outputs": []
    },
    {
      "cell_type": "code",
      "metadata": {
        "id": "TZRc6kdJPCkO",
        "colab_type": "code",
        "colab": {}
      },
      "source": [
        "# 순전파 함수\n",
        "# 여기서의 theta는 각 layer별로 해당하는 theta를 전부 포함한 list에 해당한다. \n",
        "def Forward(image, theta_vector):\n",
        "    z_each_layer = []\n",
        "\n",
        "    # theta의 수대로 반복하고, 그에따라 각각 저장해야 한다. \n",
        "    for i in range(len(theta_vector)):\n",
        "      image = add_bias(image)\n",
        "      theta = theta_vector[i]\n",
        "      z = np.dot(image, theta)\n",
        "      a = sigmoid(z)\n",
        "      z_each_layer.append(a) # z와 a값 모두 저장한다\n",
        "      image = a\n",
        "\n",
        "    return z_each_layer"
      ],
      "execution_count": 0,
      "outputs": []
    },
    {
      "cell_type": "code",
      "metadata": {
        "id": "DGbdUiIUT1hT",
        "colab_type": "code",
        "colab": {}
      },
      "source": [
        "# label의 원핫인코딩을 위한 함수 \n",
        "def onehotencoding(label):\n",
        "  unique = np.unique(label)\n",
        "  m = label.shape[0]\n",
        "  n = unique.shape[0]\n",
        "  empty = np.zeros((m, n))\n",
        "\n",
        "  for i in range(m):\n",
        "    for j in range(n):\n",
        "      if label[i] == unique[j]:\n",
        "        empty[i, j] = 1\n",
        "  \n",
        "  return empty"
      ],
      "execution_count": 0,
      "outputs": []
    },
    {
      "cell_type": "code",
      "metadata": {
        "id": "o8RHdcOePID3",
        "colab_type": "code",
        "colab": {}
      },
      "source": [
        "# Objective function에 대한 정의 \n",
        "# regularization term추가 (L의 값은 lambda에 해당한다)\n",
        "def ObjectiveFunction(image, theta_vector,label_list,L ):\n",
        "  h = Forward(image, theta_vector) # 순전파로 계산한 값의 h(각 layer별로 a값을 출력한다. )\n",
        "  sigmoid_value = [h[0], h[1], h[2] ,h[3]]\n",
        "  output_layer = sigmoid_value[-1] # 마지막 h[2]가 결국은 output layer에 해당한다. \n",
        "  n = len(theta_vector)# theta의 수에 해당한다, \n",
        "  # m = image.shape[0] # 이부분 식 수정해야 하는지 확인하기 \n",
        "\n",
        "  # cost function에 대해 regularization term을 추가한다. \n",
        "  reg_value = 0\n",
        "  for theta in range(len(theta_vector)): \n",
        "    reg_value += np.sum(theta*theta)\n",
        "  reg_value *= float(L)/(2*n) \n",
        "   \n",
        "  cost = -np.mean(np.sum(label_list*np.log(output_layer+1e-7) + (1 - label_list)*np.log(1 - output_layer + 1e-7), axis=1)) #해당 J(theta)값\n",
        "  \n",
        "  return cost+reg_value, sigmoid_value"
      ],
      "execution_count": 0,
      "outputs": []
    },
    {
      "cell_type": "code",
      "metadata": {
        "id": "9vdDR1S4b9PZ",
        "colab_type": "code",
        "colab": {}
      },
      "source": [
        "#def predict(output_layer):\n",
        "#  predict_label = np.where(output_layer > 0.5, 1 , 0)\n",
        "#  return predict_label"
      ],
      "execution_count": 0,
      "outputs": []
    },
    {
      "cell_type": "code",
      "metadata": {
        "id": "9FNWjKZ2mPWD",
        "colab_type": "code",
        "colab": {}
      },
      "source": [
        "def predict(output_layer):\n",
        "  predict_label = np.argmax(output_layer, axis=1)\n",
        "  return predict_label"
      ],
      "execution_count": 0,
      "outputs": []
    },
    {
      "cell_type": "code",
      "metadata": {
        "id": "btAhabkRPSNV",
        "colab_type": "code",
        "colab": {}
      },
      "source": [
        "# accuracy\n",
        "def accuracy(pred, true):\n",
        "  acc = np.mean(pred == true)\n",
        "  return acc"
      ],
      "execution_count": 0,
      "outputs": []
    },
    {
      "cell_type": "code",
      "metadata": {
        "id": "4Id2rnVFPUFY",
        "colab_type": "code",
        "colab": {}
      },
      "source": [
        "# bias 추가 \n",
        "def add_bias(image):\n",
        "  m = image.shape[0]\n",
        "  temp = np.column_stack((np.ones((m, 1)), image))\n",
        "  return temp"
      ],
      "execution_count": 0,
      "outputs": []
    },
    {
      "cell_type": "code",
      "metadata": {
        "id": "PYKb67DePZKl",
        "colab_type": "code",
        "colab": {}
      },
      "source": [
        "# 역전파 함수 수정 \n",
        "def Back(image, theta_list, onehot, sigmoid_list):\n",
        "  m = image.shape[0]\n",
        "  delta5 = sigmoid_list[3] - onehot\n",
        "  delta4 = np.dot(delta5, theta_list[3][1:, :].T)*sigmoid_list[2]*(1-sigmoid_list[2])\n",
        "  delta3 = np.dot(delta4, theta_list[2][1:, :].T)*sigmoid_list[1]*(1-sigmoid_list[1])\n",
        "  delta2 = np.dot(delta3, theta_list[1][1:, :].T)*sigmoid_list[0]*(1-sigmoid_list[0])\n",
        "\n",
        "  add_bias_term4 = add_bias(sigmoid_list[2])\n",
        "  add_bias_term3 = add_bias(sigmoid_list[1])\n",
        "  add_bias_term2 = add_bias(sigmoid_list[0])\n",
        "  add_bias_term1 = add_bias(image)\n",
        "  \n",
        "  gradient4 = np.dot(add_bias_term4.T, delta5) / m\n",
        "  gradient3 = np.dot(add_bias_term3.T, delta4) / m\n",
        "  gradient2 = np.dot(add_bias_term2.T, delta3) / m\n",
        "  gradient1 = np.dot(add_bias_term1.T, delta2) / m\n",
        "  gradient_list = [gradient1, gradient2, gradient3, gradient4]\n",
        "\n",
        "  return gradient_list"
      ],
      "execution_count": 0,
      "outputs": []
    },
    {
      "cell_type": "code",
      "metadata": {
        "id": "AN6YYvVSPkSy",
        "colab_type": "code",
        "colab": {
          "base_uri": "https://localhost:8080/",
          "height": 36
        },
        "outputId": "5b86b2e0-722f-474f-d91e-b980105048cc"
      },
      "source": [
        "y_train.shape"
      ],
      "execution_count": 870,
      "outputs": [
        {
          "output_type": "execute_result",
          "data": {
            "text/plain": [
              "(1400,)"
            ]
          },
          "metadata": {
            "tags": []
          },
          "execution_count": 870
        }
      ]
    },
    {
      "cell_type": "code",
      "metadata": {
        "id": "c_d7X74ArFLA",
        "colab_type": "code",
        "colab": {}
      },
      "source": [
        "y_train_one = onehotencoding(y_train)\n",
        "y_test_one = onehotencoding(y_test)"
      ],
      "execution_count": 0,
      "outputs": []
    },
    {
      "cell_type": "code",
      "metadata": {
        "id": "DMQP_lIzrOxd",
        "colab_type": "code",
        "colab": {
          "base_uri": "https://localhost:8080/",
          "height": 36
        },
        "outputId": "48290646-f46f-4411-a739-8f4845a3f7cb"
      },
      "source": [
        "y_train"
      ],
      "execution_count": 872,
      "outputs": [
        {
          "output_type": "execute_result",
          "data": {
            "text/plain": [
              "array([0, 1, 1, ..., 0, 1, 1])"
            ]
          },
          "metadata": {
            "tags": []
          },
          "execution_count": 872
        }
      ]
    },
    {
      "cell_type": "code",
      "metadata": {
        "id": "9gmRW7GIrx-b",
        "colab_type": "code",
        "colab": {
          "base_uri": "https://localhost:8080/",
          "height": 148
        },
        "outputId": "f7a65d81-de50-448b-9495-0ecf8118f991"
      },
      "source": [
        "y_train_one"
      ],
      "execution_count": 873,
      "outputs": [
        {
          "output_type": "execute_result",
          "data": {
            "text/plain": [
              "array([[1., 0.],\n",
              "       [0., 1.],\n",
              "       [0., 1.],\n",
              "       ...,\n",
              "       [1., 0.],\n",
              "       [0., 1.],\n",
              "       [0., 1.]])"
            ]
          },
          "metadata": {
            "tags": []
          },
          "execution_count": 873
        }
      ]
    },
    {
      "cell_type": "code",
      "metadata": {
        "id": "-EYZ_RoqPtTI",
        "colab_type": "code",
        "colab": {}
      },
      "source": [
        "# 먼저 theta의 행렬의 형태에 대한 정의가 필요하다.  \n",
        "# 랜덤으로 정한 theta (U,V,W)에 해당 \n",
        "np.random.seed(20180378)\n",
        "\n",
        "# 파라미터 수를 늘리므로 더작은 std의 N(0,1)에서 랜덤값 뽑을 것임 initializer수정\n",
        "# 초깃값 너무 작게 두면 기울기 소실이 난다. 적당한 크기로 두는 것이 중요함. \n",
        "# N(0,0.01)에서 랜덤값을 initializer한다. \n",
        "theta1 = np.random.randn(2001, 624) \n",
        "theta2 = np.random.randn(625, 255)\n",
        "theta3 = np.random.randn(256, 624)\n",
        "theta4 = np.random.randn(625, 2)\n",
        "\n",
        "\n",
        "# 정한 theta들의 리스트\n",
        "theta_vector = [theta1, theta2, theta3, theta4]\n",
        "train_cost_value_list = []\n",
        "test_cost_value_list = []\n",
        "train_accuracy_list = []\n",
        "test_accuracy_list = []"
      ],
      "execution_count": 0,
      "outputs": []
    },
    {
      "cell_type": "code",
      "metadata": {
        "id": "fcjnux6yQGYk",
        "colab_type": "code",
        "colab": {}
      },
      "source": [
        "# hyperparameter값 (튜닝예정 )\n",
        "iteration = 1200\n",
        "learning_rate = 0.05\n",
        "L = 1 # reg term의 lambda값"
      ],
      "execution_count": 0,
      "outputs": []
    },
    {
      "cell_type": "code",
      "metadata": {
        "id": "2XjPrg-RQLQq",
        "colab_type": "code",
        "colab": {
          "base_uri": "https://localhost:8080/",
          "height": 913
        },
        "outputId": "2ca4741f-eb0b-40b6-d50f-2cd81ec21ed8"
      },
      "source": [
        "for iter in range(iteration):\n",
        "\n",
        "  # compute cost\n",
        "  train_cost_value, train_sigmoid_value = ObjectiveFunction(X_train, theta_vector, y_train_one, L)\n",
        "  test_cost_value, test_sigmoid_value = ObjectiveFunction(X_test, theta_vector, y_test_one, L)\n",
        "  # predict the final label \n",
        "  train_predict_label = predict(train_sigmoid_value[-1])\n",
        "  test_predict_label = predict(test_sigmoid_value[-1])\n",
        " \n",
        "  # compute accuracy\n",
        "  train_accuracy = accuracy(train_predict_label, y_train)\n",
        "  test_accuracy = accuracy(test_predict_label, y_test)\n",
        "  gradient = Back(X_train, theta_vector, y_train_one, train_sigmoid_value)\n",
        "\n",
        "  # append\n",
        "  train_cost_value_list.append(train_cost_value)\n",
        "  test_cost_value_list.append(test_cost_value)\n",
        "  train_accuracy_list.append(train_accuracy)\n",
        "  test_accuracy_list.append(test_accuracy)\n",
        "  if iter > 300 :\n",
        "    learning_rate = 0.03\n",
        "  elif iter > 800 :\n",
        "    learning_rate = 0.02\n",
        "  # theta update \n",
        "  for i in range(len(theta_vector)):\n",
        "    theta_vector[i] = theta_vector[i] - learning_rate * gradient[i]\n",
        "  \n",
        "  # update되는 cost, sccuracy값 확인하기 \n",
        "  if(iter%50 == 0):\n",
        "    print(\"train:\",train_cost_value, train_accuracy )\n",
        "    print(\"test :\", test_cost_value, test_accuracy) "
      ],
      "execution_count": 877,
      "outputs": [
        {
          "output_type": "stream",
          "text": [
            "train: 13.804095810320128 0.5107142857142857\n",
            "test : 13.9248948438041 0.5183333333333333\n",
            "train: 5.464539635434674 0.5428571428571428\n",
            "test : 6.013617937291488 0.505\n",
            "train: 5.003890447801503 0.5492857142857143\n",
            "test : 5.691308223963471 0.5066666666666667\n",
            "train: 4.739267438096934 0.5592857142857143\n",
            "test : 5.533900621490355 0.5083333333333333\n",
            "train: 4.5346889186598105 0.5628571428571428\n",
            "test : 5.418005812390048 0.5116666666666667\n",
            "train: 4.355133114993398 0.5707142857142857\n",
            "test : 5.321550528644422 0.515\n",
            "train: 4.188634173822063 0.5828571428571429\n",
            "test : 5.232328430013013 0.5266666666666666\n",
            "train: 2.926523393902595 0.775\n",
            "test : 3.8902601865849147 0.5833333333333334\n",
            "train: 2.8594920018261565 0.7878571428571428\n",
            "test : 3.861610178100971 0.5816666666666667\n",
            "train: 2.8026360359254454 0.7992857142857143\n",
            "test : 3.842974075101585 0.5816666666666667\n",
            "train: 2.752418703036485 0.8107142857142857\n",
            "test : 3.82960205627925 0.5816666666666667\n",
            "train: 2.7071133760902226 0.8157142857142857\n",
            "test : 3.8195700768163277 0.5833333333333334\n",
            "train: 2.6656672082547788 0.8342857142857143\n",
            "test : 3.8118676751953178 0.5866666666666667\n",
            "train: 2.627377847686627 0.8457142857142858\n",
            "test : 3.8058868147286233 0.59\n",
            "train: 2.5917446361326686 0.8557142857142858\n",
            "test : 3.801232134911203 0.5883333333333334\n",
            "train: 2.558391042963553 0.8642857142857143\n",
            "test : 3.79762928350622 0.59\n",
            "train: 2.5270240122819962 0.8707142857142857\n",
            "test : 3.7948778759904456 0.5883333333333334\n",
            "train: 2.4974112747432593 0.8785714285714286\n",
            "test : 3.7928270669889543 0.585\n",
            "train: 2.469366887067342 0.8857142857142857\n",
            "test : 3.7913618173483488 0.5833333333333334\n",
            "train: 2.4427408185625286 0.8957142857142857\n",
            "test : 3.7903939517519505 0.585\n",
            "train: 2.4174109101003967 0.9042857142857142\n",
            "test : 3.7898554273796154 0.59\n",
            "train: 2.3932765082734297 0.9107142857142857\n",
            "test : 3.789692856560106 0.5983333333333334\n",
            "train: 2.3702534418288543 0.9157142857142857\n",
            "test : 3.7898631042241298 0.6\n",
            "train: 2.3482701262694157 0.92\n",
            "test : 3.79033001827326 0.6\n"
          ],
          "name": "stdout"
        }
      ]
    },
    {
      "cell_type": "code",
      "metadata": {
        "id": "to0haaSGZXFx",
        "colab_type": "code",
        "colab": {}
      },
      "source": [
        ""
      ],
      "execution_count": 0,
      "outputs": []
    },
    {
      "cell_type": "markdown",
      "metadata": {
        "id": "46__d03cAixS",
        "colab_type": "text"
      },
      "source": [
        "## plot the loss curve"
      ]
    },
    {
      "cell_type": "code",
      "metadata": {
        "id": "t536u5KcAk-s",
        "colab_type": "code",
        "colab": {
          "base_uri": "https://localhost:8080/",
          "height": 284
        },
        "outputId": "183e868a-4ab0-49ba-8a52-cd42f898ba3a"
      },
      "source": [
        "plt.plot(train_cost_value_list,'b') # train\n",
        "plt.plot(test_cost_value_list,'r') # test"
      ],
      "execution_count": 878,
      "outputs": [
        {
          "output_type": "execute_result",
          "data": {
            "text/plain": [
              "[<matplotlib.lines.Line2D at 0x7f80878efb70>]"
            ]
          },
          "metadata": {
            "tags": []
          },
          "execution_count": 878
        },
        {
          "output_type": "display_data",
          "data": {
            "image/png": "[encoded data removed]",
            "text/plain": [
              "<Figure size 432x288 with 1 Axes>"
            ]
          },
          "metadata": {
            "tags": [],
            "needs_background": "light"
          }
        }
      ]
    },
    {
      "cell_type": "markdown",
      "metadata": {
        "id": "xqIPjMpLAxGk",
        "colab_type": "text"
      },
      "source": [
        "## plot the accuracy curve"
      ]
    },
    {
      "cell_type": "code",
      "metadata": {
        "id": "86DrTMZsA2Qj",
        "colab_type": "code",
        "colab": {
          "base_uri": "https://localhost:8080/",
          "height": 284
        },
        "outputId": "40a7362f-8020-4865-bd7a-1ca7297ccb91"
      },
      "source": [
        "plt.plot(train_accuracy_list,'b')\n",
        "plt.plot(test_accuracy_list,'r')"
      ],
      "execution_count": 879,
      "outputs": [
        {
          "output_type": "execute_result",
          "data": {
            "text/plain": [
              "[<matplotlib.lines.Line2D at 0x7f8087dae0b8>]"
            ]
          },
          "metadata": {
            "tags": []
          },
          "execution_count": 879
        },
        {
          "output_type": "display_data",
          "data": {
            "image/png": "[encoded data removed]",
            "text/plain": [
              "<Figure size 432x288 with 1 Axes>"
            ]
          },
          "metadata": {
            "tags": [],
            "needs_background": "light"
          }
        }
      ]
    },
    {
      "cell_type": "markdown",
      "metadata": {
        "id": "ThM-l0OAA4v2",
        "colab_type": "text"
      },
      "source": [
        "## plot the quantitative results"
      ]
    },
    {
      "cell_type": "code",
      "metadata": {
        "id": "T3AyUgeYBAhX",
        "colab_type": "code",
        "colab": {
          "base_uri": "https://localhost:8080/",
          "height": 241
        },
        "outputId": "7d8fb809-fd59-4e58-b49d-c4fca968b86f"
      },
      "source": [
        "# training results\n",
        "from sklearn.metrics import classification_report, confusion_matrix, accuracy_score\n",
        "\n",
        "# confusion matrix \n",
        "print(confusion_matrix(y_train,train_predict_label))\n",
        "# classification results\n",
        "print(classification_report(y_train,train_predict_label))\n",
        "# accuracy_score\n",
        "print(accuracy_score(y_train, train_predict_label))"
      ],
      "execution_count": 880,
      "outputs": [
        {
          "output_type": "stream",
          "text": [
            "[[651  47]\n",
            " [ 58 644]]\n",
            "              precision    recall  f1-score   support\n",
            "\n",
            "           0       0.92      0.93      0.93       698\n",
            "           1       0.93      0.92      0.92       702\n",
            "\n",
            "    accuracy                           0.93      1400\n",
            "   macro avg       0.93      0.93      0.92      1400\n",
            "weighted avg       0.93      0.93      0.92      1400\n",
            "\n",
            "0.925\n"
          ],
          "name": "stdout"
        }
      ]
    },
    {
      "cell_type": "code",
      "metadata": {
        "id": "qJ0lBrRWBu0p",
        "colab_type": "code",
        "colab": {
          "base_uri": "https://localhost:8080/",
          "height": 241
        },
        "outputId": "5fcee79b-ca07-4ffe-c38b-4610a90f9da5"
      },
      "source": [
        "# testing results\n",
        "print(confusion_matrix(y_test,test_predict_label))\n",
        "print(classification_report(y_test,test_predict_label))\n",
        "print(accuracy_score(y_test, test_predict_label))"
      ],
      "execution_count": 881,
      "outputs": [
        {
          "output_type": "stream",
          "text": [
            "[[189 113]\n",
            " [128 170]]\n",
            "              precision    recall  f1-score   support\n",
            "\n",
            "           0       0.60      0.63      0.61       302\n",
            "           1       0.60      0.57      0.59       298\n",
            "\n",
            "    accuracy                           0.60       600\n",
            "   macro avg       0.60      0.60      0.60       600\n",
            "weighted avg       0.60      0.60      0.60       600\n",
            "\n",
            "0.5983333333333334\n"
          ],
          "name": "stdout"
        }
      ]
    },
    {
      "cell_type": "code",
      "metadata": {
        "id": "TKIzBU3qB2nK",
        "colab_type": "code",
        "colab": {}
      },
      "source": [
        ""
      ],
      "execution_count": 0,
      "outputs": []
    },
    {
      "cell_type": "markdown",
      "metadata": {
        "id": "ZanhdN-WB4LX",
        "colab_type": "text"
      },
      "source": [
        "## testing accuracy"
      ]
    },
    {
      "cell_type": "code",
      "metadata": {
        "id": "3q_tUeloB6HD",
        "colab_type": "code",
        "colab": {
          "base_uri": "https://localhost:8080/",
          "height": 36
        },
        "outputId": "ef03e2aa-325d-4151-afd7-47832f0a073e"
      },
      "source": [
        "print(accuracy_score(y_test, test_predict_label)*100,'%')"
      ],
      "execution_count": 882,
      "outputs": [
        {
          "output_type": "stream",
          "text": [
            "59.833333333333336 %\n"
          ],
          "name": "stdout"
        }
      ]
    },
    {
      "cell_type": "code",
      "metadata": {
        "id": "6E_DxZsaCVb0",
        "colab_type": "code",
        "colab": {}
      },
      "source": [
        ""
      ],
      "execution_count": 0,
      "outputs": []
    },
    {
      "cell_type": "code",
      "metadata": {
        "id": "sCC8pFxUCVsT",
        "colab_type": "code",
        "colab": {}
      },
      "source": [
        ""
      ],
      "execution_count": 0,
      "outputs": []
    },
    {
      "cell_type": "markdown",
      "metadata": {
        "id": "VRdv0tXnCV-h",
        "colab_type": "text"
      },
      "source": [
        "## 답"
      ]
    },
    {
      "cell_type": "markdown",
      "metadata": {
        "id": "BlftCd4TyfBi",
        "colab_type": "text"
      },
      "source": [
        "## 1. plot the loss curve"
      ]
    },
    {
      "cell_type": "code",
      "metadata": {
        "id": "gY10Hyr_CW2Z",
        "colab_type": "code",
        "colab": {
          "base_uri": "https://localhost:8080/",
          "height": 284
        },
        "outputId": "de48ce06-a9f5-4788-b643-844d62fa9e33"
      },
      "source": [
        "plt.plot(train_cost_value_list,'b') # train\n",
        "plt.plot(test_cost_value_list,'r') # test"
      ],
      "execution_count": 795,
      "outputs": [
        {
          "output_type": "execute_result",
          "data": {
            "text/plain": [
              "[<matplotlib.lines.Line2D at 0x7f8087b2f1d0>]"
            ]
          },
          "metadata": {
            "tags": []
          },
          "execution_count": 795
        },
        {
          "output_type": "display_data",
          "data": {
            "image/png": "[encoded data removed]",
            "text/plain": [
              "<Figure size 432x288 with 1 Axes>"
            ]
          },
          "metadata": {
            "tags": [],
            "needs_background": "light"
          }
        }
      ]
    },
    {
      "cell_type": "markdown",
      "metadata": {
        "id": "ut_xsQWGyl_J",
        "colab_type": "text"
      },
      "source": [
        "## 2. plot the accuracy curve"
      ]
    },
    {
      "cell_type": "code",
      "metadata": {
        "id": "AGkfgyTayktP",
        "colab_type": "code",
        "colab": {
          "base_uri": "https://localhost:8080/",
          "height": 284
        },
        "outputId": "dd08e324-68f0-45f7-e505-cbc60f9d69d0"
      },
      "source": [
        "plt.plot(train_accuracy_list,'b')\n",
        "plt.plot(test_accuracy_list,'r')"
      ],
      "execution_count": 796,
      "outputs": [
        {
          "output_type": "execute_result",
          "data": {
            "text/plain": [
              "[<matplotlib.lines.Line2D at 0x7f8087aeb320>]"
            ]
          },
          "metadata": {
            "tags": []
          },
          "execution_count": 796
        },
        {
          "output_type": "display_data",
          "data": {
            "image/png": "[encoded data removed]",
            "text/plain": [
              "<Figure size 432x288 with 1 Axes>"
            ]
          },
          "metadata": {
            "tags": [],
            "needs_background": "light"
          }
        }
      ]
    },
    {
      "cell_type": "markdown",
      "metadata": {
        "id": "5ETd8MT9yr5n",
        "colab_type": "text"
      },
      "source": [
        "## 3. plot the quantitative results"
      ]
    },
    {
      "cell_type": "markdown",
      "metadata": {
        "id": "jbLPv-RzywJB",
        "colab_type": "text"
      },
      "source": [
        "- training results"
      ]
    },
    {
      "cell_type": "code",
      "metadata": {
        "id": "66JS29fayqm1",
        "colab_type": "code",
        "colab": {
          "base_uri": "https://localhost:8080/",
          "height": 241
        },
        "outputId": "7ad61549-5213-4863-85d5-c9ec075b477c"
      },
      "source": [
        "# training results\n",
        "from sklearn.metrics import classification_report, confusion_matrix, accuracy_score\n",
        "\n",
        "# confusion matrix \n",
        "print(confusion_matrix(y_train,train_predict_label))\n",
        "# classification results\n",
        "print(classification_report(y_train,train_predict_label))\n",
        "# accuracy_score\n",
        "print(accuracy_score(y_train, train_predict_label))"
      ],
      "execution_count": 797,
      "outputs": [
        {
          "output_type": "stream",
          "text": [
            "[[641  57]\n",
            " [ 48 654]]\n",
            "              precision    recall  f1-score   support\n",
            "\n",
            "           0       0.93      0.92      0.92       698\n",
            "           1       0.92      0.93      0.93       702\n",
            "\n",
            "    accuracy                           0.93      1400\n",
            "   macro avg       0.93      0.92      0.92      1400\n",
            "weighted avg       0.93      0.93      0.92      1400\n",
            "\n",
            "0.925\n"
          ],
          "name": "stdout"
        }
      ]
    },
    {
      "cell_type": "markdown",
      "metadata": {
        "id": "NNkG6paDy1GE",
        "colab_type": "text"
      },
      "source": [
        "- testing results"
      ]
    },
    {
      "cell_type": "code",
      "metadata": {
        "id": "5IDqoSnQy0qr",
        "colab_type": "code",
        "colab": {
          "base_uri": "https://localhost:8080/",
          "height": 241
        },
        "outputId": "58bba19d-5ab0-40f5-8cc4-6af6dd18ed19"
      },
      "source": [
        "# testing results\n",
        "print(confusion_matrix(y_test,test_predict_label))\n",
        "print(classification_report(y_test,test_predict_label))\n",
        "print(accuracy_score(y_test, test_predict_label))"
      ],
      "execution_count": 798,
      "outputs": [
        {
          "output_type": "stream",
          "text": [
            "[[169 133]\n",
            " [120 178]]\n",
            "              precision    recall  f1-score   support\n",
            "\n",
            "           0       0.58      0.56      0.57       302\n",
            "           1       0.57      0.60      0.58       298\n",
            "\n",
            "    accuracy                           0.58       600\n",
            "   macro avg       0.58      0.58      0.58       600\n",
            "weighted avg       0.58      0.58      0.58       600\n",
            "\n",
            "0.5783333333333334\n"
          ],
          "name": "stdout"
        }
      ]
    },
    {
      "cell_type": "markdown",
      "metadata": {
        "id": "GEEY7Ytmy5fk",
        "colab_type": "text"
      },
      "source": [
        "## 4. testing accuracy"
      ]
    },
    {
      "cell_type": "code",
      "metadata": {
        "id": "tVFF_5rOyz9F",
        "colab_type": "code",
        "colab": {
          "base_uri": "https://localhost:8080/",
          "height": 36
        },
        "outputId": "ff8ef083-4686-42d4-c436-a84cdfd5cd5f"
      },
      "source": [
        "print(accuracy_score(y_test, test_predict_label)*100,'%')"
      ],
      "execution_count": 799,
      "outputs": [
        {
          "output_type": "stream",
          "text": [
            "57.833333333333336 %\n"
          ],
          "name": "stdout"
        }
      ]
    },
    {
      "cell_type": "code",
      "metadata": {
        "id": "8B4Q6Euny---",
        "colab_type": "code",
        "colab": {}
      },
      "source": [
        ""
      ],
      "execution_count": 0,
      "outputs": []
    }
  ]
}