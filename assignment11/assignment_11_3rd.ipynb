{
  "nbformat": 4,
  "nbformat_minor": 0,
  "metadata": {
    "colab": {
      "name": "assignment_11.ipynb",
      "provenance": []
    },
    "kernelspec": {
      "name": "python3",
      "display_name": "Python 3"
    }
  },
  "cells": [
    {
      "cell_type": "markdown",
      "metadata": {
        "id": "Yodd9EqUIy5s",
        "colab_type": "text"
      },
      "source": [
        "## codes for data processing for input data\n",
        "- input : dictionary의 형태에 해당(즉 벡터형태)\n",
        "- 단, 예외적으로 긍/부정에 상관없이 나오는 단어들(즉 모든 dataset에 uniform하게 나오는 단어들)은 제거\n",
        "- 모든 document에 극소하게 나오는 단어도 제외 \n",
        "- **dictionary를 reference로 사용하여 주어진 document에 해당 단어가 몇 번이나 나오는지(frequency)를 가지고 하나의 벡터를 생성한다 = input 형태**"
      ]
    },
    {
      "cell_type": "code",
      "metadata": {
        "id": "UeRclHLDIyUG",
        "colab_type": "code",
        "colab": {
          "base_uri": "https://localhost:8080/",
          "height": 92
        },
        "outputId": "f53bee5c-cbb0-4275-ced3-0f777bfbf437"
      },
      "source": [
        "import numpy as np\n",
        "import re\n",
        "import nltk\n",
        "from sklearn.datasets import load_files\n",
        "nltk.download('stopwords')\n",
        "nltk.download('wordnet')\n",
        "import pickle\n",
        "from nltk.corpus import stopwords\n",
        "from nltk.stem import WordNetLemmatizer\n",
        "from sklearn.feature_extraction.text import CountVectorizer\n",
        "from sklearn.feature_extraction.text import TfidfTransformer\n",
        "from sklearn.model_selection import train_test_split"
      ],
      "execution_count": 1,
      "outputs": [
        {
          "output_type": "stream",
          "text": [
            "[nltk_data] Downloading package stopwords to /root/nltk_data...\n",
            "[nltk_data]   Unzipping corpora/stopwords.zip.\n",
            "[nltk_data] Downloading package wordnet to /root/nltk_data...\n",
            "[nltk_data]   Unzipping corpora/wordnet.zip.\n"
          ],
          "name": "stdout"
        }
      ]
    },
    {
      "cell_type": "code",
      "metadata": {
        "id": "cAwH91G42z3o",
        "colab_type": "code",
        "colab": {
          "base_uri": "https://localhost:8080/",
          "height": 36
        },
        "outputId": "ba967c9b-077a-47c9-d93f-d0ba6c3a63b9"
      },
      "source": [
        "from google.colab import drive \n",
        "drive.mount('/content/gdrive/')"
      ],
      "execution_count": 342,
      "outputs": [
        {
          "output_type": "stream",
          "text": [
            "Mounted at /content/gdrive/\n"
          ],
          "name": "stdout"
        }
      ]
    },
    {
      "cell_type": "code",
      "metadata": {
        "id": "TYzufashva6T",
        "colab_type": "code",
        "colab": {}
      },
      "source": [
        "review_data = load_files(r\"/content/gdrive/My Drive/Colab Notebooks/movie_review\",categories=['pos','neg'])"
      ],
      "execution_count": 0,
      "outputs": []
    },
    {
      "cell_type": "code",
      "metadata": {
        "id": "RWvUQQE6KWT_",
        "colab_type": "code",
        "colab": {}
      },
      "source": [
        "X,y = review_data.data, review_data.target # 해당 feature이 될 데이터와 neg,pos값"
      ],
      "execution_count": 0,
      "outputs": []
    },
    {
      "cell_type": "code",
      "metadata": {
        "id": "6LdHykdaKemQ",
        "colab_type": "code",
        "colab": {}
      },
      "source": [
        "#X # 문장형태로 된 feature"
      ],
      "execution_count": 0,
      "outputs": []
    },
    {
      "cell_type": "code",
      "metadata": {
        "id": "2OkiOWt6KfzK",
        "colab_type": "code",
        "colab": {
          "base_uri": "https://localhost:8080/",
          "height": 36
        },
        "outputId": "69dd281d-ec9f-416f-f588-695044464faa"
      },
      "source": [
        "y[:10] # 1,0형태 "
      ],
      "execution_count": 347,
      "outputs": [
        {
          "output_type": "execute_result",
          "data": {
            "text/plain": [
              "array([0, 1, 1, 0, 1, 1, 1, 1, 1, 0])"
            ]
          },
          "metadata": {
            "tags": []
          },
          "execution_count": 347
        }
      ]
    },
    {
      "cell_type": "code",
      "metadata": {
        "id": "gqVGEdWBLCd0",
        "colab_type": "code",
        "colab": {}
      },
      "source": [
        "documents = []"
      ],
      "execution_count": 0,
      "outputs": []
    },
    {
      "cell_type": "code",
      "metadata": {
        "id": "cPOYkOkTLIFd",
        "colab_type": "code",
        "colab": {}
      },
      "source": [
        "stemmer = WordNetLemmatizer() # 표제어 추출하는 객체 "
      ],
      "execution_count": 0,
      "outputs": []
    },
    {
      "cell_type": "code",
      "metadata": {
        "id": "jfH46OiiLK2K",
        "colab_type": "code",
        "colab": {}
      },
      "source": [
        "for sen in range(0, len(X)):\n",
        "  # 긍, 부정에 영향을 주지 않는 단어 삭제 \n",
        "  # remove all the special character\n",
        "  document = re.sub(r'\\W',' ', str(X[sen]))\n",
        "  # remove all single characters\n",
        "  document = re.sub(r's+[a-zA-Z]\\s+',' ',document);\n",
        "  # remove single characters from the start\n",
        "  document = re.sub(r'\\^[a-zA-Z]\\s+', ' ', document) \n",
        "  # substituting multiple spaces with single space\n",
        "  document = re.sub(r'\\s+', ' ', document, flags=re.I)\n",
        "  # removing prefixed 'b'\n",
        "  document = re.sub(r'^b\\s+', '', document)\n",
        "  # converting to LowerCase\n",
        "  document = document.lower()\n",
        "\n",
        "  # Lemmatization(표제어 추출)\n",
        "  document = document.split()\n",
        "  document = [stemmer.lemmatize(word) for word in document]\n",
        "  document = ' '.join(document)\n",
        "\n",
        "  documents.append(document) # 필요없는 형태 제거와 표제어 추출 결과를 리스트에 저장"
      ],
      "execution_count": 0,
      "outputs": []
    },
    {
      "cell_type": "code",
      "metadata": {
        "id": "gQyacrHRM8WN",
        "colab_type": "code",
        "colab": {}
      },
      "source": [
        "# CountVectorizer : 단어 토큰 생성, 각 단어의 수를 세어 BOW 인코딩한 벡터 생성 \n",
        "vectorizer = CountVectorizer(max_features=2200, min_df=5, max_df=0.7, stop_words=stopwords.words('english'))"
      ],
      "execution_count": 0,
      "outputs": []
    },
    {
      "cell_type": "code",
      "metadata": {
        "id": "03_WOHcUNMlC",
        "colab_type": "code",
        "colab": {}
      },
      "source": [
        "X = vectorizer.fit_transform(documents).toarray()"
      ],
      "execution_count": 0,
      "outputs": []
    },
    {
      "cell_type": "code",
      "metadata": {
        "id": "u5I6uXdeNvA0",
        "colab_type": "code",
        "colab": {
          "base_uri": "https://localhost:8080/",
          "height": 36
        },
        "outputId": "6eda8e82-d6ea-4459-904d-73457ebcd1f4"
      },
      "source": [
        "X.shape # 1000개의 문서에서 1500개의 단어 딕셔너리 reference생성 "
      ],
      "execution_count": 890,
      "outputs": [
        {
          "output_type": "execute_result",
          "data": {
            "text/plain": [
              "(2000, 2200)"
            ]
          },
          "metadata": {
            "tags": []
          },
          "execution_count": 890
        }
      ]
    },
    {
      "cell_type": "code",
      "metadata": {
        "id": "1_PN2U6cNxjp",
        "colab_type": "code",
        "colab": {}
      },
      "source": [
        "# TfidfTransformer : CountVectorizer와 비슷하나, TF-IDF 방식으로 단어의 가중치 조정 \n",
        "tfidfconverter = TfidfTransformer()\n",
        "X = tfidfconverter.fit_transform(X).toarray()"
      ],
      "execution_count": 0,
      "outputs": []
    },
    {
      "cell_type": "code",
      "metadata": {
        "id": "IgIlx3aqOL0-",
        "colab_type": "code",
        "colab": {}
      },
      "source": [
        "X_train, X_test, y_train, y_test = train_test_split(X, y, test_size=0.3, shuffle=False)"
      ],
      "execution_count": 0,
      "outputs": []
    },
    {
      "cell_type": "code",
      "metadata": {
        "id": "RuSMw2UuqT1e",
        "colab_type": "code",
        "colab": {
          "base_uri": "https://localhost:8080/",
          "height": 36
        },
        "outputId": "29fd8158-2496-417b-a122-99ecbc73b433"
      },
      "source": [
        "y_train"
      ],
      "execution_count": 893,
      "outputs": [
        {
          "output_type": "execute_result",
          "data": {
            "text/plain": [
              "array([0, 1, 1, ..., 0, 1, 1])"
            ]
          },
          "metadata": {
            "tags": []
          },
          "execution_count": 893
        }
      ]
    },
    {
      "cell_type": "code",
      "metadata": {
        "id": "u2ehH-Kr6pov",
        "colab_type": "code",
        "colab": {}
      },
      "source": [
        "#y_train = y_train.reshape(y_train.shape[0],1)\n",
        "#y_test = y_test.reshape(y_test.shape[0],1)"
      ],
      "execution_count": 0,
      "outputs": []
    },
    {
      "cell_type": "code",
      "metadata": {
        "id": "Z_WArirbOSMs",
        "colab_type": "code",
        "colab": {
          "base_uri": "https://localhost:8080/",
          "height": 36
        },
        "outputId": "f7336bfd-d912-42fc-f22c-06f912a1b6f8"
      },
      "source": [
        "print(X_train.shape, X_test.shape, y_train.shape, y_test.shape)"
      ],
      "execution_count": 895,
      "outputs": [
        {
          "output_type": "stream",
          "text": [
            "(1400, 2200) (600, 2200) (1400,) (600,)\n"
          ],
          "name": "stdout"
        }
      ]
    },
    {
      "cell_type": "markdown",
      "metadata": {
        "id": "AsGS2IUZOSy4",
        "colab_type": "text"
      },
      "source": [
        "## training(Optimization)"
      ]
    },
    {
      "cell_type": "code",
      "metadata": {
        "id": "NRO9aSeEOOEN",
        "colab_type": "code",
        "colab": {}
      },
      "source": [
        "# h, sigmoid함수 정의 \n",
        "# activation function으로 sigmoid를 사용할 예정에 있음 \n",
        "def h(theta,X):\n",
        "  return np.dot(X,theta)\n",
        "\n",
        "def sigmoid(x):\n",
        "  return 1 / (1 + np.exp(-x))\n",
        "\n",
        "# 미분한 sigmoid식\n",
        "def Dsigmoid(x):\n",
        "  return sigmoid(x)*(1-sigmoid(x))"
      ],
      "execution_count": 0,
      "outputs": []
    },
    {
      "cell_type": "code",
      "metadata": {
        "id": "TZRc6kdJPCkO",
        "colab_type": "code",
        "colab": {}
      },
      "source": [
        "# 순전파 함수\n",
        "# 여기서의 theta는 각 layer별로 해당하는 theta를 전부 포함한 list에 해당한다. \n",
        "def Forward(image, theta_vector):\n",
        "    z_each_layer = []\n",
        "\n",
        "    # theta의 수대로 반복하고, 그에따라 각각 저장해야 한다. \n",
        "    for i in range(len(theta_vector)):\n",
        "      image = add_bias(image)\n",
        "      theta = theta_vector[i]\n",
        "      z = np.dot(image, theta)\n",
        "      a = sigmoid(z)\n",
        "      z_each_layer.append(a) # z와 a값 모두 저장한다\n",
        "      image = a\n",
        "\n",
        "    return z_each_layer"
      ],
      "execution_count": 0,
      "outputs": []
    },
    {
      "cell_type": "code",
      "metadata": {
        "id": "DGbdUiIUT1hT",
        "colab_type": "code",
        "colab": {}
      },
      "source": [
        "# label의 원핫인코딩을 위한 함수 \n",
        "def onehotencoding(label):\n",
        "  unique = np.unique(label)\n",
        "  m = label.shape[0]\n",
        "  n = unique.shape[0]\n",
        "  empty = np.zeros((m, n))\n",
        "\n",
        "  for i in range(m):\n",
        "    for j in range(n):\n",
        "      if label[i] == unique[j]:\n",
        "        empty[i, j] = 1\n",
        "  \n",
        "  return empty"
      ],
      "execution_count": 0,
      "outputs": []
    },
    {
      "cell_type": "code",
      "metadata": {
        "id": "o8RHdcOePID3",
        "colab_type": "code",
        "colab": {}
      },
      "source": [
        "# Objective function에 대한 정의 \n",
        "# regularization term추가 (L의 값은 lambda에 해당한다)\n",
        "def ObjectiveFunction(image, theta_vector,label_list,L ):\n",
        "  h = Forward(image, theta_vector) # 순전파로 계산한 값의 h(각 layer별로 a값을 출력한다. )\n",
        "  sigmoid_value = [h[0], h[1], h[2] ,h[3]]\n",
        "  output_layer = sigmoid_value[-1] # 마지막 h[2]가 결국은 output layer에 해당한다. \n",
        "  n = len(theta_vector)# theta의 수에 해당한다, \n",
        "  # m = image.shape[0] # 이부분 식 수정해야 하는지 확인하기 \n",
        "\n",
        "  # cost function에 대해 regularization term을 추가한다. \n",
        "  reg_value = 0\n",
        "  for theta in range(len(theta_vector)): \n",
        "    reg_value += np.sum(theta*theta)\n",
        "  reg_value *= float(L)/(2*n) \n",
        "   \n",
        "  cost = -np.mean(np.sum(label_list*np.log(output_layer+1e-7) + (1 - label_list)*np.log(1 - output_layer + 1e-7), axis=1)) #해당 J(theta)값\n",
        "  \n",
        "  return cost+reg_value, sigmoid_value"
      ],
      "execution_count": 0,
      "outputs": []
    },
    {
      "cell_type": "code",
      "metadata": {
        "id": "9vdDR1S4b9PZ",
        "colab_type": "code",
        "colab": {}
      },
      "source": [
        "#def predict(output_layer):\n",
        "#  predict_label = np.where(output_layer > 0.5, 1 , 0)\n",
        "#  return predict_label"
      ],
      "execution_count": 0,
      "outputs": []
    },
    {
      "cell_type": "code",
      "metadata": {
        "id": "9FNWjKZ2mPWD",
        "colab_type": "code",
        "colab": {}
      },
      "source": [
        "def predict(output_layer):\n",
        "  predict_label = np.argmax(output_layer, axis=1)\n",
        "  return predict_label"
      ],
      "execution_count": 0,
      "outputs": []
    },
    {
      "cell_type": "code",
      "metadata": {
        "id": "btAhabkRPSNV",
        "colab_type": "code",
        "colab": {}
      },
      "source": [
        "# accuracy\n",
        "def accuracy(pred, true):\n",
        "  acc = np.mean(pred == true)\n",
        "  return acc"
      ],
      "execution_count": 0,
      "outputs": []
    },
    {
      "cell_type": "code",
      "metadata": {
        "id": "4Id2rnVFPUFY",
        "colab_type": "code",
        "colab": {}
      },
      "source": [
        "# bias 추가 \n",
        "def add_bias(image):\n",
        "  m = image.shape[0]\n",
        "  temp = np.column_stack((np.ones((m, 1)), image))\n",
        "  return temp"
      ],
      "execution_count": 0,
      "outputs": []
    },
    {
      "cell_type": "code",
      "metadata": {
        "id": "PYKb67DePZKl",
        "colab_type": "code",
        "colab": {}
      },
      "source": [
        "# 역전파 함수 수정 \n",
        "def Back(image, theta_list, onehot, sigmoid_list):\n",
        "  m = image.shape[0]\n",
        "  delta5 = sigmoid_list[3] - onehot\n",
        "  delta4 = np.dot(delta5, theta_list[3][1:, :].T)*sigmoid_list[2]*(1-sigmoid_list[2])\n",
        "  delta3 = np.dot(delta4, theta_list[2][1:, :].T)*sigmoid_list[1]*(1-sigmoid_list[1])\n",
        "  delta2 = np.dot(delta3, theta_list[1][1:, :].T)*sigmoid_list[0]*(1-sigmoid_list[0])\n",
        "\n",
        "  add_bias_term4 = add_bias(sigmoid_list[2])\n",
        "  add_bias_term3 = add_bias(sigmoid_list[1])\n",
        "  add_bias_term2 = add_bias(sigmoid_list[0])\n",
        "  add_bias_term1 = add_bias(image)\n",
        "  \n",
        "  gradient4 = np.dot(add_bias_term4.T, delta5) / m\n",
        "  gradient3 = np.dot(add_bias_term3.T, delta4) / m\n",
        "  gradient2 = np.dot(add_bias_term2.T, delta3) / m\n",
        "  gradient1 = np.dot(add_bias_term1.T, delta2) / m\n",
        "  gradient_list = [gradient1, gradient2, gradient3, gradient4]\n",
        "\n",
        "  return gradient_list"
      ],
      "execution_count": 0,
      "outputs": []
    },
    {
      "cell_type": "code",
      "metadata": {
        "id": "AN6YYvVSPkSy",
        "colab_type": "code",
        "colab": {
          "base_uri": "https://localhost:8080/",
          "height": 36
        },
        "outputId": "7fb99e8c-e57d-4383-93d5-2c79140751d3"
      },
      "source": [
        "y_train.shape"
      ],
      "execution_count": 905,
      "outputs": [
        {
          "output_type": "execute_result",
          "data": {
            "text/plain": [
              "(1400,)"
            ]
          },
          "metadata": {
            "tags": []
          },
          "execution_count": 905
        }
      ]
    },
    {
      "cell_type": "code",
      "metadata": {
        "id": "c_d7X74ArFLA",
        "colab_type": "code",
        "colab": {}
      },
      "source": [
        "y_train_one = onehotencoding(y_train)\n",
        "y_test_one = onehotencoding(y_test)"
      ],
      "execution_count": 0,
      "outputs": []
    },
    {
      "cell_type": "code",
      "metadata": {
        "id": "DMQP_lIzrOxd",
        "colab_type": "code",
        "colab": {
          "base_uri": "https://localhost:8080/",
          "height": 36
        },
        "outputId": "f76654f1-0986-4e9e-ca23-73646f69289c"
      },
      "source": [
        "y_train"
      ],
      "execution_count": 907,
      "outputs": [
        {
          "output_type": "execute_result",
          "data": {
            "text/plain": [
              "array([0, 1, 1, ..., 0, 1, 1])"
            ]
          },
          "metadata": {
            "tags": []
          },
          "execution_count": 907
        }
      ]
    },
    {
      "cell_type": "code",
      "metadata": {
        "id": "9gmRW7GIrx-b",
        "colab_type": "code",
        "colab": {
          "base_uri": "https://localhost:8080/",
          "height": 148
        },
        "outputId": "99f9ac5c-ca60-4c3d-df24-082c0a8fd278"
      },
      "source": [
        "y_train_one"
      ],
      "execution_count": 908,
      "outputs": [
        {
          "output_type": "execute_result",
          "data": {
            "text/plain": [
              "array([[1., 0.],\n",
              "       [0., 1.],\n",
              "       [0., 1.],\n",
              "       ...,\n",
              "       [1., 0.],\n",
              "       [0., 1.],\n",
              "       [0., 1.]])"
            ]
          },
          "metadata": {
            "tags": []
          },
          "execution_count": 908
        }
      ]
    },
    {
      "cell_type": "code",
      "metadata": {
        "id": "-EYZ_RoqPtTI",
        "colab_type": "code",
        "colab": {}
      },
      "source": [
        "# 먼저 theta의 행렬의 형태에 대한 정의가 필요하다.  \n",
        "# 랜덤으로 정한 theta (U,V,W)에 해당 \n",
        "np.random.seed(20180378)\n",
        "\n",
        "# 파라미터 수를 늘리므로 더작은 std의 N(0,1)에서 랜덤값 뽑을 것임 initializer수정\n",
        "# 초깃값 너무 작게 두면 기울기 소실이 난다. 적당한 크기로 두는 것이 중요함. \n",
        "# N(0,0.01)에서 랜덤값을 initializer한다. \n",
        "theta1 = np.random.randn(2201, 624) \n",
        "theta2 = np.random.randn(625, 255)\n",
        "theta3 = np.random.randn(256, 624)\n",
        "theta4 = np.random.randn(625, 2)\n",
        "\n",
        "\n",
        "# 정한 theta들의 리스트\n",
        "theta_vector = [theta1, theta2, theta3, theta4]\n",
        "train_cost_value_list = []\n",
        "test_cost_value_list = []\n",
        "train_accuracy_list = []\n",
        "test_accuracy_list = []"
      ],
      "execution_count": 0,
      "outputs": []
    },
    {
      "cell_type": "code",
      "metadata": {
        "id": "fcjnux6yQGYk",
        "colab_type": "code",
        "colab": {}
      },
      "source": [
        "# hyperparameter값 (튜닝예정 )\n",
        "iteration = 1000\n",
        "learning_rate = 0.05\n",
        "L = 0.9 # reg term의 lambda값"
      ],
      "execution_count": 0,
      "outputs": []
    },
    {
      "cell_type": "code",
      "metadata": {
        "id": "2XjPrg-RQLQq",
        "colab_type": "code",
        "colab": {
          "base_uri": "https://localhost:8080/",
          "height": 764
        },
        "outputId": "31c8be1b-d62f-4bcf-e3e0-b54f9aab809b"
      },
      "source": [
        "for iter in range(iteration):\n",
        "\n",
        "  # compute cost\n",
        "  train_cost_value, train_sigmoid_value = ObjectiveFunction(X_train, theta_vector, y_train_one, L)\n",
        "  test_cost_value, test_sigmoid_value = ObjectiveFunction(X_test, theta_vector, y_test_one, L)\n",
        "  # predict the final label \n",
        "  train_predict_label = predict(train_sigmoid_value[-1])\n",
        "  test_predict_label = predict(test_sigmoid_value[-1])\n",
        " \n",
        "  # compute accuracy\n",
        "  train_accuracy = accuracy(train_predict_label, y_train)\n",
        "  test_accuracy = accuracy(test_predict_label, y_test)\n",
        "  gradient = Back(X_train, theta_vector, y_train_one, train_sigmoid_value)\n",
        "\n",
        "  # append\n",
        "  train_cost_value_list.append(train_cost_value)\n",
        "  test_cost_value_list.append(test_cost_value)\n",
        "  train_accuracy_list.append(train_accuracy)\n",
        "  test_accuracy_list.append(test_accuracy)\n",
        "  if iter > 300 :\n",
        "    learning_rate = 0.03\n",
        "  elif iter > 800 :\n",
        "    learning_rate = 0.02\n",
        "  # theta update \n",
        "  for i in range(len(theta_vector)):\n",
        "    theta_vector[i] = theta_vector[i] - learning_rate * gradient[i]\n",
        "  \n",
        "  # update되는 cost, sccuracy값 확인하기 \n",
        "  if(iter%50 == 0):\n",
        "    print(\"train:\",train_cost_value, train_accuracy )\n",
        "    print(\"test :\", test_cost_value, test_accuracy) "
      ],
      "execution_count": 912,
      "outputs": [
        {
          "output_type": "stream",
          "text": [
            "train: 8.965303296441705 0.48428571428571426\n",
            "test : 8.677544415005961 0.5\n",
            "train: 4.7567318913856775 0.6014285714285714\n",
            "test : 5.401331322129322 0.5183333333333333\n",
            "train: 4.896259573792923 0.5621428571428572\n",
            "test : 5.581714197325529 0.515\n",
            "train: 4.3816547579109155 0.5778571428571428\n",
            "test : 5.2443914150499165 0.53\n",
            "train: 4.046513368979566 0.5978571428571429\n",
            "test : 5.0666252857202 0.5266666666666666\n",
            "train: 3.7833171878994216 0.6192857142857143\n",
            "test : 4.935721843212364 0.53\n",
            "train: 3.5605198449801376 0.6457142857142857\n",
            "test : 4.8202261237347335 0.5283333333333333\n",
            "train: 2.589437764912137 0.8392857142857143\n",
            "test : 3.935895133602937 0.5833333333333334\n",
            "train: 2.517731174818636 0.85\n",
            "test : 3.914253094226903 0.5833333333333334\n",
            "train: 2.456564561804402 0.8607142857142858\n",
            "test : 3.9006380492434056 0.5866666666666667\n",
            "train: 2.402130776057666 0.8685714285714285\n",
            "test : 3.891569596893639 0.59\n",
            "train: 2.352917209200976 0.8785714285714286\n",
            "test : 3.885139547976813 0.59\n",
            "train: 2.3080544334509216 0.8878571428571429\n",
            "test : 3.8803437221352057 0.595\n",
            "train: 2.266941851358125 0.8971428571428571\n",
            "test : 3.8766481781964766 0.5983333333333334\n",
            "train: 2.229118248893332 0.9107142857142857\n",
            "test : 3.873761398038204 0.6016666666666667\n",
            "train: 2.194209434371613 0.9185714285714286\n",
            "test : 3.871508570771792 0.6016666666666667\n",
            "train: 2.161904545579424 0.9285714285714286\n",
            "test : 3.8697668372155176 0.6016666666666667\n",
            "train: 2.131941532028247 0.9364285714285714\n",
            "test : 3.868438707958761 0.6016666666666667\n",
            "train: 2.104095966503338 0.945\n",
            "test : 3.8674440201376656 0.605\n",
            "train: 2.078172826307855 0.9485714285714286\n",
            "test : 3.8667175389059 0.605\n"
          ],
          "name": "stdout"
        }
      ]
    },
    {
      "cell_type": "code",
      "metadata": {
        "id": "to0haaSGZXFx",
        "colab_type": "code",
        "colab": {}
      },
      "source": [
        ""
      ],
      "execution_count": 0,
      "outputs": []
    },
    {
      "cell_type": "markdown",
      "metadata": {
        "id": "46__d03cAixS",
        "colab_type": "text"
      },
      "source": [
        "## plot the loss curve"
      ]
    },
    {
      "cell_type": "code",
      "metadata": {
        "id": "t536u5KcAk-s",
        "colab_type": "code",
        "colab": {
          "base_uri": "https://localhost:8080/",
          "height": 284
        },
        "outputId": "9388b601-f284-4c19-e3f3-abfb1cef7ce8"
      },
      "source": [
        "plt.plot(train_cost_value_list,'b') # train\n",
        "plt.plot(test_cost_value_list,'r') # test"
      ],
      "execution_count": 913,
      "outputs": [
        {
          "output_type": "execute_result",
          "data": {
            "text/plain": [
              "[<matplotlib.lines.Line2D at 0x7f808777fa58>]"
            ]
          },
          "metadata": {
            "tags": []
          },
          "execution_count": 913
        },
        {
          "output_type": "display_data",
          "data": {
            "image/png": "[encoded data removed]",
            "text/plain": [
              "<Figure size 432x288 with 1 Axes>"
            ]
          },
          "metadata": {
            "tags": [],
            "needs_background": "light"
          }
        }
      ]
    },
    {
      "cell_type": "markdown",
      "metadata": {
        "id": "xqIPjMpLAxGk",
        "colab_type": "text"
      },
      "source": [
        "## plot the accuracy curve"
      ]
    },
    {
      "cell_type": "code",
      "metadata": {
        "id": "86DrTMZsA2Qj",
        "colab_type": "code",
        "colab": {
          "base_uri": "https://localhost:8080/",
          "height": 284
        },
        "outputId": "ca6a9c96-8a9a-4477-ccf0-3f3112380cf6"
      },
      "source": [
        "plt.plot(train_accuracy_list,'b')\n",
        "plt.plot(test_accuracy_list,'r')"
      ],
      "execution_count": 914,
      "outputs": [
        {
          "output_type": "execute_result",
          "data": {
            "text/plain": [
              "[<matplotlib.lines.Line2D at 0x7f808772c128>]"
            ]
          },
          "metadata": {
            "tags": []
          },
          "execution_count": 914
        },
        {
          "output_type": "display_data",
          "data": {
            "image/png": "[encoded data removed]",
            "text/plain": [
              "<Figure size 432x288 with 1 Axes>"
            ]
          },
          "metadata": {
            "tags": [],
            "needs_background": "light"
          }
        }
      ]
    },
    {
      "cell_type": "markdown",
      "metadata": {
        "id": "ThM-l0OAA4v2",
        "colab_type": "text"
      },
      "source": [
        "## plot the quantitative results"
      ]
    },
    {
      "cell_type": "code",
      "metadata": {
        "id": "T3AyUgeYBAhX",
        "colab_type": "code",
        "colab": {
          "base_uri": "https://localhost:8080/",
          "height": 241
        },
        "outputId": "487fe908-63f8-4d5c-c1f2-4d93decee3e8"
      },
      "source": [
        "# training results\n",
        "from sklearn.metrics import classification_report, confusion_matrix, accuracy_score\n",
        "\n",
        "# confusion matrix \n",
        "print(confusion_matrix(y_train,train_predict_label))\n",
        "# classification results\n",
        "print(classification_report(y_train,train_predict_label))\n",
        "# accuracy_score\n",
        "print(accuracy_score(y_train, train_predict_label))"
      ],
      "execution_count": 915,
      "outputs": [
        {
          "output_type": "stream",
          "text": [
            "[[665  33]\n",
            " [ 34 668]]\n",
            "              precision    recall  f1-score   support\n",
            "\n",
            "           0       0.95      0.95      0.95       698\n",
            "           1       0.95      0.95      0.95       702\n",
            "\n",
            "    accuracy                           0.95      1400\n",
            "   macro avg       0.95      0.95      0.95      1400\n",
            "weighted avg       0.95      0.95      0.95      1400\n",
            "\n",
            "0.9521428571428572\n"
          ],
          "name": "stdout"
        }
      ]
    },
    {
      "cell_type": "code",
      "metadata": {
        "id": "qJ0lBrRWBu0p",
        "colab_type": "code",
        "colab": {
          "base_uri": "https://localhost:8080/",
          "height": 241
        },
        "outputId": "20755372-e42c-45a9-d4c4-57602c52a085"
      },
      "source": [
        "# testing results\n",
        "print(confusion_matrix(y_test,test_predict_label))\n",
        "print(classification_report(y_test,test_predict_label))\n",
        "print(accuracy_score(y_test, test_predict_label))"
      ],
      "execution_count": 916,
      "outputs": [
        {
          "output_type": "stream",
          "text": [
            "[[188 114]\n",
            " [123 175]]\n",
            "              precision    recall  f1-score   support\n",
            "\n",
            "           0       0.60      0.62      0.61       302\n",
            "           1       0.61      0.59      0.60       298\n",
            "\n",
            "    accuracy                           0.60       600\n",
            "   macro avg       0.61      0.60      0.60       600\n",
            "weighted avg       0.61      0.60      0.60       600\n",
            "\n",
            "0.605\n"
          ],
          "name": "stdout"
        }
      ]
    },
    {
      "cell_type": "code",
      "metadata": {
        "id": "TKIzBU3qB2nK",
        "colab_type": "code",
        "colab": {}
      },
      "source": [
        ""
      ],
      "execution_count": 0,
      "outputs": []
    },
    {
      "cell_type": "markdown",
      "metadata": {
        "id": "ZanhdN-WB4LX",
        "colab_type": "text"
      },
      "source": [
        "## testing accuracy"
      ]
    },
    {
      "cell_type": "code",
      "metadata": {
        "id": "3q_tUeloB6HD",
        "colab_type": "code",
        "colab": {
          "base_uri": "https://localhost:8080/",
          "height": 36
        },
        "outputId": "9f80a29c-5143-4212-bdd4-cb9299700d70"
      },
      "source": [
        "print(accuracy_score(y_test, test_predict_label)*100,'%')"
      ],
      "execution_count": 917,
      "outputs": [
        {
          "output_type": "stream",
          "text": [
            "60.5 %\n"
          ],
          "name": "stdout"
        }
      ]
    },
    {
      "cell_type": "code",
      "metadata": {
        "id": "6E_DxZsaCVb0",
        "colab_type": "code",
        "colab": {}
      },
      "source": [
        ""
      ],
      "execution_count": 0,
      "outputs": []
    },
    {
      "cell_type": "code",
      "metadata": {
        "id": "sCC8pFxUCVsT",
        "colab_type": "code",
        "colab": {}
      },
      "source": [
        ""
      ],
      "execution_count": 0,
      "outputs": []
    },
    {
      "cell_type": "markdown",
      "metadata": {
        "id": "VRdv0tXnCV-h",
        "colab_type": "text"
      },
      "source": [
        "## 답"
      ]
    },
    {
      "cell_type": "markdown",
      "metadata": {
        "id": "BlftCd4TyfBi",
        "colab_type": "text"
      },
      "source": [
        "## 1. plot the loss curve"
      ]
    },
    {
      "cell_type": "code",
      "metadata": {
        "id": "gY10Hyr_CW2Z",
        "colab_type": "code",
        "colab": {
          "base_uri": "https://localhost:8080/",
          "height": 284
        },
        "outputId": "ba32b41d-270e-4098-dfd4-b7e5bbda50c0"
      },
      "source": [
        "plt.plot(train_cost_value_list,'b') # train\n",
        "plt.plot(test_cost_value_list,'r') # test"
      ],
      "execution_count": 918,
      "outputs": [
        {
          "output_type": "execute_result",
          "data": {
            "text/plain": [
              "[<matplotlib.lines.Line2D at 0x7f80877e76d8>]"
            ]
          },
          "metadata": {
            "tags": []
          },
          "execution_count": 918
        },
        {
          "output_type": "display_data",
          "data": {
            "image/png": "[encoded data removed]",
            "text/plain": [
              "<Figure size 432x288 with 1 Axes>"
            ]
          },
          "metadata": {
            "tags": [],
            "needs_background": "light"
          }
        }
      ]
    },
    {
      "cell_type": "markdown",
      "metadata": {
        "id": "ut_xsQWGyl_J",
        "colab_type": "text"
      },
      "source": [
        "## 2. plot the accuracy curve"
      ]
    },
    {
      "cell_type": "code",
      "metadata": {
        "id": "AGkfgyTayktP",
        "colab_type": "code",
        "colab": {
          "base_uri": "https://localhost:8080/",
          "height": 284
        },
        "outputId": "fad95a86-5a4a-4125-eed6-6b1b5bec88c2"
      },
      "source": [
        "plt.plot(train_accuracy_list,'b')\n",
        "plt.plot(test_accuracy_list,'r')"
      ],
      "execution_count": 919,
      "outputs": [
        {
          "output_type": "execute_result",
          "data": {
            "text/plain": [
              "[<matplotlib.lines.Line2D at 0x7f808770a470>]"
            ]
          },
          "metadata": {
            "tags": []
          },
          "execution_count": 919
        },
        {
          "output_type": "display_data",
          "data": {
            "image/png": "[encoded data removed]",
            "text/plain": [
              "<Figure size 432x288 with 1 Axes>"
            ]
          },
          "metadata": {
            "tags": [],
            "needs_background": "light"
          }
        }
      ]
    },
    {
      "cell_type": "markdown",
      "metadata": {
        "id": "5ETd8MT9yr5n",
        "colab_type": "text"
      },
      "source": [
        "## 3. plot the quantitative results"
      ]
    },
    {
      "cell_type": "markdown",
      "metadata": {
        "id": "jbLPv-RzywJB",
        "colab_type": "text"
      },
      "source": [
        "- training results"
      ]
    },
    {
      "cell_type": "code",
      "metadata": {
        "id": "66JS29fayqm1",
        "colab_type": "code",
        "colab": {
          "base_uri": "https://localhost:8080/",
          "height": 241
        },
        "outputId": "0e4aff48-8480-44cf-d5fa-dbc9970cf86b"
      },
      "source": [
        "# training results\n",
        "from sklearn.metrics import classification_report, confusion_matrix, accuracy_score\n",
        "\n",
        "# confusion matrix \n",
        "print(confusion_matrix(y_train,train_predict_label))\n",
        "# classification results\n",
        "print(classification_report(y_train,train_predict_label))\n",
        "# accuracy_score\n",
        "print(accuracy_score(y_train, train_predict_label))"
      ],
      "execution_count": 920,
      "outputs": [
        {
          "output_type": "stream",
          "text": [
            "[[665  33]\n",
            " [ 34 668]]\n",
            "              precision    recall  f1-score   support\n",
            "\n",
            "           0       0.95      0.95      0.95       698\n",
            "           1       0.95      0.95      0.95       702\n",
            "\n",
            "    accuracy                           0.95      1400\n",
            "   macro avg       0.95      0.95      0.95      1400\n",
            "weighted avg       0.95      0.95      0.95      1400\n",
            "\n",
            "0.9521428571428572\n"
          ],
          "name": "stdout"
        }
      ]
    },
    {
      "cell_type": "markdown",
      "metadata": {
        "id": "NNkG6paDy1GE",
        "colab_type": "text"
      },
      "source": [
        "- testing results"
      ]
    },
    {
      "cell_type": "code",
      "metadata": {
        "id": "5IDqoSnQy0qr",
        "colab_type": "code",
        "colab": {
          "base_uri": "https://localhost:8080/",
          "height": 241
        },
        "outputId": "3ed9db6a-9722-4541-b76c-4d1033937283"
      },
      "source": [
        "# testing results\n",
        "print(confusion_matrix(y_test,test_predict_label))\n",
        "print(classification_report(y_test,test_predict_label))\n",
        "print(accuracy_score(y_test, test_predict_label))"
      ],
      "execution_count": 921,
      "outputs": [
        {
          "output_type": "stream",
          "text": [
            "[[188 114]\n",
            " [123 175]]\n",
            "              precision    recall  f1-score   support\n",
            "\n",
            "           0       0.60      0.62      0.61       302\n",
            "           1       0.61      0.59      0.60       298\n",
            "\n",
            "    accuracy                           0.60       600\n",
            "   macro avg       0.61      0.60      0.60       600\n",
            "weighted avg       0.61      0.60      0.60       600\n",
            "\n",
            "0.605\n"
          ],
          "name": "stdout"
        }
      ]
    },
    {
      "cell_type": "markdown",
      "metadata": {
        "id": "GEEY7Ytmy5fk",
        "colab_type": "text"
      },
      "source": [
        "## 4. testing accuracy"
      ]
    },
    {
      "cell_type": "code",
      "metadata": {
        "id": "tVFF_5rOyz9F",
        "colab_type": "code",
        "colab": {
          "base_uri": "https://localhost:8080/",
          "height": 36
        },
        "outputId": "e7aad0a2-0d5e-4bbc-f720-99cbce087d1d"
      },
      "source": [
        "print(accuracy_score(y_test, test_predict_label)*100,'%')"
      ],
      "execution_count": 922,
      "outputs": [
        {
          "output_type": "stream",
          "text": [
            "60.5 %\n"
          ],
          "name": "stdout"
        }
      ]
    },
    {
      "cell_type": "code",
      "metadata": {
        "id": "8B4Q6Euny---",
        "colab_type": "code",
        "colab": {}
      },
      "source": [
        ""
      ],
      "execution_count": 0,
      "outputs": []
    }
  ]
}