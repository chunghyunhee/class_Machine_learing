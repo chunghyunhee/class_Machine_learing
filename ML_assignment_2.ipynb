{
  "nbformat": 4,
  "nbformat_minor": 0,
  "metadata": {
    "colab": {
      "name": "ML_assignment_2.ipynb",
      "provenance": []
    },
    "kernelspec": {
      "name": "python3",
      "display_name": "Python 3"
    }
  },
  "cells": [
    {
      "cell_type": "markdown",
      "metadata": {
        "id": "2iaUsHh3-o0U",
        "colab_type": "text"
      },
      "source": [
        "## 1. input 데이터 생성\n",
        "- random paramter에 대한 regression생성\n",
        "- 그에 대해 난수값의 point찍는다."
      ]
    },
    {
      "cell_type": "code",
      "metadata": {
        "id": "EoKbZsp6-nrN",
        "colab_type": "code",
        "colab": {}
      },
      "source": [
        "import numpy as np\n",
        "import matplotlib.pyplot as plt\n",
        "import pandas as pd\n",
        "%matplotlib inline"
      ],
      "execution_count": 0,
      "outputs": []
    },
    {
      "cell_type": "code",
      "metadata": {
        "id": "DadsW_DU_Mmd",
        "colab_type": "code",
        "colab": {}
      },
      "source": [
        "# random regression, theta0= 3, theta1= 6\n",
        "theta_0 = 3\n",
        "theta_1 = 6\n",
        "y = [] # 3+ 6*x => 회귀식에 해당하는 값\n",
        "x = [ i for i in range(0,101)] #x값\n",
        "\n",
        "for i in range(len(x)):\n",
        "  y_arg = 3+ 6*x[i]\n",
        "  y.append(y_arg)"
      ],
      "execution_count": 0,
      "outputs": []
    },
    {
      "cell_type": "code",
      "metadata": {
        "id": "Db4rydCW_0kX",
        "colab_type": "code",
        "outputId": "9ad419f8-1342-457a-bd40-ea6b7b7e5af3",
        "colab": {
          "base_uri": "https://localhost:8080/",
          "height": 409
        }
      },
      "source": [
        "# 정한 회귀 직선 plotting\n",
        "plt.figure(figsize=(10,6))\n",
        "plt.plot(x,y)\n",
        "plt.title(\"random regression\")"
      ],
      "execution_count": 0,
      "outputs": [
        {
          "output_type": "execute_result",
          "data": {
            "text/plain": [
              "Text(0.5, 1.0, 'random regression')"
            ]
          },
          "metadata": {
            "tags": []
          },
          "execution_count": 27
        },
        {
          "output_type": "display_data",
          "data": {
            "image/png": "[encoded data removed]",
            "text/plain": [
              "<Figure size 720x432 with 1 Axes>"
            ]
          },
          "metadata": {
            "tags": []
          }
        }
      ]
    },
    {
      "cell_type": "code",
      "metadata": {
        "id": "cvyhbF34EGxZ",
        "colab_type": "code",
        "colab": {}
      },
      "source": [
        "# 정한 회귀 직선을 바탕으로 데이터 생성하기 (오차  가우시안 오차)\n",
        "mu = 0 # 정규분포에 대한 오차 파라미터값\n",
        "sigma = 25\n",
        "\n",
        "\n",
        "x_data = [] #오차를 생성하여 구한 x값\n",
        "y_data = [] #오차를 생성하여 구한 y값\n",
        "\n",
        "for i in range(100):\n",
        "  error = np.random.normal(mu,sigma)\n",
        "  x_data_arg = x[i]+error\n",
        "  x_data.append(x_data_arg)\n",
        "  y_data_arg = y[i]+error\n",
        "  y_data.append(y_data_arg)"
      ],
      "execution_count": 0,
      "outputs": []
    },
    {
      "cell_type": "code",
      "metadata": {
        "id": "4hB3fjZwE98o",
        "colab_type": "code",
        "outputId": "a0a75a19-0252-4de6-94c8-e03fe12b8d87",
        "colab": {
          "base_uri": "https://localhost:8080/",
          "height": 36
        }
      },
      "source": [
        "print(len(y_data), len(x_data)) #리스트 갯수 확인"
      ],
      "execution_count": 0,
      "outputs": [
        {
          "output_type": "stream",
          "text": [
            "100 100\n"
          ],
          "name": "stdout"
        }
      ]
    },
    {
      "cell_type": "code",
      "metadata": {
        "id": "5maDFFuZFT8q",
        "colab_type": "code",
        "outputId": "2c148b5e-3c9e-4d5e-e67a-54570aa85101",
        "colab": {
          "base_uri": "https://localhost:8080/",
          "height": 393
        }
      },
      "source": [
        "# plotting the data that we randomly make.\n",
        "plt.figure(figsize=(10,6))\n",
        "plt.plot(x_data,y_data,'rx', markersize=10)"
      ],
      "execution_count": 0,
      "outputs": [
        {
          "output_type": "execute_result",
          "data": {
            "text/plain": [
              "[<matplotlib.lines.Line2D at 0x7f693904efd0>]"
            ]
          },
          "metadata": {
            "tags": []
          },
          "execution_count": 45
        },
        {
          "output_type": "display_data",
          "data": {
            "image/png": "[encoded data removed]",
            "text/plain": [
              "<Figure size 720x432 with 1 Axes>"
            ]
          },
          "metadata": {
            "tags": []
          }
        }
      ]
    },
    {
      "cell_type": "markdown",
      "metadata": {
        "id": "5dGfBHGQHYD5",
        "colab_type": "text"
      },
      "source": [
        "## 2. cost function & Gradient descent\n",
        "- cost에 대한 iteration을 convergence할 때까지 돌린다(Gradient Descent)\n",
        "- 해당 cost값과 theta(parameters)값을 구한다. "
      ]
    },
    {
      "cell_type": "code",
      "metadata": {
        "id": "yh99n_HXGXi8",
        "colab_type": "code",
        "colab": {
          "base_uri": "https://localhost:8080/",
          "height": 56
        },
        "outputId": "71d79181-cf6c-4c57-82a8-6546ce95a8a7"
      },
      "source": [
        "# X벡터값과 theta값을 받았을 때, 도출할 수 있는 linear model\n",
        "def h(theta0, theta1,X):\n",
        "  return np.dot(X,tetha1)+theta0"
      ],
      "execution_count": 49,
      "outputs": [
        {
          "output_type": "stream",
          "text": [
            "ERROR! Session/line number was not unique in database. History logging moved to new session 62\n"
          ],
          "name": "stdout"
        }
      ]
    },
    {
      "cell_type": "code",
      "metadata": {
        "id": "YJKwXo9OKgME",
        "colab_type": "code",
        "colab": {}
      },
      "source": [
        "# Objective function\n",
        "def ObjectiveFunction(theta0, theta1, X, y):\n",
        "  return float((1./(2*m))*np.dot(h(theta1,X)+theta0-y).T,h(theta,X)+theta0-y)"
      ],
      "execution_count": 0,
      "outputs": []
    },
    {
      "cell_type": "code",
      "metadata": {
        "id": "Np0BHYS7LzjW",
        "colab_type": "code",
        "colab": {}
      },
      "source": [
        "# Gradient descent using Objective function\n",
        "iteration = 1000 #임의로 정한 하이퍼파라미터값\n",
        "alpha = 0.01\n",
        "\n",
        "def GradientDescent(theta0, theta1, X):\n",
        "  theta0_history = [] #iterationd에 따른 theta값 저장 리스트\n",
        "  theta1_history = []\n",
        "  cost_history = [] #비용함수의 변화를 저장하는 리스트\n",
        "\n",
        "  for i in range(iteration):\n",
        "    theta0_history.append(theta0)\n",
        "    theta1_history.append(theta1)\n",
        "    cost_history.append(ObjectiveFunction(theta0, theta1, X, y))\n",
        "    # update(단 동시에 update 해야 한다)\n",
        "    theta0 = theta0 - (alpha/m)*np.sum(h(theta1, theta0, X)-y)\n",
        "    theta1 = theta1 - (alpha/m)*np.sum(h(theta1, thtea0, X)-y)*X\n",
        "    # until convergence, stop 의 조건에 대한 구현 \n",
        "    if cost_history[i] - cost_history[i-1] < 1:\n",
        "      break\n",
        "    return theta0_history, theta1_history, cost_history"
      ],
      "execution_count": 0,
      "outputs": []
    },
    {
      "cell_type": "code",
      "metadata": {
        "id": "7GA49zElROGf",
        "colab_type": "code",
        "colab": {
          "base_uri": "https://localhost:8080/",
          "height": 213
        },
        "outputId": "643a73f3-3945-43c2-8226-e880a8d2fe54"
      },
      "source": [
        "# iteration에 따른 costfunction값 plotting\n",
        "theta0, theta1, cost = GradientDescent(theta0, theta1, x)\n",
        "#plt.figure(figsize=(10,6))\n",
        "#plt.plot(range())"
      ],
      "execution_count": 52,
      "outputs": [
        {
          "output_type": "error",
          "ename": "NameError",
          "evalue": "ignored",
          "traceback": [
            "\u001b[0;31m---------------------------------------------------------------------------\u001b[0m",
            "\u001b[0;31mNameError\u001b[0m                                 Traceback (most recent call last)",
            "\u001b[0;32m<ipython-input-52-76f0b4f8341a>\u001b[0m in \u001b[0;36m<module>\u001b[0;34m()\u001b[0m\n\u001b[0;32m----> 1\u001b[0;31m \u001b[0mtheta0\u001b[0m\u001b[0;34m,\u001b[0m \u001b[0mtheta1\u001b[0m\u001b[0;34m,\u001b[0m \u001b[0mcost\u001b[0m \u001b[0;34m=\u001b[0m \u001b[0mGradientDescent\u001b[0m\u001b[0;34m(\u001b[0m\u001b[0mtheta0\u001b[0m\u001b[0;34m,\u001b[0m \u001b[0mtheta1\u001b[0m\u001b[0;34m,\u001b[0m \u001b[0mx\u001b[0m\u001b[0;34m)\u001b[0m\u001b[0;34m\u001b[0m\u001b[0;34m\u001b[0m\u001b[0m\n\u001b[0m\u001b[1;32m      2\u001b[0m \u001b[0;31m#plt.figure(figsize=(10,6))\u001b[0m\u001b[0;34m\u001b[0m\u001b[0;34m\u001b[0m\u001b[0;34m\u001b[0m\u001b[0m\n\u001b[1;32m      3\u001b[0m \u001b[0;31m#plt.plot(range())\u001b[0m\u001b[0;34m\u001b[0m\u001b[0;34m\u001b[0m\u001b[0;34m\u001b[0m\u001b[0m\n",
            "\u001b[0;31mNameError\u001b[0m: name 'theta0' is not defined"
          ]
        }
      ]
    },
    {
      "cell_type": "code",
      "metadata": {
        "id": "RAezhYo8SG5M",
        "colab_type": "code",
        "colab": {}
      },
      "source": [
        ""
      ],
      "execution_count": 0,
      "outputs": []
    }
  ]
}