{
  "nbformat": 4,
  "nbformat_minor": 0,
  "metadata": {
    "colab": {
      "name": "ML_assignment_2.ipynb",
      "provenance": [],
      "collapsed_sections": []
    },
    "kernelspec": {
      "name": "python3",
      "display_name": "Python 3"
    }
  },
  "cells": [
    {
      "cell_type": "markdown",
      "metadata": {
        "id": "2iaUsHh3-o0U",
        "colab_type": "text"
      },
      "source": [
        "## 1. input 데이터 생성\n",
        "- random paramter에 대한 regression생성\n",
        "- 그에 대해 난수값의 point찍는다."
      ]
    },
    {
      "cell_type": "code",
      "metadata": {
        "id": "EoKbZsp6-nrN",
        "colab_type": "code",
        "colab": {}
      },
      "source": [
        "import numpy as np\n",
        "import matplotlib.pyplot as plt\n",
        "import pandas as pd\n",
        "%matplotlib inline"
      ],
      "execution_count": 0,
      "outputs": []
    },
    {
      "cell_type": "code",
      "metadata": {
        "id": "DadsW_DU_Mmd",
        "colab_type": "code",
        "colab": {}
      },
      "source": [
        "# random regression, theta0= 3, theta1= 6\n",
        "theta_0 = 3\n",
        "theta_1 = 6\n",
        "y = [] # 3+ 6*x => 회귀식에 해당하는 y값을 저장할 리스트\n",
        "x = [ i for i in range(0,101)] #x값\n",
        "\n",
        "for i in range(len(x)):\n",
        "  y_arg = 3+ 6*x[i]\n",
        "  y.append(y_arg)"
      ],
      "execution_count": 0,
      "outputs": []
    },
    {
      "cell_type": "code",
      "metadata": {
        "id": "Db4rydCW_0kX",
        "colab_type": "code",
        "outputId": "c755e940-4954-4cc0-c208-23e973697a26",
        "colab": {
          "base_uri": "https://localhost:8080/",
          "height": 409
        }
      },
      "source": [
        "# 정한 회귀 직선 plotting\n",
        "plt.figure(figsize=(10,6))\n",
        "plt.plot(x,y)\n",
        "plt.title(\"random regression\")"
      ],
      "execution_count": 3,
      "outputs": [
        {
          "output_type": "execute_result",
          "data": {
            "text/plain": [
              "Text(0.5, 1.0, 'random regression')"
            ]
          },
          "metadata": {
            "tags": []
          },
          "execution_count": 3
        },
        {
          "output_type": "display_data",
          "data": {
            "image/png": "[encoded data removed]",
            "text/plain": [
              "<Figure size 720x432 with 1 Axes>"
            ]
          },
          "metadata": {
            "tags": []
          }
        }
      ]
    },
    {
      "cell_type": "code",
      "metadata": {
        "id": "cvyhbF34EGxZ",
        "colab_type": "code",
        "colab": {}
      },
      "source": [
        "# 정한 회귀 직선을 바탕으로 데이터 생성하기 (오차  가우시안 오차)\n",
        "mu = 0 # 정규분포에 대한 오차 파라미터값\n",
        "sigma = 3\n",
        "\n",
        "\n",
        "x_data = [] #오차를 생성하여 구한 x값\n",
        "y_data = [] #오차를 생성하여 구한 y값\n",
        "\n",
        "for i in range(100):\n",
        "  error = np.random.normal(mu,sigma)\n",
        "  x_data_arg = x[i]+error\n",
        "  x_data.append(x_data_arg)\n",
        "  y_data_arg = y[i]+error\n",
        "  y_data.append(y_data_arg)"
      ],
      "execution_count": 0,
      "outputs": []
    },
    {
      "cell_type": "code",
      "metadata": {
        "id": "4hB3fjZwE98o",
        "colab_type": "code",
        "outputId": "868c85d5-ac16-4920-9bc0-52c07f48b29a",
        "colab": {
          "base_uri": "https://localhost:8080/",
          "height": 36
        }
      },
      "source": [
        "print(len(y_data), len(x_data)) #리스트 갯수 확인"
      ],
      "execution_count": 195,
      "outputs": [
        {
          "output_type": "stream",
          "text": [
            "100 100\n"
          ],
          "name": "stdout"
        }
      ]
    },
    {
      "cell_type": "code",
      "metadata": {
        "id": "5maDFFuZFT8q",
        "colab_type": "code",
        "outputId": "15400d80-d2c0-43ce-f3ee-90dae04e5df2",
        "colab": {
          "base_uri": "https://localhost:8080/",
          "height": 393
        }
      },
      "source": [
        "# plotting the data that we randomly make.\n",
        "plt.figure(figsize=(10,6))\n",
        "plt.plot(x_data,y_data,'rx', markersize=10)"
      ],
      "execution_count": 196,
      "outputs": [
        {
          "output_type": "execute_result",
          "data": {
            "text/plain": [
              "[<matplotlib.lines.Line2D at 0x7f853db222b0>]"
            ]
          },
          "metadata": {
            "tags": []
          },
          "execution_count": 196
        },
        {
          "output_type": "display_data",
          "data": {
            "image/png": "[encoded data removed]",
            "text/plain": [
              "<Figure size 720x432 with 1 Axes>"
            ]
          },
          "metadata": {
            "tags": []
          }
        }
      ]
    },
    {
      "cell_type": "markdown",
      "metadata": {
        "id": "5dGfBHGQHYD5",
        "colab_type": "text"
      },
      "source": [
        "## 2. cost function & Gradient descent\n",
        "- cost에 대한 iteration을 convergence할 때까지 돌린다(Gradient Descent)\n",
        "- 해당 cost값과 theta(parameters)값을 구한다. "
      ]
    },
    {
      "cell_type": "markdown",
      "metadata": {
        "id": "El54mk5FVPSf",
        "colab_type": "text"
      },
      "source": [
        "![image](https://user-images.githubusercontent.com/49298791/77844236-e614f400-71df-11ea-883b-16d5dac1a2ad.png)\n"
      ]
    },
    {
      "cell_type": "markdown",
      "metadata": {
        "id": "KKZDw8UhpdE_",
        "colab_type": "text"
      },
      "source": [
        "- theta값을 하나의 벡터로 지정하려면 X, theta값을 변형한 형태의 array로 만들어 줘야 한다. (이 방법 사용)\n",
        "- 혹은 theta0, theta1을 그대로 가져가면 복잡하긴 하지만 직관적으로 이해하긴 더 쉬울 것 같음"
      ]
    },
    {
      "cell_type": "code",
      "metadata": {
        "id": "FzbKYHbys2IQ",
        "colab_type": "code",
        "colab": {
          "base_uri": "https://localhost:8080/",
          "height": 36
        },
        "outputId": "c719098b-803a-4128-f50f-80aa3db4d9c6"
      },
      "source": [
        "data = np.array([x_data,y_data]).T\n",
        "data.shape # (X,y)형태로 한번에 저장한 배열"
      ],
      "execution_count": 203,
      "outputs": [
        {
          "output_type": "execute_result",
          "data": {
            "text/plain": [
              "(100, 2)"
            ]
          },
          "metadata": {
            "tags": []
          },
          "execution_count": 203
        }
      ]
    },
    {
      "cell_type": "code",
      "metadata": {
        "id": "yh99n_HXGXi8",
        "colab_type": "code",
        "colab": {}
      },
      "source": [
        "# X벡터값과 theta값을 받았을 때, 도출할 수 있는 linear model\n",
        "def h(theta,X):\n",
        "  return X.dot(theta)"
      ],
      "execution_count": 0,
      "outputs": []
    },
    {
      "cell_type": "code",
      "metadata": {
        "id": "YJKwXo9OKgME",
        "colab_type": "code",
        "colab": {}
      },
      "source": [
        "# Objective function\n",
        "def ObjectiveFunction(theta, X, y):\n",
        "  return float((1./(2*m)) * np.dot((h(theta,X)-y).T,(h(theta,X)-y)))"
      ],
      "execution_count": 0,
      "outputs": []
    },
    {
      "cell_type": "code",
      "metadata": {
        "id": "J7mgTtyQ0wnM",
        "colab_type": "code",
        "colab": {}
      },
      "source": [
        "# X에는 1인 열을 추가한 배열 형성, theta값은 0으로 초기화, y값은 reshape한 형태 필요\n",
        "m = len(data[:,-1])\n",
        "X = np.append(np.ones((m,1)),data[:,0].reshape(m,1),axis=1)\n",
        "y = data[:,1].reshape(m,1)\n",
        "theta = np.ones((2,1))"
      ],
      "execution_count": 0,
      "outputs": []
    },
    {
      "cell_type": "code",
      "metadata": {
        "id": "G8MZ8RHLt5j-",
        "colab_type": "code",
        "colab": {
          "base_uri": "https://localhost:8080/",
          "height": 36
        },
        "outputId": "d37a030b-a67a-414a-b9cf-1efda0cfd61d"
      },
      "source": [
        "# ObjectiveFunction계산\n",
        "print(ObjectiveFunction(theta,X,y))"
      ],
      "execution_count": 212,
      "outputs": [
        {
          "output_type": "stream",
          "text": [
            "40544.94234947596\n"
          ],
          "name": "stdout"
        }
      ]
    },
    {
      "cell_type": "code",
      "metadata": {
        "id": "Np0BHYS7LzjW",
        "colab_type": "code",
        "colab": {}
      },
      "source": [
        "# Gradient descent using Objective function\n",
        "iteration = 100 #임의로 정한 하이퍼파라미터값\n",
        "alpha = 0.01\n",
        "\n",
        "def descendGradient(X, theta):\n",
        "    #plotting위해 저장하는 history\n",
        "    J_history = [] \n",
        "    theta_history = [] \n",
        "\n",
        "    #iteration\n",
        "    for i in range(iteration):\n",
        "        tmp = theta #동시에 update하기 위해선 교환하기 위한 새로운 변수가 필요\n",
        "        \n",
        "        J_history.append(ObjectiveFunction(theta,X,y))\n",
        "        theta_history.append(list(theta[:,0]))\n",
        "\n",
        "        #update theta\n",
        "        for j in range(len(tmp)):\n",
        "            tmp[j] = theta[j] - (alpha/m)*np.sum((h(theta,X) - y)*np.array(X[:,j]).reshape(m,1))\n",
        "        theta = tmp #(theta0, theta1)하나의 벡터로 저장한다. \n",
        "    return theta, theta_history, J_history"
      ],
      "execution_count": 0,
      "outputs": []
    },
    {
      "cell_type": "code",
      "metadata": {
        "id": "7GA49zElROGf",
        "colab_type": "code",
        "colab": {}
      },
      "source": [
        "# Gradient descent계산\n",
        "theta, theta_history, J_history = descendGradient(X,theta)"
      ],
      "execution_count": 0,
      "outputs": []
    },
    {
      "cell_type": "code",
      "metadata": {
        "id": "8hE85-BC3OHi",
        "colab_type": "code",
        "colab": {
          "base_uri": "https://localhost:8080/",
          "height": 55
        },
        "outputId": "19b3e43e-84f0-48fa-86eb-e4d9870dc668"
      },
      "source": [
        "theta #확인"
      ],
      "execution_count": 242,
      "outputs": [
        {
          "output_type": "execute_result",
          "data": {
            "text/plain": [
              "array([[-5.72519384e+148],\n",
              "       [-3.78791239e+150]])"
            ]
          },
          "metadata": {
            "tags": []
          },
          "execution_count": 242
        }
      ]
    },
    {
      "cell_type": "code",
      "metadata": {
        "id": "IPctep4oEp96",
        "colab_type": "code",
        "colab": {
          "base_uri": "https://localhost:8080/",
          "height": 951
        },
        "outputId": "56335a31-c569-45d3-ed94-5f30d197dd7c"
      },
      "source": [
        "J_history[:50] #cost값 10개만 확인 "
      ],
      "execution_count": 248,
      "outputs": [
        {
          "output_type": "execute_result",
          "data": {
            "text/plain": [
              "[40544.94234947596,\n",
              " 39862457.02402658,\n",
              " 39650503535.91522,\n",
              " 39439795571768.89,\n",
              " 3.9230218330148296e+16,\n",
              " 3.9021754419932455e+19,\n",
              " 3.881439826829725e+22,\n",
              " 3.860814397795608e+25,\n",
              " 3.840298569411203e+28,\n",
              " 3.819891759272902e+31,\n",
              " 3.7995933880730056e+34,\n",
              " 3.779402879582145e+37,\n",
              " 3.759319660632946e+40,\n",
              " 3.739343161103777e+43,\n",
              " 3.719472813902546e+46,\n",
              " 3.6997080549506064e+49,\n",
              " 3.6800483231667604e+52,\n",
              " 3.6604930604513016e+55,\n",
              " 3.6410417116701956e+58,\n",
              " 3.6216937246393134e+61,\n",
              " 3.6024485501087507e+64,\n",
              " 3.5833056417472455e+67,\n",
              " 3.564264456126659e+70,\n",
              " 3.5453244527065524e+73,\n",
              " 3.526485093818856e+76,\n",
              " 3.507745844652574e+79,\n",
              " 3.489106173238637e+82,\n",
              " 3.470565550434778e+85,\n",
              " 3.452123449910518e+88,\n",
              " 3.433779348132228e+91,\n",
              " 3.41553272434826e+94,\n",
              " 3.3973830605741712e+97,\n",
              " 3.3793298415780133e+100,\n",
              " 3.361372554865708e+103,\n",
              " 3.3435106906665005e+106,\n",
              " 3.325743741918484e+109,\n",
              " 3.3080712042542125e+112,\n",
              " 3.2904925759863735e+115,\n",
              " 3.2730073580935497e+118,\n",
              " 3.255615054206065e+121,\n",
              " 3.2383151705918686e+124,\n",
              " 3.2211072161425404e+127,\n",
              " 3.203990702359341e+130,\n",
              " 3.1869651433393407e+133,\n",
              " 3.1700300557616383e+136,\n",
              " 3.153184958873624e+139,\n",
              " 3.1364293744773443e+142,\n",
              " 3.119762826915925e+145,\n",
              " 3.1031848430600605e+148,\n",
              " 3.086694952294589e+151]"
            ]
          },
          "metadata": {
            "tags": []
          },
          "execution_count": 248
        }
      ]
    },
    {
      "cell_type": "code",
      "metadata": {
        "id": "8SHyVC2i_N5j",
        "colab_type": "code",
        "colab": {
          "base_uri": "https://localhost:8080/",
          "height": 295
        },
        "outputId": "fd7abc18-b2ba-4e20-abeb-ceea420fcf10"
      },
      "source": [
        "# cost값 plotting\n",
        "plt.plot(range(len(J_history)),J_history,'bo')"
      ],
      "execution_count": 247,
      "outputs": [
        {
          "output_type": "execute_result",
          "data": {
            "text/plain": [
              "[<matplotlib.lines.Line2D at 0x7f853d854b00>]"
            ]
          },
          "metadata": {
            "tags": []
          },
          "execution_count": 247
        },
        {
          "output_type": "display_data",
          "data": {
            "image/png": "[encoded data removed]",
            "text/plain": [
              "<Figure size 432x288 with 1 Axes>"
            ]
          },
          "metadata": {
            "tags": []
          }
        }
      ]
    },
    {
      "cell_type": "code",
      "metadata": {
        "id": "z46sA_C-EYdJ",
        "colab_type": "code",
        "colab": {
          "base_uri": "https://localhost:8080/",
          "height": 295
        },
        "outputId": "07468b68-b375-4baa-c8a4-ca7df0f58a77"
      },
      "source": [
        "# fit되는 데이터 확인 \n",
        "def final(x):\n",
        "  return theta[0]+theta[1]*x\n",
        "\n",
        "plt.plot(x_data, y_data, 'rx')\n",
        "plt.plot(X[:,1], final(X[:,1]),'b-')"
      ],
      "execution_count": 252,
      "outputs": [
        {
          "output_type": "execute_result",
          "data": {
            "text/plain": [
              "[<matplotlib.lines.Line2D at 0x7f853da500f0>]"
            ]
          },
          "metadata": {
            "tags": []
          },
          "execution_count": 252
        },
        {
          "output_type": "display_data",
          "data": {
            "image/png": "[encoded data removed]",
            "text/plain": [
              "<Figure size 432x288 with 1 Axes>"
            ]
          },
          "metadata": {
            "tags": []
          }
        }
      ]
    },
    {
      "cell_type": "code",
      "metadata": {
        "id": "mEWa7f25Fvt5",
        "colab_type": "code",
        "colab": {}
      },
      "source": [
        ""
      ],
      "execution_count": 0,
      "outputs": []
    }
  ]
}