{
  "nbformat": 4,
  "nbformat_minor": 0,
  "metadata": {
    "colab": {
      "name": "ML_assignment_2.ipynb",
      "provenance": [],
      "collapsed_sections": []
    },
    "kernelspec": {
      "name": "python3",
      "display_name": "Python 3"
    }
  },
  "cells": [
    {
      "cell_type": "markdown",
      "metadata": {
        "id": "2iaUsHh3-o0U",
        "colab_type": "text"
      },
      "source": [
        "## 1. input 데이터 생성\n",
        "- random paramter에 대한 regression생성\n",
        "- 그에 대해 난수값의 point찍는다."
      ]
    },
    {
      "cell_type": "code",
      "metadata": {
        "id": "EoKbZsp6-nrN",
        "colab_type": "code",
        "colab": {}
      },
      "source": [
        "import numpy as np\n",
        "import matplotlib.pyplot as plt\n",
        "import pandas as pd\n",
        "%matplotlib inline"
      ],
      "execution_count": 0,
      "outputs": []
    },
    {
      "cell_type": "code",
      "metadata": {
        "id": "DadsW_DU_Mmd",
        "colab_type": "code",
        "colab": {}
      },
      "source": [
        "# random regression, theta0= 3, theta1= 6\n",
        "theta_0 = 3\n",
        "theta_1 = 6\n",
        "y = [] # 3+ 6*x => 회귀식에 해당하는 y값을 저장할 리스트\n",
        "x = [ i for i in range(0,10)] #x값\n",
        "\n",
        "for i in range(len(x)):\n",
        "  y_arg = 3+ 6*x[i]\n",
        "  y.append(y_arg)"
      ],
      "execution_count": 0,
      "outputs": []
    },
    {
      "cell_type": "code",
      "metadata": {
        "id": "Db4rydCW_0kX",
        "colab_type": "code",
        "outputId": "52556462-689e-4aeb-d952-18da4d7f821c",
        "colab": {
          "base_uri": "https://localhost:8080/",
          "height": 409
        }
      },
      "source": [
        "# 정한 회귀 직선 plotting\n",
        "plt.figure(figsize=(10,6))\n",
        "plt.plot(x,y)\n",
        "plt.title(\"random regression\")"
      ],
      "execution_count": 324,
      "outputs": [
        {
          "output_type": "execute_result",
          "data": {
            "text/plain": [
              "Text(0.5, 1.0, 'random regression')"
            ]
          },
          "metadata": {
            "tags": []
          },
          "execution_count": 324
        },
        {
          "output_type": "display_data",
          "data": {
            "image/png": "[encoded data removed]",
            "text/plain": [
              "<Figure size 720x432 with 1 Axes>"
            ]
          },
          "metadata": {
            "tags": []
          }
        }
      ]
    },
    {
      "cell_type": "code",
      "metadata": {
        "id": "cvyhbF34EGxZ",
        "colab_type": "code",
        "colab": {}
      },
      "source": [
        "# 정한 회귀 직선을 바탕으로 데이터 생성하기 (오차  가우시안 오차)\n",
        "mu = 0 # 정규분포에 대한 오차 파라미터값\n",
        "sigma = 3\n",
        "\n",
        "\n",
        "x_data = [] #오차를 생성하여 구한 x값\n",
        "y_data = [] #오차를 생성하여 구한 y값\n",
        "\n",
        "for i in range(10):\n",
        "  error = np.random.normal(mu,sigma)\n",
        "  x_data_arg = x[i]+error\n",
        "  x_data.append(x_data_arg)\n",
        "  y_data_arg = y[i]+error\n",
        "  y_data.append(y_data_arg)"
      ],
      "execution_count": 0,
      "outputs": []
    },
    {
      "cell_type": "code",
      "metadata": {
        "id": "4hB3fjZwE98o",
        "colab_type": "code",
        "outputId": "cce0e5db-518c-4dca-e5ac-eb7448b45feb",
        "colab": {
          "base_uri": "https://localhost:8080/",
          "height": 36
        }
      },
      "source": [
        "print(len(y_data), len(x_data)) #리스트 갯수 확인"
      ],
      "execution_count": 327,
      "outputs": [
        {
          "output_type": "stream",
          "text": [
            "10 10\n"
          ],
          "name": "stdout"
        }
      ]
    },
    {
      "cell_type": "code",
      "metadata": {
        "id": "5maDFFuZFT8q",
        "colab_type": "code",
        "outputId": "ea484001-7d73-479e-8b3f-affdfa03af1b",
        "colab": {
          "base_uri": "https://localhost:8080/",
          "height": 393
        }
      },
      "source": [
        "# plotting the data that we randomly make.\n",
        "plt.figure(figsize=(10,6))\n",
        "plt.plot(x_data,y_data,'rx', markersize=10)"
      ],
      "execution_count": 328,
      "outputs": [
        {
          "output_type": "execute_result",
          "data": {
            "text/plain": [
              "[<matplotlib.lines.Line2D at 0x7f853d668e48>]"
            ]
          },
          "metadata": {
            "tags": []
          },
          "execution_count": 328
        },
        {
          "output_type": "display_data",
          "data": {
            "image/png": "[encoded data removed]",
            "text/plain": [
              "<Figure size 720x432 with 1 Axes>"
            ]
          },
          "metadata": {
            "tags": []
          }
        }
      ]
    },
    {
      "cell_type": "markdown",
      "metadata": {
        "id": "5dGfBHGQHYD5",
        "colab_type": "text"
      },
      "source": [
        "## 2. cost function & Gradient descent\n",
        "- cost에 대한 iteration을 convergence할 때까지 돌린다(Gradient Descent)\n",
        "- 해당 cost값과 theta(parameters)값을 구한다. "
      ]
    },
    {
      "cell_type": "markdown",
      "metadata": {
        "id": "El54mk5FVPSf",
        "colab_type": "text"
      },
      "source": [
        "![image](https://user-images.githubusercontent.com/49298791/77844236-e614f400-71df-11ea-883b-16d5dac1a2ad.png)\n"
      ]
    },
    {
      "cell_type": "markdown",
      "metadata": {
        "id": "KKZDw8UhpdE_",
        "colab_type": "text"
      },
      "source": [
        "- ***theta값을 하나의 벡터로 지정하려면 X, theta값을 변형한 형태의 array로 만들어 줘야 한다. (=> 이 방법 사용)***\n",
        "- 혹은 theta0, theta1을 그대로 가져가면 복잡하긴 하지만 직관적으로 이해하긴 더 쉬울 것 같음. (어차피 행렬변환해줘야 하는 부분이므로 비효율적임, regression의 y를 표현하는 데 있어서 theta.T*x의 형태로 나타내므로 위의 방법을 사용하는 것으로 판단)"
      ]
    },
    {
      "cell_type": "code",
      "metadata": {
        "id": "MKsxCjOCQbRp",
        "colab_type": "code",
        "colab": {}
      },
      "source": [
        "data = np.array([x_data,y_data]) #배열로 지정하여 값을 추가하기 위해 합친다"
      ],
      "execution_count": 0,
      "outputs": []
    },
    {
      "cell_type": "code",
      "metadata": {
        "id": "20i5j5QyQyxi",
        "colab_type": "code",
        "colab": {
          "base_uri": "https://localhost:8080/",
          "height": 36
        },
        "outputId": "142a7d1b-1701-4c67-915c-25e33746fa96"
      },
      "source": [
        "data.shape"
      ],
      "execution_count": 330,
      "outputs": [
        {
          "output_type": "execute_result",
          "data": {
            "text/plain": [
              "(2, 10)"
            ]
          },
          "metadata": {
            "tags": []
          },
          "execution_count": 330
        }
      ]
    },
    {
      "cell_type": "code",
      "metadata": {
        "id": "y5Kn7pTFQ4th",
        "colab_type": "code",
        "colab": {}
      },
      "source": [
        "X=np.transpose(np.array(data[:-1]))\n",
        "y=np.transpose(np.array(data[-1:]))\n",
        "m=y.size"
      ],
      "execution_count": 0,
      "outputs": []
    },
    {
      "cell_type": "code",
      "metadata": {
        "id": "yh99n_HXGXi8",
        "colab_type": "code",
        "colab": {}
      },
      "source": [
        "# X벡터값과 theta값을 받았을 때, 도출할 수 있는 linear model\n",
        "def h(theta,X):\n",
        "  return X.dot(theta)"
      ],
      "execution_count": 0,
      "outputs": []
    },
    {
      "cell_type": "code",
      "metadata": {
        "id": "YJKwXo9OKgME",
        "colab_type": "code",
        "colab": {}
      },
      "source": [
        "# Objective function\n",
        "def ObjectiveFunction(theta, X, y):\n",
        "  return float((1./(2*m)) * np.dot((h(theta,X)-y).T,(h(theta,X)-y)))"
      ],
      "execution_count": 0,
      "outputs": []
    },
    {
      "cell_type": "code",
      "metadata": {
        "id": "J7mgTtyQ0wnM",
        "colab_type": "code",
        "colab": {}
      },
      "source": [
        "# X에는 1인 열을 추가한 배열 형성, theta값은 0으로 초기화, y값은 그대로\n",
        "X=np.insert(X, 0,1, axis=1)\n",
        "theta = np.zeros((2,1))"
      ],
      "execution_count": 0,
      "outputs": []
    },
    {
      "cell_type": "code",
      "metadata": {
        "id": "wZp6McRkK01w",
        "colab_type": "code",
        "colab": {
          "base_uri": "https://localhost:8080/",
          "height": 204
        },
        "outputId": "8166d0b4-3a41-449f-a87f-14bdb2b07bc3"
      },
      "source": [
        "X[:10] #10개만 확인 "
      ],
      "execution_count": 335,
      "outputs": [
        {
          "output_type": "execute_result",
          "data": {
            "text/plain": [
              "array([[ 1.        ,  0.51864648],\n",
              "       [ 1.        ,  4.1528634 ],\n",
              "       [ 1.        ,  3.51925746],\n",
              "       [ 1.        , -3.35369563],\n",
              "       [ 1.        ,  1.83207797],\n",
              "       [ 1.        ,  4.18637354],\n",
              "       [ 1.        ,  3.77476504],\n",
              "       [ 1.        ,  6.16469855],\n",
              "       [ 1.        ,  7.73232552],\n",
              "       [ 1.        ,  9.98166807]])"
            ]
          },
          "metadata": {
            "tags": []
          },
          "execution_count": 335
        }
      ]
    },
    {
      "cell_type": "code",
      "metadata": {
        "id": "G8MZ8RHLt5j-",
        "colab_type": "code",
        "colab": {
          "base_uri": "https://localhost:8080/",
          "height": 36
        },
        "outputId": "a598e92e-31a3-4d95-fb6e-b45e292eb470"
      },
      "source": [
        "# ObjectiveFunction계산\n",
        "print(ObjectiveFunction(theta,X,y))"
      ],
      "execution_count": 336,
      "outputs": [
        {
          "output_type": "stream",
          "text": [
            "576.9307212664718\n"
          ],
          "name": "stdout"
        }
      ]
    },
    {
      "cell_type": "code",
      "metadata": {
        "id": "Np0BHYS7LzjW",
        "colab_type": "code",
        "colab": {}
      },
      "source": [
        "# Gradient descent using Objective function\n",
        "iteration = 1000 #임의로 정한 하이퍼파라미터값\n",
        "alpha = 0.01\n",
        "\n",
        "def descendGradient(X, theta):\n",
        "    #plotting위해 저장하는 history\n",
        "    J_history = [] \n",
        "    theta_history = [] \n",
        "\n",
        "    #iteration\n",
        "    for i in range(iteration):\n",
        "        tmp = theta #동시에 update하기 위해선 교환하기 위한 새로운 변수가 필요\n",
        "        \n",
        "        J_history.append(ObjectiveFunction(theta,X,y))\n",
        "        theta_history.append(list(theta[:,0]))\n",
        "\n",
        "        #update theta\n",
        "        for j in range(len(tmp)):\n",
        "            tmp[j] = theta[j] - (alpha/m)*np.sum((h(theta,X) - y)*np.array(X[:,j]).reshape(m,1))\n",
        "        theta = tmp #(theta0, theta1)하나의 벡터로 저장한다. \n",
        "    return theta, theta_history, J_history"
      ],
      "execution_count": 0,
      "outputs": []
    },
    {
      "cell_type": "code",
      "metadata": {
        "id": "7GA49zElROGf",
        "colab_type": "code",
        "colab": {}
      },
      "source": [
        "# Gradient descent계산\n",
        "theta, theta_history, J_history = descendGradient(X,theta)"
      ],
      "execution_count": 0,
      "outputs": []
    },
    {
      "cell_type": "markdown",
      "metadata": {
        "id": "CatTT57aTzkn",
        "colab_type": "text"
      },
      "source": [
        "## 3. plotting cost function & fitting regression"
      ]
    },
    {
      "cell_type": "code",
      "metadata": {
        "id": "8hE85-BC3OHi",
        "colab_type": "code",
        "colab": {
          "base_uri": "https://localhost:8080/",
          "height": 55
        },
        "outputId": "637ec80d-31e5-4d5c-8499-386fc067f989"
      },
      "source": [
        "theta #확인"
      ],
      "execution_count": 351,
      "outputs": [
        {
          "output_type": "execute_result",
          "data": {
            "text/plain": [
              "array([[14.10887135],\n",
              "       [ 3.94726102]])"
            ]
          },
          "metadata": {
            "tags": []
          },
          "execution_count": 351
        }
      ]
    },
    {
      "cell_type": "code",
      "metadata": {
        "id": "IPctep4oEp96",
        "colab_type": "code",
        "colab": {
          "base_uri": "https://localhost:8080/",
          "height": 204
        },
        "outputId": "1ea50075-3a7b-4317-c1af-0b6b1505ddf3"
      },
      "source": [
        "J_history[:10] #cost값 10개만 확인 "
      ],
      "execution_count": 352,
      "outputs": [
        {
          "output_type": "execute_result",
          "data": {
            "text/plain": [
              "[65.68426778552461,\n",
              " 65.5351780755272,\n",
              " 65.38743188922314,\n",
              " 65.24101711943274,\n",
              " 65.09592176808023,\n",
              " 64.95213394521069,\n",
              " 64.80964186801565,\n",
              " 64.66843385986756,\n",
              " 64.52849834936295,\n",
              " 64.38982386937421]"
            ]
          },
          "metadata": {
            "tags": []
          },
          "execution_count": 352
        }
      ]
    },
    {
      "cell_type": "code",
      "metadata": {
        "id": "8SHyVC2i_N5j",
        "colab_type": "code",
        "colab": {
          "base_uri": "https://localhost:8080/",
          "height": 284
        },
        "outputId": "e3d6cff0-ff37-409c-9e72-78fbb5df32ba"
      },
      "source": [
        "# cost값 plotting\n",
        "plt.plot(range(len(J_history)),J_history,'bo')"
      ],
      "execution_count": 353,
      "outputs": [
        {
          "output_type": "execute_result",
          "data": {
            "text/plain": [
              "[<matplotlib.lines.Line2D at 0x7f853d3bce48>]"
            ]
          },
          "metadata": {
            "tags": []
          },
          "execution_count": 353
        },
        {
          "output_type": "display_data",
          "data": {
            "image/png": "[encoded data removed]",
            "text/plain": [
              "<Figure size 432x288 with 1 Axes>"
            ]
          },
          "metadata": {
            "tags": []
          }
        }
      ]
    },
    {
      "cell_type": "code",
      "metadata": {
        "id": "z46sA_C-EYdJ",
        "colab_type": "code",
        "colab": {
          "base_uri": "https://localhost:8080/",
          "height": 285
        },
        "outputId": "ce402bb0-b2de-490d-eba9-224e5c6c88f2"
      },
      "source": [
        "# fit되는 데이터 확인 \n",
        "def final(x):\n",
        "  return theta[0]+theta[1]*x\n",
        "\n",
        "plt.plot(x_data, y_data, 'rx')\n",
        "plt.plot(X[:,1], final(X[:,1]),'b-')"
      ],
      "execution_count": 354,
      "outputs": [
        {
          "output_type": "execute_result",
          "data": {
            "text/plain": [
              "[<matplotlib.lines.Line2D at 0x7f853d3c8390>]"
            ]
          },
          "metadata": {
            "tags": []
          },
          "execution_count": 354
        },
        {
          "output_type": "display_data",
          "data": {
            "image/png": "[encoded data removed]",
            "text/plain": [
              "<Figure size 432x288 with 1 Axes>"
            ]
          },
          "metadata": {
            "tags": []
          }
        }
      ]
    },
    {
      "cell_type": "markdown",
      "metadata": {
        "id": "QpeeGK7QT7ky",
        "colab_type": "text"
      },
      "source": [
        "## 4. plotting parameters\n",
        "- 앞에서 저장한 theta(theta0, theta1)값을 시각화 하는 부분\n",
        "- converge하는 부분을 확인하면 된다(=energe값 즉 cost값도 flatten되는 값이 결국 iteration이 끝나는 최적화된 값이다 "
      ]
    },
    {
      "cell_type": "code",
      "metadata": {
        "id": "mEWa7f25Fvt5",
        "colab_type": "code",
        "colab": {
          "base_uri": "https://localhost:8080/",
          "height": 204
        },
        "outputId": "da834010-fd34-4ba1-bbb6-daa9f7b9afa0"
      },
      "source": [
        "theta_history[:10] #iteration돌면서 찍은 theta0, theta1값 10개만 확인 "
      ],
      "execution_count": 355,
      "outputs": [
        {
          "output_type": "execute_result",
          "data": {
            "text/plain": [
              "[[5.703627545327973, 5.144248136259865],\n",
              " [5.742000499577683, 5.138783460543192],\n",
              " [5.780200163375022, 5.133343463044431],\n",
              " [5.818227319291501, 5.1279280323179135],\n",
              " [5.85608274636458, 5.122537057421255],\n",
              " [5.893767220113618, 5.117170427913081],\n",
              " [5.93128151255577, 5.111828033850766],\n",
              " [5.968626392221792, 5.106509765788179],\n",
              " [6.005802624171796, 5.1012155147734415],\n",
              " [6.042810970010917, 5.095945172346699]]"
            ]
          },
          "metadata": {
            "tags": []
          },
          "execution_count": 355
        }
      ]
    },
    {
      "cell_type": "code",
      "metadata": {
        "id": "uyTWCtcxVDK4",
        "colab_type": "code",
        "colab": {
          "base_uri": "https://localhost:8080/",
          "height": 303
        },
        "outputId": "b0a28003-6539-424f-9cd2-5c8429bbcf4d"
      },
      "source": [
        "# plotting each parameter(theta0, theta1)\n",
        "plt.plot(theta_history)"
      ],
      "execution_count": 360,
      "outputs": [
        {
          "output_type": "execute_result",
          "data": {
            "text/plain": [
              "[<matplotlib.lines.Line2D at 0x7f853e102fd0>,\n",
              " <matplotlib.lines.Line2D at 0x7f853d6d6b00>]"
            ]
          },
          "metadata": {
            "tags": []
          },
          "execution_count": 360
        },
        {
          "output_type": "display_data",
          "data": {
            "image/png": "[encoded data removed]",
            "text/plain": [
              "<Figure size 432x288 with 1 Axes>"
            ]
          },
          "metadata": {
            "tags": []
          }
        }
      ]
    },
    {
      "cell_type": "code",
      "metadata": {
        "id": "wlDT7J9PV170",
        "colab_type": "code",
        "colab": {}
      },
      "source": [
        ""
      ],
      "execution_count": 0,
      "outputs": []
    }
  ]
}