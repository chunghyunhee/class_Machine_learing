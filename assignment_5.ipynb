{
  "nbformat": 4,
  "nbformat_minor": 0,
  "metadata": {
    "colab": {
      "name": "assignment_5.ipynb",
      "provenance": [],
      "collapsed_sections": []
    },
    "kernelspec": {
      "name": "python3",
      "display_name": "Python 3"
    }
  },
  "cells": [
    {
      "cell_type": "markdown",
      "metadata": {
        "id": "2T4Veabgrv2P",
        "colab_type": "text"
      },
      "source": [
        "## 1. plotting data"
      ]
    },
    {
      "cell_type": "code",
      "metadata": {
        "id": "2jQqp3-nrrWW",
        "colab_type": "code",
        "colab": {}
      },
      "source": [
        "import numpy as np\n",
        "import matplotlib.pyplot as plt\n",
        "\n",
        "data    = np.genfromtxt(\"data.txt\", delimiter=',')\n",
        "#주어진 데이터의 형태(x1,x2,l)\n",
        "x1      = data[:, 0]\n",
        "x2      = data[:, 1]\n",
        "label   = data[:, 2]"
      ],
      "execution_count": 0,
      "outputs": []
    },
    {
      "cell_type": "code",
      "metadata": {
        "id": "1yJiW6csr70-",
        "colab_type": "code",
        "colab": {
          "base_uri": "https://localhost:8080/",
          "height": 339
        },
        "outputId": "a39ffb29-9a04-4dc9-ac89-fe2745c614d3"
      },
      "source": [
        "#(x,y)에 대해 labelling을 plotting\n",
        "x1_label0    = x1[label == 0]\n",
        "x1_label1    = x1[label == 1]\n",
        "\n",
        "x2_label0    = x2[label == 0]\n",
        "x2_label1    = x2[label == 1]\n",
        "\n",
        "plt.figure(figsize=(5, 5))\n",
        "plt.scatter(x1_label0, x2_label0, alpha=0.3, c='b')\n",
        "plt.scatter(x1_label1, x2_label1, alpha=0.3, c='r')\n",
        "plt.legend()\n",
        "plt.show()"
      ],
      "execution_count": 279,
      "outputs": [
        {
          "output_type": "stream",
          "text": [
            "No handles with labels found to put in legend.\n"
          ],
          "name": "stderr"
        },
        {
          "output_type": "display_data",
          "data": {
            "image/png": "[encoded data removed]",
            "text/plain": [
              "<Figure size 360x360 with 1 Axes>"
            ]
          },
          "metadata": {
            "tags": [],
            "needs_background": "light"
          }
        }
      ]
    },
    {
      "cell_type": "code",
      "metadata": {
        "id": "8yusbvQTyKSx",
        "colab_type": "code",
        "colab": {}
      },
      "source": [
        "data = np.array([x1,x2,label])"
      ],
      "execution_count": 0,
      "outputs": []
    },
    {
      "cell_type": "code",
      "metadata": {
        "id": "paaqU-x-yhCR",
        "colab_type": "code",
        "colab": {}
      },
      "source": [
        "X = np.transpose(np.array(data[:-1]))\n",
        "y = np.transpose(np.array(data[-1:]))\n",
        "m = y.size"
      ],
      "execution_count": 0,
      "outputs": []
    },
    {
      "cell_type": "code",
      "metadata": {
        "id": "rEMyWTY_yrLs",
        "colab_type": "code",
        "colab": {}
      },
      "source": [
        "# X에는 1을 가지는 열을 삽이반다(interception계산을 위해)\n",
        "X = np.insert(X,0,1,axis=1)"
      ],
      "execution_count": 0,
      "outputs": []
    },
    {
      "cell_type": "markdown",
      "metadata": {
        "id": "6vx7gKHWuTQH",
        "colab_type": "text"
      },
      "source": [
        "## 2. define function\n",
        "- linear regression에서 함수를 정의했던 것처럼 logistic에서도 h, 비용함수(ObjectiveFunc), GradientDescent 함수를 정의한다\n",
        "- 마찬가지로 데이터또한 X=(1,x1,x2)로 두고 theta=(theta0, theta1, theta2)형태로 만든다. label=(0,1)"
      ]
    },
    {
      "cell_type": "code",
      "metadata": {
        "id": "6QHrULI2syob",
        "colab_type": "code",
        "colab": {}
      },
      "source": [
        "#X벡터값과 theta값을 받았을 때 도출할 수 있는 logistic model\n",
        "def h(theta, X):\n",
        "  z = np.dot(X,theta)\n",
        "  return 1/(np.exp(-z)+1)"
      ],
      "execution_count": 0,
      "outputs": []
    },
    {
      "cell_type": "code",
      "metadata": {
        "id": "wCx2AlGfu2hB",
        "colab_type": "code",
        "colab": {}
      },
      "source": [
        "#Objective function\n",
        "def ObjectiveFunc(theta, X, label,m):\n",
        "  for_0 = np.dot(-np.array(label).T,np.log(h(theta, X)))\n",
        "  for_1 = np.dot((1-np.array(label)).T,np.log(1-h(theta,X)))\n",
        "  return float((1./m)*(np.sum(for_0 - for_1)))"
      ],
      "execution_count": 0,
      "outputs": []
    },
    {
      "cell_type": "code",
      "metadata": {
        "id": "FZL0EpTzw9jn",
        "colab_type": "code",
        "colab": {}
      },
      "source": [
        "# Gradient descent using ObjectiveFunc\n",
        "iteration = 1000000 # hyperparameter\n",
        "alpha = 0.0000001\n",
        "\n",
        "def GradientDescent(X,label,theta,m):\n",
        "    #plotting위해 저장하는 history\n",
        "    J_history = [] \n",
        "    theta_history = []\n",
        "\n",
        "    #iteration\n",
        "    for i in range(iteration):\n",
        "        tmp = theta #동시에 update하기 위해선 교환하기 위한 새로운 변수가 필요\n",
        "        \n",
        "        J_history.append(ObjectiveFunc(theta,X,label,m))\n",
        "        theta_history.append(list(theta[:,0]))\n",
        "\n",
        "        #update theta\n",
        "        for j in range(len(tmp)):\n",
        "            tmp[j] = theta[j] - (alpha/m)*np.sum((h(theta,X) - label)*np.array(X[:,j]).reshape(m,1))\n",
        "        theta = tmp \n",
        "    return theta, theta_history, J_history"
      ],
      "execution_count": 0,
      "outputs": []
    },
    {
      "cell_type": "code",
      "metadata": {
        "id": "rlPB5vThzBwb",
        "colab_type": "code",
        "colab": {}
      },
      "source": [
        "#theta초깃값 \n",
        "theta = np.array([[-0.8],[-0.8],[-0.8]])"
      ],
      "execution_count": 0,
      "outputs": []
    },
    {
      "cell_type": "code",
      "metadata": {
        "id": "sGtr02j4xpN5",
        "colab_type": "code",
        "colab": {}
      },
      "source": [
        "# Gradient descent계산\n",
        "theta, theta_history, J_history = GradientDescent(X,y, theta,m)"
      ],
      "execution_count": 0,
      "outputs": []
    },
    {
      "cell_type": "code",
      "metadata": {
        "id": "hDk7_EIkzIFm",
        "colab_type": "code",
        "colab": {
          "base_uri": "https://localhost:8080/",
          "height": 73
        },
        "outputId": "e2c8163c-db11-4549-cb35-f7f19311d662"
      },
      "source": [
        "theta #확인"
      ],
      "execution_count": 396,
      "outputs": [
        {
          "output_type": "execute_result",
          "data": {
            "text/plain": [
              "array([[-0.79424896],\n",
              "       [ 0.01597051],\n",
              "       [ 0.00664175]])"
            ]
          },
          "metadata": {
            "tags": []
          },
          "execution_count": 396
        }
      ]
    },
    {
      "cell_type": "code",
      "metadata": {
        "id": "z6imls6Czmuh",
        "colab_type": "code",
        "colab": {
          "base_uri": "https://localhost:8080/",
          "height": 204
        },
        "outputId": "a45deb61-eaa3-44a0-adcd-fc9ba6b92d4e"
      },
      "source": [
        "J_history[:10] #cost값 10개만 확인"
      ],
      "execution_count": 397,
      "outputs": [
        {
          "output_type": "execute_result",
          "data": {
            "text/plain": [
              "[71.84415589401985,\n",
              " 71.8437579692144,\n",
              " 71.84336004440895,\n",
              " 71.84296211960351,\n",
              " 71.84256419479806,\n",
              " 71.84216626999262,\n",
              " 71.84176834518718,\n",
              " 71.84137042038172,\n",
              " 71.84097249557628,\n",
              " 71.84057457077083]"
            ]
          },
          "metadata": {
            "tags": []
          },
          "execution_count": 397
        }
      ]
    },
    {
      "cell_type": "code",
      "metadata": {
        "id": "oyliysvHz1w5",
        "colab_type": "code",
        "colab": {
          "base_uri": "https://localhost:8080/",
          "height": 352
        },
        "outputId": "a73738d7-e1b9-4019-e9c9-65d94d2e5f9d"
      },
      "source": [
        "# cost값 plotting\n",
        "plt.figure(figsize=(5, 5))\n",
        "plt.plot(range(len(J_history)),J_history,'b')"
      ],
      "execution_count": 398,
      "outputs": [
        {
          "output_type": "execute_result",
          "data": {
            "text/plain": [
              "[<matplotlib.lines.Line2D at 0x7fba70353160>]"
            ]
          },
          "metadata": {
            "tags": []
          },
          "execution_count": 398
        },
        {
          "output_type": "display_data",
          "data": {
            "image/png": "[encoded data removed]",
            "text/plain": [
              "<Figure size 360x360 with 1 Axes>"
            ]
          },
          "metadata": {
            "tags": [],
            "needs_background": "light"
          }
        }
      ]
    },
    {
      "cell_type": "code",
      "metadata": {
        "id": "4Yu20DuJz4rC",
        "colab_type": "code",
        "colab": {}
      },
      "source": [
        "theta0_history = [] \n",
        "theta1_history = []\n",
        "theta2_history = []\n",
        "\n",
        "for i in range(len(theta_history)):\n",
        "  theta0_history.append(theta_history[i][0])\n",
        "  theta1_history.append(theta_history[i][1])\n",
        "  theta2_history.append(theta_history[i][2])"
      ],
      "execution_count": 0,
      "outputs": []
    },
    {
      "cell_type": "code",
      "metadata": {
        "id": "Y4_868Kr0EKF",
        "colab_type": "code",
        "colab": {
          "base_uri": "https://localhost:8080/",
          "height": 297
        },
        "outputId": "395f0c0b-4a25-4464-8554-384fdde88e75"
      },
      "source": [
        "# plotting each parameter(theta0, theta1, theta2)\n",
        "# 주의할 점은 각 theta별로 분리해서 plotting 해줘야 한다는 점. \n",
        "plt.plot(theta0_history,'r') #theta0 값\n",
        "plt.plot(theta1_history,'g') #theta1 값\n",
        "plt.plot(theta2_history,'b') #theta2 값"
      ],
      "execution_count": 400,
      "outputs": [
        {
          "output_type": "execute_result",
          "data": {
            "text/plain": [
              "[<matplotlib.lines.Line2D at 0x7fba6fcceeb8>]"
            ]
          },
          "metadata": {
            "tags": []
          },
          "execution_count": 400
        },
        {
          "output_type": "display_data",
          "data": {
            "image/png": "[encoded data removed]",
            "text/plain": [
              "<Figure size 432x288 with 1 Axes>"
            ]
          },
          "metadata": {
            "tags": [],
            "needs_background": "light"
          }
        }
      ]
    },
    {
      "cell_type": "markdown",
      "metadata": {
        "id": "GQhfKlZ91vUs",
        "colab_type": "text"
      },
      "source": [
        "## 3. plotting the obtained Classifier\n",
        "- decision boundary를 기준으로 이로부터 멀어질수록 각 red, blue값이 진해지도록 그린다. \n",
        "- classifier그리고 그위에 데이터 plotting\n",
        "- grid colormap plotting"
      ]
    },
    {
      "cell_type": "code",
      "metadata": {
        "id": "csB6G5iGph20",
        "colab_type": "code",
        "colab": {
          "base_uri": "https://localhost:8080/",
          "height": 36
        },
        "outputId": "bfa0ed91-6083-4f29-e37e-6994e9dfd391"
      },
      "source": [
        "theta[0]"
      ],
      "execution_count": 402,
      "outputs": [
        {
          "output_type": "execute_result",
          "data": {
            "text/plain": [
              "array([-0.79424896])"
            ]
          },
          "metadata": {
            "tags": []
          },
          "execution_count": 402
        }
      ]
    },
    {
      "cell_type": "code",
      "metadata": {
        "id": "6ileBkxz0K2F",
        "colab_type": "code",
        "colab": {}
      },
      "source": [
        "# 분류되는 값을 저장한다. \n",
        "x_label_1 = [] #1으로 분류되는 값 저장하는 리스트 \n",
        "y_label_1 = []\n",
        "\n",
        "x_label_0 = [] #0으로 분류되는 값 저장하는 리스트 \n",
        "y_label_0 = []\n",
        "\n",
        "for i in np.arange(30,100,0.5):\n",
        "  for j in np.arange(30,100,0.5):\n",
        "    z = theta[0] + i*theta[1] + j*theta[2]\n",
        "    if(1/(np.exp(-z)+1)) >= 0.5 :\n",
        "      x_label_1.append(i)\n",
        "      y_label_1.append(j)\n",
        "    else:\n",
        "      x_label_0.append(i)\n",
        "      y_label_0.append(j)"
      ],
      "execution_count": 0,
      "outputs": []
    },
    {
      "cell_type": "code",
      "metadata": {
        "id": "paAms7XgVgXJ",
        "colab_type": "code",
        "colab": {
          "base_uri": "https://localhost:8080/",
          "height": 284
        },
        "outputId": "29aeee02-007b-41b7-b8f6-91b7c4f68fc5"
      },
      "source": [
        "plt.scatter(x_label_1, y_label_1, alpha=0.1, c='b')\n",
        "plt.scatter(x_label_0, y_label_0, alpha=0.1, c='r')"
      ],
      "execution_count": 408,
      "outputs": [
        {
          "output_type": "execute_result",
          "data": {
            "text/plain": [
              "<matplotlib.collections.PathCollection at 0x7fba60cb25f8>"
            ]
          },
          "metadata": {
            "tags": []
          },
          "execution_count": 408
        },
        {
          "output_type": "display_data",
          "data": {
            "image/png": "[encoded data removed]",
            "text/plain": [
              "<Figure size 432x288 with 1 Axes>"
            ]
          },
          "metadata": {
            "tags": [],
            "needs_background": "light"
          }
        }
      ]
    },
    {
      "cell_type": "code",
      "metadata": {
        "id": "xWa1YjD4pwyy",
        "colab_type": "code",
        "colab": {}
      },
      "source": [
        ""
      ],
      "execution_count": 0,
      "outputs": []
    }
  ]
}