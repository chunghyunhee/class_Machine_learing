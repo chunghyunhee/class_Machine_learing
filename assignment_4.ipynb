{
  "nbformat": 4,
  "nbformat_minor": 0,
  "metadata": {
    "colab": {
      "name": "assignment_4.ipynb",
      "provenance": []
    },
    "kernelspec": {
      "name": "python3",
      "display_name": "Python 3"
    }
  },
  "cells": [
    {
      "cell_type": "markdown",
      "metadata": {
        "id": "tspUIn4hAgba",
        "colab_type": "text"
      },
      "source": [
        "# 1. Train, test dataset load"
      ]
    },
    {
      "cell_type": "code",
      "metadata": {
        "id": "SFRbhVbfT7F3",
        "colab_type": "code",
        "colab": {}
      },
      "source": [
        "import numpy as np"
      ],
      "execution_count": 0,
      "outputs": []
    },
    {
      "cell_type": "code",
      "metadata": {
        "id": "CYJhnmgIAa8x",
        "colab_type": "code",
        "colab": {}
      },
      "source": [
        "#파일 열어 데이터 로드, list로 X,y값을 각 저장 \n",
        "import csv\n",
        "X_train = []\n",
        "y_train = []\n",
        "\n",
        "X_test = []\n",
        "y_test = []\n",
        "\n",
        "with open('data_train.csv', newline='') as myfile:\n",
        "    reader  = csv.reader(myfile, delimiter=',')\n",
        "    ct = 1 \n",
        "    for i in reader:\n",
        "        #print('[', ct, ']', 'x =', i[0], ', y = ', i[1], ', z = ', i[2], ', h = ', i[3])\n",
        "        X_train.append([float(i[0]),float(i[1]),float(i[2])])\n",
        "        y_train.append([float(i[3])])\n",
        "        ct += 1\n",
        "\n",
        "with open('data_test.csv', newline='') as myfile:\n",
        "    reader  = csv.reader(myfile, delimiter=',')\n",
        "    ct = 1 \n",
        "    for i in reader:\n",
        "        #print('[', ct, ']', 'x =', i[0], ', y = ', i[1], ', z = ', i[2], ', h = ', i[3])\n",
        "        X_test.append([float(i[0]),float(i[1]),float(i[2])])\n",
        "        y_test.append([float(i[3])])\n",
        "        ct += 1\n"
      ],
      "execution_count": 0,
      "outputs": []
    },
    {
      "cell_type": "code",
      "metadata": {
        "id": "XXiwd_iMHDlU",
        "colab_type": "code",
        "colab": {}
      },
      "source": [
        "X_train = np.array(X_train)\n",
        "y_train = np.array(y_train)\n",
        "m_train = y_train.size\n",
        "\n",
        "X_test = np.array(X_test)\n",
        "y_test = np.array(y_test)\n",
        "m_test = y_test.size"
      ],
      "execution_count": 0,
      "outputs": []
    },
    {
      "cell_type": "code",
      "metadata": {
        "id": "HzF5nfLoILaY",
        "colab_type": "code",
        "colab": {}
      },
      "source": [
        "#X에는 1을 가지는 열을 삽입한다. (interception계산위함 )\n",
        "X_train = np.insert(X_train,0,1,axis=1)\n",
        "X_test = np.insert(X_test,0,1,axis=1)"
      ],
      "execution_count": 0,
      "outputs": []
    },
    {
      "cell_type": "code",
      "metadata": {
        "id": "ud2EwV3QR8nF",
        "colab_type": "code",
        "colab": {
          "base_uri": "https://localhost:8080/",
          "height": 36
        },
        "outputId": "1efd91f5-ce9b-4c54-9954-1769bf285763"
      },
      "source": [
        "print(X_train.shape,X_test.shape,m_train)"
      ],
      "execution_count": 76,
      "outputs": [
        {
          "output_type": "stream",
          "text": [
            "(10, 4) (300, 4) 10\n"
          ],
          "name": "stdout"
        }
      ]
    },
    {
      "cell_type": "markdown",
      "metadata": {
        "id": "7Kh9m-noBuQo",
        "colab_type": "text"
      },
      "source": [
        "# 2. Gradient descent"
      ]
    },
    {
      "cell_type": "code",
      "metadata": {
        "id": "9Z2GwY4tHWqJ",
        "colab_type": "code",
        "colab": {}
      },
      "source": [
        "# X벡터값과 theta값을 받았을 때, 도출할 수 있는 linear model\n",
        "def h(theta,X):\n",
        "  return np.dot(X,theta)"
      ],
      "execution_count": 0,
      "outputs": []
    },
    {
      "cell_type": "code",
      "metadata": {
        "id": "xV3r_gcKK5SW",
        "colab_type": "code",
        "colab": {}
      },
      "source": [
        "# Objective function\n",
        "def ObjectiveFunction(theta, X, y,m):\n",
        "  return float((1./(2*m)) * np.dot((h(theta,X)-y).T,(h(theta,X)-y)))"
      ],
      "execution_count": 0,
      "outputs": []
    },
    {
      "cell_type": "code",
      "metadata": {
        "id": "VGhzHRH1K60F",
        "colab_type": "code",
        "colab": {}
      },
      "source": [
        "# Gradient descent using Objective function\n",
        "iteration = 100 #임의로 정한 하이퍼파라미터값(GradientDescent계산시 사용할 값 미리 지정)\n",
        "alpha = 0.01\n",
        "\n",
        "def GradientDescent(X,y,theta,m):\n",
        "    #plotting위해 저장하는 history\n",
        "    J_history = [] \n",
        "    theta_history = []\n",
        "\n",
        "    #iteration\n",
        "    for i in range(iteration):\n",
        "        tmp = theta #동시에 update하기 위해선 교환하기 위한 새로운 변수가 필요\n",
        "        \n",
        "        J_history.append(ObjectiveFunction(theta,X,y,m))\n",
        "        theta_history.append(list(theta[:,0]))\n",
        "\n",
        "        #update theta\n",
        "        for j in range(len(tmp)):\n",
        "            tmp[j] = theta[j] - (alpha/m)*np.sum((h(theta,X) - y)*np.array(X[:,j]).reshape(m,1))\n",
        "        theta = tmp \n",
        "    return theta, theta_history, J_history"
      ],
      "execution_count": 0,
      "outputs": []
    },
    {
      "cell_type": "code",
      "metadata": {
        "id": "ItipzSjTLI-k",
        "colab_type": "code",
        "colab": {
          "base_uri": "https://localhost:8080/",
          "height": 92
        },
        "outputId": "69be8d32-dd5f-4d20-c2d2-a8edafdc5b19"
      },
      "source": [
        "# theta초깃값 지정\n",
        "theta = np.array([[0.],[0.],[0.],[0.]])\n",
        "theta"
      ],
      "execution_count": 86,
      "outputs": [
        {
          "output_type": "execute_result",
          "data": {
            "text/plain": [
              "array([[0.],\n",
              "       [0.],\n",
              "       [0.],\n",
              "       [0.]])"
            ]
          },
          "metadata": {
            "tags": []
          },
          "execution_count": 86
        }
      ]
    },
    {
      "cell_type": "code",
      "metadata": {
        "id": "Mbb-4gFELeKy",
        "colab_type": "code",
        "colab": {}
      },
      "source": [
        "# Gradient descent계산\n",
        "theta, theta_history, J_history = GradientDescent(X_train,y_train,theta,m_train)"
      ],
      "execution_count": 0,
      "outputs": []
    },
    {
      "cell_type": "code",
      "metadata": {
        "id": "CbaYZFpqcORU",
        "colab_type": "code",
        "colab": {}
      },
      "source": [
        "# 데이터를 적게 넣으면 overflow가 일어나지 않으나 데이터 300개를 그대로 넣으면 RuntimeError가 일어난다. 왜?"
      ],
      "execution_count": 0,
      "outputs": []
    },
    {
      "cell_type": "code",
      "metadata": {
        "id": "zI7uyIFfLnMA",
        "colab_type": "code",
        "colab": {
          "base_uri": "https://localhost:8080/",
          "height": 92
        },
        "outputId": "b982eddb-27bc-4d40-89aa-e3c0cda60a9f"
      },
      "source": [
        "theta"
      ],
      "execution_count": 88,
      "outputs": [
        {
          "output_type": "execute_result",
          "data": {
            "text/plain": [
              "array([[ 0.0079771 ],\n",
              "       [ 1.52180012],\n",
              "       [-2.67628436],\n",
              "       [ 3.36292508]])"
            ]
          },
          "metadata": {
            "tags": []
          },
          "execution_count": 88
        }
      ]
    },
    {
      "cell_type": "code",
      "metadata": {
        "id": "cwe3IvcVLrLk",
        "colab_type": "code",
        "colab": {
          "base_uri": "https://localhost:8080/",
          "height": 204
        },
        "outputId": "1501478f-6000-4e7e-a38e-496e164d5787"
      },
      "source": [
        "J_history[:10] #cost값 10개만 확인"
      ],
      "execution_count": 89,
      "outputs": [
        {
          "output_type": "execute_result",
          "data": {
            "text/plain": [
              "[1178.7068891563129,\n",
              " 401.9902655159176,\n",
              " 207.62279714460675,\n",
              " 143.68324746803935,\n",
              " 122.36491325422199,\n",
              " 113.70051667268427,\n",
              " 109.84241418825626,\n",
              " 107.51927340148274,\n",
              " 106.02636423147138,\n",
              " 104.91135990424262]"
            ]
          },
          "metadata": {
            "tags": []
          },
          "execution_count": 89
        }
      ]
    },
    {
      "cell_type": "code",
      "metadata": {
        "id": "gP4Cr4G3L2Vm",
        "colab_type": "code",
        "colab": {
          "base_uri": "https://localhost:8080/",
          "height": 284
        },
        "outputId": "9d5d39b6-46a6-4a8b-dfae-dc24c63b22fb"
      },
      "source": [
        "#plot the cost function\n",
        "import matplotlib.pyplot as plt\n",
        "%matplotlib inline\n",
        "plt.plot(range(len(J_history)),J_history,'bo')"
      ],
      "execution_count": 90,
      "outputs": [
        {
          "output_type": "execute_result",
          "data": {
            "text/plain": [
              "[<matplotlib.lines.Line2D at 0x7fe2ada94cf8>]"
            ]
          },
          "metadata": {
            "tags": []
          },
          "execution_count": 90
        },
        {
          "output_type": "display_data",
          "data": {
            "image/png": "[encoded data removed]",
            "text/plain": [
              "<Figure size 432x288 with 1 Axes>"
            ]
          },
          "metadata": {
            "tags": [],
            "needs_background": "light"
          }
        }
      ]
    },
    {
      "cell_type": "code",
      "metadata": {
        "id": "mwMvIIqgTE5V",
        "colab_type": "code",
        "colab": {}
      },
      "source": [
        "theta0_history = [] \n",
        "theta1_history = []\n",
        "theta2_history = []\n",
        "theta3_history = []\n",
        "\n",
        "for i in range(len(theta_history)):\n",
        "  theta0_history.append(theta_history[i][0])\n",
        "  theta1_history.append(theta_history[i][1])\n",
        "  theta2_history.append(theta_history[i][2])\n",
        "  theta3_history.append(theta_history[i][3])"
      ],
      "execution_count": 0,
      "outputs": []
    },
    {
      "cell_type": "code",
      "metadata": {
        "id": "PDdzapR1cp5L",
        "colab_type": "code",
        "colab": {
          "base_uri": "https://localhost:8080/",
          "height": 284
        },
        "outputId": "5b0cc8a2-f7a3-4b1f-d0f4-7420ad10aaa2"
      },
      "source": [
        "#plotting each parameter(theta0, theta1)\n",
        "# 주의할 점은 각 theta별로 분리해서 plotting 해줘야 한다는 점. \n",
        "plt.plot(theta0_history,'ro') #theta0 값\n",
        "plt.plot(theta1_history,'bo') #theta1 값\n",
        "plt.plot(theta2_history,'ko') #theta2 값\n",
        "plt.plot(theta3_history,'yo') #theta3 값"
      ],
      "execution_count": 94,
      "outputs": [
        {
          "output_type": "execute_result",
          "data": {
            "text/plain": [
              "[<matplotlib.lines.Line2D at 0x7fe2adabcda0>]"
            ]
          },
          "metadata": {
            "tags": []
          },
          "execution_count": 94
        },
        {
          "output_type": "display_data",
          "data": {
            "image/png": "[encoded data removed]",
            "text/plain": [
              "<Figure size 432x288 with 1 Axes>"
            ]
          },
          "metadata": {
            "tags": [],
            "needs_background": "light"
          }
        }
      ]
    },
    {
      "cell_type": "markdown",
      "metadata": {
        "id": "NHRMx0H8dIt_",
        "colab_type": "text"
      },
      "source": [
        "# 3. Plotting the testing error\n",
        "- train set으로 학습시켰던 theta값들을 적용하고 X_train값만을 train을 사용하는 경우\n",
        "- theta값을 그대로 적용하되 X_test, y_test만 바꿔서 새로운 cost값을 생성해야 한다. "
      ]
    },
    {
      "cell_type": "code",
      "metadata": {
        "id": "h2VmdnNvcxgm",
        "colab_type": "code",
        "colab": {}
      },
      "source": [
        "cost_test=[]\n",
        "for i in range(iteration):\n",
        "  theta = np.transpose(np.array([theta_history[i]]))\n",
        "  cost_test.append(ObjectiveFunction(theta,X_test,y_test,m_test))"
      ],
      "execution_count": 0,
      "outputs": []
    },
    {
      "cell_type": "code",
      "metadata": {
        "id": "U4QORsnjeNeh",
        "colab_type": "code",
        "colab": {
          "base_uri": "https://localhost:8080/",
          "height": 285
        },
        "outputId": "90ae2833-941a-4874-989f-70ac519f9a62"
      },
      "source": [
        "#plotting the cost function of test data along iteration\n",
        "plt.plot(range(len(cost_test)),cost_test,'bo')"
      ],
      "execution_count": 104,
      "outputs": [
        {
          "output_type": "execute_result",
          "data": {
            "text/plain": [
              "[<matplotlib.lines.Line2D at 0x7fe2ab07b160>]"
            ]
          },
          "metadata": {
            "tags": []
          },
          "execution_count": 104
        },
        {
          "output_type": "display_data",
          "data": {
            "image/png": "[encoded data removed]",
            "text/plain": [
              "<Figure size 432x288 with 1 Axes>"
            ]
          },
          "metadata": {
            "tags": [],
            "needs_background": "light"
          }
        }
      ]
    },
    {
      "cell_type": "code",
      "metadata": {
        "id": "vu6q4l3KeSre",
        "colab_type": "code",
        "colab": {}
      },
      "source": [
        ""
      ],
      "execution_count": 0,
      "outputs": []
    }
  ]
}