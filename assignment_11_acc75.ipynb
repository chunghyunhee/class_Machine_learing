{
  "nbformat": 4,
  "nbformat_minor": 0,
  "metadata": {
    "colab": {
      "name": "assignment_11.ipynb",
      "provenance": []
    },
    "kernelspec": {
      "name": "python3",
      "display_name": "Python 3"
    }
  },
  "cells": [
    {
      "cell_type": "markdown",
      "metadata": {
        "id": "Yodd9EqUIy5s",
        "colab_type": "text"
      },
      "source": [
        "## codes for data processing for input data\n",
        "- input : dictionary의 형태에 해당(즉 벡터형태)\n",
        "- 단, 예외적으로 긍/부정에 상관없이 나오는 단어들(즉 모든 dataset에 uniform하게 나오는 단어들)은 제거\n",
        "- 모든 document에 극소하게 나오는 단어도 제외 \n",
        "- **dictionary를 reference로 사용하여 주어진 document에 해당 단어가 몇 번이나 나오는지(frequency)를 가지고 하나의 벡터를 생성한다 = input 형태**"
      ]
    },
    {
      "cell_type": "code",
      "metadata": {
        "id": "UeRclHLDIyUG",
        "colab_type": "code",
        "colab": {
          "base_uri": "https://localhost:8080/",
          "height": 92
        },
        "outputId": "1f3709dd-e12c-473e-d83f-5f9a644a5e66"
      },
      "source": [
        "import numpy as np\n",
        "import re\n",
        "import nltk\n",
        "from sklearn.datasets import load_files\n",
        "nltk.download('stopwords')\n",
        "nltk.download('wordnet')\n",
        "import pickle\n",
        "from nltk.corpus import stopwords\n",
        "from nltk.stem import WordNetLemmatizer\n",
        "from sklearn.feature_extraction.text import CountVectorizer\n",
        "from sklearn.feature_extraction.text import TfidfTransformer\n",
        "from sklearn.model_selection import train_test_split"
      ],
      "execution_count": 1,
      "outputs": [
        {
          "output_type": "stream",
          "text": [
            "[nltk_data] Downloading package stopwords to /root/nltk_data...\n",
            "[nltk_data]   Unzipping corpora/stopwords.zip.\n",
            "[nltk_data] Downloading package wordnet to /root/nltk_data...\n",
            "[nltk_data]   Unzipping corpora/wordnet.zip.\n"
          ],
          "name": "stdout"
        }
      ]
    },
    {
      "cell_type": "code",
      "metadata": {
        "id": "cAwH91G42z3o",
        "colab_type": "code",
        "colab": {
          "base_uri": "https://localhost:8080/",
          "height": 131
        },
        "outputId": "93da4dd1-ef65-4032-c9f9-b8fce3fdff0e"
      },
      "source": [
        "from google.colab import drive \n",
        "drive.mount('/content/gdrive/')"
      ],
      "execution_count": 3,
      "outputs": [
        {
          "output_type": "stream",
          "text": [
            "Go to this URL in a browser: https://accounts.google.com/o/oauth2/auth?client_id=947318989803-6bn6qk8qdgf4n4g3pfee6491hc0brc4i.apps.googleusercontent.com&redirect_uri=urn%3aietf%3awg%3aoauth%3a2.0%3aoob&response_type=code&scope=email%20https%3a%2f%2fwww.googleapis.com%2fauth%2fdocs.test%20https%3a%2f%2fwww.googleapis.com%2fauth%2fdrive%20https%3a%2f%2fwww.googleapis.com%2fauth%2fdrive.photos.readonly%20https%3a%2f%2fwww.googleapis.com%2fauth%2fpeopleapi.readonly\n",
            "\n",
            "Enter your authorization code:\n",
            "··········\n",
            "Mounted at /content/gdrive/\n"
          ],
          "name": "stdout"
        }
      ]
    },
    {
      "cell_type": "code",
      "metadata": {
        "id": "TYzufashva6T",
        "colab_type": "code",
        "colab": {}
      },
      "source": [
        "review_data = load_files(r\"/content/gdrive/My Drive/Colab Notebooks/movie_review\",categories=['pos','neg'])"
      ],
      "execution_count": 4,
      "outputs": []
    },
    {
      "cell_type": "code",
      "metadata": {
        "id": "RWvUQQE6KWT_",
        "colab_type": "code",
        "colab": {}
      },
      "source": [
        "X,y = review_data.data, review_data.target # 해당 feature이 될 데이터와 neg,pos값"
      ],
      "execution_count": 5,
      "outputs": []
    },
    {
      "cell_type": "code",
      "metadata": {
        "id": "6LdHykdaKemQ",
        "colab_type": "code",
        "colab": {}
      },
      "source": [
        "#X # 문장형태로 된 feature"
      ],
      "execution_count": 6,
      "outputs": []
    },
    {
      "cell_type": "code",
      "metadata": {
        "id": "2OkiOWt6KfzK",
        "colab_type": "code",
        "colab": {
          "base_uri": "https://localhost:8080/",
          "height": 36
        },
        "outputId": "3aae6239-eb60-4e74-d622-f20d841f3c7a"
      },
      "source": [
        "y[:10] # 1,0형태 "
      ],
      "execution_count": 7,
      "outputs": [
        {
          "output_type": "execute_result",
          "data": {
            "text/plain": [
              "array([0, 1, 1, 0, 1, 1, 1, 1, 1, 0])"
            ]
          },
          "metadata": {
            "tags": []
          },
          "execution_count": 7
        }
      ]
    },
    {
      "cell_type": "code",
      "metadata": {
        "id": "gqVGEdWBLCd0",
        "colab_type": "code",
        "colab": {}
      },
      "source": [
        "documents = []"
      ],
      "execution_count": 8,
      "outputs": []
    },
    {
      "cell_type": "code",
      "metadata": {
        "id": "cPOYkOkTLIFd",
        "colab_type": "code",
        "colab": {}
      },
      "source": [
        "stemmer = WordNetLemmatizer() # 표제어 추출하는 객체 "
      ],
      "execution_count": 9,
      "outputs": []
    },
    {
      "cell_type": "code",
      "metadata": {
        "id": "jfH46OiiLK2K",
        "colab_type": "code",
        "colab": {}
      },
      "source": [
        "for sen in range(0, len(X)):\n",
        "  # 긍, 부정에 영향을 주지 않는 단어 삭제 \n",
        "  # remove all the special character\n",
        "  document = re.sub(r'\\W',' ', str(X[sen]))\n",
        "  # remove all single characters\n",
        "  document = re.sub(r's+[a-zA-Z]\\s+',' ',document);\n",
        "  # remove single characters from the start\n",
        "  document = re.sub(r'\\^[a-zA-Z]\\s+', ' ', document) \n",
        "  # substituting multiple spaces with single space\n",
        "  document = re.sub(r'\\s+', ' ', document, flags=re.I)\n",
        "  # removing prefixed 'b'\n",
        "  document = re.sub(r'^b\\s+', '', document)\n",
        "  # converting to LowerCase\n",
        "  document = document.lower()\n",
        "\n",
        "  # Lemmatization(표제어 추출)\n",
        "  document = document.split()\n",
        "  document = [stemmer.lemmatize(word) for word in document]\n",
        "  document = ' '.join(document)\n",
        "\n",
        "  documents.append(document) # 필요없는 형태 제거와 표제어 추출 결과를 리스트에 저장"
      ],
      "execution_count": 10,
      "outputs": []
    },
    {
      "cell_type": "code",
      "metadata": {
        "id": "gQyacrHRM8WN",
        "colab_type": "code",
        "colab": {}
      },
      "source": [
        "# CountVectorizer : 단어 토큰 생성, 각 단어의 수를 세어 BOW 인코딩한 벡터 생성 \n",
        "vectorizer = CountVectorizer(max_features=1500, min_df=5, max_df=0.7, stop_words=stopwords.words('english'))"
      ],
      "execution_count": 244,
      "outputs": []
    },
    {
      "cell_type": "code",
      "metadata": {
        "id": "03_WOHcUNMlC",
        "colab_type": "code",
        "colab": {}
      },
      "source": [
        "X = vectorizer.fit_transform(documents).toarray()"
      ],
      "execution_count": 245,
      "outputs": []
    },
    {
      "cell_type": "code",
      "metadata": {
        "id": "u5I6uXdeNvA0",
        "colab_type": "code",
        "colab": {
          "base_uri": "https://localhost:8080/",
          "height": 36
        },
        "outputId": "2ae9ba39-5ca6-4491-a6a5-393791a02b8a"
      },
      "source": [
        "X.shape # 1000개의 문서에서  단어 딕셔너리 reference생성 "
      ],
      "execution_count": 246,
      "outputs": [
        {
          "output_type": "execute_result",
          "data": {
            "text/plain": [
              "(2000, 1500)"
            ]
          },
          "metadata": {
            "tags": []
          },
          "execution_count": 246
        }
      ]
    },
    {
      "cell_type": "code",
      "metadata": {
        "id": "1_PN2U6cNxjp",
        "colab_type": "code",
        "colab": {}
      },
      "source": [
        "# TfidfTransformer : CountVectorizer와 비슷하나, TF-IDF 방식으로 단어의 가중치 조정 \n",
        "tfidfconverter = TfidfTransformer()\n",
        "X = tfidfconverter.fit_transform(X).toarray()"
      ],
      "execution_count": 247,
      "outputs": []
    },
    {
      "cell_type": "code",
      "metadata": {
        "id": "IgIlx3aqOL0-",
        "colab_type": "code",
        "colab": {}
      },
      "source": [
        "X_train, X_test, y_train, y_test = train_test_split(X, y, test_size=0.3, shuffle=False)"
      ],
      "execution_count": 248,
      "outputs": []
    },
    {
      "cell_type": "code",
      "metadata": {
        "id": "RuSMw2UuqT1e",
        "colab_type": "code",
        "colab": {
          "base_uri": "https://localhost:8080/",
          "height": 36
        },
        "outputId": "765535f5-2d24-45be-9fbe-28333f14a6f7"
      },
      "source": [
        "y_train"
      ],
      "execution_count": 249,
      "outputs": [
        {
          "output_type": "execute_result",
          "data": {
            "text/plain": [
              "array([0, 1, 1, ..., 0, 1, 1])"
            ]
          },
          "metadata": {
            "tags": []
          },
          "execution_count": 249
        }
      ]
    },
    {
      "cell_type": "code",
      "metadata": {
        "id": "u2ehH-Kr6pov",
        "colab_type": "code",
        "colab": {}
      },
      "source": [
        "#y_train = y_train.reshape(y_train.shape[0],1)\n",
        "#y_test = y_test.reshape(y_test.shape[0],1)"
      ],
      "execution_count": 250,
      "outputs": []
    },
    {
      "cell_type": "code",
      "metadata": {
        "id": "Z_WArirbOSMs",
        "colab_type": "code",
        "colab": {
          "base_uri": "https://localhost:8080/",
          "height": 36
        },
        "outputId": "362cddb2-4b0f-45f4-c465-4499ce942565"
      },
      "source": [
        "print(X_train.shape, X_test.shape, y_train.shape, y_test.shape)"
      ],
      "execution_count": 251,
      "outputs": [
        {
          "output_type": "stream",
          "text": [
            "(1400, 1500) (600, 1500) (1400,) (600,)\n"
          ],
          "name": "stdout"
        }
      ]
    },
    {
      "cell_type": "markdown",
      "metadata": {
        "id": "AsGS2IUZOSy4",
        "colab_type": "text"
      },
      "source": [
        "## training(Optimization)"
      ]
    },
    {
      "cell_type": "code",
      "metadata": {
        "id": "NRO9aSeEOOEN",
        "colab_type": "code",
        "colab": {}
      },
      "source": [
        "# h, sigmoid함수 정의 \n",
        "# activation function으로 sigmoid를 사용할 예정에 있음 \n",
        "def h(theta,X):\n",
        "  return np.dot(X,theta)\n",
        "\n",
        "def sigmoid(x):\n",
        "  return 1 / (1 + np.exp(-x))\n",
        "\n",
        "# 미분한 sigmoid식\n",
        "def Dsigmoid(x):\n",
        "  return sigmoid(x)*(1-sigmoid(x))"
      ],
      "execution_count": 252,
      "outputs": []
    },
    {
      "cell_type": "code",
      "metadata": {
        "id": "TZRc6kdJPCkO",
        "colab_type": "code",
        "colab": {}
      },
      "source": [
        "# 순전파 함수\n",
        "# 여기서의 theta는 각 layer별로 해당하는 theta를 전부 포함한 list에 해당한다. \n",
        "def Forward(image, theta_vector):\n",
        "    z_each_layer = []\n",
        "\n",
        "    # theta의 수대로 반복하고, 그에따라 각각 저장해야 한다. \n",
        "    for i in range(len(theta_vector)):\n",
        "      image = add_bias(image)\n",
        "      theta = theta_vector[i]\n",
        "      z = np.dot(image, theta)\n",
        "      a = sigmoid(z)\n",
        "      z_each_layer.append(a) # z와 a값 모두 저장한다\n",
        "      image = a\n",
        "\n",
        "    return z_each_layer"
      ],
      "execution_count": 253,
      "outputs": []
    },
    {
      "cell_type": "code",
      "metadata": {
        "id": "DGbdUiIUT1hT",
        "colab_type": "code",
        "colab": {}
      },
      "source": [
        "# label의 원핫인코딩을 위한 함수 \n",
        "def onehotencoding(label):\n",
        "  unique = np.unique(label)\n",
        "  m = label.shape[0]\n",
        "  n = unique.shape[0]\n",
        "  empty = np.zeros((m, n))\n",
        "\n",
        "  for i in range(m):\n",
        "    for j in range(n):\n",
        "      if label[i] == unique[j]:\n",
        "        empty[i, j] = 1\n",
        "  \n",
        "  return empty"
      ],
      "execution_count": 254,
      "outputs": []
    },
    {
      "cell_type": "code",
      "metadata": {
        "id": "o8RHdcOePID3",
        "colab_type": "code",
        "colab": {}
      },
      "source": [
        "# Objective function에 대한 정의 \n",
        "# regularization term추가 (L의 값은 lambda에 해당한다)\n",
        "def ObjectiveFunction(image, theta_vector,label_list,L ):\n",
        "  h = Forward(image, theta_vector) # 순전파로 계산한 값의 h(각 layer별로 a값을 출력한다. )\n",
        "  sigmoid_value = [h[0], h[1], h[2]]\n",
        "  output_layer = sigmoid_value[-1] # 마지막 h[2]가 결국은 output layer에 해당한다. \n",
        "  n = len(theta_vector)# theta의 수에 해당한다, \n",
        "  # m = image.shape[0] # 이부분 식 수정해야 하는지 확인하기 \n",
        "\n",
        "  # cost function에 대해 regularization term을 추가한다. \n",
        "  reg_value = 0\n",
        "  for theta in range(len(theta_vector)): \n",
        "    reg_value += np.sum(theta*theta)\n",
        "  reg_value *= float(L)/(2*n) # m으로 바꿔야 하는지 확인하기 \n",
        "   \n",
        "  cost = -np.mean(np.sum(label_list*np.log(output_layer) + (1 - label_list)*np.log(1 - output_layer), axis=1)) #해당 J(theta)값\n",
        "  \n",
        "  return cost+reg_value, sigmoid_value"
      ],
      "execution_count": 255,
      "outputs": []
    },
    {
      "cell_type": "code",
      "metadata": {
        "id": "9vdDR1S4b9PZ",
        "colab_type": "code",
        "colab": {}
      },
      "source": [
        "#def predict(output_layer):\n",
        "#  predict_label = np.where(output_layer > 0.5, 1 , 0)\n",
        "#  return predict_label"
      ],
      "execution_count": 256,
      "outputs": []
    },
    {
      "cell_type": "code",
      "metadata": {
        "id": "9FNWjKZ2mPWD",
        "colab_type": "code",
        "colab": {}
      },
      "source": [
        "def predict(output_layer):\n",
        "  predict_label = np.argmax(output_layer, axis=1)\n",
        "  return predict_label"
      ],
      "execution_count": 257,
      "outputs": []
    },
    {
      "cell_type": "code",
      "metadata": {
        "id": "btAhabkRPSNV",
        "colab_type": "code",
        "colab": {}
      },
      "source": [
        "# accuracy\n",
        "def accuracy(pred, true):\n",
        "  acc = np.mean(pred == true)\n",
        "  return acc"
      ],
      "execution_count": 258,
      "outputs": []
    },
    {
      "cell_type": "code",
      "metadata": {
        "id": "4Id2rnVFPUFY",
        "colab_type": "code",
        "colab": {}
      },
      "source": [
        "# bias 추가 \n",
        "def add_bias(image):\n",
        "  m = image.shape[0]\n",
        "  temp = np.column_stack((np.ones((m, 1)), image))\n",
        "  return temp"
      ],
      "execution_count": 259,
      "outputs": []
    },
    {
      "cell_type": "code",
      "metadata": {
        "id": "PYKb67DePZKl",
        "colab_type": "code",
        "colab": {}
      },
      "source": [
        "# 역전파 함수 수정 \n",
        "def Back(image, theta_list, onehot, sigmoid_list):\n",
        "  m = image.shape[0]\n",
        "  delta4 = sigmoid_list[2] - onehot\n",
        "  delta3 = np.dot(delta4, theta_list[2][1:, :].T)*sigmoid_list[1]*(1-sigmoid_list[1])\n",
        "  delta2 = np.dot(delta3, theta_list[1][1:, :].T)*sigmoid_list[0]*(1-sigmoid_list[0])\n",
        "\n",
        "  add_bias_term3 = add_bias(sigmoid_list[1])\n",
        "  add_bias_term2 = add_bias(sigmoid_list[0])\n",
        "  add_bias_term1 = add_bias(image)\n",
        "  \n",
        "  gradient3 = np.dot(add_bias_term3.T, delta4) / m\n",
        "  gradient2 = np.dot(add_bias_term2.T, delta3) / m\n",
        "  gradient1 = np.dot(add_bias_term1.T, delta2) / m\n",
        "  gradient_list = [gradient1, gradient2, gradient3]\n",
        "\n",
        "  return gradient_list"
      ],
      "execution_count": 260,
      "outputs": []
    },
    {
      "cell_type": "code",
      "metadata": {
        "id": "AN6YYvVSPkSy",
        "colab_type": "code",
        "colab": {
          "base_uri": "https://localhost:8080/",
          "height": 36
        },
        "outputId": "de21e5e6-2063-4457-f222-28d0e078c363"
      },
      "source": [
        "y_train.shape"
      ],
      "execution_count": 261,
      "outputs": [
        {
          "output_type": "execute_result",
          "data": {
            "text/plain": [
              "(1400,)"
            ]
          },
          "metadata": {
            "tags": []
          },
          "execution_count": 261
        }
      ]
    },
    {
      "cell_type": "code",
      "metadata": {
        "id": "c_d7X74ArFLA",
        "colab_type": "code",
        "colab": {}
      },
      "source": [
        "y_train_one = onehotencoding(y_train)\n",
        "y_test_one = onehotencoding(y_test)"
      ],
      "execution_count": 262,
      "outputs": []
    },
    {
      "cell_type": "code",
      "metadata": {
        "id": "DMQP_lIzrOxd",
        "colab_type": "code",
        "colab": {
          "base_uri": "https://localhost:8080/",
          "height": 36
        },
        "outputId": "88d47294-5b1f-485c-90e5-f4aff1f6a12b"
      },
      "source": [
        "y_train"
      ],
      "execution_count": 263,
      "outputs": [
        {
          "output_type": "execute_result",
          "data": {
            "text/plain": [
              "array([0, 1, 1, ..., 0, 1, 1])"
            ]
          },
          "metadata": {
            "tags": []
          },
          "execution_count": 263
        }
      ]
    },
    {
      "cell_type": "code",
      "metadata": {
        "id": "9gmRW7GIrx-b",
        "colab_type": "code",
        "colab": {
          "base_uri": "https://localhost:8080/",
          "height": 148
        },
        "outputId": "82e15ac4-77ec-4b00-f280-134bb20d6792"
      },
      "source": [
        "y_train_one"
      ],
      "execution_count": 264,
      "outputs": [
        {
          "output_type": "execute_result",
          "data": {
            "text/plain": [
              "array([[1., 0.],\n",
              "       [0., 1.],\n",
              "       [0., 1.],\n",
              "       ...,\n",
              "       [1., 0.],\n",
              "       [0., 1.],\n",
              "       [0., 1.]])"
            ]
          },
          "metadata": {
            "tags": []
          },
          "execution_count": 264
        }
      ]
    },
    {
      "cell_type": "code",
      "metadata": {
        "id": "-EYZ_RoqPtTI",
        "colab_type": "code",
        "colab": {}
      },
      "source": [
        "# 먼저 theta의 행렬의 형태에 대한 정의가 필요하다.  \n",
        "# 랜덤으로 정한 theta (U,V,W)에 해당 \n",
        "np.random.seed(20180378)\n",
        "\n",
        "# 파라미터 수를 늘리므로 더작은 std의 N(0,1)에서 랜덤값 뽑을 것임 initializer수정\n",
        "theta1 = np.random.randn(1501, 99) \n",
        "theta2 = np.random.randn(100, 99)\n",
        "theta3 = np.random.randn(100, 2)\n",
        "\n",
        "\n",
        "\n",
        "# 정한 theta들의 리스트\n",
        "theta_vector = [theta1, theta2, theta3]\n",
        "train_cost_value_list = []\n",
        "test_cost_value_list = []\n",
        "train_accuracy_list = []\n",
        "test_accuracy_list = []"
      ],
      "execution_count": 268,
      "outputs": []
    },
    {
      "cell_type": "code",
      "metadata": {
        "id": "fcjnux6yQGYk",
        "colab_type": "code",
        "colab": {}
      },
      "source": [
        "# hyperparameter값 (튜닝예정 )\n",
        "iteration = 5000\n",
        "learning_rate = 0.35\n",
        "L = 2000 # reg term의 lambda값"
      ],
      "execution_count": 269,
      "outputs": []
    },
    {
      "cell_type": "code",
      "metadata": {
        "id": "2XjPrg-RQLQq",
        "colab_type": "code",
        "colab": {
          "base_uri": "https://localhost:8080/",
          "height": 1000
        },
        "outputId": "8e0cd8a7-91d9-4ff4-9b5a-3e8f985d3733"
      },
      "source": [
        "for iter in range(iteration):\n",
        "\n",
        "  # compute cost\n",
        "  train_cost_value, train_sigmoid_value = ObjectiveFunction(X_train, theta_vector, y_train_one, L)\n",
        "  test_cost_value, test_sigmoid_value = ObjectiveFunction(X_test, theta_vector, y_test_one, L)\n",
        "  # predict the final label \n",
        "  train_predict_label = predict(train_sigmoid_value[-1])\n",
        "  test_predict_label = predict(test_sigmoid_value[-1])\n",
        " \n",
        "  # compute accuracy\n",
        "  train_accuracy = accuracy(train_predict_label, y_train)\n",
        "  test_accuracy = accuracy(test_predict_label, y_test)\n",
        "  gradient = Back(X_train, theta_vector, y_train_one, train_sigmoid_value)\n",
        "\n",
        "  # append\n",
        "  train_cost_value_list.append(train_cost_value)\n",
        "  test_cost_value_list.append(test_cost_value)\n",
        "  train_accuracy_list.append(train_accuracy)\n",
        "  test_accuracy_list.append(test_accuracy)\n",
        "  if iter > 300 :\n",
        "    learning_rate = 0.2\n",
        "  elif iter > 800 :\n",
        "    learning_rate = 0.1\n",
        "  # theta update \n",
        "  for i in range(len(theta_vector)):\n",
        "    theta_vector[i] = theta_vector[i] - learning_rate * gradient[i]\n",
        "  \n",
        "  # update되는 cost, sccuracy값 확인하기 \n",
        "  if(iter%50 == 0):\n",
        "    print(\"train:\",train_cost_value, train_accuracy )\n",
        "    print(\"test :\", test_cost_value, test_accuracy) "
      ],
      "execution_count": 270,
      "outputs": [
        {
          "output_type": "stream",
          "text": [
            "train: 1668.5399369150189 0.5257142857142857\n",
            "test : 1668.5384875644697 0.495\n",
            "train: 1669.2535971225407 0.5014285714285714\n",
            "test : 1669.3311524928074 0.49666666666666665\n",
            "train: 1668.7941402942213 0.5014285714285714\n",
            "test : 1668.8659687425202 0.49666666666666665\n",
            "train: 1668.561765149782 0.5021428571428571\n",
            "test : 1668.6415708082736 0.49666666666666665\n",
            "train: 1668.473067912902 0.5028571428571429\n",
            "test : 1668.5663562940535 0.49666666666666665\n",
            "train: 1668.4039455270195 0.5035714285714286\n",
            "test : 1668.5126662408138 0.49833333333333335\n",
            "train: 1668.3485198785766 0.5042857142857143\n",
            "test : 1668.47325153834 0.5016666666666667\n",
            "train: 1667.8746243852097 0.6971428571428572\n",
            "test : 1668.0424131593043 0.5883333333333334\n",
            "train: 1667.848163099845 0.7057142857142857\n",
            "test : 1668.0370688093494 0.5966666666666667\n",
            "train: 1667.823904002794 0.71\n",
            "test : 1668.0312356376435 0.595\n",
            "train: 1667.8003264074239 0.7192857142857143\n",
            "test : 1668.0255465133987 0.6083333333333333\n",
            "train: 1667.7768623488687 0.7278571428571429\n",
            "test : 1668.0201751121187 0.6166666666666667\n",
            "train: 1667.7532571313593 0.7357142857142858\n",
            "test : 1668.0152819964242 0.615\n",
            "train: 1667.729396178187 0.7428571428571429\n",
            "test : 1668.011043626285 0.6183333333333333\n",
            "train: 1667.7052723980441 0.75\n",
            "test : 1668.007566316506 0.625\n",
            "train: 1667.68098317352 0.7628571428571429\n",
            "test : 1668.0047751866698 0.6233333333333333\n",
            "train: 1667.6566637268365 0.7707142857142857\n",
            "test : 1668.002456466281 0.6316666666666667\n",
            "train: 1667.6323967441422 0.7792857142857142\n",
            "test : 1668.000414109038 0.6316666666666667\n",
            "train: 1667.6082121988327 0.7878571428571428\n",
            "test : 1667.9985300609287 0.64\n",
            "train: 1667.5841282957422 0.7935714285714286\n",
            "test : 1667.9967539908348 0.645\n",
            "train: 1667.5601650571466 0.8064285714285714\n",
            "test : 1667.9950924179843 0.6516666666666666\n",
            "train: 1667.5363382660198 0.8114285714285714\n",
            "test : 1667.9935882785383 0.6533333333333333\n",
            "train: 1667.512655537303 0.8207142857142857\n",
            "test : 1667.992294017903 0.6533333333333333\n",
            "train: 1667.4891200587053 0.8307142857142857\n",
            "test : 1667.9912540425269 0.6566666666666666\n",
            "train: 1667.4657362315559 0.8392857142857143\n",
            "test : 1667.9904998646675 0.6633333333333333\n",
            "train: 1667.442512628275 0.8442857142857143\n",
            "test : 1667.9900520641843 0.6683333333333333\n",
            "train: 1667.4194621798686 0.8492857142857143\n",
            "test : 1667.9899238506246 0.6716666666666666\n",
            "train: 1667.3966011136017 0.8578571428571429\n",
            "test : 1667.9901240880959 0.675\n",
            "train: 1667.3739477067954 0.865\n",
            "test : 1667.990659363666 0.6783333333333333\n",
            "train: 1667.3515212444431 0.8714285714285714\n",
            "test : 1667.9915352188834 0.685\n",
            "train: 1667.329341232785 0.8764285714285714\n",
            "test : 1667.9927567540153 0.69\n",
            "train: 1667.3074268372204 0.8828571428571429\n",
            "test : 1667.9943288016957 0.6933333333333334\n",
            "train: 1667.2857965182473 0.8892857142857142\n",
            "test : 1667.996255848289 0.695\n",
            "train: 1667.2644678467639 0.8914285714285715\n",
            "test : 1667.9985418633366 0.6983333333333334\n",
            "train: 1667.2434574694307 0.8978571428571429\n",
            "test : 1668.0011901633748 0.7033333333333334\n",
            "train: 1667.2227811779132 0.9035714285714286\n",
            "test : 1668.0042033802736 0.705\n",
            "train: 1667.202454028307 0.9057142857142857\n",
            "test : 1668.007583540578 0.705\n",
            "train: 1667.1824904629227 0.91\n",
            "test : 1668.0113322136813 0.705\n",
            "train: 1667.1629044003685 0.9142857142857143\n",
            "test : 1668.015450665364 0.7083333333333334\n",
            "train: 1667.1437092751808 0.9164285714285715\n",
            "test : 1668.0199399564283 0.7083333333333334\n",
            "train: 1667.1249180224527 0.9171428571428571\n",
            "test : 1668.024800944196 0.7133333333333334\n",
            "train: 1667.1065430153453 0.9207142857142857\n",
            "test : 1668.0300341694851 0.7133333333333334\n",
            "train: 1667.088595972664 0.925\n",
            "test : 1668.0356396381608 0.7183333333333334\n",
            "train: 1667.0710878575535 0.9271428571428572\n",
            "test : 1668.0416165296735 0.7233333333333334\n",
            "train: 1667.054028785786 0.9314285714285714\n",
            "test : 1668.0479628801259 0.7233333333333334\n",
            "train: 1667.0374279545922 0.9385714285714286\n",
            "test : 1668.0546752912226 0.725\n",
            "train: 1667.0212935940654 0.9435714285714286\n",
            "test : 1668.0617487094837 0.725\n",
            "train: 1667.0056329363003 0.9457142857142857\n",
            "test : 1668.0691763057928 0.7266666666666667\n",
            "train: 1666.9904521945068 0.9514285714285714\n",
            "test : 1668.0769494678318 0.7283333333333334\n",
            "train: 1666.9757565450855 0.9528571428571428\n",
            "test : 1668.0850579003913 0.73\n",
            "train: 1666.9615501084177 0.9557142857142857\n",
            "test : 1668.093489812984 0.7316666666666667\n",
            "train: 1666.947835926635 0.9578571428571429\n",
            "test : 1668.1022321622538 0.735\n",
            "train: 1666.9346159374902 0.9614285714285714\n",
            "test : 1668.111270910037 0.7366666666666667\n",
            "train: 1666.9218909425995 0.9621428571428572\n",
            "test : 1668.1205912580883 0.7366666666666667\n",
            "train: 1666.9096605672398 0.9642857142857143\n",
            "test : 1668.1301778282093 0.7416666666666667\n",
            "train: 1666.8979232095642 0.9678571428571429\n",
            "test : 1668.140014771011 0.7466666666666667\n",
            "train: 1666.8866759807454 0.97\n",
            "test : 1668.15008580509 0.7466666666666667\n",
            "train: 1666.875914643485 0.9721428571428572\n",
            "test : 1668.1603742063387 0.75\n",
            "train: 1666.8656335619244 0.9764285714285714\n",
            "test : 1668.1708627789415 0.7533333333333333\n",
            "train: 1666.855825677976 0.9792857142857143\n",
            "test : 1668.181533841203 0.7583333333333333\n",
            "train: 1666.8464825256594 0.9828571428571429\n",
            "test : 1668.192369250358 0.7566666666666667\n",
            "train: 1666.8375942872412 0.985\n",
            "test : 1668.2033504751619 0.7566666666666667\n",
            "train: 1666.82914988636 0.9878571428571429\n",
            "test : 1668.2144587101013 0.755\n",
            "train: 1666.8211371075713 0.99\n",
            "test : 1668.2256750161025 0.755\n",
            "train: 1666.8135427306809 0.9914285714285714\n",
            "test : 1668.236980471283 0.7533333333333333\n",
            "train: 1666.8063526710514 0.9928571428571429\n",
            "test : 1668.2483563194714 0.7566666666666667\n",
            "train: 1666.7995521213966 0.9942857142857143\n",
            "test : 1668.2597841101099 0.7566666666666667\n",
            "train: 1666.79312569411 0.9942857142857143\n",
            "test : 1668.2712458277529 0.755\n",
            "train: 1666.7870575647007 0.9942857142857143\n",
            "test : 1668.2827240115491 0.755\n",
            "train: 1666.7813316164536 0.995\n",
            "test : 1668.2942018652304 0.755\n",
            "train: 1666.775931584888 0.9957142857142857\n",
            "test : 1668.3056633572926 0.755\n",
            "train: 1666.7708411989581 0.9957142857142857\n",
            "test : 1668.3170933101612 0.7566666666666667\n",
            "train: 1666.7660443149798 0.9957142857142857\n",
            "test : 1668.3284774766526 0.7566666666666667\n",
            "train: 1666.7615250392153 0.9964285714285714\n",
            "test : 1668.3398026020582 0.7566666666666667\n",
            "train: 1666.7572678357944 0.9978571428571429\n",
            "test : 1668.351056470543 0.7566666666666667\n",
            "train: 1666.7532576178442 0.9985714285714286\n",
            "test : 1668.3622279351048 0.7566666666666667\n",
            "train: 1666.7494798209866 0.9985714285714286\n",
            "test : 1668.3733069309685 0.7583333333333333\n",
            "train: 1666.7459204595048 0.9985714285714286\n",
            "test : 1668.3842844728954 0.7566666666666667\n",
            "train: 1666.7425661663133 0.9992857142857143\n",
            "test : 1668.3951526374665 0.7566666666666667\n",
            "train: 1666.7394042184121 1.0\n",
            "test : 1668.4059045318945 0.7566666666666667\n",
            "train: 1666.7364225497572 1.0\n",
            "test : 1668.4165342512997 0.7566666666666667\n",
            "train: 1666.733609753542 1.0\n",
            "test : 1668.4270368266393 0.7566666666666667\n",
            "train: 1666.7309550758132 1.0\n",
            "test : 1668.4374081655906 0.755\n",
            "train: 1666.7284484021773 1.0\n",
            "test : 1668.4476449886438 0.7566666666666667\n",
            "train: 1666.7260802391686 1.0\n",
            "test : 1668.457744762519 0.7566666666666667\n",
            "train: 1666.7238416916346 1.0\n",
            "test : 1668.4677056327664 0.7566666666666667\n",
            "train: 1666.7217244372932 1.0\n",
            "test : 1668.4775263571287 0.7583333333333333\n",
            "train: 1666.719720699428 1.0\n",
            "test : 1668.4872062409158 0.7583333333333333\n",
            "train: 1666.7178232185106 1.0\n",
            "test : 1668.496745075352 0.7583333333333333\n",
            "train: 1666.7160252233907 1.0\n",
            "test : 1668.5061430795545 0.7583333333333333\n",
            "train: 1666.71432040256 1.0\n",
            "test : 1668.5154008465743 0.7583333333333333\n",
            "train: 1666.712702875883 1.0\n",
            "test : 1668.5245192937152 0.7583333333333333\n",
            "train: 1666.7111671670955 1.0\n",
            "test : 1668.5334996171905 0.7583333333333333\n",
            "train: 1666.7097081772843 1.0\n",
            "test : 1668.542343251052 0.76\n",
            "train: 1666.7083211595045 1.0\n",
            "test : 1668.5510518302344 0.7616666666666667\n",
            "train: 1666.7070016946338 1.0\n",
            "test : 1668.5596271574977 0.76\n",
            "train: 1666.7057456685197 1.0\n",
            "test : 1668.568071174018 0.7583333333333333\n",
            "train: 1666.7045492504428 1.0\n",
            "test : 1668.5763859333379 0.7583333333333333\n",
            "train: 1666.7034088728963 1.0\n",
            "test : 1668.584573578409 0.7583333333333333\n",
            "train: 1666.7023212126571 1.0\n",
            "test : 1668.5926363214319 0.7583333333333333\n"
          ],
          "name": "stdout"
        }
      ]
    },
    {
      "cell_type": "code",
      "metadata": {
        "id": "to0haaSGZXFx",
        "colab_type": "code",
        "colab": {}
      },
      "source": [
        ""
      ],
      "execution_count": 270,
      "outputs": []
    },
    {
      "cell_type": "markdown",
      "metadata": {
        "id": "46__d03cAixS",
        "colab_type": "text"
      },
      "source": [
        "## plot the loss curve"
      ]
    },
    {
      "cell_type": "code",
      "metadata": {
        "id": "t536u5KcAk-s",
        "colab_type": "code",
        "colab": {
          "base_uri": "https://localhost:8080/",
          "height": 284
        },
        "outputId": "ddc51008-cf35-46f1-ca9c-f13b0eb4cee7"
      },
      "source": [
        "import matplotlib.pyplot as plt\n",
        "\n",
        "plt.plot(train_cost_value_list,'b') # train\n",
        "plt.plot(test_cost_value_list,'r') # test"
      ],
      "execution_count": 271,
      "outputs": [
        {
          "output_type": "execute_result",
          "data": {
            "text/plain": [
              "[<matplotlib.lines.Line2D at 0x7f0578d77550>]"
            ]
          },
          "metadata": {
            "tags": []
          },
          "execution_count": 271
        },
        {
          "output_type": "display_data",
          "data": {
            "image/png": "[encoded data removed]",
            "text/plain": [
              "<Figure size 432x288 with 1 Axes>"
            ]
          },
          "metadata": {
            "tags": [],
            "needs_background": "light"
          }
        }
      ]
    },
    {
      "cell_type": "markdown",
      "metadata": {
        "id": "xqIPjMpLAxGk",
        "colab_type": "text"
      },
      "source": [
        "## plot the accuracy curve"
      ]
    },
    {
      "cell_type": "code",
      "metadata": {
        "id": "86DrTMZsA2Qj",
        "colab_type": "code",
        "colab": {
          "base_uri": "https://localhost:8080/",
          "height": 284
        },
        "outputId": "f761d58e-c515-442e-fd3a-427db99426a0"
      },
      "source": [
        "plt.plot(train_accuracy_list,'b')\n",
        "plt.plot(test_accuracy_list,'r')"
      ],
      "execution_count": 272,
      "outputs": [
        {
          "output_type": "execute_result",
          "data": {
            "text/plain": [
              "[<matplotlib.lines.Line2D at 0x7f0578dd9f28>]"
            ]
          },
          "metadata": {
            "tags": []
          },
          "execution_count": 272
        },
        {
          "output_type": "display_data",
          "data": {
            "image/png": "[encoded data removed]",
            "text/plain": [
              "<Figure size 432x288 with 1 Axes>"
            ]
          },
          "metadata": {
            "tags": [],
            "needs_background": "light"
          }
        }
      ]
    },
    {
      "cell_type": "markdown",
      "metadata": {
        "id": "ThM-l0OAA4v2",
        "colab_type": "text"
      },
      "source": [
        "## plot the quantitative results"
      ]
    },
    {
      "cell_type": "code",
      "metadata": {
        "id": "T3AyUgeYBAhX",
        "colab_type": "code",
        "colab": {
          "base_uri": "https://localhost:8080/",
          "height": 241
        },
        "outputId": "b7c94dc8-63fd-4df3-b30a-9385d72891d7"
      },
      "source": [
        "# training results\n",
        "from sklearn.metrics import classification_report, confusion_matrix, accuracy_score\n",
        "\n",
        "# confusion matrix \n",
        "print(confusion_matrix(y_train,train_predict_label))\n",
        "# classification results\n",
        "print(classification_report(y_train,train_predict_label))\n",
        "# accuracy_score\n",
        "print(accuracy_score(y_train, train_predict_label))"
      ],
      "execution_count": 273,
      "outputs": [
        {
          "output_type": "stream",
          "text": [
            "[[698   0]\n",
            " [  0 702]]\n",
            "              precision    recall  f1-score   support\n",
            "\n",
            "           0       1.00      1.00      1.00       698\n",
            "           1       1.00      1.00      1.00       702\n",
            "\n",
            "    accuracy                           1.00      1400\n",
            "   macro avg       1.00      1.00      1.00      1400\n",
            "weighted avg       1.00      1.00      1.00      1400\n",
            "\n",
            "1.0\n"
          ],
          "name": "stdout"
        }
      ]
    },
    {
      "cell_type": "code",
      "metadata": {
        "id": "qJ0lBrRWBu0p",
        "colab_type": "code",
        "colab": {
          "base_uri": "https://localhost:8080/",
          "height": 241
        },
        "outputId": "b356eff9-00d9-4905-be6d-a4e79b6c7750"
      },
      "source": [
        "# testing results\n",
        "print(confusion_matrix(y_test,test_predict_label))\n",
        "print(classification_report(y_test,test_predict_label))\n",
        "print(accuracy_score(y_test, test_predict_label))"
      ],
      "execution_count": 274,
      "outputs": [
        {
          "output_type": "stream",
          "text": [
            "[[230  72]\n",
            " [ 73 225]]\n",
            "              precision    recall  f1-score   support\n",
            "\n",
            "           0       0.76      0.76      0.76       302\n",
            "           1       0.76      0.76      0.76       298\n",
            "\n",
            "    accuracy                           0.76       600\n",
            "   macro avg       0.76      0.76      0.76       600\n",
            "weighted avg       0.76      0.76      0.76       600\n",
            "\n",
            "0.7583333333333333\n"
          ],
          "name": "stdout"
        }
      ]
    },
    {
      "cell_type": "code",
      "metadata": {
        "id": "TKIzBU3qB2nK",
        "colab_type": "code",
        "colab": {}
      },
      "source": [
        ""
      ],
      "execution_count": 274,
      "outputs": []
    },
    {
      "cell_type": "markdown",
      "metadata": {
        "id": "ZanhdN-WB4LX",
        "colab_type": "text"
      },
      "source": [
        "## testing accuracy"
      ]
    },
    {
      "cell_type": "code",
      "metadata": {
        "id": "3q_tUeloB6HD",
        "colab_type": "code",
        "colab": {
          "base_uri": "https://localhost:8080/",
          "height": 36
        },
        "outputId": "696b32bc-77c2-4dd8-920f-770cb0dfc6b6"
      },
      "source": [
        "print(accuracy_score(y_test, test_predict_label)*100,'%')"
      ],
      "execution_count": 275,
      "outputs": [
        {
          "output_type": "stream",
          "text": [
            "75.83333333333333 %\n"
          ],
          "name": "stdout"
        }
      ]
    },
    {
      "cell_type": "code",
      "metadata": {
        "id": "6E_DxZsaCVb0",
        "colab_type": "code",
        "colab": {}
      },
      "source": [
        ""
      ],
      "execution_count": 275,
      "outputs": []
    },
    {
      "cell_type": "code",
      "metadata": {
        "id": "sCC8pFxUCVsT",
        "colab_type": "code",
        "colab": {}
      },
      "source": [
        ""
      ],
      "execution_count": 275,
      "outputs": []
    },
    {
      "cell_type": "markdown",
      "metadata": {
        "id": "VRdv0tXnCV-h",
        "colab_type": "text"
      },
      "source": [
        "## 답"
      ]
    },
    {
      "cell_type": "markdown",
      "metadata": {
        "id": "BlftCd4TyfBi",
        "colab_type": "text"
      },
      "source": [
        "## 1. plot the loss curve"
      ]
    },
    {
      "cell_type": "code",
      "metadata": {
        "id": "gY10Hyr_CW2Z",
        "colab_type": "code",
        "colab": {
          "base_uri": "https://localhost:8080/",
          "height": 284
        },
        "outputId": "0e6c1f89-1989-41c4-9e3e-8d9de87f2de9"
      },
      "source": [
        "plt.plot(train_cost_value_list,'b') # train\n",
        "plt.plot(test_cost_value_list,'r') # test"
      ],
      "execution_count": 276,
      "outputs": [
        {
          "output_type": "execute_result",
          "data": {
            "text/plain": [
              "[<matplotlib.lines.Line2D at 0x7f0578d7d1d0>]"
            ]
          },
          "metadata": {
            "tags": []
          },
          "execution_count": 276
        },
        {
          "output_type": "display_data",
          "data": {
            "image/png": "[encoded data removed]",
            "text/plain": [
              "<Figure size 432x288 with 1 Axes>"
            ]
          },
          "metadata": {
            "tags": [],
            "needs_background": "light"
          }
        }
      ]
    },
    {
      "cell_type": "markdown",
      "metadata": {
        "id": "ut_xsQWGyl_J",
        "colab_type": "text"
      },
      "source": [
        "## 2. plot the accuracy curve"
      ]
    },
    {
      "cell_type": "code",
      "metadata": {
        "id": "AGkfgyTayktP",
        "colab_type": "code",
        "colab": {
          "base_uri": "https://localhost:8080/",
          "height": 284
        },
        "outputId": "6b656dd4-8365-4c5e-8380-a6ac8d74e288"
      },
      "source": [
        "plt.plot(train_accuracy_list,'b')\n",
        "plt.plot(test_accuracy_list,'r')"
      ],
      "execution_count": 277,
      "outputs": [
        {
          "output_type": "execute_result",
          "data": {
            "text/plain": [
              "[<matplotlib.lines.Line2D at 0x7f0578d4e128>]"
            ]
          },
          "metadata": {
            "tags": []
          },
          "execution_count": 277
        },
        {
          "output_type": "display_data",
          "data": {
            "image/png": "[encoded data removed]",
            "text/plain": [
              "<Figure size 432x288 with 1 Axes>"
            ]
          },
          "metadata": {
            "tags": [],
            "needs_background": "light"
          }
        }
      ]
    },
    {
      "cell_type": "markdown",
      "metadata": {
        "id": "5ETd8MT9yr5n",
        "colab_type": "text"
      },
      "source": [
        "## 3. plot the quantitative results"
      ]
    },
    {
      "cell_type": "markdown",
      "metadata": {
        "id": "jbLPv-RzywJB",
        "colab_type": "text"
      },
      "source": [
        "- training results"
      ]
    },
    {
      "cell_type": "code",
      "metadata": {
        "id": "66JS29fayqm1",
        "colab_type": "code",
        "colab": {
          "base_uri": "https://localhost:8080/",
          "height": 241
        },
        "outputId": "fcbf2f64-8b3b-49c6-c99e-5f928bbb5390"
      },
      "source": [
        "# training results\n",
        "from sklearn.metrics import classification_report, confusion_matrix, accuracy_score\n",
        "\n",
        "# confusion matrix \n",
        "print(confusion_matrix(y_train,train_predict_label))\n",
        "# classification results\n",
        "print(classification_report(y_train,train_predict_label))\n",
        "# accuracy_score\n",
        "print(accuracy_score(y_train, train_predict_label))"
      ],
      "execution_count": 278,
      "outputs": [
        {
          "output_type": "stream",
          "text": [
            "[[698   0]\n",
            " [  0 702]]\n",
            "              precision    recall  f1-score   support\n",
            "\n",
            "           0       1.00      1.00      1.00       698\n",
            "           1       1.00      1.00      1.00       702\n",
            "\n",
            "    accuracy                           1.00      1400\n",
            "   macro avg       1.00      1.00      1.00      1400\n",
            "weighted avg       1.00      1.00      1.00      1400\n",
            "\n",
            "1.0\n"
          ],
          "name": "stdout"
        }
      ]
    },
    {
      "cell_type": "markdown",
      "metadata": {
        "id": "NNkG6paDy1GE",
        "colab_type": "text"
      },
      "source": [
        "- testing results"
      ]
    },
    {
      "cell_type": "code",
      "metadata": {
        "id": "5IDqoSnQy0qr",
        "colab_type": "code",
        "colab": {
          "base_uri": "https://localhost:8080/",
          "height": 241
        },
        "outputId": "7a8b9781-7413-4f39-d5a1-1401c8fe3efe"
      },
      "source": [
        "# testing results\n",
        "print(confusion_matrix(y_test,test_predict_label))\n",
        "print(classification_report(y_test,test_predict_label))\n",
        "print(accuracy_score(y_test, test_predict_label))"
      ],
      "execution_count": 279,
      "outputs": [
        {
          "output_type": "stream",
          "text": [
            "[[230  72]\n",
            " [ 73 225]]\n",
            "              precision    recall  f1-score   support\n",
            "\n",
            "           0       0.76      0.76      0.76       302\n",
            "           1       0.76      0.76      0.76       298\n",
            "\n",
            "    accuracy                           0.76       600\n",
            "   macro avg       0.76      0.76      0.76       600\n",
            "weighted avg       0.76      0.76      0.76       600\n",
            "\n",
            "0.7583333333333333\n"
          ],
          "name": "stdout"
        }
      ]
    },
    {
      "cell_type": "markdown",
      "metadata": {
        "id": "GEEY7Ytmy5fk",
        "colab_type": "text"
      },
      "source": [
        "## 4. testing accuracy"
      ]
    },
    {
      "cell_type": "code",
      "metadata": {
        "id": "tVFF_5rOyz9F",
        "colab_type": "code",
        "colab": {
          "base_uri": "https://localhost:8080/",
          "height": 36
        },
        "outputId": "294df1b9-0d0b-4383-feb3-db3ce46d36cd"
      },
      "source": [
        "print(accuracy_score(y_test, test_predict_label)*100,'%')"
      ],
      "execution_count": 280,
      "outputs": [
        {
          "output_type": "stream",
          "text": [
            "75.83333333333333 %\n"
          ],
          "name": "stdout"
        }
      ]
    },
    {
      "cell_type": "code",
      "metadata": {
        "id": "8B4Q6Euny---",
        "colab_type": "code",
        "colab": {}
      },
      "source": [
        ""
      ],
      "execution_count": null,
      "outputs": []
    }
  ]
}