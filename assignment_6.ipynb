{
  "nbformat": 4,
  "nbformat_minor": 0,
  "metadata": {
    "colab": {
      "name": "assignment_6.ipynb",
      "provenance": [],
      "collapsed_sections": []
    },
    "kernelspec": {
      "name": "python3",
      "display_name": "Python 3"
    }
  },
  "cells": [
    {
      "cell_type": "markdown",
      "metadata": {
        "id": "x3vZAjgxLEOk",
        "colab_type": "text"
      },
      "source": [
        "## input data\n",
        "\n"
      ]
    },
    {
      "cell_type": "code",
      "metadata": {
        "id": "6wVFpqthLA6n",
        "colab_type": "code",
        "colab": {}
      },
      "source": [
        "import numpy as np\n",
        "import matplotlib.pyplot as plt\n",
        "\n",
        "data    = np.genfromtxt(\"data-nonlinear.txt\", delimiter=',')"
      ],
      "execution_count": 0,
      "outputs": []
    },
    {
      "cell_type": "code",
      "metadata": {
        "id": "tUdaT56cLRAl",
        "colab_type": "code",
        "colab": {}
      },
      "source": [
        "x1  = data[:, 0]\n",
        "x2  = data[:, 1]\n",
        "label   = data[:, 2]\n",
        "\n",
        "x1_label0 = x1[label == 0]\n",
        "x2_label0 = x2[label == 0]\n",
        "\n",
        "x1_label1 = x1[label == 1]\n",
        "x2_label1 = x2[label == 1]"
      ],
      "execution_count": 0,
      "outputs": []
    },
    {
      "cell_type": "code",
      "metadata": {
        "id": "TdkO_98vLUSi",
        "colab_type": "code",
        "outputId": "6bf28f0b-f55e-418f-8902-dffea20cec6f",
        "colab": {
          "base_uri": "https://localhost:8080/",
          "height": 297
        }
      },
      "source": [
        "# data plotting\n",
        "plt.figure()\n",
        "plt.scatter(x1_label0, x2_label0, c='b',label='class_0') #label0은 blue\n",
        "plt.scatter(x1_label1, x2_label1, c='r',label='class_1') #label1은 red\n",
        "plt.tight_layout()\n",
        "plt.legend()\n",
        "plt.gca().set_aspect('equal', adjustable='box')\n",
        "plt.show()"
      ],
      "execution_count": 0,
      "outputs": [
        {
          "output_type": "display_data",
          "data": {
            "image/png": "[encoded data removed]",
            "text/plain": [
              "<Figure size 432x288 with 1 Axes>"
            ]
          },
          "metadata": {
            "tags": [],
            "needs_background": "light"
          }
        }
      ]
    },
    {
      "cell_type": "code",
      "metadata": {
        "id": "sKiSVPi8OC8I",
        "colab_type": "code",
        "colab": {}
      },
      "source": [
        "data = np.array([x1,x2,label])"
      ],
      "execution_count": 0,
      "outputs": []
    },
    {
      "cell_type": "code",
      "metadata": {
        "id": "_h8K9DXdOGBD",
        "colab_type": "code",
        "colab": {}
      },
      "source": [
        "X = np.transpose(np.array(data[:-1]))\n",
        "y = np.transpose(np.array(data[-1:]))\n",
        "m = y.size"
      ],
      "execution_count": 0,
      "outputs": []
    },
    {
      "cell_type": "code",
      "metadata": {
        "id": "tCY1BicoOLLS",
        "colab_type": "code",
        "colab": {}
      },
      "source": [
        "# X에는 1을 가지는 열을 삽입한다(interception계산을 위해)\n",
        "X = np.insert(X,0,1,axis=1)"
      ],
      "execution_count": 0,
      "outputs": []
    },
    {
      "cell_type": "markdown",
      "metadata": {
        "id": "amDr4GqbL9fF",
        "colab_type": "text"
      },
      "source": [
        "## g(x,y; $\\theta$) 를 작성한다. \n",
        "- degree = 4로 두면 총 15개의 term이 생긴다\n",
        "- 혹은 threshold 조정하는 방법 : classifier의 threshold를 조정하는 것 \n",
        "- polynomial 형태의 z를 만들어 주는 것이 중요함. \n",
        "- g(x,y;$\\theta$) = $\\theta_0 + \\theta_1 x_1+\\theta_2 x_2 + \\theta_3 x_1^2 + \\theta_4 x_2^2 + \\theta_5 x_1 x_2 + \\theta_6 x_1^3 + \\theta_7 x_2^3 + \\theta_8 x_1^2 x_2 + \\theta_9 x_1 x_2^2 + \\theta_7 x_1^4 + \\theta_8 x_2^4 + \\theta_9 x_1^3 x_2 + \\theta_10 x_1^3 x_2^2 + \\theta_11 x_1^3 x_2^3 + \\theta_12 x_1 x_2^3 + \\theta_13 x_1^2 x_2^3 + \\theta_14 x_1^2 x_1^2$"
      ]
    },
    {
      "cell_type": "code",
      "metadata": {
        "id": "sRuUmqMxOkDa",
        "colab_type": "code",
        "colab": {}
      },
      "source": [
        "# 여기서는 z값이 단순히 theta.T*X값으로 정의되지는 않는다. \n",
        "# 최대 16차원의 non-linear boundary를 위한 식을 정의해야 한다. \n",
        "# 식을 정의하는 방법\n",
        "# 각 차수별 가능한 경우의 수를 for문으로 모두 구현 \n",
        "\n",
        "def NewFeatureMake(n, x1,x2):\n",
        "    # 차수 n으로 정의\n",
        "    # X의 첫 열은 1로 이루어진 열 for intercept \n",
        "    out = np.ones( (x1.shape[0], 1) )\n",
        "\n",
        "    # 각 차수별로 가능한 모든 수식을 작성하기 위한 이중 for문 \n",
        "    for i in range(1, n+1):\n",
        "        for j in range(0, i+1):\n",
        "            first_seq = x1 ** (i-j)\n",
        "            second_seq = x2 ** (j)\n",
        "            final = (first_seq * second_seq).reshape( first_seq.shape[0], 1 ) \n",
        "            out = np.hstack(( out, final )) # feature으로 이루어진 X 행렬 생성 \n",
        "            #print(i-j, j,\"\\n\") # 몇차에 해당하는 theta값인지를 확인하기 위한 출력 \n",
        "    return out"
      ],
      "execution_count": 0,
      "outputs": []
    },
    {
      "cell_type": "code",
      "metadata": {
        "id": "bMrkTqeURKT6",
        "colab_type": "code",
        "colab": {
          "base_uri": "https://localhost:8080/",
          "height": 540
        },
        "outputId": "2d6e88a5-dc1d-456c-d7ae-ed2532391dc6"
      },
      "source": [
        "new_X = NewFeatureMake(4, X[:,1],X[:,2])"
      ],
      "execution_count": 198,
      "outputs": [
        {
          "output_type": "stream",
          "text": [
            "1 0 \n",
            "\n",
            "0 1 \n",
            "\n",
            "2 0 \n",
            "\n",
            "1 1 \n",
            "\n",
            "0 2 \n",
            "\n",
            "3 0 \n",
            "\n",
            "2 1 \n",
            "\n",
            "1 2 \n",
            "\n",
            "0 3 \n",
            "\n",
            "4 0 \n",
            "\n",
            "3 1 \n",
            "\n",
            "2 2 \n",
            "\n",
            "1 3 \n",
            "\n",
            "0 4 \n",
            "\n"
          ],
          "name": "stdout"
        }
      ]
    },
    {
      "cell_type": "code",
      "metadata": {
        "id": "EUOQXAI7irYZ",
        "colab_type": "code",
        "outputId": "55501336-2a74-4479-b5f5-90debba3ce78",
        "colab": {
          "base_uri": "https://localhost:8080/",
          "height": 36
        }
      },
      "source": [
        "new_X.shape"
      ],
      "execution_count": 196,
      "outputs": [
        {
          "output_type": "execute_result",
          "data": {
            "text/plain": [
              "(118, 15)"
            ]
          },
          "metadata": {
            "tags": []
          },
          "execution_count": 196
        }
      ]
    },
    {
      "cell_type": "code",
      "metadata": {
        "id": "tD3bm1HXRdxt",
        "colab_type": "code",
        "outputId": "f80e79f5-280f-4f76-a669-48f93891e5b1",
        "colab": {
          "base_uri": "https://localhost:8080/",
          "height": 36
        }
      },
      "source": [
        "X_len = new_X.shape[1]\n",
        "X_len #15가 나와야 한다. , 확인 "
      ],
      "execution_count": 0,
      "outputs": [
        {
          "output_type": "execute_result",
          "data": {
            "text/plain": [
              "15"
            ]
          },
          "metadata": {
            "tags": []
          },
          "execution_count": 9
        }
      ]
    },
    {
      "cell_type": "code",
      "metadata": {
        "id": "3D73wheiLXMl",
        "colab_type": "code",
        "colab": {}
      },
      "source": [
        "#X벡터값과 theta값을 받았을 때 도출할 수 있는 logistic model\n",
        "def h(theta, X):\n",
        "  z = np.dot(X,theta)\n",
        "  return 1./(np.exp(-z)+1)"
      ],
      "execution_count": 0,
      "outputs": []
    },
    {
      "cell_type": "code",
      "metadata": {
        "id": "vlaVZ13fOZkE",
        "colab_type": "code",
        "colab": {}
      },
      "source": [
        "#Objective function\n",
        "def ObjectiveFunc(theta, X, y,m):\n",
        "  for_0 = np.dot(-np.array(y).T,np.log(h(theta,X)))\n",
        "  for_1 = np.dot((1-np.array(y)).T,np.log(1-h(theta,X)))\n",
        "  return float( (1./m) * ( np.sum(for_0 - for_1)  ) )"
      ],
      "execution_count": 0,
      "outputs": []
    },
    {
      "cell_type": "code",
      "metadata": {
        "id": "OAXUi1WSp4cq",
        "colab_type": "code",
        "colab": {}
      },
      "source": [
        "print(y.shape, label.shape) #flatten여부 확인하기 "
      ],
      "execution_count": 0,
      "outputs": []
    },
    {
      "cell_type": "code",
      "metadata": {
        "id": "YD4iHp4epMM5",
        "colab_type": "code",
        "colab": {}
      },
      "source": [
        "# accuracy 정의 \n",
        "# y를 y로 input하면 y.flatten-> y이어야 하고, y를 label로 input하려면 y.flatten으로 유지해야 한다. \n",
        "def accuracy(X, y,theta,threshold=0.55):\n",
        "  pred = (h(theta, X)>=threshold).astype(int) #예측한 값\n",
        "  acc = np.mean(pred.flatten() == y.flatten()) # 실제값과 같은지를 비교하여 전체 len으로 나눔 \n",
        "  return acc * 100"
      ],
      "execution_count": 0,
      "outputs": []
    },
    {
      "cell_type": "code",
      "metadata": {
        "id": "W2PQWTLNObL_",
        "colab_type": "code",
        "colab": {}
      },
      "source": [
        "# Gradient descent using ObjectiveFunc\n",
        "iteration = 300000 # hyperparameter\n",
        "alpha = 0.0069\n",
        "\n",
        "def GradientDescent(X,y,theta,m):\n",
        "    #plotting위해 저장하는 history\n",
        "    J_history = [] \n",
        "    acc_history = []\n",
        "    #theta_history = []\n",
        "\n",
        "    #iteration\n",
        "    for i in range(iteration):\n",
        "        tmp = theta #동시에 update하기 위해선 교환하기 위한 새로운 변수가 필요\n",
        "        \n",
        "        #history값 저장 \n",
        "        J_history.append(ObjectiveFunc(theta,X,y,m))\n",
        "        acc_history.append(accuracy(X,y,theta))\n",
        "        #theta_history.append(list(theta[:,0]))\n",
        "\n",
        "        #update theta\n",
        "        for j in range(len(tmp)):\n",
        "            tmp[j] = theta[j] - (alpha/m)*np.sum((h(theta,X) - y)*np.array(X[:,j]).reshape(m,1))\n",
        "        theta = tmp \n",
        "    return theta, acc_history, J_history"
      ],
      "execution_count": 0,
      "outputs": []
    },
    {
      "cell_type": "code",
      "metadata": {
        "id": "K12wRY6yOdvq",
        "colab_type": "code",
        "colab": {}
      },
      "source": [
        "#theta초깃값 \n",
        "theta=np.zeros((new_X.shape[1],1))"
      ],
      "execution_count": 0,
      "outputs": []
    },
    {
      "cell_type": "code",
      "metadata": {
        "id": "5qOWasHlOg8l",
        "colab_type": "code",
        "colab": {}
      },
      "source": [
        "# Gradient descent계산\n",
        "theta, acc_history, J_history = GradientDescent(new_X,y, theta,m)"
      ],
      "execution_count": 0,
      "outputs": []
    },
    {
      "cell_type": "code",
      "metadata": {
        "id": "VXNH-Lx2SibH",
        "colab_type": "code",
        "outputId": "581a7791-5301-4e43-8562-800f8f04cb7b",
        "colab": {
          "base_uri": "https://localhost:8080/",
          "height": 297
        }
      },
      "source": [
        "theta #확인 (총15개의 theta가 나온다. )"
      ],
      "execution_count": 0,
      "outputs": [
        {
          "output_type": "execute_result",
          "data": {
            "text/plain": [
              "array([[ 3.86730586],\n",
              "       [ 2.64160215],\n",
              "       [ 4.3259162 ],\n",
              "       [-6.27667274],\n",
              "       [-5.45946857],\n",
              "       [-6.43900228],\n",
              "       [ 0.6617736 ],\n",
              "       [-1.98972074],\n",
              "       [-0.61986609],\n",
              "       [-1.01855828],\n",
              "       [-6.27031611],\n",
              "       [ 1.35104111],\n",
              "       [-2.70513966],\n",
              "       [-2.62172525],\n",
              "       [-4.46911386]])"
            ]
          },
          "metadata": {
            "tags": []
          },
          "execution_count": 128
        }
      ]
    },
    {
      "cell_type": "code",
      "metadata": {
        "id": "Vda25fwHpd5S",
        "colab_type": "code",
        "outputId": "df66bbfb-10e8-4fd7-c47c-59fc4137b143",
        "colab": {
          "base_uri": "https://localhost:8080/",
          "height": 36
        }
      },
      "source": [
        "# 마지막 accuracy값\n",
        "acc_history[-1]"
      ],
      "execution_count": 0,
      "outputs": [
        {
          "output_type": "execute_result",
          "data": {
            "text/plain": [
              "85.59322033898306"
            ]
          },
          "metadata": {
            "tags": []
          },
          "execution_count": 129
        }
      ]
    },
    {
      "cell_type": "markdown",
      "metadata": {
        "id": "4FTm99AtdLSZ",
        "colab_type": "text"
      },
      "source": [
        "## train cost "
      ]
    },
    {
      "cell_type": "code",
      "metadata": {
        "id": "Q-dtAglXXIGV",
        "colab_type": "code",
        "outputId": "5cedc8fb-a87d-4867-86fd-09fc7aa74d0c",
        "colab": {
          "base_uri": "https://localhost:8080/",
          "height": 204
        }
      },
      "source": [
        "J_history[:10] #cost값 10개만 확인"
      ],
      "execution_count": 0,
      "outputs": [
        {
          "output_type": "execute_result",
          "data": {
            "text/plain": [
              "[0.6931471805599454,\n",
              " 0.6930865546438951,\n",
              " 0.693026021410182,\n",
              " 0.6929655805029302,\n",
              " 0.6929052315678137,\n",
              " 0.69284497425205,\n",
              " 0.6927848082043929,\n",
              " 0.6927247330751265,\n",
              " 0.692664748516057,\n",
              " 0.6926048541805089]"
            ]
          },
          "metadata": {
            "tags": []
          },
          "execution_count": 130
        }
      ]
    },
    {
      "cell_type": "code",
      "metadata": {
        "id": "9Ygq3bIkc6D1",
        "colab_type": "code",
        "outputId": "627f4862-3f1d-4f50-88f4-3601282e1524",
        "colab": {
          "base_uri": "https://localhost:8080/",
          "height": 339
        }
      },
      "source": [
        "# cost값 plotting\n",
        "plt.figure(figsize=(7, 5))\n",
        "plt.plot(range(len(J_history)),J_history,'b')"
      ],
      "execution_count": 200,
      "outputs": [
        {
          "output_type": "execute_result",
          "data": {
            "text/plain": [
              "[<matplotlib.lines.Line2D at 0x7ff623e015f8>]"
            ]
          },
          "metadata": {
            "tags": []
          },
          "execution_count": 200
        },
        {
          "output_type": "display_data",
          "data": {
            "image/png": "[encoded data removed]",
            "text/plain": [
              "<Figure size 504x360 with 1 Axes>"
            ]
          },
          "metadata": {
            "tags": [],
            "needs_background": "light"
          }
        }
      ]
    },
    {
      "cell_type": "code",
      "metadata": {
        "id": "XS7xajxpc8Hz",
        "colab_type": "code",
        "outputId": "44ba0405-e72a-48e2-902b-b0e629525855",
        "colab": {
          "base_uri": "https://localhost:8080/",
          "height": 36
        }
      },
      "source": [
        "J_history[-1] # 마지막 train cost값 "
      ],
      "execution_count": 0,
      "outputs": [
        {
          "output_type": "execute_result",
          "data": {
            "text/plain": [
              "0.3377502545533913"
            ]
          },
          "metadata": {
            "tags": []
          },
          "execution_count": 132
        }
      ]
    },
    {
      "cell_type": "markdown",
      "metadata": {
        "id": "aOXnFPQudPCK",
        "colab_type": "text"
      },
      "source": [
        "## train accuracy plotting"
      ]
    },
    {
      "cell_type": "code",
      "metadata": {
        "id": "nKTzohZZdABH",
        "colab_type": "code",
        "colab": {}
      },
      "source": [
        "# accuracy 정의 \n",
        "def accuracy(X, y, threshold=0.55):\n",
        "  pred = (h(theta, new_X)>=threshold).astype(int) #예측한 값\n",
        "  acc = np.mean(pred.flatten() == y.flatten()) # 실제값과 같은지를 비교하여 전체 len으로 나눔 \n",
        "  return acc * 100"
      ],
      "execution_count": 0,
      "outputs": []
    },
    {
      "cell_type": "code",
      "metadata": {
        "id": "5f8jirRJq6xc",
        "colab_type": "code",
        "outputId": "8607b474-c2d3-47ef-eeb1-74c5a2301da1",
        "colab": {
          "base_uri": "https://localhost:8080/",
          "height": 36
        }
      },
      "source": [
        "# hyperparameter 조정하기 \n",
        "threshold=0.57\n",
        "pred = (h(theta, new_X)>=threshold).astype(int) #예측한 값\n",
        "np.mean(pred.flatten() == y.flatten()) # 실제값과 같은지를 비교하여 전체 len으로 나눔(하나하나의 값이 나오는지를 확인한다. -> 맞는수 / 전체 갯수 이므로 )"
      ],
      "execution_count": 187,
      "outputs": [
        {
          "output_type": "execute_result",
          "data": {
            "text/plain": [
              "0.8559322033898306"
            ]
          },
          "metadata": {
            "tags": []
          },
          "execution_count": 187
        }
      ]
    },
    {
      "cell_type": "code",
      "metadata": {
        "id": "Z-K3dListtzn",
        "colab_type": "code",
        "outputId": "ffe75b00-1ace-4f35-b92f-855c63865e1b",
        "colab": {
          "base_uri": "https://localhost:8080/",
          "height": 36
        }
      },
      "source": [
        "accuracy = accuracy(new_X, label)\n",
        "print(accuracy) #85%에 해당 (final accuracy)"
      ],
      "execution_count": 0,
      "outputs": [
        {
          "output_type": "stream",
          "text": [
            "85.59322033898306\n"
          ],
          "name": "stdout"
        }
      ]
    },
    {
      "cell_type": "code",
      "metadata": {
        "id": "KBlfIjmVoL0X",
        "colab_type": "code",
        "outputId": "c98ffd9d-de4e-4699-964e-876e128818fa",
        "colab": {
          "base_uri": "https://localhost:8080/",
          "height": 339
        }
      },
      "source": [
        "# 각 iteration 마다 모든 accuracy를 출력한다. \n",
        "plt.figure(figsize=(5, 5))\n",
        "plt.plot(range(len(acc_history)),acc_history,'r')"
      ],
      "execution_count": 0,
      "outputs": [
        {
          "output_type": "execute_result",
          "data": {
            "text/plain": [
              "[<matplotlib.lines.Line2D at 0x7ff62463a2b0>]"
            ]
          },
          "metadata": {
            "tags": []
          },
          "execution_count": 139
        },
        {
          "output_type": "display_data",
          "data": {
            "image/png": "[encoded data removed]",
            "text/plain": [
              "<Figure size 360x360 with 1 Axes>"
            ]
          },
          "metadata": {
            "tags": [],
            "needs_background": "light"
          }
        }
      ]
    },
    {
      "cell_type": "code",
      "metadata": {
        "id": "GK_E4yeRtzc8",
        "colab_type": "code",
        "colab": {}
      },
      "source": [
        "#h(theta, new_X) #예측값 0~1의 값"
      ],
      "execution_count": 0,
      "outputs": []
    },
    {
      "cell_type": "markdown",
      "metadata": {
        "id": "SIyyBfWSvcgp",
        "colab_type": "text"
      },
      "source": [
        "## plot the optimal classifier\n",
        "- converge 될 때의 optimal classifier을 그린다. g = 0값이 결국 boundary가 된다. \n",
        "- 원래 데이터 위에 classifier을 겹쳐서 그린다.\n",
        "- python3의 contour 함수를 사용한다. "
      ]
    },
    {
      "cell_type": "code",
      "metadata": {
        "id": "EaC8j9Vx2_HJ",
        "colab_type": "code",
        "colab": {}
      },
      "source": [
        "# x좌표의 x1값, y좌표의 x2값에 대한 범위를 지정 \n",
        "x1_range = np.linspace(-1,1)\n",
        "x2_range = np.linspace(-1,1)"
      ],
      "execution_count": 0,
      "outputs": []
    },
    {
      "cell_type": "code",
      "metadata": {
        "id": "4xAcbAkNcmzq",
        "colab_type": "code",
        "outputId": "2ce00ae1-1250-4cfb-ab91-674e64a9ec4a",
        "colab": {
          "base_uri": "https://localhost:8080/",
          "height": 36
        }
      },
      "source": [
        "# 생성한 새로운 차수를 담을 새로운 array 초기화 \n",
        "z_range = np.zeros((len(x1_range), len(x2_range)))\n",
        "z_range.shape"
      ],
      "execution_count": 0,
      "outputs": [
        {
          "output_type": "execute_result",
          "data": {
            "text/plain": [
              "(50, 50)"
            ]
          },
          "metadata": {
            "tags": []
          },
          "execution_count": 155
        }
      ]
    },
    {
      "cell_type": "code",
      "metadata": {
        "id": "aiZ6ndPW6c-F",
        "colab_type": "code",
        "colab": {}
      },
      "source": [
        "# z값은 결국 g()=0에 해당하는 line을 그리고자 하는 형태이다. \n",
        "# 해당 x1,x2값에 대해 동일한 class를 가지는 값을 표현하면 된다. \n",
        "# 여기서 theta는 이미 optimized된 theta값이다. \n",
        "\n",
        "for i in range(len(x1_range)):\n",
        "    for j in range(len(x2_range)):\n",
        "        New_dim_Feat = NewFeatureMake(np.array([x1_range[i]]),np.array([x2_range[j]]))\n",
        "        z_range[i][j] = np.dot(theta.T,New_dim_Feat.T) #행렬형태주의 \n",
        "z_range = z_range.transpose() #행렬형태주의"
      ],
      "execution_count": 0,
      "outputs": []
    },
    {
      "cell_type": "code",
      "metadata": {
        "id": "Q6OQ4HMWdKpH",
        "colab_type": "code",
        "outputId": "7275cfff-bdb6-4761-c115-89ff469b4af4",
        "colab": {
          "base_uri": "https://localhost:8080/",
          "height": 369
        }
      },
      "source": [
        "#boundary plotting\n",
        "plt.figure(figsize=(8,5))\n",
        "X1_range, X2_range = np.meshgrid(x1_range, x2_range)\n",
        "#boundary_plotting = plt.contour(X1_range, X2_range, z_range.T)\n",
        "#하나의 등고선만을 표현 \n",
        "boundary_plotting = plt.contour(X1_range, X2_range, z_range.T,[0],colors='green')\n",
        "\n",
        "#data plotting\n",
        "plt.scatter(x1_label0, x2_label0, c='b',label='class_0') # label이 0인 값들\n",
        "plt.scatter(x1_label1, x2_label1, c='r',label='class_1') #label이 1인 값들\n",
        "plt.tight_layout()\n",
        "plt.legend()\n",
        "plt.gca().set_aspect('equal', adjustable='box')\n",
        "plt.show()"
      ],
      "execution_count": 0,
      "outputs": [
        {
          "output_type": "display_data",
          "data": {
            "image/png": "[encoded data removed]",
            "text/plain": [
              "<Figure size 576x360 with 1 Axes>"
            ]
          },
          "metadata": {
            "tags": [],
            "needs_background": "light"
          }
        }
      ]
    },
    {
      "cell_type": "code",
      "metadata": {
        "id": "0FQNma6xyQcM",
        "colab_type": "code",
        "colab": {}
      },
      "source": [
        ""
      ],
      "execution_count": 0,
      "outputs": []
    },
    {
      "cell_type": "code",
      "metadata": {
        "id": "t-8hvzjmz1IC",
        "colab_type": "code",
        "colab": {}
      },
      "source": [
        ""
      ],
      "execution_count": 0,
      "outputs": []
    },
    {
      "cell_type": "code",
      "metadata": {
        "id": "T8uSMW8Q1RCg",
        "colab_type": "code",
        "colab": {}
      },
      "source": [
        ""
      ],
      "execution_count": 0,
      "outputs": []
    },
    {
      "cell_type": "markdown",
      "metadata": {
        "id": "LSuoAtg81Ri5",
        "colab_type": "text"
      },
      "source": [
        "# 답"
      ]
    },
    {
      "cell_type": "markdown",
      "metadata": {
        "id": "FhqXTntrz2J4",
        "colab_type": "text"
      },
      "source": [
        "# 1. Plot the training data"
      ]
    },
    {
      "cell_type": "code",
      "metadata": {
        "id": "RUZNNo1qz1TM",
        "colab_type": "code",
        "outputId": "749d068f-6ed5-4818-db3e-905acf377a94",
        "colab": {
          "base_uri": "https://localhost:8080/",
          "height": 297
        }
      },
      "source": [
        "# data plotting\n",
        "plt.figure()\n",
        "plt.scatter(x1_label0, x2_label0, c='b',label='class_0') #label0은 blue\n",
        "plt.scatter(x1_label1, x2_label1, c='r',label='class_1') #label1은 red\n",
        "plt.tight_layout()\n",
        "plt.legend()\n",
        "plt.gca().set_aspect('equal', adjustable='box')\n",
        "plt.show()"
      ],
      "execution_count": 0,
      "outputs": [
        {
          "output_type": "display_data",
          "data": {
            "image/png": "[encoded data removed]",
            "text/plain": [
              "<Figure size 432x288 with 1 Axes>"
            ]
          },
          "metadata": {
            "tags": [],
            "needs_background": "light"
          }
        }
      ]
    },
    {
      "cell_type": "markdown",
      "metadata": {
        "id": "-0uOVUtJz_cc",
        "colab_type": "text"
      },
      "source": [
        "# 2. Write down the high dimensional function g(x,y, $\\theta$)\n",
        "- g(x,y;$\\theta$)를 g(x1,x2;$\\theta$)로 약간 변형하여 식을 작성했습니다.\n",
        "- 4차식으로 작성했습니다.  \n",
        "- g(x1,x2;$\\theta$) = \n",
        "$\\theta_0 + \\theta_1 x_1+\\theta_2 x_2 + \\theta_3 x_1^2 + \\theta_4 x_1 x_2 + \\theta_5 x_2^2  + \\theta_6 x_1^3 + \\theta_7 x_1^2 x_2 + \\theta_8 x_1 x_2^2 + \\theta_9 x_2^3 +  \\theta_{10} x_1^4 + \\theta_{11} x_1^3 x_2 + \\theta_{12} x_1^2 x_2^2  + \\theta_{13} x_1 x_2^3 + \\theta_{14} x_2^4 $\n",
        "- g 식에서 해당하는 theta값들(15개)는 아래 코드에 있습니다.\n"
      ]
    },
    {
      "cell_type": "code",
      "metadata": {
        "id": "26qmHhVuz-hl",
        "colab_type": "code",
        "outputId": "20ad5ea7-f21e-4192-a9b4-ee99987c7d63",
        "colab": {
          "base_uri": "https://localhost:8080/",
          "height": 297
        }
      },
      "source": [
        "theta #확인 (총15개의 theta가 나온다. )"
      ],
      "execution_count": 170,
      "outputs": [
        {
          "output_type": "execute_result",
          "data": {
            "text/plain": [
              "array([[ 3.86730586],\n",
              "       [ 2.64160215],\n",
              "       [ 4.3259162 ],\n",
              "       [-6.27667274],\n",
              "       [-5.45946857],\n",
              "       [-6.43900228],\n",
              "       [ 0.6617736 ],\n",
              "       [-1.98972074],\n",
              "       [-0.61986609],\n",
              "       [-1.01855828],\n",
              "       [-6.27031611],\n",
              "       [ 1.35104111],\n",
              "       [-2.70513966],\n",
              "       [-2.62172525],\n",
              "       [-4.46911386]])"
            ]
          },
          "metadata": {
            "tags": []
          },
          "execution_count": 170
        }
      ]
    },
    {
      "cell_type": "markdown",
      "metadata": {
        "id": "17YhfY-k0WI7",
        "colab_type": "text"
      },
      "source": [
        "# 3. Plot the training error\n",
        "\n",
        "\n"
      ]
    },
    {
      "cell_type": "code",
      "metadata": {
        "id": "6qYWH07Q0VKG",
        "colab_type": "code",
        "outputId": "1b339a76-fb2f-4109-b557-515cd8b46fa4",
        "colab": {
          "base_uri": "https://localhost:8080/",
          "height": 339
        }
      },
      "source": [
        "# cost값 plotting\n",
        "plt.figure(figsize=(5, 5))\n",
        "plt.plot(range(len(J_history)),J_history,'b')"
      ],
      "execution_count": 0,
      "outputs": [
        {
          "output_type": "execute_result",
          "data": {
            "text/plain": [
              "[<matplotlib.lines.Line2D at 0x7ff6240ab588>]"
            ]
          },
          "metadata": {
            "tags": []
          },
          "execution_count": 163
        },
        {
          "output_type": "display_data",
          "data": {
            "image/png": "[encoded data removed]",
            "text/plain": [
              "<Figure size 360x360 with 1 Axes>"
            ]
          },
          "metadata": {
            "tags": [],
            "needs_background": "light"
          }
        }
      ]
    },
    {
      "cell_type": "markdown",
      "metadata": {
        "id": "7QMCxyIw0eqR",
        "colab_type": "text"
      },
      "source": [
        "# 4. Plot the training accuracy"
      ]
    },
    {
      "cell_type": "code",
      "metadata": {
        "id": "XeoAKkIO0d94",
        "colab_type": "code",
        "outputId": "3ff1e124-7e9d-49bf-f4b0-13f074d35482",
        "colab": {
          "base_uri": "https://localhost:8080/",
          "height": 339
        }
      },
      "source": [
        "# 각 iteration 마다 모든 accuracy를 출력한다. \n",
        "plt.figure(figsize=(5, 5))\n",
        "plt.plot(range(len(acc_history)),acc_history,'r')"
      ],
      "execution_count": 0,
      "outputs": [
        {
          "output_type": "execute_result",
          "data": {
            "text/plain": [
              "[<matplotlib.lines.Line2D at 0x7ff624014198>]"
            ]
          },
          "metadata": {
            "tags": []
          },
          "execution_count": 164
        },
        {
          "output_type": "display_data",
          "data": {
            "image/png": "[encoded data removed]",
            "text/plain": [
              "<Figure size 360x360 with 1 Axes>"
            ]
          },
          "metadata": {
            "tags": [],
            "needs_background": "light"
          }
        }
      ]
    },
    {
      "cell_type": "markdown",
      "metadata": {
        "id": "h0WAspdY0lF-",
        "colab_type": "text"
      },
      "source": [
        "# 5. Write down the final training accuracy\n",
        "- 85.59322%"
      ]
    },
    {
      "cell_type": "code",
      "metadata": {
        "id": "hiH0CDXL0v9c",
        "colab_type": "code",
        "outputId": "81f03c0e-11ce-46ab-fba6-ada2b5b957c9",
        "colab": {
          "base_uri": "https://localhost:8080/",
          "height": 36
        }
      },
      "source": [
        "# 마지막 accuracy값\n",
        "acc_history[-1]"
      ],
      "execution_count": 0,
      "outputs": [
        {
          "output_type": "execute_result",
          "data": {
            "text/plain": [
              "85.59322033898306"
            ]
          },
          "metadata": {
            "tags": []
          },
          "execution_count": 166
        }
      ]
    },
    {
      "cell_type": "markdown",
      "metadata": {
        "id": "_16yVk_G09ZD",
        "colab_type": "text"
      },
      "source": [
        "# 6. Plot the optimal classifier superimposed on the training data"
      ]
    },
    {
      "cell_type": "code",
      "metadata": {
        "id": "F22PEN4y01Vw",
        "colab_type": "code",
        "outputId": "d1eed17a-dad6-4c32-861b-225e77557e45",
        "colab": {
          "base_uri": "https://localhost:8080/",
          "height": 369
        }
      },
      "source": [
        "#boundary plotting\n",
        "plt.figure(figsize=(8,5))\n",
        "X1_range, X2_range = np.meshgrid(x1_range, x2_range)\n",
        "#boundary_plotting = plt.contour(X1_range, X2_range, z_range.T)\n",
        "#1개의 level만 표현 \n",
        "boundary_plotting = plt.contour(X1_range, X2_range, z_range.T,[0],colors='green')\n",
        "\n",
        "#data plotting\n",
        "plt.scatter(x1_label0, x2_label0, c='b',label='class_0') # label이 0인 값들\n",
        "plt.scatter(x1_label1, x2_label1, c='r',label='class_1') #label이 1인 값들\n",
        "plt.tight_layout()\n",
        "plt.legend()\n",
        "plt.gca().set_aspect('equal', adjustable='box')\n",
        "plt.show()"
      ],
      "execution_count": 0,
      "outputs": [
        {
          "output_type": "display_data",
          "data": {
            "image/png": "[encoded data removed]",
            "text/plain": [
              "<Figure size 576x360 with 1 Axes>"
            ]
          },
          "metadata": {
            "tags": [],
            "needs_background": "light"
          }
        }
      ]
    },
    {
      "cell_type": "code",
      "metadata": {
        "id": "itlSagDV1H4a",
        "colab_type": "code",
        "colab": {}
      },
      "source": [
        "\"\""
      ],
      "execution_count": 0,
      "outputs": []
    }
  ]
}