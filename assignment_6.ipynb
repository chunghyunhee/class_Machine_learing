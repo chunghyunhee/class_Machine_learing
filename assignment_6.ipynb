{
  "nbformat": 4,
  "nbformat_minor": 0,
  "metadata": {
    "colab": {
      "name": "assignment_6.ipynb",
      "provenance": []
    },
    "kernelspec": {
      "name": "python3",
      "display_name": "Python 3"
    }
  },
  "cells": [
    {
      "cell_type": "markdown",
      "metadata": {
        "id": "x3vZAjgxLEOk",
        "colab_type": "text"
      },
      "source": [
        "## 1. input data\n",
        "\n"
      ]
    },
    {
      "cell_type": "code",
      "metadata": {
        "id": "6wVFpqthLA6n",
        "colab_type": "code",
        "colab": {}
      },
      "source": [
        "import numpy as np\n",
        "import matplotlib.pyplot as plt\n",
        "\n",
        "data    = np.genfromtxt(\"data-nonlinear.txt\", delimiter=',')"
      ],
      "execution_count": 0,
      "outputs": []
    },
    {
      "cell_type": "code",
      "metadata": {
        "id": "tUdaT56cLRAl",
        "colab_type": "code",
        "colab": {}
      },
      "source": [
        "x1  = data[:, 0]\n",
        "x2  = data[:, 1]\n",
        "label   = data[:, 2]\n",
        "\n",
        "x1_label0 = x1[label == 0]\n",
        "x2_label0 = x2[label == 0]\n",
        "\n",
        "x1_label1 = x1[label == 1]\n",
        "x2_label1 = x2[label == 1]"
      ],
      "execution_count": 0,
      "outputs": []
    },
    {
      "cell_type": "code",
      "metadata": {
        "id": "TdkO_98vLUSi",
        "colab_type": "code",
        "colab": {
          "base_uri": "https://localhost:8080/",
          "height": 297
        },
        "outputId": "56ebe2eb-afc5-40a5-dfbe-8bda68eb4f7a"
      },
      "source": [
        "# data plotting\n",
        "plt.figure()\n",
        "plt.scatter(x1_label0, x2_label0, c='b')\n",
        "plt.scatter(x1_label1, x2_label1, c='r')\n",
        "plt.tight_layout()\n",
        "plt.gca().set_aspect('equal', adjustable='box')\n",
        "plt.show()"
      ],
      "execution_count": 6,
      "outputs": [
        {
          "output_type": "display_data",
          "data": {
            "image/png": "[encoded data removed]",
            "text/plain": [
              "<Figure size 432x288 with 1 Axes>"
            ]
          },
          "metadata": {
            "tags": [],
            "needs_background": "light"
          }
        }
      ]
    },
    {
      "cell_type": "code",
      "metadata": {
        "id": "sKiSVPi8OC8I",
        "colab_type": "code",
        "colab": {}
      },
      "source": [
        "data = np.array([x1,x2,label])"
      ],
      "execution_count": 0,
      "outputs": []
    },
    {
      "cell_type": "code",
      "metadata": {
        "id": "_h8K9DXdOGBD",
        "colab_type": "code",
        "colab": {}
      },
      "source": [
        "X = np.transpose(np.array(data[:-1]))\n",
        "y = np.transpose(np.array(data[-1:]))\n",
        "m = y.size"
      ],
      "execution_count": 0,
      "outputs": []
    },
    {
      "cell_type": "code",
      "metadata": {
        "id": "tCY1BicoOLLS",
        "colab_type": "code",
        "colab": {}
      },
      "source": [
        "# X에는 1을 가지는 열을 삽입한다(interception계산을 위해)\n",
        "X = np.insert(X,0,1,axis=1)"
      ],
      "execution_count": 0,
      "outputs": []
    },
    {
      "cell_type": "markdown",
      "metadata": {
        "id": "amDr4GqbL9fF",
        "colab_type": "text"
      },
      "source": [
        "## 2. g(x,y; $\\theta$) 를 작성한다. \n",
        "- degree = 4로 두면 총 15개의 term이 생긴다\n",
        "- 혹은 threshold 조정하는 방법? accuracy를 위하여 \n",
        "- g(x,y;$\\theta$) = $\\theta_0 + \\theta_1 x_1+\\theta_2 x_2 + \\theta_3 x_1^2 + \\theta_4 x_2^2 + \\theta_5 x_1 x_2 + \\theta_6 x_1^3 + \\theta_7 x_2^3 + \\theta_8 x_1^2 x_2 + \\theta_9 x_1 x_2^2 + \\theta_7 x_1^4 + \\theta_8 x_2^4 + \\theta_9 x_1^3 x_2 + \\theta_10 x_1^3 x_2^2 + \\theta_11 x_1^3 x_2^3 + \\theta_12 x_1 x_2^3 + \\theta_13 x_1^2 x_2^3 + \\theta_14 x_1^2 x_1^2$"
      ]
    },
    {
      "cell_type": "code",
      "metadata": {
        "id": "sRuUmqMxOkDa",
        "colab_type": "code",
        "colab": {}
      },
      "source": [
        "# 여기서는 z값이 단순히 theta.T*X값으로 정의되지는 않는다. \n",
        "# 최대 16차원의 non-linear boundary를 위한 식을 정의해야 한다. \n",
        "#식을 정의하는 방법?\n",
        "def mapFeature( x1col, x2col ):\n",
        "    # 차수 정의 \n",
        "    degrees = 4\n",
        "    # X의 첫 열은 1로 이루어진 열 for intercept \n",
        "    out = np.ones( (x1col.shape[0], 1) )\n",
        "\n",
        "    # 각 차수별로 가능한 모든 수식을 작성하기 위한 이중 for문 \n",
        "    for i in range(1, degrees+1):\n",
        "        for j in range(0, i+1):\n",
        "            term1 = x1col ** (i-j)\n",
        "            term2 = x2col ** (j)\n",
        "            term  = (term1 * term2).reshape( term1.shape[0], 1 ) \n",
        "            out   = np.hstack(( out, term ))\n",
        "    return out"
      ],
      "execution_count": 0,
      "outputs": []
    },
    {
      "cell_type": "code",
      "metadata": {
        "id": "bMrkTqeURKT6",
        "colab_type": "code",
        "colab": {}
      },
      "source": [
        "new_X = mapFeature(X[:,1],X[:,2])\n",
        "#mappedX"
      ],
      "execution_count": 0,
      "outputs": []
    },
    {
      "cell_type": "code",
      "metadata": {
        "id": "tD3bm1HXRdxt",
        "colab_type": "code",
        "colab": {}
      },
      "source": [
        "X_len = new_X.shape[1]"
      ],
      "execution_count": 0,
      "outputs": []
    },
    {
      "cell_type": "code",
      "metadata": {
        "id": "3D73wheiLXMl",
        "colab_type": "code",
        "colab": {}
      },
      "source": [
        "#X벡터값과 theta값을 받았을 때 도출할 수 있는 logistic model\n",
        "def h(theta, X):\n",
        "  z = np.dot(X,theta)\n",
        "  return 1./(np.exp(-z)+1)"
      ],
      "execution_count": 0,
      "outputs": []
    },
    {
      "cell_type": "code",
      "metadata": {
        "id": "vlaVZ13fOZkE",
        "colab_type": "code",
        "colab": {}
      },
      "source": [
        "#Objective function\n",
        "def ObjectiveFunc(theta, X, y,m):\n",
        "  for_0 = np.dot(-np.array(y).T,np.log(h(theta,X)))\n",
        "  for_1 = np.dot((1-np.array(y)).T,np.log(1-h(theta,X)))\n",
        "  return float( (1./m) * ( np.sum(for_0 - for_1)  ) )"
      ],
      "execution_count": 0,
      "outputs": []
    },
    {
      "cell_type": "code",
      "metadata": {
        "id": "W2PQWTLNObL_",
        "colab_type": "code",
        "colab": {}
      },
      "source": [
        "# Gradient descent using ObjectiveFunc\n",
        "iteration = 10000000 # hyperparameter\n",
        "alpha = 0.0058\n",
        "\n",
        "def GradientDescent(X,y,theta,m):\n",
        "    #plotting위해 저장하는 history\n",
        "    J_history = [] \n",
        "    #theta_history = []\n",
        "\n",
        "    #iteration\n",
        "    for i in range(iteration):\n",
        "        tmp = theta #동시에 update하기 위해선 교환하기 위한 새로운 변수가 필요\n",
        "        \n",
        "        #history값 저장 \n",
        "        J_history.append(ObjectiveFunc(theta,X,y,m))\n",
        "        #theta_history.append(list(theta[:,0]))\n",
        "\n",
        "        #update theta\n",
        "        for j in range(len(tmp)):\n",
        "            tmp[j] = theta[j] - (alpha/m)*np.sum((h(theta,X) - y)*np.array(X[:,j]).reshape(m,1))\n",
        "        theta = tmp \n",
        "    return theta, theta_history, J_history"
      ],
      "execution_count": 0,
      "outputs": []
    },
    {
      "cell_type": "code",
      "metadata": {
        "id": "K12wRY6yOdvq",
        "colab_type": "code",
        "colab": {}
      },
      "source": [
        "#theta초깃값 \n",
        "initial_theta=np.zeros((new_X.shape[1],1))"
      ],
      "execution_count": 0,
      "outputs": []
    },
    {
      "cell_type": "code",
      "metadata": {
        "id": "5qOWasHlOg8l",
        "colab_type": "code",
        "colab": {}
      },
      "source": [
        "# Gradient descent계산\n",
        "theta, theta_history, J_history = GradientDescent(new_X,y, initial_theta,m)"
      ],
      "execution_count": 0,
      "outputs": []
    },
    {
      "cell_type": "code",
      "metadata": {
        "id": "-dUIL1ByXTzM",
        "colab_type": "code",
        "colab": {
          "base_uri": "https://localhost:8080/",
          "height": 36
        },
        "outputId": "860e856a-04ac-43d8-c54c-c6f7b6acdce5"
      },
      "source": [
        "print(new_X.shape)"
      ],
      "execution_count": 52,
      "outputs": [
        {
          "output_type": "stream",
          "text": [
            "(118, 15)\n"
          ],
          "name": "stdout"
        }
      ]
    },
    {
      "cell_type": "code",
      "metadata": {
        "id": "VXNH-Lx2SibH",
        "colab_type": "code",
        "colab": {
          "base_uri": "https://localhost:8080/",
          "height": 297
        },
        "outputId": "8a631549-0c0d-4720-805a-fea8f7d41649"
      },
      "source": [
        "theta #확인 "
      ],
      "execution_count": 53,
      "outputs": [
        {
          "output_type": "execute_result",
          "data": {
            "text/plain": [
              "array([[ 4.11892407],\n",
              "       [ 1.5086955 ],\n",
              "       [ 3.92937819],\n",
              "       [-5.01885527],\n",
              "       [-9.78544482],\n",
              "       [-8.10982078],\n",
              "       [ 2.53575789],\n",
              "       [ 0.77087997],\n",
              "       [ 8.06184761],\n",
              "       [ 2.79605625],\n",
              "       [-9.32532978],\n",
              "       [10.03578396],\n",
              "       [-9.53197069],\n",
              "       [-9.40155841],\n",
              "       [-6.30811206]])"
            ]
          },
          "metadata": {
            "tags": []
          },
          "execution_count": 53
        }
      ]
    },
    {
      "cell_type": "markdown",
      "metadata": {
        "id": "4FTm99AtdLSZ",
        "colab_type": "text"
      },
      "source": [
        "## 3. train cost "
      ]
    },
    {
      "cell_type": "code",
      "metadata": {
        "id": "Q-dtAglXXIGV",
        "colab_type": "code",
        "colab": {
          "base_uri": "https://localhost:8080/",
          "height": 204
        },
        "outputId": "03094a6a-e157-4c66-efe6-0fd23f500809"
      },
      "source": [
        "J_history[:10] #cost값 10개만 확인"
      ],
      "execution_count": 54,
      "outputs": [
        {
          "output_type": "execute_result",
          "data": {
            "text/plain": [
              "[0.6931471805599454,\n",
              " 0.6930962142784086,\n",
              " 0.6930453135146788,\n",
              " 0.6929944780572338,\n",
              " 0.6929437076953275,\n",
              " 0.6928930022189844,\n",
              " 0.6928423614189981,\n",
              " 0.6927917850869288,\n",
              " 0.6927412730150996,\n",
              " 0.6926908249965944]"
            ]
          },
          "metadata": {
            "tags": []
          },
          "execution_count": 54
        }
      ]
    },
    {
      "cell_type": "code",
      "metadata": {
        "id": "9Ygq3bIkc6D1",
        "colab_type": "code",
        "colab": {
          "base_uri": "https://localhost:8080/",
          "height": 352
        },
        "outputId": "cf334aa4-fb36-429d-b4f6-bdc27736893e"
      },
      "source": [
        "# cost값 plotting\n",
        "plt.figure(figsize=(5, 5))\n",
        "plt.plot(range(len(J_history)),J_history,'b')"
      ],
      "execution_count": 55,
      "outputs": [
        {
          "output_type": "execute_result",
          "data": {
            "text/plain": [
              "[<matplotlib.lines.Line2D at 0x7f72ac979be0>]"
            ]
          },
          "metadata": {
            "tags": []
          },
          "execution_count": 55
        },
        {
          "output_type": "display_data",
          "data": {
            "image/png": "[encoded data removed]",
            "text/plain": [
              "<Figure size 360x360 with 1 Axes>"
            ]
          },
          "metadata": {
            "tags": [],
            "needs_background": "light"
          }
        }
      ]
    },
    {
      "cell_type": "code",
      "metadata": {
        "id": "XS7xajxpc8Hz",
        "colab_type": "code",
        "colab": {
          "base_uri": "https://localhost:8080/",
          "height": 36
        },
        "outputId": "c5f8916d-3346-4c42-9b38-a739b0d364c0"
      },
      "source": [
        "J_history[-1] # 마지막 train cost값 "
      ],
      "execution_count": 56,
      "outputs": [
        {
          "output_type": "execute_result",
          "data": {
            "text/plain": [
              "0.32505086817100426"
            ]
          },
          "metadata": {
            "tags": []
          },
          "execution_count": 56
        }
      ]
    },
    {
      "cell_type": "markdown",
      "metadata": {
        "id": "aOXnFPQudPCK",
        "colab_type": "text"
      },
      "source": [
        "## 4. train accuracy plotting\n",
        "- 비교하고자 하는 정답값이 정확히 y인지 label인지를 파악하고 정리할 필요가 있음. X가 뭔지, y가 뭔지, label이 뭔지..등 "
      ]
    },
    {
      "cell_type": "code",
      "metadata": {
        "id": "nKTzohZZdABH",
        "colab_type": "code",
        "colab": {}
      },
      "source": [
        "# accuracy 정의 \n",
        "def accuracy(X, y, threshold=0.67):\n",
        "  pred = (h(theta, new_X)>=threshold).astype(int) #예측한 값\n",
        "  acc = np.mean(pred == y) # 실제값과 같은지를 비교하여 전체 len으로 나눔 \n",
        "  return acc * 100"
      ],
      "execution_count": 0,
      "outputs": []
    },
    {
      "cell_type": "code",
      "metadata": {
        "id": "Z-K3dListtzn",
        "colab_type": "code",
        "colab": {
          "base_uri": "https://localhost:8080/",
          "height": 36
        },
        "outputId": "71fb191b-3af3-42c4-96ea-18f0c1b4a910"
      },
      "source": [
        "accuracy = accuracy(new_X, label)\n",
        "print(accuracy)"
      ],
      "execution_count": 214,
      "outputs": [
        {
          "output_type": "stream",
          "text": [
            "50.12927319735708\n"
          ],
          "name": "stdout"
        }
      ]
    },
    {
      "cell_type": "markdown",
      "metadata": {
        "id": "SIyyBfWSvcgp",
        "colab_type": "text"
      },
      "source": [
        "## 5. plot the optimal classifier\n",
        "- converge 될 때의 optimal classifier을 그린다. \n",
        "- 원래 데이터 위에 classifier을 겹쳐서 그린다.\n",
        "- python3의 contour 함수를 사용한다. "
      ]
    },
    {
      "cell_type": "code",
      "metadata": {
        "id": "Erdje__ivm7z",
        "colab_type": "code",
        "colab": {
          "base_uri": "https://localhost:8080/",
          "height": 297
        },
        "outputId": "292b5785-18c1-4da1-93e9-3c141f2d6a55"
      },
      "source": [
        "plt.figure()\n",
        "# classifier\n",
        "\n",
        "# data plotting\n",
        "plt.scatter(x1_label0, x2_label0, c='b')\n",
        "plt.scatter(x1_label1, x2_label1, c='r')\n",
        "plt.tight_layout()\n",
        "plt.gca().set_aspect('equal', adjustable='box')\n",
        "plt.show()"
      ],
      "execution_count": 133,
      "outputs": [
        {
          "output_type": "display_data",
          "data": {
            "image/png": "[encoded data removed]",
            "text/plain": [
              "<Figure size 432x288 with 1 Axes>"
            ]
          },
          "metadata": {
            "tags": [],
            "needs_background": "light"
          }
        }
      ]
    },
    {
      "cell_type": "code",
      "metadata": {
        "id": "0FQNma6xyQcM",
        "colab_type": "code",
        "colab": {}
      },
      "source": [
        ""
      ],
      "execution_count": 0,
      "outputs": []
    }
  ]
}