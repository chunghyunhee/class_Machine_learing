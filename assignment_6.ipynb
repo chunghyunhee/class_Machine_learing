{
  "nbformat": 4,
  "nbformat_minor": 0,
  "metadata": {
    "colab": {
      "name": "assignment_6.ipynb",
      "provenance": [],
      "collapsed_sections": []
    },
    "kernelspec": {
      "name": "python3",
      "display_name": "Python 3"
    }
  },
  "cells": [
    {
      "cell_type": "markdown",
      "metadata": {
        "id": "x3vZAjgxLEOk",
        "colab_type": "text"
      },
      "source": [
        "## 1. input data\n",
        "\n"
      ]
    },
    {
      "cell_type": "code",
      "metadata": {
        "id": "6wVFpqthLA6n",
        "colab_type": "code",
        "colab": {}
      },
      "source": [
        "import numpy as np\n",
        "import matplotlib.pyplot as plt\n",
        "\n",
        "data    = np.genfromtxt(\"data-nonlinear.txt\", delimiter=',')"
      ],
      "execution_count": 0,
      "outputs": []
    },
    {
      "cell_type": "code",
      "metadata": {
        "id": "tUdaT56cLRAl",
        "colab_type": "code",
        "colab": {}
      },
      "source": [
        "x1  = data[:, 0]\n",
        "x2  = data[:, 1]\n",
        "label   = data[:, 2]\n",
        "\n",
        "x1_label0 = x1[label == 0]\n",
        "x2_label0 = x2[label == 0]\n",
        "\n",
        "x1_label1 = x1[label == 1]\n",
        "x2_label1 = x2[label == 1]"
      ],
      "execution_count": 0,
      "outputs": []
    },
    {
      "cell_type": "code",
      "metadata": {
        "id": "TdkO_98vLUSi",
        "colab_type": "code",
        "outputId": "82782ab0-276e-4f44-f52a-f7f5d0c81fa1",
        "colab": {
          "base_uri": "https://localhost:8080/",
          "height": 297
        }
      },
      "source": [
        "# data plotting\n",
        "plt.figure()\n",
        "plt.scatter(x1_label0, x2_label0, c='b')\n",
        "plt.scatter(x1_label1, x2_label1, c='r')\n",
        "plt.tight_layout()\n",
        "plt.gca().set_aspect('equal', adjustable='box')\n",
        "plt.show()"
      ],
      "execution_count": 3,
      "outputs": [
        {
          "output_type": "display_data",
          "data": {
            "image/png": "[encoded data removed]",
            "text/plain": [
              "<Figure size 432x288 with 1 Axes>"
            ]
          },
          "metadata": {
            "tags": [],
            "needs_background": "light"
          }
        }
      ]
    },
    {
      "cell_type": "code",
      "metadata": {
        "id": "sKiSVPi8OC8I",
        "colab_type": "code",
        "colab": {}
      },
      "source": [
        "data = np.array([x1,x2,label])"
      ],
      "execution_count": 0,
      "outputs": []
    },
    {
      "cell_type": "code",
      "metadata": {
        "id": "_h8K9DXdOGBD",
        "colab_type": "code",
        "colab": {}
      },
      "source": [
        "X = np.transpose(np.array(data[:-1]))\n",
        "y = np.transpose(np.array(data[-1:]))\n",
        "m = y.size"
      ],
      "execution_count": 0,
      "outputs": []
    },
    {
      "cell_type": "code",
      "metadata": {
        "id": "tCY1BicoOLLS",
        "colab_type": "code",
        "colab": {}
      },
      "source": [
        "# X에는 1을 가지는 열을 삽입한다(interception계산을 위해)\n",
        "X = np.insert(X,0,1,axis=1)"
      ],
      "execution_count": 0,
      "outputs": []
    },
    {
      "cell_type": "markdown",
      "metadata": {
        "id": "amDr4GqbL9fF",
        "colab_type": "text"
      },
      "source": [
        "## 2. g(x,y; $\\theta$) 를 작성한다. \n",
        "- degree = 4로 두면 총 15개의 term이 생긴다\n",
        "- 혹은 threshold 조정하는 방법 : classifier의 threshold를 조정하는 것 \n",
        "- polynomial 형태의 z를 만들어 주는 것이 중요함. \n",
        "- g(x,y;$\\theta$) = $\\theta_0 + \\theta_1 x_1+\\theta_2 x_2 + \\theta_3 x_1^2 + \\theta_4 x_2^2 + \\theta_5 x_1 x_2 + \\theta_6 x_1^3 + \\theta_7 x_2^3 + \\theta_8 x_1^2 x_2 + \\theta_9 x_1 x_2^2 + \\theta_7 x_1^4 + \\theta_8 x_2^4 + \\theta_9 x_1^3 x_2 + \\theta_10 x_1^3 x_2^2 + \\theta_11 x_1^3 x_2^3 + \\theta_12 x_1 x_2^3 + \\theta_13 x_1^2 x_2^3 + \\theta_14 x_1^2 x_1^2$"
      ]
    },
    {
      "cell_type": "code",
      "metadata": {
        "id": "sRuUmqMxOkDa",
        "colab_type": "code",
        "colab": {}
      },
      "source": [
        "# 여기서는 z값이 단순히 theta.T*X값으로 정의되지는 않는다. \n",
        "# 최대 16차원의 non-linear boundary를 위한 식을 정의해야 한다. \n",
        "#식을 정의하는 방법?\n",
        "def NewFeatureMake( x1col, x2col ):\n",
        "    # 차수 정의 \n",
        "    degrees = 4\n",
        "    # X의 첫 열은 1로 이루어진 열 for intercept \n",
        "    out = np.ones( (x1col.shape[0], 1) )\n",
        "\n",
        "    # 각 차수별로 가능한 모든 수식을 작성하기 위한 이중 for문 \n",
        "    for i in range(1, degrees+1):\n",
        "        for j in range(0, i+1):\n",
        "            term1 = x1col ** (i-j)\n",
        "            term2 = x2col ** (j)\n",
        "            term  = (term1 * term2).reshape( term1.shape[0], 1 ) \n",
        "            out   = np.hstack(( out, term ))\n",
        "    return out"
      ],
      "execution_count": 0,
      "outputs": []
    },
    {
      "cell_type": "code",
      "metadata": {
        "id": "bMrkTqeURKT6",
        "colab_type": "code",
        "colab": {}
      },
      "source": [
        "new_X = NewFeatureMake(X[:,1],X[:,2])"
      ],
      "execution_count": 0,
      "outputs": []
    },
    {
      "cell_type": "code",
      "metadata": {
        "id": "EUOQXAI7irYZ",
        "colab_type": "code",
        "colab": {
          "base_uri": "https://localhost:8080/",
          "height": 36
        },
        "outputId": "96845bf9-2faf-43c8-a09d-56d451902f9d"
      },
      "source": [
        "new_X.shape"
      ],
      "execution_count": 87,
      "outputs": [
        {
          "output_type": "execute_result",
          "data": {
            "text/plain": [
              "(118, 15)"
            ]
          },
          "metadata": {
            "tags": []
          },
          "execution_count": 87
        }
      ]
    },
    {
      "cell_type": "code",
      "metadata": {
        "id": "tD3bm1HXRdxt",
        "colab_type": "code",
        "outputId": "f80e79f5-280f-4f76-a669-48f93891e5b1",
        "colab": {
          "base_uri": "https://localhost:8080/",
          "height": 36
        }
      },
      "source": [
        "X_len = new_X.shape[1]\n",
        "X_len #15가 나와야 한다. , 확인 "
      ],
      "execution_count": 9,
      "outputs": [
        {
          "output_type": "execute_result",
          "data": {
            "text/plain": [
              "15"
            ]
          },
          "metadata": {
            "tags": []
          },
          "execution_count": 9
        }
      ]
    },
    {
      "cell_type": "code",
      "metadata": {
        "id": "3D73wheiLXMl",
        "colab_type": "code",
        "colab": {}
      },
      "source": [
        "#X벡터값과 theta값을 받았을 때 도출할 수 있는 logistic model\n",
        "def h(theta, X):\n",
        "  z = np.dot(X,theta)\n",
        "  return 1./(np.exp(-z)+1)"
      ],
      "execution_count": 0,
      "outputs": []
    },
    {
      "cell_type": "code",
      "metadata": {
        "id": "vlaVZ13fOZkE",
        "colab_type": "code",
        "colab": {}
      },
      "source": [
        "#Objective function\n",
        "def ObjectiveFunc(theta, X, y,m):\n",
        "  for_0 = np.dot(-np.array(y).T,np.log(h(theta,X)))\n",
        "  for_1 = np.dot((1-np.array(y)).T,np.log(1-h(theta,X)))\n",
        "  return float( (1./m) * ( np.sum(for_0 - for_1)  ) )"
      ],
      "execution_count": 0,
      "outputs": []
    },
    {
      "cell_type": "code",
      "metadata": {
        "id": "W2PQWTLNObL_",
        "colab_type": "code",
        "colab": {}
      },
      "source": [
        "# Gradient descent using ObjectiveFunc\n",
        "iteration = 300000 # hyperparameter\n",
        "alpha = 0.0069\n",
        "\n",
        "def GradientDescent(X,y,theta,m):\n",
        "    #plotting위해 저장하는 history\n",
        "    J_history = [] \n",
        "    theta_history = []\n",
        "\n",
        "    #iteration\n",
        "    for i in range(iteration):\n",
        "        tmp = theta #동시에 update하기 위해선 교환하기 위한 새로운 변수가 필요\n",
        "        \n",
        "        #history값 저장 \n",
        "        J_history.append(ObjectiveFunc(theta,X,y,m))\n",
        "        theta_history.append(list(theta[:,0]))\n",
        "\n",
        "        #update theta\n",
        "        for j in range(len(tmp)):\n",
        "            tmp[j] = theta[j] - (alpha/m)*np.sum((h(theta,X) - y)*np.array(X[:,j]).reshape(m,1))\n",
        "        theta = tmp \n",
        "    return theta, theta_history, J_history"
      ],
      "execution_count": 0,
      "outputs": []
    },
    {
      "cell_type": "code",
      "metadata": {
        "id": "K12wRY6yOdvq",
        "colab_type": "code",
        "colab": {}
      },
      "source": [
        "#theta초깃값 \n",
        "theta=np.zeros((new_X.shape[1],1))"
      ],
      "execution_count": 0,
      "outputs": []
    },
    {
      "cell_type": "code",
      "metadata": {
        "id": "5qOWasHlOg8l",
        "colab_type": "code",
        "colab": {}
      },
      "source": [
        "# Gradient descent계산\n",
        "theta, theta_history, J_history = GradientDescent(new_X,y, theta,m)"
      ],
      "execution_count": 0,
      "outputs": []
    },
    {
      "cell_type": "code",
      "metadata": {
        "id": "VXNH-Lx2SibH",
        "colab_type": "code",
        "outputId": "125a368d-27f1-4f04-9dfa-ba522169fddb",
        "colab": {
          "base_uri": "https://localhost:8080/",
          "height": 297
        }
      },
      "source": [
        "theta #확인 (총15개의 theta가 나온다. )"
      ],
      "execution_count": 15,
      "outputs": [
        {
          "output_type": "execute_result",
          "data": {
            "text/plain": [
              "array([[ 3.86730586],\n",
              "       [ 2.64160215],\n",
              "       [ 4.3259162 ],\n",
              "       [-6.27667274],\n",
              "       [-5.45946857],\n",
              "       [-6.43900228],\n",
              "       [ 0.6617736 ],\n",
              "       [-1.98972074],\n",
              "       [-0.61986609],\n",
              "       [-1.01855828],\n",
              "       [-6.27031611],\n",
              "       [ 1.35104111],\n",
              "       [-2.70513966],\n",
              "       [-2.62172525],\n",
              "       [-4.46911386]])"
            ]
          },
          "metadata": {
            "tags": []
          },
          "execution_count": 15
        }
      ]
    },
    {
      "cell_type": "markdown",
      "metadata": {
        "id": "4FTm99AtdLSZ",
        "colab_type": "text"
      },
      "source": [
        "## 3. train cost "
      ]
    },
    {
      "cell_type": "code",
      "metadata": {
        "id": "Q-dtAglXXIGV",
        "colab_type": "code",
        "outputId": "a99f71c2-4260-42ae-ff2e-3349a1f808f0",
        "colab": {
          "base_uri": "https://localhost:8080/",
          "height": 204
        }
      },
      "source": [
        "J_history[:10] #cost값 10개만 확인"
      ],
      "execution_count": 16,
      "outputs": [
        {
          "output_type": "execute_result",
          "data": {
            "text/plain": [
              "[0.6931471805599454,\n",
              " 0.6930865546438951,\n",
              " 0.693026021410182,\n",
              " 0.6929655805029302,\n",
              " 0.6929052315678137,\n",
              " 0.69284497425205,\n",
              " 0.6927848082043929,\n",
              " 0.6927247330751265,\n",
              " 0.692664748516057,\n",
              " 0.6926048541805089]"
            ]
          },
          "metadata": {
            "tags": []
          },
          "execution_count": 16
        }
      ]
    },
    {
      "cell_type": "code",
      "metadata": {
        "id": "9Ygq3bIkc6D1",
        "colab_type": "code",
        "outputId": "a85c42b7-3544-4a13-fe9d-14310006106e",
        "colab": {
          "base_uri": "https://localhost:8080/",
          "height": 339
        }
      },
      "source": [
        "# cost값 plotting\n",
        "plt.figure(figsize=(5, 5))\n",
        "plt.plot(range(len(J_history)),J_history,'b')"
      ],
      "execution_count": 17,
      "outputs": [
        {
          "output_type": "execute_result",
          "data": {
            "text/plain": [
              "[<matplotlib.lines.Line2D at 0x7ff633831c18>]"
            ]
          },
          "metadata": {
            "tags": []
          },
          "execution_count": 17
        },
        {
          "output_type": "display_data",
          "data": {
            "image/png": "[encoded data removed]",
            "text/plain": [
              "<Figure size 360x360 with 1 Axes>"
            ]
          },
          "metadata": {
            "tags": [],
            "needs_background": "light"
          }
        }
      ]
    },
    {
      "cell_type": "code",
      "metadata": {
        "id": "XS7xajxpc8Hz",
        "colab_type": "code",
        "outputId": "50fff199-a591-46a4-ea24-bbbb2478c318",
        "colab": {
          "base_uri": "https://localhost:8080/",
          "height": 36
        }
      },
      "source": [
        "J_history[-1] # 마지막 train cost값 "
      ],
      "execution_count": 18,
      "outputs": [
        {
          "output_type": "execute_result",
          "data": {
            "text/plain": [
              "0.3377502545533913"
            ]
          },
          "metadata": {
            "tags": []
          },
          "execution_count": 18
        }
      ]
    },
    {
      "cell_type": "markdown",
      "metadata": {
        "id": "aOXnFPQudPCK",
        "colab_type": "text"
      },
      "source": [
        "## 4. train accuracy plotting"
      ]
    },
    {
      "cell_type": "code",
      "metadata": {
        "id": "nKTzohZZdABH",
        "colab_type": "code",
        "colab": {}
      },
      "source": [
        "# accuracy 정의 \n",
        "def accuracy(X, y, threshold=0.55):\n",
        "  pred = (h(theta, new_X)>=threshold).astype(int) #예측한 값\n",
        "  acc = np.mean(pred.flatten() == y.flatten()) # 실제값과 같은지를 비교하여 전체 len으로 나눔 \n",
        "  return acc * 100"
      ],
      "execution_count": 0,
      "outputs": []
    },
    {
      "cell_type": "code",
      "metadata": {
        "id": "5f8jirRJq6xc",
        "colab_type": "code",
        "outputId": "c715d992-2f92-4a32-808d-1e694f73927a",
        "colab": {
          "base_uri": "https://localhost:8080/",
          "height": 36
        }
      },
      "source": [
        "# hyperparameter 조정하기 \n",
        "threshold=0.49\n",
        "pred = (h(theta, new_X)>=threshold).astype(int) #예측한 값\n",
        "np.mean(pred.flatten() == y.flatten()) # 실제값과 같은지를 비교하여 전체 len으로 나눔(하나하나의 값이 나오는지를 확인한다. -> 맞는수 / 전체 갯수 이므로 )"
      ],
      "execution_count": 20,
      "outputs": [
        {
          "output_type": "execute_result",
          "data": {
            "text/plain": [
              "0.8389830508474576"
            ]
          },
          "metadata": {
            "tags": []
          },
          "execution_count": 20
        }
      ]
    },
    {
      "cell_type": "code",
      "metadata": {
        "id": "Z-K3dListtzn",
        "colab_type": "code",
        "outputId": "40fdf104-1863-4599-b95f-8098c37df3bd",
        "colab": {
          "base_uri": "https://localhost:8080/",
          "height": 36
        }
      },
      "source": [
        "accuracy = accuracy(new_X, label)\n",
        "print(accuracy) #85%에 해당 "
      ],
      "execution_count": 21,
      "outputs": [
        {
          "output_type": "stream",
          "text": [
            "85.59322033898306\n"
          ],
          "name": "stdout"
        }
      ]
    },
    {
      "cell_type": "code",
      "metadata": {
        "id": "GK_E4yeRtzc8",
        "colab_type": "code",
        "colab": {}
      },
      "source": [
        "#h(theta, new_X) #예측값 0~1의 값"
      ],
      "execution_count": 0,
      "outputs": []
    },
    {
      "cell_type": "markdown",
      "metadata": {
        "id": "SIyyBfWSvcgp",
        "colab_type": "text"
      },
      "source": [
        "## 5. plot the optimal classifier\n",
        "- converge 될 때의 optimal classifier을 그린다. g = 0값이 결국 coundary가 된다. \n",
        "- 원래 데이터 위에 classifier을 겹쳐서 그린다.\n",
        "- python3의 contour 함수를 사용한다. "
      ]
    },
    {
      "cell_type": "code",
      "metadata": {
        "id": "EaC8j9Vx2_HJ",
        "colab_type": "code",
        "colab": {}
      },
      "source": [
        "# x좌표,y좌표에 해당하는 값은 0~1이다\n",
        "x1_range = np.linspace(-2,2)\n",
        "x2_range = np.linspace(-2,2)"
      ],
      "execution_count": 0,
      "outputs": []
    },
    {
      "cell_type": "code",
      "metadata": {
        "id": "4xAcbAkNcmzq",
        "colab_type": "code",
        "colab": {
          "base_uri": "https://localhost:8080/",
          "height": 36
        },
        "outputId": "08dc6085-7c08-4714-a05b-01f5bbb1c1f4"
      },
      "source": [
        "# 생성한 새로운 차수를 담을 새로운 array 초기화 \n",
        "z_range = np.zeros((len(x1_range), len(x2_range)))\n",
        "z_range.shape"
      ],
      "execution_count": 82,
      "outputs": [
        {
          "output_type": "execute_result",
          "data": {
            "text/plain": [
              "(50, 50)"
            ]
          },
          "metadata": {
            "tags": []
          },
          "execution_count": 82
        }
      ]
    },
    {
      "cell_type": "code",
      "metadata": {
        "id": "aiZ6ndPW6c-F",
        "colab_type": "code",
        "colab": {}
      },
      "source": [
        "# z값은 결국 g()=0에 해당하는 line을 그리고자 하는 형태이다. \n",
        "# 해당 x1,x2값에 대해 동일한 class를 가지는 값을 표현하면 된다. \n",
        "for i in range(len(x1_range)):\n",
        "    for j in range(len(x2_range)):\n",
        "        myfeaturesij = NewFeatureMake(np.array([x1_range[i]]),np.array([x2_range[j]]))\n",
        "        z_range[i][j] = np.dot(theta.T,myfeaturesij.T)\n",
        "z_range = z_range.transpose()"
      ],
      "execution_count": 0,
      "outputs": []
    },
    {
      "cell_type": "code",
      "metadata": {
        "id": "Q6OQ4HMWdKpH",
        "colab_type": "code",
        "colab": {
          "base_uri": "https://localhost:8080/",
          "height": 369
        },
        "outputId": "8ffeeccf-eb78-4db9-b4ba-584bdb20423b"
      },
      "source": [
        "#boundary plotting\n",
        "plt.figure(figsize=(8,5))\n",
        "X1_range, X2_range = np.meshgrid(x1_range, x2_range)\n",
        "#boundary_plotting = plt.contour(X1_range, X2_range, z_range.T)\n",
        "#하나의 등고선만을 표현 \n",
        "boundary_plotting = plt.contour(X1_range, X2_range, z_range.T,[0])\n",
        "#data plotting\n",
        "plt.scatter(x1_label0, x2_label0, c='b')\n",
        "plt.scatter(x1_label1, x2_label1, c='r')\n",
        "plt.tight_layout()\n",
        "plt.gca().set_aspect('equal', adjustable='box')\n",
        "plt.show()"
      ],
      "execution_count": 89,
      "outputs": [
        {
          "output_type": "display_data",
          "data": {
            "image/png": "[encoded data removed]",
            "text/plain": [
              "<Figure size 576x360 with 1 Axes>"
            ]
          },
          "metadata": {
            "tags": [],
            "needs_background": "light"
          }
        }
      ]
    },
    {
      "cell_type": "code",
      "metadata": {
        "id": "0FQNma6xyQcM",
        "colab_type": "code",
        "colab": {}
      },
      "source": [
        ""
      ],
      "execution_count": 0,
      "outputs": []
    }
  ]
}