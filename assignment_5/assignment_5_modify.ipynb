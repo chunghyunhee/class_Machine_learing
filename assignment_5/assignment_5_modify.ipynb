{
  "nbformat": 4,
  "nbformat_minor": 0,
  "metadata": {
    "colab": {
      "name": "assignment_5.ipynb",
      "provenance": [],
      "collapsed_sections": []
    },
    "kernelspec": {
      "name": "python3",
      "display_name": "Python 3"
    }
  },
  "cells": [
    {
      "cell_type": "markdown",
      "metadata": {
        "id": "2T4Veabgrv2P",
        "colab_type": "text"
      },
      "source": [
        "## 1. plotting data"
      ]
    },
    {
      "cell_type": "code",
      "metadata": {
        "id": "2jQqp3-nrrWW",
        "colab_type": "code",
        "colab": {}
      },
      "source": [
        "import numpy as np\n",
        "import matplotlib.pyplot as plt\n",
        "\n",
        "data    = np.genfromtxt(\"data.txt\", delimiter=',')\n",
        "#주어진 데이터의 형태(x1,x2,l)\n",
        "x1      = data[:, 0]\n",
        "x2      = data[:, 1]\n",
        "label   = data[:, 2]"
      ],
      "execution_count": 0,
      "outputs": []
    },
    {
      "cell_type": "code",
      "metadata": {
        "id": "1yJiW6csr70-",
        "colab_type": "code",
        "outputId": "a7fd1cf0-0392-4110-a1d7-f5752e59d9e1",
        "colab": {
          "base_uri": "https://localhost:8080/",
          "height": 339
        }
      },
      "source": [
        "#(x,y)에 대해 labelling을 plotting\n",
        "x1_label0    = x1[label == 0]\n",
        "x1_label1    = x1[label == 1]\n",
        "\n",
        "x2_label0    = x2[label == 0]\n",
        "x2_label1    = x2[label == 1]\n",
        "\n",
        "plt.figure(figsize=(5, 5))\n",
        "plt.scatter(x1_label0, x2_label0, alpha=0.3, c='b')\n",
        "plt.scatter(x1_label1, x2_label1, alpha=0.3, c='r')\n",
        "plt.legend()\n",
        "plt.show()"
      ],
      "execution_count": 2,
      "outputs": [
        {
          "output_type": "stream",
          "text": [
            "No handles with labels found to put in legend.\n"
          ],
          "name": "stderr"
        },
        {
          "output_type": "display_data",
          "data": {
            "image/png": "[encoded data removed]",
            "text/plain": [
              "<Figure size 360x360 with 1 Axes>"
            ]
          },
          "metadata": {
            "tags": [],
            "needs_background": "light"
          }
        }
      ]
    },
    {
      "cell_type": "code",
      "metadata": {
        "id": "8yusbvQTyKSx",
        "colab_type": "code",
        "colab": {}
      },
      "source": [
        "data = np.array([x1,x2,label])"
      ],
      "execution_count": 0,
      "outputs": []
    },
    {
      "cell_type": "code",
      "metadata": {
        "id": "paaqU-x-yhCR",
        "colab_type": "code",
        "colab": {}
      },
      "source": [
        "X = np.transpose(np.array(data[:-1]))\n",
        "y = np.transpose(np.array(data[-1:]))\n",
        "m = y.size"
      ],
      "execution_count": 0,
      "outputs": []
    },
    {
      "cell_type": "code",
      "metadata": {
        "id": "rEMyWTY_yrLs",
        "colab_type": "code",
        "colab": {}
      },
      "source": [
        "# X에는 1을 가지는 열을 삽입한다(interception계산을 위해)\n",
        "X = np.insert(X,0,1,axis=1)"
      ],
      "execution_count": 0,
      "outputs": []
    },
    {
      "cell_type": "markdown",
      "metadata": {
        "id": "6vx7gKHWuTQH",
        "colab_type": "text"
      },
      "source": [
        "## 2. define function\n",
        "- linear regression에서 함수를 정의했던 것처럼 logistic에서도 h, 비용함수(ObjectiveFunc), GradientDescent 함수를 정의한다\n",
        "- 마찬가지로 데이터또한 X=(1,x1,x2)로 두고 theta=(theta0, theta1, theta2)형태로 만든다. y는 label을 나타내는 벡터값"
      ]
    },
    {
      "cell_type": "code",
      "metadata": {
        "id": "6QHrULI2syob",
        "colab_type": "code",
        "colab": {}
      },
      "source": [
        "#X벡터값과 theta값을 받았을 때 도출할 수 있는 logistic model\n",
        "def h(theta, X):\n",
        "  z = np.dot(X,theta)\n",
        "  return 1./(np.exp(-z)+1)"
      ],
      "execution_count": 0,
      "outputs": []
    },
    {
      "cell_type": "code",
      "metadata": {
        "id": "wCx2AlGfu2hB",
        "colab_type": "code",
        "colab": {}
      },
      "source": [
        "#Objective function\n",
        "def ObjectiveFunc(theta, X, y,m):\n",
        "  for_0 = np.dot(-np.array(y).T,np.log(h(theta,X)))\n",
        "  for_1 = np.dot((1-np.array(y)).T,np.log(1-h(theta,X)))\n",
        "  return float( (1./m) * ( np.sum(for_0 - for_1)  ) )"
      ],
      "execution_count": 0,
      "outputs": []
    },
    {
      "cell_type": "code",
      "metadata": {
        "id": "FZL0EpTzw9jn",
        "colab_type": "code",
        "colab": {}
      },
      "source": [
        "# Gradient descent using ObjectiveFunc\n",
        "iteration = 800000 # hyperparameter\n",
        "alpha = 0.0056\n",
        "\n",
        "def GradientDescent(X,y,theta,m):\n",
        "    #plotting위해 저장하는 history\n",
        "    J_history = [] \n",
        "    theta_history = []\n",
        "\n",
        "    #iteration\n",
        "    for i in range(iteration):\n",
        "        tmp = theta #동시에 update하기 위해선 교환하기 위한 새로운 변수가 필요\n",
        "        \n",
        "        #history값 저장 \n",
        "        J_history.append(ObjectiveFunc(theta,X,y,m))\n",
        "        theta_history.append(list(theta[:,0]))\n",
        "\n",
        "        #update theta\n",
        "        for j in range(len(tmp)):\n",
        "            tmp[j] = theta[j] - (alpha/m)*np.sum((h(theta,X) - y)*np.array(X[:,j]).reshape(m,1))\n",
        "        theta = tmp \n",
        "    return theta, theta_history, J_history"
      ],
      "execution_count": 0,
      "outputs": []
    },
    {
      "cell_type": "code",
      "metadata": {
        "id": "rlPB5vThzBwb",
        "colab_type": "code",
        "colab": {}
      },
      "source": [
        "#theta초깃값 \n",
        "theta = np.array([[-0.0001],[0.0001],[0.0001]])"
      ],
      "execution_count": 0,
      "outputs": []
    },
    {
      "cell_type": "code",
      "metadata": {
        "id": "sGtr02j4xpN5",
        "colab_type": "code",
        "colab": {}
      },
      "source": [
        "# Gradient descent계산\n",
        "theta, theta_history, J_history = GradientDescent(X,y, theta,m)"
      ],
      "execution_count": 0,
      "outputs": []
    },
    {
      "cell_type": "code",
      "metadata": {
        "id": "hDk7_EIkzIFm",
        "colab_type": "code",
        "outputId": "16c1b113-7e69-454f-b9fa-af6b53010e38",
        "colab": {
          "base_uri": "https://localhost:8080/",
          "height": 73
        }
      },
      "source": [
        "theta #확인"
      ],
      "execution_count": 280,
      "outputs": [
        {
          "output_type": "execute_result",
          "data": {
            "text/plain": [
              "array([[-23.29779621],\n",
              "       [  0.1913306 ],\n",
              "       [  0.18638953]])"
            ]
          },
          "metadata": {
            "tags": []
          },
          "execution_count": 280
        }
      ]
    },
    {
      "cell_type": "code",
      "metadata": {
        "id": "z6imls6Czmuh",
        "colab_type": "code",
        "outputId": "0e7a9f70-677e-4035-e8be-7bcdc4c8cdc4",
        "colab": {
          "base_uri": "https://localhost:8080/",
          "height": 204
        }
      },
      "source": [
        "J_history[:10] #cost값 10개만 확인"
      ],
      "execution_count": 281,
      "outputs": [
        {
          "output_type": "execute_result",
          "data": {
            "text/plain": [
              "[0.6908522566668558,\n",
              " 2.2845943662573935,\n",
              " 2.121730137773681,\n",
              " 2.1161088884496038,\n",
              " 1.8898697252188226,\n",
              " 2.68134460937687,\n",
              " 0.9818369856039312,\n",
              " 2.410512349205688,\n",
              " 1.874319691223128,\n",
              " 1.9687348232164488]"
            ]
          },
          "metadata": {
            "tags": []
          },
          "execution_count": 281
        }
      ]
    },
    {
      "cell_type": "code",
      "metadata": {
        "id": "oyliysvHz1w5",
        "colab_type": "code",
        "outputId": "103d2175-6805-4a8b-9e49-4ac13b34a2dd",
        "colab": {
          "base_uri": "https://localhost:8080/",
          "height": 339
        }
      },
      "source": [
        "# cost값 plotting\n",
        "plt.figure(figsize=(5, 5))\n",
        "plt.plot(range(len(J_history)),J_history,'b')"
      ],
      "execution_count": 282,
      "outputs": [
        {
          "output_type": "execute_result",
          "data": {
            "text/plain": [
              "[<matplotlib.lines.Line2D at 0x7fbeec1f8e48>]"
            ]
          },
          "metadata": {
            "tags": []
          },
          "execution_count": 282
        },
        {
          "output_type": "display_data",
          "data": {
            "image/png": "[encoded data removed]",
            "text/plain": [
              "<Figure size 360x360 with 1 Axes>"
            ]
          },
          "metadata": {
            "tags": [],
            "needs_background": "light"
          }
        }
      ]
    },
    {
      "cell_type": "code",
      "metadata": {
        "id": "mIlro7Lg9tU1",
        "colab_type": "code",
        "outputId": "91a5ae83-9ae5-450a-87b8-8f69b218f199",
        "colab": {
          "base_uri": "https://localhost:8080/",
          "height": 36
        }
      },
      "source": [
        "J_history[-1]"
      ],
      "execution_count": 283,
      "outputs": [
        {
          "output_type": "execute_result",
          "data": {
            "text/plain": [
              "0.20404913615956546"
            ]
          },
          "metadata": {
            "tags": []
          },
          "execution_count": 283
        }
      ]
    },
    {
      "cell_type": "code",
      "metadata": {
        "id": "4Yu20DuJz4rC",
        "colab_type": "code",
        "colab": {}
      },
      "source": [
        "theta0_history = [] \n",
        "theta1_history = []\n",
        "theta2_history = []\n",
        "\n",
        "for i in range(len(theta_history)):\n",
        "  theta0_history.append(theta_history[i][0])\n",
        "  theta1_history.append(theta_history[i][1])\n",
        "  theta2_history.append(theta_history[i][2])"
      ],
      "execution_count": 0,
      "outputs": []
    },
    {
      "cell_type": "code",
      "metadata": {
        "id": "Y4_868Kr0EKF",
        "colab_type": "code",
        "outputId": "b123d9b5-8d67-48f5-f7bd-5c0ad4e93fd7",
        "colab": {
          "base_uri": "https://localhost:8080/",
          "height": 284
        }
      },
      "source": [
        "# plotting each parameter(theta0, theta1, theta2)\n",
        "# 주의할 점은 각 theta별로 분리해서 plotting 해줘야 한다는 점. \n",
        "plt.plot(theta0_history,'r') #theta0 값\n",
        "plt.plot(theta1_history,'g') #theta1 값\n",
        "plt.plot(theta2_history,'b') #theta2 값"
      ],
      "execution_count": 285,
      "outputs": [
        {
          "output_type": "execute_result",
          "data": {
            "text/plain": [
              "[<matplotlib.lines.Line2D at 0x7fbeecfda828>]"
            ]
          },
          "metadata": {
            "tags": []
          },
          "execution_count": 285
        },
        {
          "output_type": "display_data",
          "data": {
            "image/png": "[encoded data removed]",
            "text/plain": [
              "<Figure size 432x288 with 1 Axes>"
            ]
          },
          "metadata": {
            "tags": [],
            "needs_background": "light"
          }
        }
      ]
    },
    {
      "cell_type": "markdown",
      "metadata": {
        "id": "GQhfKlZ91vUs",
        "colab_type": "text"
      },
      "source": [
        "## 3. plotting the obtained Classifier\n",
        "- decision boundary를 기준으로 이로부터 멀어질수록 각 red, blue값이 진해지도록 그린다. \n",
        "- classifier그리고 그위에 데이터 plotting\n",
        "- grid colormap plotting"
      ]
    },
    {
      "cell_type": "code",
      "metadata": {
        "id": "6ileBkxz0K2F",
        "colab_type": "code",
        "colab": {}
      },
      "source": [
        "# 분류되는 값을 저장한다. \n",
        "x_label_1 = [] #1으로 분류되는 값 저장하는 리스트 \n",
        "y_label_1 = []\n",
        "\n",
        "x_label_0 = [] #0으로 분류되는 값 저장하는 리스트 \n",
        "y_label_0 = []\n",
        "\n",
        "for i in np.arange(30,100,0.5):\n",
        "  for j in np.arange(30,100,0.5):\n",
        "    z = theta[0] + i*theta[1] + j*theta[2]\n",
        "    if(z >= 0) : #1로 분류되는 경우의 x,y값\n",
        "      x_label_1.append(i)\n",
        "      y_label_1.append(j)\n",
        "    else:  #0으로 분류되는 경우의 x,y값 \n",
        "      x_label_0.append(i)\n",
        "      y_label_0.append(j)"
      ],
      "execution_count": 0,
      "outputs": []
    },
    {
      "cell_type": "code",
      "metadata": {
        "id": "paAms7XgVgXJ",
        "colab_type": "code",
        "outputId": "4d663dc2-745e-4dc5-9c08-269ec2cde82e",
        "colab": {
          "base_uri": "https://localhost:8080/",
          "height": 284
        }
      },
      "source": [
        "# plot the classifier with data \n",
        "x_boundary = np.arange(30,100,0.5)\n",
        "y_boundary = (-1./theta[2])*(theta[0] + theta[1]*x_boundary)\n",
        "plt.plot(x_boundary,y_boundary)\n",
        "\n",
        "plt.scatter(x1_label0, x2_label0, alpha=0.3, c='b')\n",
        "plt.scatter(x1_label1, x2_label1, alpha=0.3, c='r')"
      ],
      "execution_count": 287,
      "outputs": [
        {
          "output_type": "execute_result",
          "data": {
            "text/plain": [
              "<matplotlib.collections.PathCollection at 0x7fbeed9375f8>"
            ]
          },
          "metadata": {
            "tags": []
          },
          "execution_count": 287
        },
        {
          "output_type": "display_data",
          "data": {
            "image/png": "[encoded data removed]",
            "text/plain": [
              "<Figure size 432x288 with 1 Axes>"
            ]
          },
          "metadata": {
            "tags": [],
            "needs_background": "light"
          }
        }
      ]
    },
    {
      "cell_type": "code",
      "metadata": {
        "id": "HXhIjgfoso2f",
        "colab_type": "code",
        "colab": {}
      },
      "source": [
        "# 각 점에 대해 color을 부여하여 colormap plotting\n"
      ],
      "execution_count": 0,
      "outputs": []
    },
    {
      "cell_type": "code",
      "metadata": {
        "id": "meNzopq1uGIL",
        "colab_type": "code",
        "colab": {}
      },
      "source": [
        ""
      ],
      "execution_count": 0,
      "outputs": []
    }
  ]
}