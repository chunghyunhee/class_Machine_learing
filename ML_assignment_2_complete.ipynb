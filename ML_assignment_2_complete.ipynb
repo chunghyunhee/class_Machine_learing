{
  "nbformat": 4,
  "nbformat_minor": 0,
  "metadata": {
    "colab": {
      "name": "ML_assignment_2_complete.ipynb",
      "provenance": [],
      "collapsed_sections": []
    },
    "kernelspec": {
      "name": "python3",
      "display_name": "Python 3"
    }
  },
  "cells": [
    {
      "cell_type": "markdown",
      "metadata": {
        "id": "2iaUsHh3-o0U",
        "colab_type": "text"
      },
      "source": [
        "## 1. input 데이터 생성\n",
        "- random paramter에 대한 regression생성\n",
        "- 그에 대해 난수값의 point찍는다."
      ]
    },
    {
      "cell_type": "code",
      "metadata": {
        "id": "EoKbZsp6-nrN",
        "colab_type": "code",
        "colab": {}
      },
      "source": [
        "import numpy as np\n",
        "import matplotlib.pyplot as plt\n",
        "import pandas as pd\n",
        "%matplotlib inline"
      ],
      "execution_count": 0,
      "outputs": []
    },
    {
      "cell_type": "code",
      "metadata": {
        "id": "DadsW_DU_Mmd",
        "colab_type": "code",
        "colab": {}
      },
      "source": [
        "# random regression, theta0= 3, theta1= 6\n",
        "theta_0 = 6\n",
        "theta_1 = 3\n",
        "\n",
        "y = [] # 6+ 3*x => 회귀식에 해당하는 y값을 저장할 리스트\n",
        "x = [ i for i in range(0,20,2)] #x값의 범위 지정 \n",
        "\n",
        "for i in range(len(x)):\n",
        "  y_arg = theta_0+ theta_1*x[i] #지정한 x에 대한 y의 범위 설정 \n",
        "  y.append(y_arg)"
      ],
      "execution_count": 0,
      "outputs": []
    },
    {
      "cell_type": "code",
      "metadata": {
        "id": "Db4rydCW_0kX",
        "colab_type": "code",
        "outputId": "d2987706-d999-4ce2-c030-a69708cc9b48",
        "colab": {
          "base_uri": "https://localhost:8080/",
          "height": 409
        }
      },
      "source": [
        "# 정한 회귀 직선 plotting\n",
        "plt.figure(figsize=(10,6))\n",
        "plt.plot(x,y)\n",
        "plt.title(\"random regression\")"
      ],
      "execution_count": 599,
      "outputs": [
        {
          "output_type": "execute_result",
          "data": {
            "text/plain": [
              "Text(0.5, 1.0, 'random regression')"
            ]
          },
          "metadata": {
            "tags": []
          },
          "execution_count": 599
        },
        {
          "output_type": "display_data",
          "data": {
            "image/png": "[encoded data removed]",
            "text/plain": [
              "<Figure size 720x432 with 1 Axes>"
            ]
          },
          "metadata": {
            "tags": []
          }
        }
      ]
    },
    {
      "cell_type": "code",
      "metadata": {
        "id": "cvyhbF34EGxZ",
        "colab_type": "code",
        "colab": {}
      },
      "source": [
        "# 정한 회귀 직선을 바탕으로 데이터 생성하기 (오차  가우시안 오차)\n",
        "mu = 0 # 정규분포에 대한 오차 파라미터값\n",
        "sigma = 3\n",
        "\n",
        "\n",
        "x_data = [] #오차를 생성하여 구한 x값\n",
        "y_data = [] #오차를 생성하여 구한 y값\n",
        "\n",
        "for i in range(len(x)):\n",
        "  error = np.random.normal(mu,sigma)\n",
        "  x_data_arg = x[i]+error\n",
        "  x_data.append(x_data_arg)\n",
        "for i in range(len(y)):\n",
        "  error = np.random.normal(mu,sigma)\n",
        "  y_data_arg = y[i]+error\n",
        "  y_data.append(y_data_arg)"
      ],
      "execution_count": 0,
      "outputs": []
    },
    {
      "cell_type": "code",
      "metadata": {
        "id": "4hB3fjZwE98o",
        "colab_type": "code",
        "outputId": "48a4d135-d519-465f-b57b-63e1ef5dcd11",
        "colab": {
          "base_uri": "https://localhost:8080/",
          "height": 36
        }
      },
      "source": [
        "print(len(y_data), len(x_data)) #리스트 갯수 확인"
      ],
      "execution_count": 601,
      "outputs": [
        {
          "output_type": "stream",
          "text": [
            "10 10\n"
          ],
          "name": "stdout"
        }
      ]
    },
    {
      "cell_type": "code",
      "metadata": {
        "id": "5maDFFuZFT8q",
        "colab_type": "code",
        "outputId": "c5f6162d-fd6a-405b-84eb-b64492f94cd4",
        "colab": {
          "base_uri": "https://localhost:8080/",
          "height": 393
        }
      },
      "source": [
        "# plotting the data that we randomly make.\n",
        "plt.figure(figsize=(10,6))\n",
        "plt.plot(x_data,y_data,'ko', markersize=10)"
      ],
      "execution_count": 602,
      "outputs": [
        {
          "output_type": "execute_result",
          "data": {
            "text/plain": [
              "[<matplotlib.lines.Line2D at 0x7f99b6ec8630>]"
            ]
          },
          "metadata": {
            "tags": []
          },
          "execution_count": 602
        },
        {
          "output_type": "display_data",
          "data": {
            "image/png": "[encoded data removed]",
            "text/plain": [
              "<Figure size 720x432 with 1 Axes>"
            ]
          },
          "metadata": {
            "tags": []
          }
        }
      ]
    },
    {
      "cell_type": "markdown",
      "metadata": {
        "id": "5dGfBHGQHYD5",
        "colab_type": "text"
      },
      "source": [
        "## 2. cost function & Gradient descent\n",
        "- cost에 대한 iteration을 convergence할 때까지 돌린다(Gradient Descent)\n",
        "- 해당 cost값과 theta(parameters)값을 구한다. "
      ]
    },
    {
      "cell_type": "markdown",
      "metadata": {
        "id": "El54mk5FVPSf",
        "colab_type": "text"
      },
      "source": [
        "![image](https://user-images.githubusercontent.com/49298791/77844236-e614f400-71df-11ea-883b-16d5dac1a2ad.png)\n"
      ]
    },
    {
      "cell_type": "markdown",
      "metadata": {
        "id": "KKZDw8UhpdE_",
        "colab_type": "text"
      },
      "source": [
        "- ***theta값을 하나의 벡터로 지정하려면 X, theta값을 변형한 형태의 array로 만들어 줘야 한다. (=> 이 방법 사용)***\n",
        "- 혹은 theta0, theta1을 그대로 가져가면 복잡하긴 하지만 직관적으로 이해하긴 더 쉬울 것 같음. (어차피 행렬변환해줘야 하는 부분이므로 비효율적임, regression의 y를 표현하는 데 있어서 theta.T*x의 형태로 나타내므로 위의 방법을 사용하는 것으로 판단)"
      ]
    },
    {
      "cell_type": "code",
      "metadata": {
        "id": "MKsxCjOCQbRp",
        "colab_type": "code",
        "colab": {}
      },
      "source": [
        "data = np.array([x_data,y_data]) #배열로 지정하여 값을 추가하기 위해 합친다"
      ],
      "execution_count": 0,
      "outputs": []
    },
    {
      "cell_type": "code",
      "metadata": {
        "id": "20i5j5QyQyxi",
        "colab_type": "code",
        "outputId": "87dcb321-574a-4be1-cd94-57dade8d326d",
        "colab": {
          "base_uri": "https://localhost:8080/",
          "height": 92
        }
      },
      "source": [
        "data"
      ],
      "execution_count": 604,
      "outputs": [
        {
          "output_type": "execute_result",
          "data": {
            "text/plain": [
              "array([[ 0.60381014,  5.23021704,  9.70270389,  2.06609411,  9.16790558,\n",
              "         9.89745526,  9.17239327, 16.37786646, 16.41007216, 18.37944629],\n",
              "       [ 2.29377791, 16.35858319, 22.4894296 , 24.86997194, 26.68546911,\n",
              "        37.77730079, 41.66930565, 50.31997142, 58.06171063, 59.22244323]])"
            ]
          },
          "metadata": {
            "tags": []
          },
          "execution_count": 604
        }
      ]
    },
    {
      "cell_type": "code",
      "metadata": {
        "id": "y5Kn7pTFQ4th",
        "colab_type": "code",
        "colab": {}
      },
      "source": [
        "X=np.transpose(np.array(data[:-1]))\n",
        "y=np.transpose(np.array(data[-1:]))\n",
        "m=y.size"
      ],
      "execution_count": 0,
      "outputs": []
    },
    {
      "cell_type": "code",
      "metadata": {
        "id": "yh99n_HXGXi8",
        "colab_type": "code",
        "colab": {}
      },
      "source": [
        "# X벡터값과 theta값을 받았을 때, 도출할 수 있는 linear model\n",
        "def h(theta,X):\n",
        "  return X.dot(theta)"
      ],
      "execution_count": 0,
      "outputs": []
    },
    {
      "cell_type": "code",
      "metadata": {
        "id": "YJKwXo9OKgME",
        "colab_type": "code",
        "colab": {}
      },
      "source": [
        "# Objective function\n",
        "def ObjectiveFunction(theta, X, y):\n",
        "  return float((1./(2*m)) * np.dot((h(theta,X)-y).T,(h(theta,X)-y)))"
      ],
      "execution_count": 0,
      "outputs": []
    },
    {
      "cell_type": "code",
      "metadata": {
        "id": "J7mgTtyQ0wnM",
        "colab_type": "code",
        "colab": {}
      },
      "source": [
        "# X에는 1인 열을 추가한 배열 형성\n",
        "X=np.insert(X, 0,1, axis=1)"
      ],
      "execution_count": 0,
      "outputs": []
    },
    {
      "cell_type": "code",
      "metadata": {
        "id": "TMZdYLzFsYDs",
        "colab_type": "code",
        "colab": {}
      },
      "source": [
        "# 초기 theta값은 아주 작은 값으로 설정, 여기서는 그냥 0으로 한다. \n",
        "theta = np.zeros((2,1))"
      ],
      "execution_count": 0,
      "outputs": []
    },
    {
      "cell_type": "code",
      "metadata": {
        "id": "wZp6McRkK01w",
        "colab_type": "code",
        "outputId": "3f691adb-80fb-4e99-d3c9-fab13ba7b78b",
        "colab": {
          "base_uri": "https://localhost:8080/",
          "height": 204
        }
      },
      "source": [
        "X[:10] #10개만 확인 "
      ],
      "execution_count": 610,
      "outputs": [
        {
          "output_type": "execute_result",
          "data": {
            "text/plain": [
              "array([[ 1.        ,  0.60381014],\n",
              "       [ 1.        ,  5.23021704],\n",
              "       [ 1.        ,  9.70270389],\n",
              "       [ 1.        ,  2.06609411],\n",
              "       [ 1.        ,  9.16790558],\n",
              "       [ 1.        ,  9.89745526],\n",
              "       [ 1.        ,  9.17239327],\n",
              "       [ 1.        , 16.37786646],\n",
              "       [ 1.        , 16.41007216],\n",
              "       [ 1.        , 18.37944629]])"
            ]
          },
          "metadata": {
            "tags": []
          },
          "execution_count": 610
        }
      ]
    },
    {
      "cell_type": "code",
      "metadata": {
        "id": "G8MZ8RHLt5j-",
        "colab_type": "code",
        "outputId": "639ea97e-19f6-42ea-cb8c-cddf18311139",
        "colab": {
          "base_uri": "https://localhost:8080/",
          "height": 36
        }
      },
      "source": [
        "# initialized theta에 대한 ObjectiveFunction계산\n",
        "print(ObjectiveFunction(theta,X,y))"
      ],
      "execution_count": 611,
      "outputs": [
        {
          "output_type": "stream",
          "text": [
            "734.1641953612035\n"
          ],
          "name": "stdout"
        }
      ]
    },
    {
      "cell_type": "code",
      "metadata": {
        "id": "Np0BHYS7LzjW",
        "colab_type": "code",
        "colab": {}
      },
      "source": [
        "# Gradient descent using Objective function\n",
        "iteration = 1500 #임의로 정한 하이퍼파라미터값(GradientDescent계산시 사용할 값 미리 지정)\n",
        "alpha = 0.01\n",
        "\n",
        "def GradientDescent(X, theta):\n",
        "    #plotting위해 저장하는 history\n",
        "    J_history = [] \n",
        "    theta_history = [] \n",
        "\n",
        "    #iteration\n",
        "    for i in range(iteration):\n",
        "        tmp = theta #동시에 update하기 위해선 교환하기 위한 새로운 변수가 필요\n",
        "        \n",
        "        J_history.append(ObjectiveFunction(theta,X,y))\n",
        "        theta_history.append(list(theta[:,0]))\n",
        "\n",
        "        #update theta\n",
        "        for j in range(len(tmp)):\n",
        "            tmp[j] = theta[j] - (alpha/m)*np.sum((h(theta,X) - y)*np.array(X[:,j]).reshape(m,1))\n",
        "        theta = tmp #(theta0, theta1)하나의 벡터로 저장한다. \n",
        "    return theta, theta_history, J_history"
      ],
      "execution_count": 0,
      "outputs": []
    },
    {
      "cell_type": "code",
      "metadata": {
        "id": "7GA49zElROGf",
        "colab_type": "code",
        "colab": {}
      },
      "source": [
        "# Gradient descent계산\n",
        "theta, theta_history, J_history = GradientDescent(X,theta)"
      ],
      "execution_count": 0,
      "outputs": []
    },
    {
      "cell_type": "markdown",
      "metadata": {
        "id": "CatTT57aTzkn",
        "colab_type": "text"
      },
      "source": [
        "## 3. plotting cost function & fitting regression"
      ]
    },
    {
      "cell_type": "code",
      "metadata": {
        "id": "8hE85-BC3OHi",
        "colab_type": "code",
        "outputId": "a8448e99-f68c-43b6-c1ea-91b758e0c1aa",
        "colab": {
          "base_uri": "https://localhost:8080/",
          "height": 55
        }
      },
      "source": [
        "theta #확인"
      ],
      "execution_count": 614,
      "outputs": [
        {
          "output_type": "execute_result",
          "data": {
            "text/plain": [
              "array([[6.31180277],\n",
              "       [2.84820791]])"
            ]
          },
          "metadata": {
            "tags": []
          },
          "execution_count": 614
        }
      ]
    },
    {
      "cell_type": "code",
      "metadata": {
        "id": "IPctep4oEp96",
        "colab_type": "code",
        "outputId": "6e48fe1d-8d1b-4edb-e3b7-011b92d6d105",
        "colab": {
          "base_uri": "https://localhost:8080/",
          "height": 204
        }
      },
      "source": [
        "J_history[:10] #cost값 10개만 확인 "
      ],
      "execution_count": 615,
      "outputs": [
        {
          "output_type": "execute_result",
          "data": {
            "text/plain": [
              "[734.1641953612035,\n",
              " 79.85690478464318,\n",
              " 33.8914106256752,\n",
              " 30.567123429693424,\n",
              " 30.324758625219644,\n",
              " 30.280477968148716,\n",
              " 30.255447905807877,\n",
              " 30.23052828033412,\n",
              " 30.206096228695664,\n",
              " 30.181719934980688]"
            ]
          },
          "metadata": {
            "tags": []
          },
          "execution_count": 615
        }
      ]
    },
    {
      "cell_type": "code",
      "metadata": {
        "id": "8SHyVC2i_N5j",
        "colab_type": "code",
        "outputId": "8f841df1-62e1-4c6b-ad09-3846740e5d76",
        "colab": {
          "base_uri": "https://localhost:8080/",
          "height": 284
        }
      },
      "source": [
        "# cost값 plotting\n",
        "plt.plot(range(len(J_history)),J_history,'bo')"
      ],
      "execution_count": 616,
      "outputs": [
        {
          "output_type": "execute_result",
          "data": {
            "text/plain": [
              "[<matplotlib.lines.Line2D at 0x7f99b6e50320>]"
            ]
          },
          "metadata": {
            "tags": []
          },
          "execution_count": 616
        },
        {
          "output_type": "display_data",
          "data": {
            "image/png": "[encoded data removed]",
            "text/plain": [
              "<Figure size 432x288 with 1 Axes>"
            ]
          },
          "metadata": {
            "tags": []
          }
        }
      ]
    },
    {
      "cell_type": "code",
      "metadata": {
        "id": "z46sA_C-EYdJ",
        "colab_type": "code",
        "outputId": "48b273c0-f595-47c7-b4b8-d620a2c915ff",
        "colab": {
          "base_uri": "https://localhost:8080/",
          "height": 284
        }
      },
      "source": [
        "# fit되는 데이터 확인 \n",
        "def final(x):\n",
        "  return theta[0]+theta[1]*x\n",
        "\n",
        "plt.plot(x_data, y_data, 'ko')\n",
        "plt.plot(X[:,1], final(X[:,1]),'r')"
      ],
      "execution_count": 617,
      "outputs": [
        {
          "output_type": "execute_result",
          "data": {
            "text/plain": [
              "[<matplotlib.lines.Line2D at 0x7f99b6f3fd68>]"
            ]
          },
          "metadata": {
            "tags": []
          },
          "execution_count": 617
        },
        {
          "output_type": "display_data",
          "data": {
            "image/png": "[encoded data removed]",
            "text/plain": [
              "<Figure size 432x288 with 1 Axes>"
            ]
          },
          "metadata": {
            "tags": []
          }
        }
      ]
    },
    {
      "cell_type": "markdown",
      "metadata": {
        "id": "QpeeGK7QT7ky",
        "colab_type": "text"
      },
      "source": [
        "## 4. plotting parameters\n",
        "- 앞에서 저장한 theta(theta0, theta1)값을 시각화 하는 부분\n",
        "- converge하는 부분을 확인하면 된다(=energe값 즉 cost값도 flatten되는 값이 결국 iteration이 끝나는 최적화된 값이다 "
      ]
    },
    {
      "cell_type": "code",
      "metadata": {
        "id": "mEWa7f25Fvt5",
        "colab_type": "code",
        "outputId": "57cc0889-edbe-4fe7-cfbd-a9233f62060b",
        "colab": {
          "base_uri": "https://localhost:8080/",
          "height": 75
        }
      },
      "source": [
        "print(theta_history[:10],theta) #iteration돌면서 찍은 theta0, theta1값 10개만 확인 "
      ],
      "execution_count": 618,
      "outputs": [
        {
          "output_type": "stream",
          "text": [
            "[[0.0, 0.0], [0.33974796348894043, 4.189740279812744], [0.26966027224592004, 3.0753526934203785], [0.30837792900784017, 3.3698101226035813], [0.31814369345170684, 3.2900651035937973], [0.3355477022008534, 3.3097167745123506], [0.35087130227345076, 3.3029714191302606], [0.36669601953878556, 3.303241372188424], [0.3823363020348634, 3.3016519000025446], [0.3979743731668949, 3.3005602299248995]] [[6.31180277]\n",
            " [2.84820791]]\n"
          ],
          "name": "stdout"
        }
      ]
    },
    {
      "cell_type": "code",
      "metadata": {
        "id": "Gxk8seIYkwFd",
        "colab_type": "code",
        "colab": {}
      },
      "source": [
        "theta0_history = [] \n",
        "theta1_history = []\n",
        "\n",
        "for i in range(len(theta_history)):\n",
        "  theta0_history.append(theta_history[i][1])\n",
        "  theta1_history.append(theta_history[i][0])"
      ],
      "execution_count": 0,
      "outputs": []
    },
    {
      "cell_type": "code",
      "metadata": {
        "id": "uyTWCtcxVDK4",
        "colab_type": "code",
        "outputId": "899f7767-5334-490a-fd60-934141b9c2a5",
        "colab": {
          "base_uri": "https://localhost:8080/",
          "height": 284
        }
      },
      "source": [
        "# plotting each parameter(theta0, theta1)\n",
        "# 주의할 점은 각 theta별로 분리해서 plotting 해줘야 한다는 점. \n",
        "plt.plot(theta0_history,'rx') #theta0 값\n",
        "plt.plot(theta1_history,'bx') #theta1 값 "
      ],
      "execution_count": 624,
      "outputs": [
        {
          "output_type": "execute_result",
          "data": {
            "text/plain": [
              "[<matplotlib.lines.Line2D at 0x7f99b6be8c18>]"
            ]
          },
          "metadata": {
            "tags": []
          },
          "execution_count": 624
        },
        {
          "output_type": "display_data",
          "data": {
            "image/png": "[encoded data removed]",
            "text/plain": [
              "<Figure size 432x288 with 1 Axes>"
            ]
          },
          "metadata": {
            "tags": []
          }
        }
      ]
    },
    {
      "cell_type": "code",
      "metadata": {
        "id": "wlDT7J9PV170",
        "colab_type": "code",
        "colab": {}
      },
      "source": [
        ""
      ],
      "execution_count": 0,
      "outputs": []
    }
  ]
}