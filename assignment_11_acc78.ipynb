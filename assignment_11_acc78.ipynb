{
  "nbformat": 4,
  "nbformat_minor": 0,
  "metadata": {
    "colab": {
      "name": "assignment_11.ipynb",
      "provenance": []
    },
    "kernelspec": {
      "name": "python3",
      "display_name": "Python 3"
    }
  },
  "cells": [
    {
      "cell_type": "markdown",
      "metadata": {
        "id": "Yodd9EqUIy5s",
        "colab_type": "text"
      },
      "source": [
        "## codes for data processing for input data\n",
        "- input : dictionary의 형태에 해당(즉 벡터형태)\n",
        "- 단, 예외적으로 긍/부정에 상관없이 나오는 단어들(즉 모든 dataset에 uniform하게 나오는 단어들)은 제거\n",
        "- 모든 document에 극소하게 나오는 단어도 제외 \n",
        "- **dictionary를 reference로 사용하여 주어진 document에 해당 단어가 몇 번이나 나오는지(frequency)를 가지고 하나의 벡터를 생성한다 = input 형태**"
      ]
    },
    {
      "cell_type": "code",
      "metadata": {
        "id": "UeRclHLDIyUG",
        "colab_type": "code",
        "colab": {
          "base_uri": "https://localhost:8080/",
          "height": 92
        },
        "outputId": "1f3709dd-e12c-473e-d83f-5f9a644a5e66"
      },
      "source": [
        "import numpy as np\n",
        "import re\n",
        "import nltk\n",
        "from sklearn.datasets import load_files\n",
        "nltk.download('stopwords')\n",
        "nltk.download('wordnet')\n",
        "import pickle\n",
        "from nltk.corpus import stopwords\n",
        "from nltk.stem import WordNetLemmatizer\n",
        "from sklearn.feature_extraction.text import CountVectorizer\n",
        "from sklearn.feature_extraction.text import TfidfTransformer\n",
        "from sklearn.model_selection import train_test_split"
      ],
      "execution_count": 1,
      "outputs": [
        {
          "output_type": "stream",
          "text": [
            "[nltk_data] Downloading package stopwords to /root/nltk_data...\n",
            "[nltk_data]   Unzipping corpora/stopwords.zip.\n",
            "[nltk_data] Downloading package wordnet to /root/nltk_data...\n",
            "[nltk_data]   Unzipping corpora/wordnet.zip.\n"
          ],
          "name": "stdout"
        }
      ]
    },
    {
      "cell_type": "code",
      "metadata": {
        "id": "cAwH91G42z3o",
        "colab_type": "code",
        "colab": {
          "base_uri": "https://localhost:8080/",
          "height": 131
        },
        "outputId": "93da4dd1-ef65-4032-c9f9-b8fce3fdff0e"
      },
      "source": [
        "from google.colab import drive \n",
        "drive.mount('/content/gdrive/')"
      ],
      "execution_count": 3,
      "outputs": [
        {
          "output_type": "stream",
          "text": [
            "Go to this URL in a browser: https://accounts.google.com/o/oauth2/auth?client_id=947318989803-6bn6qk8qdgf4n4g3pfee6491hc0brc4i.apps.googleusercontent.com&redirect_uri=urn%3aietf%3awg%3aoauth%3a2.0%3aoob&response_type=code&scope=email%20https%3a%2f%2fwww.googleapis.com%2fauth%2fdocs.test%20https%3a%2f%2fwww.googleapis.com%2fauth%2fdrive%20https%3a%2f%2fwww.googleapis.com%2fauth%2fdrive.photos.readonly%20https%3a%2f%2fwww.googleapis.com%2fauth%2fpeopleapi.readonly\n",
            "\n",
            "Enter your authorization code:\n",
            "··········\n",
            "Mounted at /content/gdrive/\n"
          ],
          "name": "stdout"
        }
      ]
    },
    {
      "cell_type": "code",
      "metadata": {
        "id": "TYzufashva6T",
        "colab_type": "code",
        "colab": {}
      },
      "source": [
        "review_data = load_files(r\"/content/gdrive/My Drive/Colab Notebooks/movie_review\",categories=['pos','neg'])"
      ],
      "execution_count": 4,
      "outputs": []
    },
    {
      "cell_type": "code",
      "metadata": {
        "id": "RWvUQQE6KWT_",
        "colab_type": "code",
        "colab": {}
      },
      "source": [
        "X,y = review_data.data, review_data.target # 해당 feature이 될 데이터와 neg,pos값"
      ],
      "execution_count": 5,
      "outputs": []
    },
    {
      "cell_type": "code",
      "metadata": {
        "id": "6LdHykdaKemQ",
        "colab_type": "code",
        "colab": {}
      },
      "source": [
        "#X # 문장형태로 된 feature"
      ],
      "execution_count": 6,
      "outputs": []
    },
    {
      "cell_type": "code",
      "metadata": {
        "id": "2OkiOWt6KfzK",
        "colab_type": "code",
        "colab": {
          "base_uri": "https://localhost:8080/",
          "height": 36
        },
        "outputId": "3aae6239-eb60-4e74-d622-f20d841f3c7a"
      },
      "source": [
        "y[:10] # 1,0형태 "
      ],
      "execution_count": 7,
      "outputs": [
        {
          "output_type": "execute_result",
          "data": {
            "text/plain": [
              "array([0, 1, 1, 0, 1, 1, 1, 1, 1, 0])"
            ]
          },
          "metadata": {
            "tags": []
          },
          "execution_count": 7
        }
      ]
    },
    {
      "cell_type": "code",
      "metadata": {
        "id": "gqVGEdWBLCd0",
        "colab_type": "code",
        "colab": {}
      },
      "source": [
        "documents = []"
      ],
      "execution_count": 8,
      "outputs": []
    },
    {
      "cell_type": "code",
      "metadata": {
        "id": "cPOYkOkTLIFd",
        "colab_type": "code",
        "colab": {}
      },
      "source": [
        "stemmer = WordNetLemmatizer() # 표제어 추출하는 객체 "
      ],
      "execution_count": 9,
      "outputs": []
    },
    {
      "cell_type": "code",
      "metadata": {
        "id": "jfH46OiiLK2K",
        "colab_type": "code",
        "colab": {}
      },
      "source": [
        "for sen in range(0, len(X)):\n",
        "  # 긍, 부정에 영향을 주지 않는 단어 삭제 \n",
        "  # remove all the special character\n",
        "  document = re.sub(r'\\W',' ', str(X[sen]))\n",
        "  # remove all single characters\n",
        "  document = re.sub(r's+[a-zA-Z]\\s+',' ',document);\n",
        "  # remove single characters from the start\n",
        "  document = re.sub(r'\\^[a-zA-Z]\\s+', ' ', document) \n",
        "  # substituting multiple spaces with single space\n",
        "  document = re.sub(r'\\s+', ' ', document, flags=re.I)\n",
        "  # removing prefixed 'b'\n",
        "  document = re.sub(r'^b\\s+', '', document)\n",
        "  # converting to LowerCase\n",
        "  document = document.lower()\n",
        "\n",
        "  # Lemmatization(표제어 추출)\n",
        "  document = document.split()\n",
        "  document = [stemmer.lemmatize(word) for word in document]\n",
        "  document = ' '.join(document)\n",
        "\n",
        "  documents.append(document) # 필요없는 형태 제거와 표제어 추출 결과를 리스트에 저장"
      ],
      "execution_count": 10,
      "outputs": []
    },
    {
      "cell_type": "code",
      "metadata": {
        "id": "gQyacrHRM8WN",
        "colab_type": "code",
        "colab": {}
      },
      "source": [
        "# CountVectorizer : 단어 토큰 생성, 각 단어의 수를 세어 BOW 인코딩한 벡터 생성 \n",
        "vectorizer = CountVectorizer(max_features=1500, min_df=5, max_df=0.7, stop_words=stopwords.words('english'))"
      ],
      "execution_count": 244,
      "outputs": []
    },
    {
      "cell_type": "code",
      "metadata": {
        "id": "03_WOHcUNMlC",
        "colab_type": "code",
        "colab": {}
      },
      "source": [
        "X = vectorizer.fit_transform(documents).toarray()"
      ],
      "execution_count": 245,
      "outputs": []
    },
    {
      "cell_type": "code",
      "metadata": {
        "id": "u5I6uXdeNvA0",
        "colab_type": "code",
        "colab": {
          "base_uri": "https://localhost:8080/",
          "height": 36
        },
        "outputId": "2ae9ba39-5ca6-4491-a6a5-393791a02b8a"
      },
      "source": [
        "X.shape # 1000개의 문서에서  단어 딕셔너리 reference생성 "
      ],
      "execution_count": 246,
      "outputs": [
        {
          "output_type": "execute_result",
          "data": {
            "text/plain": [
              "(2000, 1500)"
            ]
          },
          "metadata": {
            "tags": []
          },
          "execution_count": 246
        }
      ]
    },
    {
      "cell_type": "code",
      "metadata": {
        "id": "1_PN2U6cNxjp",
        "colab_type": "code",
        "colab": {}
      },
      "source": [
        "# TfidfTransformer : CountVectorizer와 비슷하나, TF-IDF 방식으로 단어의 가중치 조정 \n",
        "tfidfconverter = TfidfTransformer()\n",
        "X = tfidfconverter.fit_transform(X).toarray()"
      ],
      "execution_count": 247,
      "outputs": []
    },
    {
      "cell_type": "code",
      "metadata": {
        "id": "IgIlx3aqOL0-",
        "colab_type": "code",
        "colab": {}
      },
      "source": [
        "X_train, X_test, y_train, y_test = train_test_split(X, y, test_size=0.3, shuffle=False)"
      ],
      "execution_count": 417,
      "outputs": []
    },
    {
      "cell_type": "code",
      "metadata": {
        "id": "RuSMw2UuqT1e",
        "colab_type": "code",
        "colab": {
          "base_uri": "https://localhost:8080/",
          "height": 36
        },
        "outputId": "c627a9fd-17d2-4888-a65c-c310611763f1"
      },
      "source": [
        "y_train"
      ],
      "execution_count": 418,
      "outputs": [
        {
          "output_type": "execute_result",
          "data": {
            "text/plain": [
              "array([0, 1, 1, ..., 0, 1, 1])"
            ]
          },
          "metadata": {
            "tags": []
          },
          "execution_count": 418
        }
      ]
    },
    {
      "cell_type": "code",
      "metadata": {
        "id": "u2ehH-Kr6pov",
        "colab_type": "code",
        "colab": {}
      },
      "source": [
        "#y_train = y_train.reshape(y_train.shape[0],1)\n",
        "#y_test = y_test.reshape(y_test.shape[0],1)"
      ],
      "execution_count": 419,
      "outputs": []
    },
    {
      "cell_type": "code",
      "metadata": {
        "id": "Z_WArirbOSMs",
        "colab_type": "code",
        "colab": {
          "base_uri": "https://localhost:8080/",
          "height": 36
        },
        "outputId": "7fba9cfe-406c-490c-f77d-054b0baa5789"
      },
      "source": [
        "print(X_train.shape, X_test.shape, y_train.shape, y_test.shape)"
      ],
      "execution_count": 420,
      "outputs": [
        {
          "output_type": "stream",
          "text": [
            "(1400, 1500) (600, 1500) (1400,) (600,)\n"
          ],
          "name": "stdout"
        }
      ]
    },
    {
      "cell_type": "markdown",
      "metadata": {
        "id": "AsGS2IUZOSy4",
        "colab_type": "text"
      },
      "source": [
        "## training(Optimization)"
      ]
    },
    {
      "cell_type": "code",
      "metadata": {
        "id": "NRO9aSeEOOEN",
        "colab_type": "code",
        "colab": {}
      },
      "source": [
        "# h, sigmoid함수 정의 \n",
        "# activation function으로 sigmoid를 사용할 예정에 있음 \n",
        "def h(theta,X):\n",
        "  return np.dot(X,theta)\n",
        "\n",
        "def sigmoid(x):\n",
        "  return 1 / (1 + np.exp(-x))\n",
        "\n",
        "# 미분한 sigmoid식\n",
        "def Dsigmoid(x):\n",
        "  return sigmoid(x)*(1-sigmoid(x))"
      ],
      "execution_count": 421,
      "outputs": []
    },
    {
      "cell_type": "code",
      "metadata": {
        "id": "TZRc6kdJPCkO",
        "colab_type": "code",
        "colab": {}
      },
      "source": [
        "# 순전파 함수\n",
        "# 여기서의 theta는 각 layer별로 해당하는 theta를 전부 포함한 list에 해당한다. \n",
        "def Forward(image, theta_vector):\n",
        "    z_each_layer = []\n",
        "\n",
        "    # theta의 수대로 반복하고, 그에따라 각각 저장해야 한다. \n",
        "    for i in range(len(theta_vector)):\n",
        "      image = add_bias(image)\n",
        "      theta = theta_vector[i]\n",
        "      z = np.dot(image, theta)\n",
        "      a = sigmoid(z)\n",
        "      z_each_layer.append(a) # z와 a값 모두 저장한다\n",
        "      image = a\n",
        "\n",
        "    return z_each_layer"
      ],
      "execution_count": 422,
      "outputs": []
    },
    {
      "cell_type": "code",
      "metadata": {
        "id": "DGbdUiIUT1hT",
        "colab_type": "code",
        "colab": {}
      },
      "source": [
        "# label의 원핫인코딩을 위한 함수 \n",
        "def onehotencoding(label):\n",
        "  unique = np.unique(label)\n",
        "  m = label.shape[0]\n",
        "  n = unique.shape[0]\n",
        "  empty = np.zeros((m, n))\n",
        "\n",
        "  for i in range(m):\n",
        "    for j in range(n):\n",
        "      if label[i] == unique[j]:\n",
        "        empty[i, j] = 1\n",
        "  \n",
        "  return empty"
      ],
      "execution_count": 423,
      "outputs": []
    },
    {
      "cell_type": "code",
      "metadata": {
        "id": "o8RHdcOePID3",
        "colab_type": "code",
        "colab": {}
      },
      "source": [
        "# Objective function에 대한 정의 \n",
        "# regularization term추가 (L의 값은 lambda에 해당한다)\n",
        "def ObjectiveFunction(image, theta_vector,label_list,L ):\n",
        "  h = Forward(image, theta_vector) # 순전파로 계산한 값의 h(각 layer별로 a값을 출력한다. )\n",
        "  sigmoid_value = [h[0], h[1]]\n",
        "  output_layer = sigmoid_value[-1] # 마지막 h[2]가 결국은 output layer에 해당한다. \n",
        "  n = len(theta_vector)# theta의 수에 해당한다, \n",
        "  # m = image.shape[0] # 이부분 식 수정해야 하는지 확인하기 \n",
        "\n",
        "  # cost function에 대해 regularization term을 추가한다. \n",
        "  reg_value = 0\n",
        "  for theta in range(len(theta_vector)): \n",
        "    reg_value += np.sum(theta*theta)\n",
        "  reg_value *= float(L)/(2*n) # m으로 바꿔야 하는지 확인하기 \n",
        "   \n",
        "  cost = -np.mean(np.sum(label_list*np.log(output_layer) + (1 - label_list)*np.log(1 - output_layer), axis=1)) #해당 J(theta)값\n",
        "  \n",
        "  return cost+reg_value, sigmoid_value"
      ],
      "execution_count": 424,
      "outputs": []
    },
    {
      "cell_type": "code",
      "metadata": {
        "id": "9vdDR1S4b9PZ",
        "colab_type": "code",
        "colab": {}
      },
      "source": [
        "#def predict(output_layer):\n",
        "#  predict_label = np.where(output_layer > 0.5, 1 , 0)\n",
        "#  return predict_label"
      ],
      "execution_count": 425,
      "outputs": []
    },
    {
      "cell_type": "code",
      "metadata": {
        "id": "9FNWjKZ2mPWD",
        "colab_type": "code",
        "colab": {}
      },
      "source": [
        "def predict(output_layer):\n",
        "  predict_label = np.argmax(output_layer, axis=1)\n",
        "  return predict_label"
      ],
      "execution_count": 426,
      "outputs": []
    },
    {
      "cell_type": "code",
      "metadata": {
        "id": "btAhabkRPSNV",
        "colab_type": "code",
        "colab": {}
      },
      "source": [
        "# accuracy\n",
        "def accuracy(pred, true):\n",
        "  acc = np.mean(pred == true)\n",
        "  return acc"
      ],
      "execution_count": 427,
      "outputs": []
    },
    {
      "cell_type": "code",
      "metadata": {
        "id": "4Id2rnVFPUFY",
        "colab_type": "code",
        "colab": {}
      },
      "source": [
        "# bias 추가 \n",
        "def add_bias(image):\n",
        "  m = image.shape[0]\n",
        "  temp = np.column_stack((np.ones((m, 1)), image))\n",
        "  return temp"
      ],
      "execution_count": 428,
      "outputs": []
    },
    {
      "cell_type": "code",
      "metadata": {
        "id": "PYKb67DePZKl",
        "colab_type": "code",
        "colab": {}
      },
      "source": [
        "# 역전파 함수 수정 \n",
        "def Back(image, theta_list, onehot, sigmoid_list):\n",
        "  m = image.shape[0]\n",
        "  delta2 = sigmoid_list[1] - onehot\n",
        "  delta1 = np.dot(delta2, theta_list[1][1:, :].T)*sigmoid_list[0]*(1-sigmoid_list[0])\n",
        "  #delta2 = np.dot(delta3, theta_list[1][1:, :].T)*sigmoid_list[0]*(1-sigmoid_list[0])\n",
        "\n",
        " # add_bias_term3 = add_bias(sigmoid_list[1])\n",
        "  add_bias_term2 = add_bias(sigmoid_list[0])\n",
        "  add_bias_term1 = add_bias(image)\n",
        "  \n",
        "  #gradient3 = np.dot(add_bias_term3.T, delta4) / m\n",
        "  gradient2 = np.dot(add_bias_term2.T, delta2) / m\n",
        "  gradient1 = np.dot(add_bias_term1.T, delta1) / m\n",
        "  gradient_list = [gradient1, gradient2]\n",
        "\n",
        "  return gradient_list"
      ],
      "execution_count": 429,
      "outputs": []
    },
    {
      "cell_type": "code",
      "metadata": {
        "id": "AN6YYvVSPkSy",
        "colab_type": "code",
        "colab": {
          "base_uri": "https://localhost:8080/",
          "height": 36
        },
        "outputId": "e4eef23e-d8da-4fe3-c41b-b5557fbe9581"
      },
      "source": [
        "y_train.shape"
      ],
      "execution_count": 430,
      "outputs": [
        {
          "output_type": "execute_result",
          "data": {
            "text/plain": [
              "(1400,)"
            ]
          },
          "metadata": {
            "tags": []
          },
          "execution_count": 430
        }
      ]
    },
    {
      "cell_type": "code",
      "metadata": {
        "id": "c_d7X74ArFLA",
        "colab_type": "code",
        "colab": {}
      },
      "source": [
        "\n",
        "y_train_one = onehotencoding(y_train)\n",
        "y_test_one = onehotencoding(y_test)"
      ],
      "execution_count": 431,
      "outputs": []
    },
    {
      "cell_type": "code",
      "metadata": {
        "id": "DMQP_lIzrOxd",
        "colab_type": "code",
        "colab": {
          "base_uri": "https://localhost:8080/",
          "height": 36
        },
        "outputId": "4d203a1e-adbe-483f-a9e6-1637ff0cd163"
      },
      "source": [
        "y_train"
      ],
      "execution_count": 432,
      "outputs": [
        {
          "output_type": "execute_result",
          "data": {
            "text/plain": [
              "array([0, 1, 1, ..., 0, 1, 1])"
            ]
          },
          "metadata": {
            "tags": []
          },
          "execution_count": 432
        }
      ]
    },
    {
      "cell_type": "code",
      "metadata": {
        "id": "9gmRW7GIrx-b",
        "colab_type": "code",
        "colab": {
          "base_uri": "https://localhost:8080/",
          "height": 148
        },
        "outputId": "c79bfcad-611b-43e7-98c0-140673c83e14"
      },
      "source": [
        "y_train_one"
      ],
      "execution_count": 433,
      "outputs": [
        {
          "output_type": "execute_result",
          "data": {
            "text/plain": [
              "array([[1., 0.],\n",
              "       [0., 1.],\n",
              "       [0., 1.],\n",
              "       ...,\n",
              "       [1., 0.],\n",
              "       [0., 1.],\n",
              "       [0., 1.]])"
            ]
          },
          "metadata": {
            "tags": []
          },
          "execution_count": 433
        }
      ]
    },
    {
      "cell_type": "code",
      "metadata": {
        "id": "-EYZ_RoqPtTI",
        "colab_type": "code",
        "colab": {}
      },
      "source": [
        "# 먼저 theta의 행렬의 형태에 대한 정의가 필요하다.  \n",
        "# 랜덤으로 정한 theta (U,V,W)에 해당 \n",
        "np.random.seed(20180378)\n",
        "\n",
        "# 파라미터 수를 늘리므로 더작은 std의 N(0,1)에서 랜덤값 뽑을 것임 initializer수정\n",
        "theta1 = np.random.randn(1501, 199) \n",
        "theta2 = np.random.randn(200, 2)\n",
        "#theta3 = np.random.randn(100, 2)\n",
        "\n",
        "\n",
        "\n",
        "# 정한 theta들의 리스트\n",
        "theta_vector = [theta1, theta2]\n",
        "train_cost_value_list = []\n",
        "test_cost_value_list = []\n",
        "train_accuracy_list = []\n",
        "test_accuracy_list = []"
      ],
      "execution_count": 434,
      "outputs": []
    },
    {
      "cell_type": "code",
      "metadata": {
        "id": "fcjnux6yQGYk",
        "colab_type": "code",
        "colab": {}
      },
      "source": [
        "# hyperparameter값 (튜닝예정 )\n",
        "iteration = 2000\n",
        "learning_rate = 0.7\n",
        "L = 2000 # reg term의 lambda값"
      ],
      "execution_count": 435,
      "outputs": []
    },
    {
      "cell_type": "code",
      "metadata": {
        "id": "2XjPrg-RQLQq",
        "colab_type": "code",
        "colab": {
          "base_uri": "https://localhost:8080/",
          "height": 1000
        },
        "outputId": "ac1adfdd-9324-4240-e6eb-ada76ddb1d81"
      },
      "source": [
        "for iter in range(iteration):\n",
        "\n",
        "  # compute cost\n",
        "  train_cost_value, train_sigmoid_value = ObjectiveFunction(X_train, theta_vector, y_train_one, L)\n",
        "  test_cost_value, test_sigmoid_value = ObjectiveFunction(X_test, theta_vector, y_test_one, L)\n",
        "  # predict the final label \n",
        "  train_predict_label = predict(train_sigmoid_value[-1])\n",
        "  test_predict_label = predict(test_sigmoid_value[-1])\n",
        " \n",
        "  # compute accuracy\n",
        "  train_accuracy = accuracy(train_predict_label, y_train)\n",
        "  test_accuracy = accuracy(test_predict_label, y_test)\n",
        "  gradient = Back(X_train, theta_vector, y_train_one, train_sigmoid_value)\n",
        "\n",
        "  # append\n",
        "  train_cost_value_list.append(train_cost_value)\n",
        "  test_cost_value_list.append(test_cost_value)\n",
        "  train_accuracy_list.append(train_accuracy)\n",
        "  test_accuracy_list.append(test_accuracy)\n",
        "  # theta update \n",
        "  for i in range(len(theta_vector)):\n",
        "    theta_vector[i] = theta_vector[i] - learning_rate * gradient[i]\n",
        "  \n",
        "  # update되는 cost, sccuracy값 확인하기 \n",
        "  if(iter%50 == 0):\n",
        "    print(\"train:\",train_cost_value, train_accuracy )\n",
        "    print(\"test :\", test_cost_value, test_accuracy) "
      ],
      "execution_count": 436,
      "outputs": [
        {
          "output_type": "stream",
          "text": [
            "train: 509.574060798849 0.49714285714285716\n",
            "test : 509.2639000740595 0.49833333333333335\n",
            "train: 506.96713458532105 0.6157142857142858\n",
            "test : 506.8723753533962 0.6166666666666667\n",
            "train: 503.19628691028555 0.7007142857142857\n",
            "test : 503.3410031563828 0.6683333333333333\n",
            "train: 502.98336829556644 0.5457142857142857\n",
            "test : 503.37978867708654 0.5416666666666666\n",
            "train: 501.51268180464683 0.6935714285714286\n",
            "test : 501.9177191758581 0.6416666666666667\n",
            "train: 501.0136962006359 0.7692857142857142\n",
            "test : 501.4328454323441 0.6866666666666666\n",
            "train: 500.8223060499601 0.8235714285714286\n",
            "test : 501.2724076724366 0.71\n",
            "train: 500.71443961417384 0.8557142857142858\n",
            "test : 501.2000730014182 0.725\n",
            "train: 500.6382633557957 0.8728571428571429\n",
            "test : 501.1604028004767 0.7316666666666667\n",
            "train: 500.5796090611223 0.885\n",
            "test : 501.13918172487735 0.7416666666666667\n",
            "train: 500.53044275866347 0.9014285714285715\n",
            "test : 501.12859297743813 0.7483333333333333\n",
            "train: 500.4863908033476 0.9121428571428571\n",
            "test : 501.12344273571523 0.7533333333333333\n",
            "train: 500.4462070821782 0.9242857142857143\n",
            "test : 501.12164514841 0.7583333333333333\n",
            "train: 500.40940457359636 0.9328571428571428\n",
            "test : 501.12241112510327 0.7666666666666667\n",
            "train: 500.375662914997 0.9428571428571428\n",
            "test : 501.1252935877149 0.7683333333333333\n",
            "train: 500.34474432158373 0.9507142857142857\n",
            "test : 501.12994474411136 0.7666666666666667\n",
            "train: 500.3164560694616 0.9607142857142857\n",
            "test : 501.13607302746993 0.77\n",
            "train: 500.2906286112785 0.9685714285714285\n",
            "test : 501.143428169811 0.7683333333333333\n",
            "train: 500.26710246274877 0.9735714285714285\n",
            "test : 501.15179218527095 0.77\n",
            "train: 500.24572082645653 0.9778571428571429\n",
            "test : 501.1609733888378 0.7616666666666667\n",
            "train: 500.2263264553945 0.98\n",
            "test : 501.17080252747064 0.7683333333333333\n",
            "train: 500.2087615941751 0.9828571428571429\n",
            "test : 501.18113050471504 0.7666666666666667\n",
            "train: 500.1928698475669 0.9857142857142858\n",
            "test : 501.1918271180889 0.77\n",
            "train: 500.1784989155314 0.9907142857142858\n",
            "test : 501.20278018650475 0.77\n",
            "train: 500.1655033379952 0.9935714285714285\n",
            "test : 501.2138945818337 0.77\n",
            "train: 500.1537466771891 0.9964285714285714\n",
            "test : 501.2250909273188 0.7666666666666667\n",
            "train: 500.1431028852481 0.9971428571428571\n",
            "test : 501.2363039634953 0.7733333333333333\n",
            "train: 500.1334568756511 0.9971428571428571\n",
            "test : 501.24748072623225 0.7716666666666666\n",
            "train: 500.1247044718062 0.9978571428571429\n",
            "test : 501.25857871614846 0.7733333333333333\n",
            "train: 500.11675194508 0.9992857142857143\n",
            "test : 501.2695641998966 0.7733333333333333\n",
            "train: 500.10951532370086 0.9992857142857143\n",
            "test : 501.2804107199362 0.7733333333333333\n",
            "train: 500.10291960017196 0.9992857142857143\n",
            "test : 501.2910978334202 0.7733333333333333\n",
            "train: 500.09689791560453 0.9992857142857143\n",
            "test : 501.30161006518045 0.775\n",
            "train: 500.09139076425714 1.0\n",
            "test : 501.31193604362096 0.78\n",
            "train: 500.0863452401354 1.0\n",
            "test : 501.3220677854851 0.7833333333333333\n",
            "train: 500.081714335792 1.0\n",
            "test : 501.33200009955704 0.7833333333333333\n",
            "train: 500.07745629743096 1.0\n",
            "test : 501.34173008573856 0.785\n",
            "train: 500.07353403724545 1.0\n",
            "test : 501.35125671198506 0.785\n",
            "train: 500.0699146020544 1.0\n",
            "test : 501.3605804562519 0.7883333333333333\n",
            "train: 500.0665686960522 1.0\n",
            "test : 501.3697030037895 0.7883333333333333\n"
          ],
          "name": "stdout"
        }
      ]
    },
    {
      "cell_type": "code",
      "metadata": {
        "id": "to0haaSGZXFx",
        "colab_type": "code",
        "colab": {}
      },
      "source": [
        ""
      ],
      "execution_count": 436,
      "outputs": []
    },
    {
      "cell_type": "markdown",
      "metadata": {
        "id": "46__d03cAixS",
        "colab_type": "text"
      },
      "source": [
        "## plot the loss curve"
      ]
    },
    {
      "cell_type": "code",
      "metadata": {
        "id": "t536u5KcAk-s",
        "colab_type": "code",
        "colab": {
          "base_uri": "https://localhost:8080/",
          "height": 284
        },
        "outputId": "9dc4e800-2957-43d0-a06f-3e29dd4b25d9"
      },
      "source": [
        "import matplotlib.pyplot as plt\n",
        "\n",
        "plt.plot(train_cost_value_list,'b') # train\n",
        "plt.plot(test_cost_value_list,'r') # test"
      ],
      "execution_count": 437,
      "outputs": [
        {
          "output_type": "execute_result",
          "data": {
            "text/plain": [
              "[<matplotlib.lines.Line2D at 0x7f05789d84a8>]"
            ]
          },
          "metadata": {
            "tags": []
          },
          "execution_count": 437
        },
        {
          "output_type": "display_data",
          "data": {
            "image/png": "[encoded data removed]",
            "text/plain": [
              "<Figure size 432x288 with 1 Axes>"
            ]
          },
          "metadata": {
            "tags": [],
            "needs_background": "light"
          }
        }
      ]
    },
    {
      "cell_type": "markdown",
      "metadata": {
        "id": "xqIPjMpLAxGk",
        "colab_type": "text"
      },
      "source": [
        "## plot the accuracy curve"
      ]
    },
    {
      "cell_type": "code",
      "metadata": {
        "id": "86DrTMZsA2Qj",
        "colab_type": "code",
        "colab": {
          "base_uri": "https://localhost:8080/",
          "height": 284
        },
        "outputId": "e092bee2-c2c6-411c-8e90-b330b9ebdd89"
      },
      "source": [
        "plt.plot(train_accuracy_list,'b')\n",
        "plt.plot(test_accuracy_list,'r')"
      ],
      "execution_count": 438,
      "outputs": [
        {
          "output_type": "execute_result",
          "data": {
            "text/plain": [
              "[<matplotlib.lines.Line2D at 0x7f05789d82b0>]"
            ]
          },
          "metadata": {
            "tags": []
          },
          "execution_count": 438
        },
        {
          "output_type": "display_data",
          "data": {
            "image/png": "[encoded data removed]",
            "text/plain": [
              "<Figure size 432x288 with 1 Axes>"
            ]
          },
          "metadata": {
            "tags": [],
            "needs_background": "light"
          }
        }
      ]
    },
    {
      "cell_type": "markdown",
      "metadata": {
        "id": "ThM-l0OAA4v2",
        "colab_type": "text"
      },
      "source": [
        "## plot the quantitative results"
      ]
    },
    {
      "cell_type": "code",
      "metadata": {
        "id": "T3AyUgeYBAhX",
        "colab_type": "code",
        "colab": {
          "base_uri": "https://localhost:8080/",
          "height": 241
        },
        "outputId": "e04205fc-2b72-4335-846b-b0f8872455d4"
      },
      "source": [
        "# training results\n",
        "from sklearn.metrics import classification_report, confusion_matrix, accuracy_score\n",
        "\n",
        "# confusion matrix \n",
        "print(confusion_matrix(y_train,train_predict_label))\n",
        "# classification results\n",
        "print(classification_report(y_train,train_predict_label))\n",
        "# accuracy_score\n",
        "print(accuracy_score(y_train, train_predict_label))"
      ],
      "execution_count": 439,
      "outputs": [
        {
          "output_type": "stream",
          "text": [
            "[[698   0]\n",
            " [  0 702]]\n",
            "              precision    recall  f1-score   support\n",
            "\n",
            "           0       1.00      1.00      1.00       698\n",
            "           1       1.00      1.00      1.00       702\n",
            "\n",
            "    accuracy                           1.00      1400\n",
            "   macro avg       1.00      1.00      1.00      1400\n",
            "weighted avg       1.00      1.00      1.00      1400\n",
            "\n",
            "1.0\n"
          ],
          "name": "stdout"
        }
      ]
    },
    {
      "cell_type": "code",
      "metadata": {
        "id": "qJ0lBrRWBu0p",
        "colab_type": "code",
        "colab": {
          "base_uri": "https://localhost:8080/",
          "height": 241
        },
        "outputId": "d06c3ae7-81a4-4f73-912b-f5fddd17ed91"
      },
      "source": [
        "# testing results\n",
        "print(confusion_matrix(y_test,test_predict_label))\n",
        "print(classification_report(y_test,test_predict_label))\n",
        "print(accuracy_score(y_test, test_predict_label))"
      ],
      "execution_count": 440,
      "outputs": [
        {
          "output_type": "stream",
          "text": [
            "[[242  60]\n",
            " [ 67 231]]\n",
            "              precision    recall  f1-score   support\n",
            "\n",
            "           0       0.78      0.80      0.79       302\n",
            "           1       0.79      0.78      0.78       298\n",
            "\n",
            "    accuracy                           0.79       600\n",
            "   macro avg       0.79      0.79      0.79       600\n",
            "weighted avg       0.79      0.79      0.79       600\n",
            "\n",
            "0.7883333333333333\n"
          ],
          "name": "stdout"
        }
      ]
    },
    {
      "cell_type": "code",
      "metadata": {
        "id": "TKIzBU3qB2nK",
        "colab_type": "code",
        "colab": {}
      },
      "source": [
        ""
      ],
      "execution_count": 440,
      "outputs": []
    },
    {
      "cell_type": "markdown",
      "metadata": {
        "id": "ZanhdN-WB4LX",
        "colab_type": "text"
      },
      "source": [
        "## testing accuracy"
      ]
    },
    {
      "cell_type": "code",
      "metadata": {
        "id": "3q_tUeloB6HD",
        "colab_type": "code",
        "colab": {
          "base_uri": "https://localhost:8080/",
          "height": 36
        },
        "outputId": "ca775bb5-b4cb-48b6-dbb7-383721c84f65"
      },
      "source": [
        "print(accuracy_score(y_test, test_predict_label)*100,'%')"
      ],
      "execution_count": 441,
      "outputs": [
        {
          "output_type": "stream",
          "text": [
            "78.83333333333333 %\n"
          ],
          "name": "stdout"
        }
      ]
    },
    {
      "cell_type": "code",
      "metadata": {
        "id": "6E_DxZsaCVb0",
        "colab_type": "code",
        "colab": {}
      },
      "source": [
        ""
      ],
      "execution_count": 441,
      "outputs": []
    },
    {
      "cell_type": "code",
      "metadata": {
        "id": "sCC8pFxUCVsT",
        "colab_type": "code",
        "colab": {}
      },
      "source": [
        ""
      ],
      "execution_count": 441,
      "outputs": []
    },
    {
      "cell_type": "markdown",
      "metadata": {
        "id": "VRdv0tXnCV-h",
        "colab_type": "text"
      },
      "source": [
        "## 답"
      ]
    },
    {
      "cell_type": "markdown",
      "metadata": {
        "id": "BlftCd4TyfBi",
        "colab_type": "text"
      },
      "source": [
        "## 1. plot the loss curve"
      ]
    },
    {
      "cell_type": "code",
      "metadata": {
        "id": "gY10Hyr_CW2Z",
        "colab_type": "code",
        "colab": {
          "base_uri": "https://localhost:8080/",
          "height": 284
        },
        "outputId": "905d745e-5d36-47f3-f2c0-bd42f1cc56a3"
      },
      "source": [
        "plt.plot(train_cost_value_list,'b') # train\n",
        "plt.plot(test_cost_value_list,'r') # test"
      ],
      "execution_count": 442,
      "outputs": [
        {
          "output_type": "execute_result",
          "data": {
            "text/plain": [
              "[<matplotlib.lines.Line2D at 0x7f0578b54dd8>]"
            ]
          },
          "metadata": {
            "tags": []
          },
          "execution_count": 442
        },
        {
          "output_type": "display_data",
          "data": {
            "image/png": "[encoded data removed]",
            "text/plain": [
              "<Figure size 432x288 with 1 Axes>"
            ]
          },
          "metadata": {
            "tags": [],
            "needs_background": "light"
          }
        }
      ]
    },
    {
      "cell_type": "markdown",
      "metadata": {
        "id": "ut_xsQWGyl_J",
        "colab_type": "text"
      },
      "source": [
        "## 2. plot the accuracy curve"
      ]
    },
    {
      "cell_type": "code",
      "metadata": {
        "id": "AGkfgyTayktP",
        "colab_type": "code",
        "colab": {
          "base_uri": "https://localhost:8080/",
          "height": 284
        },
        "outputId": "8aa7a92c-aad0-4fa0-df56-c5670b606d74"
      },
      "source": [
        "plt.plot(train_accuracy_list,'b')\n",
        "plt.plot(test_accuracy_list,'r')"
      ],
      "execution_count": 443,
      "outputs": [
        {
          "output_type": "execute_result",
          "data": {
            "text/plain": [
              "[<matplotlib.lines.Line2D at 0x7f05788ff390>]"
            ]
          },
          "metadata": {
            "tags": []
          },
          "execution_count": 443
        },
        {
          "output_type": "display_data",
          "data": {
            "image/png": "[encoded data removed]",
            "text/plain": [
              "<Figure size 432x288 with 1 Axes>"
            ]
          },
          "metadata": {
            "tags": [],
            "needs_background": "light"
          }
        }
      ]
    },
    {
      "cell_type": "markdown",
      "metadata": {
        "id": "5ETd8MT9yr5n",
        "colab_type": "text"
      },
      "source": [
        "## 3. plot the quantitative results"
      ]
    },
    {
      "cell_type": "markdown",
      "metadata": {
        "id": "jbLPv-RzywJB",
        "colab_type": "text"
      },
      "source": [
        "- training results"
      ]
    },
    {
      "cell_type": "code",
      "metadata": {
        "id": "66JS29fayqm1",
        "colab_type": "code",
        "colab": {
          "base_uri": "https://localhost:8080/",
          "height": 241
        },
        "outputId": "c24ddd51-a989-4e94-a362-ccd2e668a38f"
      },
      "source": [
        "# training results\n",
        "from sklearn.metrics import classification_report, confusion_matrix, accuracy_score\n",
        "\n",
        "# confusion matrix \n",
        "print(confusion_matrix(y_train,train_predict_label))\n",
        "# classification results\n",
        "print(classification_report(y_train,train_predict_label))\n",
        "# accuracy_score\n",
        "print(accuracy_score(y_train, train_predict_label))"
      ],
      "execution_count": 444,
      "outputs": [
        {
          "output_type": "stream",
          "text": [
            "[[698   0]\n",
            " [  0 702]]\n",
            "              precision    recall  f1-score   support\n",
            "\n",
            "           0       1.00      1.00      1.00       698\n",
            "           1       1.00      1.00      1.00       702\n",
            "\n",
            "    accuracy                           1.00      1400\n",
            "   macro avg       1.00      1.00      1.00      1400\n",
            "weighted avg       1.00      1.00      1.00      1400\n",
            "\n",
            "1.0\n"
          ],
          "name": "stdout"
        }
      ]
    },
    {
      "cell_type": "markdown",
      "metadata": {
        "id": "NNkG6paDy1GE",
        "colab_type": "text"
      },
      "source": [
        "- testing results"
      ]
    },
    {
      "cell_type": "code",
      "metadata": {
        "id": "5IDqoSnQy0qr",
        "colab_type": "code",
        "colab": {
          "base_uri": "https://localhost:8080/",
          "height": 241
        },
        "outputId": "aa622f32-47b0-4473-92cd-c830a8c8273f"
      },
      "source": [
        "# testing results\n",
        "print(confusion_matrix(y_test,test_predict_label))\n",
        "print(classification_report(y_test,test_predict_label))\n",
        "print(accuracy_score(y_test, test_predict_label))"
      ],
      "execution_count": 445,
      "outputs": [
        {
          "output_type": "stream",
          "text": [
            "[[242  60]\n",
            " [ 67 231]]\n",
            "              precision    recall  f1-score   support\n",
            "\n",
            "           0       0.78      0.80      0.79       302\n",
            "           1       0.79      0.78      0.78       298\n",
            "\n",
            "    accuracy                           0.79       600\n",
            "   macro avg       0.79      0.79      0.79       600\n",
            "weighted avg       0.79      0.79      0.79       600\n",
            "\n",
            "0.7883333333333333\n"
          ],
          "name": "stdout"
        }
      ]
    },
    {
      "cell_type": "markdown",
      "metadata": {
        "id": "GEEY7Ytmy5fk",
        "colab_type": "text"
      },
      "source": [
        "## 4. testing accuracy"
      ]
    },
    {
      "cell_type": "code",
      "metadata": {
        "id": "tVFF_5rOyz9F",
        "colab_type": "code",
        "colab": {
          "base_uri": "https://localhost:8080/",
          "height": 36
        },
        "outputId": "4ee717ed-37ef-466c-d0be-a17ad4c1e571"
      },
      "source": [
        "print(accuracy_score(y_test, test_predict_label)*100,'%')"
      ],
      "execution_count": 446,
      "outputs": [
        {
          "output_type": "stream",
          "text": [
            "78.83333333333333 %\n"
          ],
          "name": "stdout"
        }
      ]
    },
    {
      "cell_type": "code",
      "metadata": {
        "id": "8B4Q6Euny---",
        "colab_type": "code",
        "colab": {}
      },
      "source": [
        ""
      ],
      "execution_count": 446,
      "outputs": []
    }
  ]
}