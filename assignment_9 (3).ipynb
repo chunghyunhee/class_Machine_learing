{
  "nbformat": 4,
  "nbformat_minor": 0,
  "metadata": {
    "colab": {
      "name": "assignment_9.ipynb",
      "provenance": [],
      "collapsed_sections": []
    },
    "kernelspec": {
      "name": "python3",
      "display_name": "Python 3"
    }
  },
  "cells": [
    {
      "cell_type": "markdown",
      "metadata": {
        "id": "zCN3FkUEomJm",
        "colab_type": "text"
      },
      "source": [
        "## data"
      ]
    },
    {
      "cell_type": "code",
      "metadata": {
        "id": "fQoUVM4Hn1Xj",
        "colab_type": "code",
        "colab": {}
      },
      "source": [
        "import matplotlib.pyplot as plt\n",
        "import numpy as np\n",
        "\n",
        "file_data   = \"mnist.csv\"\n",
        "handle_file = open(file_data, \"r\")\n",
        "data        = handle_file.readlines()\n",
        "handle_file.close()"
      ],
      "execution_count": 0,
      "outputs": []
    },
    {
      "cell_type": "code",
      "metadata": {
        "id": "_8ZFJjWOp_BP",
        "colab_type": "code",
        "colab": {}
      },
      "source": [
        "size_row    = 28    # height of the image\n",
        "size_col    = 28    # width of the image\n",
        "\n",
        "num_image   = len(data)\n",
        "count       = 0     # count for the number of images"
      ],
      "execution_count": 0,
      "outputs": []
    },
    {
      "cell_type": "code",
      "metadata": {
        "id": "7sK0g-PvqCVn",
        "colab_type": "code",
        "colab": {}
      },
      "source": [
        "# normalize the values of the input data to be [0, 1]\n",
        "def normalize(data):\n",
        "\n",
        "    data_normalized = (data - min(data)) / (max(data) - min(data))\n",
        "\n",
        "    return(data_normalized)"
      ],
      "execution_count": 0,
      "outputs": []
    },
    {
      "cell_type": "code",
      "metadata": {
        "id": "UMtsA7pnqEpe",
        "colab_type": "code",
        "colab": {}
      },
      "source": [
        "# example of distance function between two vectors x and y\n",
        "def distance(x, y):\n",
        "\n",
        "    d = (x - y) ** 2\n",
        "    s = np.sum(d)\n",
        "    # r = np.sqrt(s)\n",
        "\n",
        "    return(s)"
      ],
      "execution_count": 0,
      "outputs": []
    },
    {
      "cell_type": "code",
      "metadata": {
        "id": "wGzEgN73qH7b",
        "colab_type": "code",
        "colab": {}
      },
      "source": [
        "# make a matrix each column of which represents an images in a vector form\n",
        "list_image  = np.empty((size_row * size_col, num_image), dtype=float)\n",
        "list_label  = np.empty(num_image, dtype=int)\n",
        "\n",
        "for line in data:\n",
        "    line_data   = line.split(',')\n",
        "    label       = line_data[0]\n",
        "    im_vector   = np.asfarray(line_data[1:])\n",
        "    im_vector   = normalize(im_vector) # 이미지 데이터 정규화 \n",
        "\n",
        "    list_label[count]       = label\n",
        "    list_image[:, count]    = im_vector\n",
        "\n",
        "    count += 1"
      ],
      "execution_count": 0,
      "outputs": []
    },
    {
      "cell_type": "code",
      "metadata": {
        "id": "zskle52otidr",
        "colab_type": "code",
        "colab": {
          "base_uri": "https://localhost:8080/",
          "height": 36
        },
        "outputId": "3496feb3-121c-4961-b57f-db37ebf19114"
      },
      "source": [
        "print(list_image.shape, list_label.T.shape) # 확인 "
      ],
      "execution_count": 6,
      "outputs": [
        {
          "output_type": "stream",
          "text": [
            "(784, 10000) (10000,)\n"
          ],
          "name": "stdout"
        }
      ]
    },
    {
      "cell_type": "code",
      "metadata": {
        "id": "On370kGd0Bfd",
        "colab_type": "code",
        "colab": {
          "base_uri": "https://localhost:8080/",
          "height": 36
        },
        "outputId": "52ef25e3-0c3c-4dfe-ad78-946c78946b0c"
      },
      "source": [
        "list_image.T[0].shape # 이 형태가 10000가 있는 거라고 생각하면 된다. "
      ],
      "execution_count": 7,
      "outputs": [
        {
          "output_type": "execute_result",
          "data": {
            "text/plain": [
              "(784,)"
            ]
          },
          "metadata": {
            "tags": []
          },
          "execution_count": 7
        }
      ]
    },
    {
      "cell_type": "code",
      "metadata": {
        "id": "o2JyDICW1Wrt",
        "colab_type": "code",
        "colab": {
          "base_uri": "https://localhost:8080/",
          "height": 36
        },
        "outputId": "5db97339-52e3-4b26-f9df-636ec323bced"
      },
      "source": [
        "len(list_image.T) #이미지 벡터의 수 "
      ],
      "execution_count": 8,
      "outputs": [
        {
          "output_type": "execute_result",
          "data": {
            "text/plain": [
              "10000"
            ]
          },
          "metadata": {
            "tags": []
          },
          "execution_count": 8
        }
      ]
    },
    {
      "cell_type": "code",
      "metadata": {
        "id": "4xLjVW7AuS-R",
        "colab_type": "code",
        "colab": {
          "base_uri": "https://localhost:8080/",
          "height": 36
        },
        "outputId": "d97cc66d-5ff3-4dd4-be00-fc4972e90f3f"
      },
      "source": [
        "len(list_label) # 라벨의 수 "
      ],
      "execution_count": 9,
      "outputs": [
        {
          "output_type": "execute_result",
          "data": {
            "text/plain": [
              "10000"
            ]
          },
          "metadata": {
            "tags": []
          },
          "execution_count": 9
        }
      ]
    },
    {
      "cell_type": "markdown",
      "metadata": {
        "id": "qvP8rEL8qsrn",
        "colab_type": "text"
      },
      "source": [
        "## optimization\n",
        "- input으로 넣은 행렬끼리의 연산에 주의(행렬 shape에 주의하기)\n",
        "- randomly initialize weights\n",
        "- Implement foward propagation to get h(x) for any x\n",
        "- Implement code to compute cost function J\n",
        "- Implement backprop to compute partial derivations\n",
        "\n",
        "- and training the neural network\n",
        "- Use gradient descent with back propagation to minimize J(theta) as function of parameter theta.\n"
      ]
    },
    {
      "cell_type": "code",
      "metadata": {
        "id": "rk_jlquuyuUs",
        "colab_type": "code",
        "colab": {}
      },
      "source": [
        "# 먼저 theta의 행렬의 형태에 대한 정의가 필요하다.  \n",
        "# 랜덤으로 정한 theta (U,V,W)에 해당 \n",
        "theta1 = np.random.random((196, 785))\n",
        "theta2 = np.random.random((49, 197))\n",
        "theta3 = np.random.random((10, 50))\n",
        "\n",
        "# 정한 theta들의 리스트\n",
        "theta_vector = [theta1, theta2, theta3]"
      ],
      "execution_count": 0,
      "outputs": []
    },
    {
      "cell_type": "code",
      "metadata": {
        "id": "69jCBzs6zda6",
        "colab_type": "code",
        "colab": {}
      },
      "source": [
        "# h, sigmoid함수 정의 \n",
        "# activation function으로 sigmoid를 사용할 예정에 있음 \n",
        "def h(theta,X):\n",
        "  return np.dot(X,theta)\n",
        "\n",
        "def sigmoid(x):\n",
        "  return np.exp(-np.maximum(x,0))/(1.0+np.exp(-np.abs(x))) #sigmoid함수 변형식 사용하여 정의함\n",
        "\n",
        "# 미분한 sigmoid식\n",
        "def Dsigmoid(x):\n",
        "  return sigmoid(x)*(1-sigmoid(x))"
      ],
      "execution_count": 0,
      "outputs": []
    },
    {
      "cell_type": "code",
      "metadata": {
        "id": "Ab-gwCaoSCwv",
        "colab_type": "code",
        "colab": {}
      },
      "source": [
        "list_image = np.insert(list_image, 0,1,axis=0)"
      ],
      "execution_count": 0,
      "outputs": []
    },
    {
      "cell_type": "code",
      "metadata": {
        "id": "aNYUSWgaSM7F",
        "colab_type": "code",
        "colab": {
          "base_uri": "https://localhost:8080/",
          "height": 36
        },
        "outputId": "40d6bdbc-a1c6-40f5-ca6a-6aa70757aa27"
      },
      "source": [
        "list_image.shape # bias추가한 shape확인 "
      ],
      "execution_count": 13,
      "outputs": [
        {
          "output_type": "execute_result",
          "data": {
            "text/plain": [
              "(785, 10000)"
            ]
          },
          "metadata": {
            "tags": []
          },
          "execution_count": 13
        }
      ]
    },
    {
      "cell_type": "markdown",
      "metadata": {
        "id": "lXM4R1KToNaB",
        "colab_type": "text"
      },
      "source": [
        "**순전파 + cost function**"
      ]
    },
    {
      "cell_type": "code",
      "metadata": {
        "id": "KWSRYPLA2bpe",
        "colab_type": "code",
        "colab": {}
      },
      "source": [
        "# 순전파 함수 수정한 함수 \n",
        "def Forward(image_vector,theta_vector):\n",
        "    features = image_vector\n",
        "    z_each_layer = []\n",
        "\n",
        "    # theta의 수대로 반복하고, 그에따라 각각 저장해야 한다. \n",
        "    for i in range(len(theta_vector)):  \n",
        "        theta = theta_vector[i]\n",
        "        z = theta.dot(features).reshape((theta.shape[0],1))\n",
        "        a = sigmoid(z)\n",
        "        z_each_layer.append( (z, a) ) # z와 a값 모두 저장한다 \n",
        "\n",
        "        if i == len(theta_vector)-1:\n",
        "            return np.array(z_each_layer)\n",
        "\n",
        "        a = np.insert(a,0,1) # bias 붙임 \n",
        "        features = a # 다음 "
      ],
      "execution_count": 0,
      "outputs": []
    },
    {
      "cell_type": "code",
      "metadata": {
        "id": "qviDv0mh5w_Z",
        "colab_type": "code",
        "colab": {}
      },
      "source": [
        "h = Forward(list_image.T[0],theta_vector)\n",
        "#print(h) #계산이 잘 됨을 확인"
      ],
      "execution_count": 0,
      "outputs": []
    },
    {
      "cell_type": "code",
      "metadata": {
        "id": "40zhdKA02X0O",
        "colab_type": "code",
        "colab": {}
      },
      "source": [
        "# Objective function에 대한 정의 \n",
        "def ObjectiveFunction(thetha_vector, image_vector,label_list):\n",
        "  Allcost = 0. # 전체 곱한 값을 저장할 변수\n",
        "  m = len(list_label) # 전체 샘플의 수(image의 수)\n",
        "  # train\n",
        "  for i in range(m):\n",
        "    new_feature = image_vector.T[i]\n",
        "    h = Forward(new_feature.T,thetha_vector)[-1][1] # 순전파로 계산한 값의 h\n",
        "    \n",
        "    tmp = np.zeros((10,1))\n",
        "    tmp[label_list[i]-1] = 1 #원핫 인코딩을 통해 원래 label을 지정함 \n",
        "\n",
        "    # compute cost\n",
        "    cost = -tmp.T.dot(np.log(h))-(1-tmp.T).dot(np.log(1-h))\n",
        "\n",
        "    # 전체 cost는 각각의 cost를 합한값에 해당한다. \n",
        "    Allcost += cost\n",
        "  \n",
        "  # 전체 sample수로 나누는 항에 해당하는 부분 \n",
        "  Allcost = Allcost/m\n",
        "\n",
        "  return Allcost"
      ],
      "execution_count": 0,
      "outputs": []
    },
    {
      "cell_type": "code",
      "metadata": {
        "id": "b6qUR8cqweNu",
        "colab_type": "code",
        "colab": {
          "base_uri": "https://localhost:8080/",
          "height": 36
        },
        "outputId": "4b0db5ce-483b-4b05-d281-6d98da014e4a"
      },
      "source": [
        "# 랜덤으로 정한 theta에 대하여 cost값 계산해본다. (의미없음. 마찬가지로 계산이 되는지를 확인함)\n",
        "ObjectiveFunction(theta_vector, list_image, list_label)"
      ],
      "execution_count": 17,
      "outputs": [
        {
          "output_type": "execute_result",
          "data": {
            "text/plain": [
              "array([[9.69087995]])"
            ]
          },
          "metadata": {
            "tags": []
          },
          "execution_count": 17
        }
      ]
    },
    {
      "cell_type": "markdown",
      "metadata": {
        "id": "RcPQSgNrVDsN",
        "colab_type": "text"
      },
      "source": [
        "**역전파**"
      ]
    },
    {
      "cell_type": "code",
      "metadata": {
        "id": "VpppsEvzED4Q",
        "colab_type": "code",
        "colab": {}
      },
      "source": [
        "# 각 layer에서의 노드수를 지정하여 변수로 저장 \n",
        "input_layer = 785\n",
        "first_hidden_layer = 196\n",
        "second_hidden_layer = 49\n",
        "output_layer = 10"
      ],
      "execution_count": 0,
      "outputs": []
    },
    {
      "cell_type": "code",
      "metadata": {
        "id": "3qomF6T0cKJ0",
        "colab_type": "code",
        "colab": {}
      },
      "source": [
        "# 순전파로 최종 classify된 label을 정하는 함수 \n",
        "def NN(image_vector, theta_vector):\n",
        "  outputLabel = range(1,11) # 1~10의 label을 가진 output임\n",
        "  for i in range(10000):\n",
        "    feature = image_vector.T[i]\n",
        "    outputReal = Forward(feature,theta_vector)\n",
        "    return outputLabel[np.argmax(outputReal[-1][1])]"
      ],
      "execution_count": 0,
      "outputs": []
    },
    {
      "cell_type": "code",
      "metadata": {
        "id": "MiVig6CLcnBJ",
        "colab_type": "code",
        "colab": {}
      },
      "source": [
        "# 정확도\n",
        "def accuracy(image_vector, theta_vector, label_list):\n",
        "  count = 0 # 맞은 class를 세는 변수\n",
        "  all = image_vector.T.shape[0]\n",
        "  for i in range(all):\n",
        "    if(NN(image_vector[i],theta_vector)==label_list[i]): #맞은 개수\n",
        "      count+=1\n",
        "  return (count/all)*100 "
      ],
      "execution_count": 0,
      "outputs": []
    },
    {
      "cell_type": "code",
      "metadata": {
        "id": "Ae4SNEzNwpn3",
        "colab_type": "code",
        "colab": {}
      },
      "source": [
        "# 역전파 함수  \n",
        "\n",
        "# hyperparameter \n",
        "iteration = 10\n",
        "alpha  = 0.01\n",
        "m = len(list_label)\n",
        "\n",
        "def Back(theta_vector, image_vector, label_list):\n",
        "\n",
        "  # 델타값의 initialization\n",
        "  D1 = np.zeros((first_hidden_layer, input_layer))          # (196, 785)\n",
        "  D2 = np.zeros((second_hidden_layer,first_hidden_layer+1)) # (49, 197)\n",
        "  D3 = np.zeros((output_layer, second_hidden_layer+1))      # (10,50)\n",
        "\n",
        "  # update값 저장할 리스트 (이후 plotting위함)\n",
        "  J_history = [] \n",
        "  acc_history = []\n",
        "\n",
        "  # 전체 샘플수에 대하여 계산한다. \n",
        "  SampleLen = len(list_label)\n",
        "\n",
        "  for j in range(iteration):  \n",
        "   for i in range(SampleLen):\n",
        "\n",
        "      tmp1 = theta_vector[0]\n",
        "      tmp2 = theta_vector[1]\n",
        "      tmp3 = theta_vector[2]\n",
        "\n",
        "      # J_history, acc_history값 저장\n",
        "      J_history.append(ObjectiveFunction(theta_vector, image_vector, label_list))\n",
        "      #acc_history.append(accuracy(image_vector, theta_vector, label_list))\n",
        "\n",
        "      # 편미분 term 계산 \n",
        "      feature = image_vector.T[i] # 각 샘플마다의 image vector을 의미한다. \n",
        "      a1 = feature.reshape((input_layer,1))\n",
        "\n",
        "     # 순전파의 결과로 나오는 (3,2)matrix의 값을 각각의 변수에 저장한다. \n",
        "      foward = Forward(feature, theta_vector)\n",
        "      z2 = foward[0][0]\n",
        "      a2 = foward[0][1]\n",
        "      z3 = foward[1][0]\n",
        "      a3 = foward[1][1]\n",
        "      a4 = foward[2][0]\n",
        "      z4 = foward[2][1]\n",
        "\n",
        "      # 10개 레이블의 원핫 인코딩을 위한 더미 값 만들기\n",
        "      tmp = np.zeros((10,1))\n",
        "      tmp[label_list[i]-1] = 1\n",
        "      delta4 = a4 - tmp # 가장 마지막에 있는 layer에서의 작은델타값\n",
        "      delta3 = theta_vector[2].T[1:,:].dot(delta4)*Dsigmoid(z3)\n",
        "      a3 = np.insert(a3, 0, 1, axis =0)\n",
        "      delta2 = theta_vector[1].T[1:,:].dot(delta3)*Dsigmoid(z2)\n",
        "      a2 = np.insert(a2, 0, 1, axis =0)\n",
        "      # + delta1은 input 값에 대한 에러이므로 계산할 필요가 없다\n",
        "    \n",
        "      # big delta에 대한 계산\n",
        "      D1 += delta2.dot(a1.T)\n",
        "      D2 += delta3.dot(a2.T)\n",
        "      D3 += delta4.dot(a3.T)\n",
        "\n",
        "      # update theta\n",
        "      tmp3 = theta_vector[2] - alpha*(D3/m)\n",
        "      tmp2 = theta_vector[1] - alpha*(D2/m)\n",
        "      tmp1 = theta_vector[0] - alpha*(D1/m)\n",
        "\n",
        "  # 최종 theta1,2,3\n",
        "  theta_vector[0] = tmp1\n",
        "  theta_vector[1] = tmp2\n",
        "  theta_vector[2] = tmp3 \n",
        "\n",
        "  return theta_vector, J_history, acc_history"
      ],
      "execution_count": 0,
      "outputs": []
    },
    {
      "cell_type": "code",
      "metadata": {
        "id": "kFx96nLRwWnE",
        "colab_type": "code",
        "colab": {
          "base_uri": "https://localhost:8080/",
          "height": 331
        },
        "outputId": "03071908-5f52-478c-bb25-3a9e69353f4a"
      },
      "source": [
        "theta_vector, J_history, acc_history = Back(theta_vector, list_image, list_label)"
      ],
      "execution_count": 33,
      "outputs": [
        {
          "output_type": "error",
          "ename": "ValueError",
          "evalue": "ignored",
          "traceback": [
            "\u001b[0;31m---------------------------------------------------------------------------\u001b[0m",
            "\u001b[0;31mValueError\u001b[0m                                Traceback (most recent call last)",
            "\u001b[0;32m<ipython-input-33-6aecda98d4e4>\u001b[0m in \u001b[0;36m<module>\u001b[0;34m()\u001b[0m\n\u001b[0;32m----> 1\u001b[0;31m \u001b[0mtheta_vector\u001b[0m\u001b[0;34m,\u001b[0m \u001b[0mJ_history\u001b[0m\u001b[0;34m,\u001b[0m \u001b[0macc_history\u001b[0m \u001b[0;34m=\u001b[0m \u001b[0mBack\u001b[0m\u001b[0;34m(\u001b[0m\u001b[0mtheta_vector\u001b[0m\u001b[0;34m,\u001b[0m \u001b[0mlist_image\u001b[0m\u001b[0;34m,\u001b[0m \u001b[0mlist_label\u001b[0m\u001b[0;34m)\u001b[0m\u001b[0;34m\u001b[0m\u001b[0;34m\u001b[0m\u001b[0m\n\u001b[0m",
            "\u001b[0;32m<ipython-input-32-b4f635073ce9>\u001b[0m in \u001b[0;36mBack\u001b[0;34m(theta_vector, image_vector, label_list)\u001b[0m\n\u001b[1;32m     35\u001b[0m \u001b[0;34m\u001b[0m\u001b[0m\n\u001b[1;32m     36\u001b[0m      \u001b[0;31m# 순전파의 결과로 나오는 (3,2)matrix의 값을 각각의 변수에 저장한다.\u001b[0m\u001b[0;34m\u001b[0m\u001b[0;34m\u001b[0m\u001b[0;34m\u001b[0m\u001b[0m\n\u001b[0;32m---> 37\u001b[0;31m       \u001b[0mfoward\u001b[0m \u001b[0;34m=\u001b[0m \u001b[0mForward\u001b[0m\u001b[0;34m(\u001b[0m\u001b[0mfeature\u001b[0m\u001b[0;34m,\u001b[0m \u001b[0mtheta_vector\u001b[0m\u001b[0;34m)\u001b[0m\u001b[0;34m\u001b[0m\u001b[0;34m\u001b[0m\u001b[0m\n\u001b[0m\u001b[1;32m     38\u001b[0m       \u001b[0mz2\u001b[0m \u001b[0;34m=\u001b[0m \u001b[0mfoward\u001b[0m\u001b[0;34m[\u001b[0m\u001b[0;36m0\u001b[0m\u001b[0;34m]\u001b[0m\u001b[0;34m[\u001b[0m\u001b[0;36m0\u001b[0m\u001b[0;34m]\u001b[0m\u001b[0;34m\u001b[0m\u001b[0;34m\u001b[0m\u001b[0m\n\u001b[1;32m     39\u001b[0m       \u001b[0ma2\u001b[0m \u001b[0;34m=\u001b[0m \u001b[0mfoward\u001b[0m\u001b[0;34m[\u001b[0m\u001b[0;36m0\u001b[0m\u001b[0;34m]\u001b[0m\u001b[0;34m[\u001b[0m\u001b[0;36m1\u001b[0m\u001b[0;34m]\u001b[0m\u001b[0;34m\u001b[0m\u001b[0;34m\u001b[0m\u001b[0m\n",
            "\u001b[0;32m<ipython-input-14-67c652dbdd74>\u001b[0m in \u001b[0;36mForward\u001b[0;34m(image_vector, theta_vector)\u001b[0m\n\u001b[1;32m      7\u001b[0m     \u001b[0;32mfor\u001b[0m \u001b[0mi\u001b[0m \u001b[0;32min\u001b[0m \u001b[0mrange\u001b[0m\u001b[0;34m(\u001b[0m\u001b[0mlen\u001b[0m\u001b[0;34m(\u001b[0m\u001b[0mtheta_vector\u001b[0m\u001b[0;34m)\u001b[0m\u001b[0;34m)\u001b[0m\u001b[0;34m:\u001b[0m\u001b[0;34m\u001b[0m\u001b[0;34m\u001b[0m\u001b[0m\n\u001b[1;32m      8\u001b[0m         \u001b[0mtheta\u001b[0m \u001b[0;34m=\u001b[0m \u001b[0mtheta_vector\u001b[0m\u001b[0;34m[\u001b[0m\u001b[0mi\u001b[0m\u001b[0;34m]\u001b[0m\u001b[0;34m\u001b[0m\u001b[0;34m\u001b[0m\u001b[0m\n\u001b[0;32m----> 9\u001b[0;31m         \u001b[0mz\u001b[0m \u001b[0;34m=\u001b[0m \u001b[0mtheta\u001b[0m\u001b[0;34m.\u001b[0m\u001b[0mdot\u001b[0m\u001b[0;34m(\u001b[0m\u001b[0mfeatures\u001b[0m\u001b[0;34m)\u001b[0m\u001b[0;34m.\u001b[0m\u001b[0mreshape\u001b[0m\u001b[0;34m(\u001b[0m\u001b[0;34m(\u001b[0m\u001b[0mtheta\u001b[0m\u001b[0;34m.\u001b[0m\u001b[0mshape\u001b[0m\u001b[0;34m[\u001b[0m\u001b[0;36m0\u001b[0m\u001b[0;34m]\u001b[0m\u001b[0;34m,\u001b[0m\u001b[0;36m1\u001b[0m\u001b[0;34m)\u001b[0m\u001b[0;34m)\u001b[0m\u001b[0;34m\u001b[0m\u001b[0;34m\u001b[0m\u001b[0m\n\u001b[0m\u001b[1;32m     10\u001b[0m         \u001b[0ma\u001b[0m \u001b[0;34m=\u001b[0m \u001b[0msigmoid\u001b[0m\u001b[0;34m(\u001b[0m\u001b[0mz\u001b[0m\u001b[0;34m)\u001b[0m\u001b[0;34m\u001b[0m\u001b[0;34m\u001b[0m\u001b[0m\n\u001b[1;32m     11\u001b[0m         \u001b[0mz_each_layer\u001b[0m\u001b[0;34m.\u001b[0m\u001b[0mappend\u001b[0m\u001b[0;34m(\u001b[0m \u001b[0;34m(\u001b[0m\u001b[0mz\u001b[0m\u001b[0;34m,\u001b[0m \u001b[0ma\u001b[0m\u001b[0;34m)\u001b[0m \u001b[0;34m)\u001b[0m \u001b[0;31m# z와 a값 모두 저장한다\u001b[0m\u001b[0;34m\u001b[0m\u001b[0;34m\u001b[0m\u001b[0m\n",
            "\u001b[0;31mValueError\u001b[0m: cannot reshape array of size 1960000 into shape (196,1)"
          ]
        }
      ]
    },
    {
      "cell_type": "code",
      "metadata": {
        "id": "Xk-ley_MzcLT",
        "colab_type": "code",
        "colab": {}
      },
      "source": [
        "# cost값 plotting\n",
        "plt.figure(figsize=(7, 5))\n",
        "plt.plot(range(len(J_history)),J_history,'b')"
      ],
      "execution_count": 0,
      "outputs": []
    },
    {
      "cell_type": "code",
      "metadata": {
        "id": "W_VKDQmwUMSZ",
        "colab_type": "code",
        "colab": {}
      },
      "source": [
        "# theta확인 \n",
        "theta_vector"
      ],
      "execution_count": 0,
      "outputs": []
    },
    {
      "cell_type": "code",
      "metadata": {
        "id": "OgoYKMhiUPa0",
        "colab_type": "code",
        "colab": {}
      },
      "source": [
        "# accuracy plotting\n",
        "plt.figure(figsize=(5, 5))\n",
        "plt.plot(range(len(acc_history)),acc_history,'b')"
      ],
      "execution_count": 0,
      "outputs": []
    },
    {
      "cell_type": "code",
      "metadata": {
        "id": "DXehvMRNUXtQ",
        "colab_type": "code",
        "colab": {}
      },
      "source": [
        "# plot the accuracy value\n",
        "acc_history[-1]"
      ],
      "execution_count": 0,
      "outputs": []
    },
    {
      "cell_type": "code",
      "metadata": {
        "id": "SvKbtxsRUc5v",
        "colab_type": "code",
        "colab": {}
      },
      "source": [
        "# plot the classification example\n"
      ],
      "execution_count": 0,
      "outputs": []
    }
  ]
}