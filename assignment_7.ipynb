{
  "nbformat": 4,
  "nbformat_minor": 0,
  "metadata": {
    "colab": {
      "name": "assignment_7.ipynb",
      "provenance": []
    },
    "kernelspec": {
      "name": "python3",
      "display_name": "Python 3"
    }
  },
  "cells": [
    {
      "cell_type": "markdown",
      "metadata": {
        "id": "Jiv612pCx67r",
        "colab_type": "text"
      },
      "source": [
        "## plotting the data"
      ]
    },
    {
      "cell_type": "code",
      "metadata": {
        "id": "6e2wVw_bxlyC",
        "colab_type": "code",
        "colab": {}
      },
      "source": [
        "#plotting the training data\n",
        "import numpy as np\n",
        "import matplotlib.pyplot as plt\n",
        "\n",
        "data    = np.genfromtxt(\"data-nonlinear.txt\", delimiter=',')\n",
        "\n",
        "x1  = data[:, 0]\n",
        "x2  = data[:, 1]\n",
        "label   = data[:, 2]\n",
        "\n",
        "x1_label0 = x1[label == 0]\n",
        "x2_label0 = x2[label == 0]\n",
        "\n",
        "x1_label1 = x1[label == 1]\n",
        "x2_label1 = x2[label == 1]"
      ],
      "execution_count": 0,
      "outputs": []
    },
    {
      "cell_type": "code",
      "metadata": {
        "id": "kJeJ74i4y82H",
        "colab_type": "code",
        "outputId": "caabfaa3-a45e-4324-981a-9bd1b6d84abe",
        "colab": {
          "base_uri": "https://localhost:8080/",
          "height": 297
        }
      },
      "source": [
        "# data plotting\n",
        "plt.figure()\n",
        "plt.scatter(x1_label0, x2_label0, c='b',label='class_0') #label0은 blue\n",
        "plt.scatter(x1_label1, x2_label1, c='r',label='class_1') #label1은 red\n",
        "plt.tight_layout()\n",
        "plt.legend()\n",
        "plt.gca().set_aspect('equal', adjustable='box')\n",
        "plt.show()"
      ],
      "execution_count": 49,
      "outputs": [
        {
          "output_type": "display_data",
          "data": {
            "image/png": "[encoded data removed]",
            "text/plain": [
              "<Figure size 432x288 with 1 Axes>"
            ]
          },
          "metadata": {
            "tags": [],
            "needs_background": "light"
          }
        }
      ]
    },
    {
      "cell_type": "code",
      "metadata": {
        "id": "pLdBzW4YzKfi",
        "colab_type": "code",
        "colab": {}
      },
      "source": [
        "# data\n",
        "data = np.array([x1,x2,label])"
      ],
      "execution_count": 0,
      "outputs": []
    },
    {
      "cell_type": "code",
      "metadata": {
        "id": "xecDu8F3zM_U",
        "colab_type": "code",
        "colab": {}
      },
      "source": [
        "X = np.transpose(np.array(data[:-1]))\n",
        "y = np.transpose(np.array(data[-1:]))\n",
        "m = y.size"
      ],
      "execution_count": 0,
      "outputs": []
    },
    {
      "cell_type": "code",
      "metadata": {
        "id": "xoxzy5FazQX4",
        "colab_type": "code",
        "colab": {}
      },
      "source": [
        "# X에는 1을 가지는 열을 삽입한다(interception계산을 위해)\n",
        "X = np.insert(X,0,1,axis=1)"
      ],
      "execution_count": 0,
      "outputs": []
    },
    {
      "cell_type": "markdown",
      "metadata": {
        "id": "n7K9mjmjyRAe",
        "colab_type": "text"
      },
      "source": [
        "## Plot the training error with varying regularization parameters"
      ]
    },
    {
      "cell_type": "code",
      "metadata": {
        "id": "8kkuAPLhx8z-",
        "colab_type": "code",
        "colab": {}
      },
      "source": [
        "#저번주와 다른 점은 tehta가 100개가 나와야 한다는 점, \n",
        "def NewFeatureMake(n, x1,x2):\n",
        "    # 차수 n으로 정의\n",
        "    # X의 첫 열은 1로 이루어진 열 for intercept \n",
        "    out = np.ones( (x1.shape[0], 1) )\n",
        "\n",
        "    # 각 차수별로 가능한 모든 수식을 작성하기 위한 이중 for문 \n",
        "    for i in range(0, n+1):\n",
        "        for j in range(0, n+1):\n",
        "            if not (i==0 and j==0) :\n",
        "              first_seq = x1 ** (i)\n",
        "              second_seq = x2 ** (j)\n",
        "              final = (first_seq * second_seq).reshape( first_seq.shape[0], 1 ) \n",
        "              out = np.hstack(( out, final )) # feature으로 이루어진 X 행렬 생성 \n",
        "              #print(i, j,\"\\n\") # 몇차에 해당하는 theta값인지를 확인하기 위한 출력 \n",
        "    return out"
      ],
      "execution_count": 0,
      "outputs": []
    },
    {
      "cell_type": "code",
      "metadata": {
        "id": "um5yJIZA4W3v",
        "colab_type": "code",
        "colab": {
          "base_uri": "https://localhost:8080/",
          "height": 36
        },
        "outputId": "f6d9caa3-b5d6-4d3f-b64a-0b988627b1d9"
      },
      "source": [
        "new_X = NewFeatureMake(9, X[:,1],X[:,2])\n",
        "new_X.shape"
      ],
      "execution_count": 355,
      "outputs": [
        {
          "output_type": "execute_result",
          "data": {
            "text/plain": [
              "(118, 100)"
            ]
          },
          "metadata": {
            "tags": []
          },
          "execution_count": 355
        }
      ]
    },
    {
      "cell_type": "code",
      "metadata": {
        "id": "lQJFXgzGzx6j",
        "colab_type": "code",
        "colab": {}
      },
      "source": [
        "#X벡터값과 theta값을 받았을 때 도출할 수 있는 logistic model\n",
        "def h(theta, X):\n",
        "  z = np.dot(X,theta)\n",
        "  return 1./(np.exp(-z)+1)"
      ],
      "execution_count": 0,
      "outputs": []
    },
    {
      "cell_type": "code",
      "metadata": {
        "id": "lKXfDigEz1qD",
        "colab_type": "code",
        "colab": {}
      },
      "source": [
        "#Objective function\n",
        "#여기서의 L은 lambda값을 의미한다. = regularization term\n",
        "def ObjectiveFunc(theta, X, y, m, L):\n",
        "  for_0 = np.dot(-np.array(y).T,np.log(h(theta,X)))\n",
        "  for_1 = np.dot((1-np.array(y)).T,np.log(1-h(theta,X)))\n",
        "  regularization = (L/2)*(np.sum(np.dot(theta[1:].T, theta[1:]))) #biased term은 포함x\n",
        "  return float( (1./m) * ( np.sum(for_0 - for_1) + regularization ) )"
      ],
      "execution_count": 0,
      "outputs": []
    },
    {
      "cell_type": "code",
      "metadata": {
        "id": "73D50cqB0RiT",
        "colab_type": "code",
        "colab": {}
      },
      "source": [
        "# accuracy 정의 \n",
        "# y를 y로 input하면 y.flatten-> y이어야 하고, y를 label로 input하려면 y.flatten으로 유지해야 한다. \n",
        "def accuracy(X, y,theta,threshold=0.55):\n",
        "  pred = (h(theta, X)>=threshold).astype(int) #예측한 값\n",
        "  acc = np.mean(pred.flatten() == y.flatten()) # 실제값과 같은지를 비교하여 전체 len으로 나눔 \n",
        "  return acc * 100"
      ],
      "execution_count": 0,
      "outputs": []
    },
    {
      "cell_type": "code",
      "metadata": {
        "id": "5xhqXB_O1kTT",
        "colab_type": "code",
        "colab": {}
      },
      "source": [
        "# Gradient descent using ObjectiveFunc\n",
        "# add regularization term\n",
        "\n",
        "iteration = 50000 # hyperparameter\n",
        "alpha = 0.01\n",
        "\n",
        "def GradientDescent(X,y,Theta,m, L):\n",
        "    #plotting위해 저장하는 history\n",
        "    J_history = [] \n",
        "    acc_history = []\n",
        "    #theta_history = []\n",
        "\n",
        "    #iteration\n",
        "    for i in range(iteration):\n",
        "        tmp = Theta #동시에 update하기 위해선 교환하기 위한 새로운 변수가 필요\n",
        "        \n",
        "        #history값 저장 \n",
        "        J_history.append(ObjectiveFunc(Theta,X,y,m,L))\n",
        "        acc_history.append(accuracy(X,y,Theta))\n",
        "        #theta_history.append(list(theta[:,0]))\n",
        "\n",
        "        #update theta\n",
        "        for j in range(len(tmp)):\n",
        "\n",
        "          tmp[j] = Theta[j]*(1-alpha*L/m) - (alpha/m)*np.sum((h(Theta,X) - y)*np.array(X[:,j]).reshape(m,1))\n",
        "          #tmp[j] = Theta[j] - (alpha/m)*( (np.sum( (h(Theta,X) - y)*np.array(X[:,j]).reshape(m,1)) + L*Theta[j] ))\n",
        "        Theta = tmp \n",
        "    return Theta, acc_history, J_history"
      ],
      "execution_count": 0,
      "outputs": []
    },
    {
      "cell_type": "code",
      "metadata": {
        "id": "bYGHRBFf3Rq9",
        "colab_type": "code",
        "colab": {}
      },
      "source": [
        "#theta초깃값 (0으로 주는 경우 )\n",
        "theta=np.zeros((new_X.shape[1],1))"
      ],
      "execution_count": 0,
      "outputs": []
    },
    {
      "cell_type": "code",
      "metadata": {
        "id": "zl9K-_L13VA0",
        "colab_type": "code",
        "colab": {}
      },
      "source": [
        "# Gradient descent계산 (lambda = 0 ): overfitting의 경우 \n",
        "theta, acc_history, J_history = GradientDescent(new_X,y, theta,m, 0)"
      ],
      "execution_count": 0,
      "outputs": []
    },
    {
      "cell_type": "code",
      "metadata": {
        "id": "MDQcd9NhCoIF",
        "colab_type": "code",
        "colab": {}
      },
      "source": [
        "#새로운 초깃값 \n",
        "theta1=np.zeros((new_X.shape[1],1))"
      ],
      "execution_count": 0,
      "outputs": []
    },
    {
      "cell_type": "code",
      "metadata": {
        "id": "urSUNuUIpS8N",
        "colab_type": "code",
        "colab": {}
      },
      "source": [
        "# Gradient descent계산 (lambda = 10 ): Just right의 경우 \n",
        "theta1, acc_history1, J_history1 = GradientDescent(new_X,y, theta1,m, 1)"
      ],
      "execution_count": 0,
      "outputs": []
    },
    {
      "cell_type": "code",
      "metadata": {
        "id": "VTr8tMu-Cunn",
        "colab_type": "code",
        "colab": {}
      },
      "source": [
        "#새로운 초깃값 \n",
        "theta2=np.zeros((new_X.shape[1],1))"
      ],
      "execution_count": 0,
      "outputs": []
    },
    {
      "cell_type": "code",
      "metadata": {
        "id": "8B-ul1ycVEVe",
        "colab_type": "code",
        "colab": {}
      },
      "source": [
        "# Gradient descent계산 (lambda = 30 ): underfitting의 경우 \n",
        "theta2, acc_history2, J_history2 = GradientDescent(new_X,y, theta2,m, 30)"
      ],
      "execution_count": 0,
      "outputs": []
    },
    {
      "cell_type": "markdown",
      "metadata": {
        "id": "rJX8DKLvmM5m",
        "colab_type": "text"
      },
      "source": [
        "## train cost"
      ]
    },
    {
      "cell_type": "code",
      "metadata": {
        "id": "IWDt7I8HmG6t",
        "colab_type": "code",
        "colab": {
          "base_uri": "https://localhost:8080/",
          "height": 36
        },
        "outputId": "316d6753-691b-4cc0-8436-b6ffa0161c2e"
      },
      "source": [
        "J_history[:2] #cost값 2개만 확인"
      ],
      "execution_count": 406,
      "outputs": [
        {
          "output_type": "execute_result",
          "data": {
            "text/plain": [
              "[0.6931471805599454, 0.6929621309200834]"
            ]
          },
          "metadata": {
            "tags": []
          },
          "execution_count": 406
        }
      ]
    },
    {
      "cell_type": "code",
      "metadata": {
        "id": "xS-vgwNe9Gw-",
        "colab_type": "code",
        "colab": {
          "base_uri": "https://localhost:8080/",
          "height": 36
        },
        "outputId": "e3df2de3-82bf-4ec5-c3e8-da576c42becb"
      },
      "source": [
        "J_history1[:2] #cost값 2개만 확인"
      ],
      "execution_count": 407,
      "outputs": [
        {
          "output_type": "execute_result",
          "data": {
            "text/plain": [
              "[0.6931471805599454, 0.6929621387317659]"
            ]
          },
          "metadata": {
            "tags": []
          },
          "execution_count": 407
        }
      ]
    },
    {
      "cell_type": "code",
      "metadata": {
        "id": "rIWNdprF9Jlt",
        "colab_type": "code",
        "colab": {
          "base_uri": "https://localhost:8080/",
          "height": 36
        },
        "outputId": "2f2a030b-408f-49e1-ed85-4265125b493c"
      },
      "source": [
        "J_history2[:2] #cost값 2개만 확인"
      ],
      "execution_count": 408,
      "outputs": [
        {
          "output_type": "execute_result",
          "data": {
            "text/plain": [
              "[0.6931471805599454, 0.6929623652705641]"
            ]
          },
          "metadata": {
            "tags": []
          },
          "execution_count": 408
        }
      ]
    },
    {
      "cell_type": "code",
      "metadata": {
        "id": "tXndrvOqmQDS",
        "colab_type": "code",
        "colab": {
          "base_uri": "https://localhost:8080/",
          "height": 339
        },
        "outputId": "c58d24b5-d059-4e13-e0dd-bafa75ff67a8"
      },
      "source": [
        "# cost값 plotting\n",
        "plt.figure(figsize=(7, 5))\n",
        "plt.plot(range(len(J_history)),J_history,'b') #lambda = 0인 경우 : overfitting\n",
        "plt.plot(range(len(J_history1)),J_history1,'r') #lambda = 10인 경우 : overfitting\n",
        "plt.plot(range(len(J_history2)),J_history2,'g') #lambda = 20인 경우 : overfitting"
      ],
      "execution_count": 410,
      "outputs": [
        {
          "output_type": "execute_result",
          "data": {
            "text/plain": [
              "[<matplotlib.lines.Line2D at 0x7fc79008f940>]"
            ]
          },
          "metadata": {
            "tags": []
          },
          "execution_count": 410
        },
        {
          "output_type": "display_data",
          "data": {
            "image/png": "[encoded data removed]",
            "text/plain": [
              "<Figure size 504x360 with 1 Axes>"
            ]
          },
          "metadata": {
            "tags": [],
            "needs_background": "light"
          }
        }
      ]
    },
    {
      "cell_type": "code",
      "metadata": {
        "id": "vyE3rdqumTD-",
        "colab_type": "code",
        "colab": {
          "base_uri": "https://localhost:8080/",
          "height": 36
        },
        "outputId": "730ff505-020f-4fae-8e09-2b6ce59c8b46"
      },
      "source": [
        "print(J_history[-1], J_history1[-1], J_history2[-1]) # 마지막 train cost값"
      ],
      "execution_count": 411,
      "outputs": [
        {
          "output_type": "stream",
          "text": [
            "0.35321745343829364 0.5226286515113625 0.6688848702366412\n"
          ],
          "name": "stdout"
        }
      ]
    },
    {
      "cell_type": "markdown",
      "metadata": {
        "id": "0L1qtEMVmV4G",
        "colab_type": "text"
      },
      "source": [
        "## accuracy plotting"
      ]
    },
    {
      "cell_type": "code",
      "metadata": {
        "id": "eabUIIh7wf5j",
        "colab_type": "code",
        "colab": {}
      },
      "source": [
        "# accuracy 하이퍼파라미터 조정해보기 \n",
        "thresholds = [0.2, 0.3, 0.4, 0.45, 0.5, 0.55, 0.6, 0.7, 0.8, 0.9, 1.0]"
      ],
      "execution_count": 0,
      "outputs": []
    },
    {
      "cell_type": "code",
      "metadata": {
        "id": "9Qyj1AvEwmg5",
        "colab_type": "code",
        "colab": {}
      },
      "source": [
        "EachThreshold = []\n",
        "for i in thresholds:\n",
        "  pred = (h(theta, new_X)>=i).astype(int) #예측한 값\n",
        "  compare = np.mean(pred.flatten() == y.flatten())\n",
        "  EachThreshold.append(compare)"
      ],
      "execution_count": 0,
      "outputs": []
    },
    {
      "cell_type": "code",
      "metadata": {
        "id": "6tKwhzHyw5h0",
        "colab_type": "code",
        "colab": {
          "base_uri": "https://localhost:8080/",
          "height": 223
        },
        "outputId": "07bc87ab-f4d7-4b7c-83ad-5ec0ba76c6c5"
      },
      "source": [
        "EachThreshold"
      ],
      "execution_count": 414,
      "outputs": [
        {
          "output_type": "execute_result",
          "data": {
            "text/plain": [
              "[0.8050847457627118,\n",
              " 0.8389830508474576,\n",
              " 0.8305084745762712,\n",
              " 0.8135593220338984,\n",
              " 0.8220338983050848,\n",
              " 0.864406779661017,\n",
              " 0.8389830508474576,\n",
              " 0.7966101694915254,\n",
              " 0.7203389830508474,\n",
              " 0.6101694915254238,\n",
              " 0.5084745762711864]"
            ]
          },
          "metadata": {
            "tags": []
          },
          "execution_count": 414
        }
      ]
    },
    {
      "cell_type": "code",
      "metadata": {
        "id": "g65JCMC2mUlm",
        "colab_type": "code",
        "colab": {
          "base_uri": "https://localhost:8080/",
          "height": 36
        },
        "outputId": "d1c6ba72-0325-4870-a776-0705647281b5"
      },
      "source": [
        "# accuracy hyperparameter 조정하기 \n",
        "threshold=0.55\n",
        "pred = (h(theta, new_X)>=threshold).astype(int) #예측한 값\n",
        "np.mean(pred.flatten() == y.flatten()) # 실제값과 같은지를 비교하여 전체 len으로 나눔(하나하나의 값이 나오는지를 확인한다. -> 맞는수 / 전체 갯수 이므로 )"
      ],
      "execution_count": 419,
      "outputs": [
        {
          "output_type": "execute_result",
          "data": {
            "text/plain": [
              "0.864406779661017"
            ]
          },
          "metadata": {
            "tags": []
          },
          "execution_count": 419
        }
      ]
    },
    {
      "cell_type": "code",
      "metadata": {
        "id": "eLCBEMREn_8A",
        "colab_type": "code",
        "colab": {
          "base_uri": "https://localhost:8080/",
          "height": 339
        },
        "outputId": "b846b06f-6dac-41bb-9384-35a531b343d2"
      },
      "source": [
        "# 각 iteration 마다 모든 accuracy를 출력한다. \n",
        "plt.figure(figsize=(5, 5))\n",
        "plt.plot(range(len(acc_history)),acc_history,'b')\n",
        "plt.plot(range(len(acc_history1)),acc_history1,'r')\n",
        "plt.plot(range(len(acc_history2)),acc_history2,'g')"
      ],
      "execution_count": 421,
      "outputs": [
        {
          "output_type": "execute_result",
          "data": {
            "text/plain": [
              "[<matplotlib.lines.Line2D at 0x7fc790000a58>]"
            ]
          },
          "metadata": {
            "tags": []
          },
          "execution_count": 421
        },
        {
          "output_type": "display_data",
          "data": {
            "image/png": "[encoded data removed]",
            "text/plain": [
              "<Figure size 360x360 with 1 Axes>"
            ]
          },
          "metadata": {
            "tags": [],
            "needs_background": "light"
          }
        }
      ]
    },
    {
      "cell_type": "markdown",
      "metadata": {
        "id": "RcFJtKCyojMy",
        "colab_type": "text"
      },
      "source": [
        "## plot the classifier"
      ]
    },
    {
      "cell_type": "code",
      "metadata": {
        "id": "HD75B2ecoFtE",
        "colab_type": "code",
        "colab": {}
      },
      "source": [
        "# x좌표의 x1값, y좌표의 x2값에 대한 범위를 지정 \n",
        "x1_range = np.linspace(-1,1)\n",
        "x2_range = np.linspace(-1,1)"
      ],
      "execution_count": 0,
      "outputs": []
    },
    {
      "cell_type": "code",
      "metadata": {
        "id": "NWTJBQmUom2K",
        "colab_type": "code",
        "colab": {
          "base_uri": "https://localhost:8080/",
          "height": 36
        },
        "outputId": "7b82e2ce-e57b-43b1-f99d-e5e24132f876"
      },
      "source": [
        "# 생성한 새로운 차수를 담을 새로운 array 초기화 \n",
        "z_range = np.zeros((len(x1_range), len(x2_range)))\n",
        "z_range.shape"
      ],
      "execution_count": 423,
      "outputs": [
        {
          "output_type": "execute_result",
          "data": {
            "text/plain": [
              "(50, 50)"
            ]
          },
          "metadata": {
            "tags": []
          },
          "execution_count": 423
        }
      ]
    },
    {
      "cell_type": "code",
      "metadata": {
        "id": "ICOCN1RMoodB",
        "colab_type": "code",
        "colab": {}
      },
      "source": [
        "# z값은 결국 g()=0에 해당하는 line을 그리고자 하는 형태이다. \n",
        "# 해당 x1,x2값에 대해 동일한 class를 가지는 값을 표현하면 된다. \n",
        "# 여기서 theta는 이미 optimized된 theta값이다. \n",
        "for i in range(len(x1_range)):\n",
        "    for j in range(len(x2_range)):\n",
        "        New_dim_Feat = NewFeatureMake(9, np.array([x1_range[i]]),np.array([x2_range[j]]))\n",
        "        z_range[i][j] = np.dot(theta.T,New_dim_Feat.T) #행렬형태주의 \n",
        "z_range = z_range.transpose() #행렬형태주의"
      ],
      "execution_count": 0,
      "outputs": []
    },
    {
      "cell_type": "code",
      "metadata": {
        "id": "oRiMkzAeosOx",
        "colab_type": "code",
        "colab": {
          "base_uri": "https://localhost:8080/",
          "height": 369
        },
        "outputId": "4b5bc977-6c74-4116-d7d7-d27907fe5285"
      },
      "source": [
        "#boundary plotting\n",
        "plt.figure(figsize=(8,5))\n",
        "X1_range, X2_range = np.meshgrid(x1_range, x2_range)\n",
        "#boundary_plotting = plt.contour(X1_range, X2_range, z_range.T)\n",
        "#하나의 등고선만을 표현 \n",
        "boundary_plotting = plt.contour(X1_range, X2_range, z_range.T,[0],colors='green')\n",
        "\n",
        "#data plotting\n",
        "plt.scatter(x1_label0, x2_label0, c='b',label='class_0') # label이 0인 값들\n",
        "plt.scatter(x1_label1, x2_label1, c='r',label='class_1') #label이 1인 값들\n",
        "plt.tight_layout()\n",
        "plt.legend()\n",
        "plt.gca().set_aspect('equal', adjustable='box')\n",
        "plt.show()"
      ],
      "execution_count": 426,
      "outputs": [
        {
          "output_type": "display_data",
          "data": {
            "image/png": "[encoded data removed]",
            "text/plain": [
              "<Figure size 576x360 with 1 Axes>"
            ]
          },
          "metadata": {
            "tags": [],
            "needs_background": "light"
          }
        }
      ]
    },
    {
      "cell_type": "code",
      "metadata": {
        "id": "NWMoCnvypHJZ",
        "colab_type": "code",
        "colab": {
          "base_uri": "https://localhost:8080/",
          "height": 369
        },
        "outputId": "66cb4530-2224-4644-e626-d0f164b2e230"
      },
      "source": [
        "# theta1에 대한 값. 즉 lambda = 10인 경우 boundary plotting \n",
        "for i in range(len(x1_range)):\n",
        "    for j in range(len(x2_range)):\n",
        "        New_dim_Feat = NewFeatureMake(9, np.array([x1_range[i]]),np.array([x2_range[j]]))\n",
        "        z_range[i][j] = np.dot(theta1.T,New_dim_Feat.T) #행렬형태주의 \n",
        "\n",
        "z_range = z_range.transpose() #행렬형태주의\n",
        "#boundary plotting\n",
        "plt.figure(figsize=(8,5))\n",
        "X1_range, X2_range = np.meshgrid(x1_range, x2_range)\n",
        "#boundary_plotting = plt.contour(X1_range, X2_range, z_range.T)\n",
        "#하나의 등고선만을 표현 \n",
        "boundary_plotting = plt.contour(X1_range, X2_range, z_range.T,[0],colors='green')\n",
        "\n",
        "#data plotting\n",
        "plt.scatter(x1_label0, x2_label0, c='b',label='class_0') # label이 0인 값들\n",
        "plt.scatter(x1_label1, x2_label1, c='r',label='class_1') #label이 1인 값들\n",
        "plt.tight_layout()\n",
        "plt.legend()\n",
        "plt.gca().set_aspect('equal', adjustable='box')\n",
        "plt.show()"
      ],
      "execution_count": 428,
      "outputs": [
        {
          "output_type": "display_data",
          "data": {
            "image/png": "[encoded data removed]",
            "text/plain": [
              "<Figure size 576x360 with 1 Axes>"
            ]
          },
          "metadata": {
            "tags": [],
            "needs_background": "light"
          }
        }
      ]
    },
    {
      "cell_type": "code",
      "metadata": {
        "id": "w7MZV46vp-Xj",
        "colab_type": "code",
        "colab": {
          "base_uri": "https://localhost:8080/",
          "height": 369
        },
        "outputId": "0237fb4c-1dbc-489f-c6e0-1fa6eb1ad081"
      },
      "source": [
        "# z값은 결국 g()=0에 해당하는 line을 그리고자 하는 형태이다. \n",
        "# 해당 x1,x2값에 대해 동일한 class를 가지는 값을 표현하면 된다. \n",
        "# 여기서 theta 는 이미 optimized된 theta값이다. \n",
        "\n",
        "for i in range(len(x1_range)):\n",
        "    for j in range(len(x2_range)):\n",
        "        New_dim_Feat = NewFeatureMake(9, np.array([x1_range[i]]),np.array([x2_range[j]]))\n",
        "        z_range[i][j] = np.dot(theta2.T,New_dim_Feat.T) #행렬형태주의 \n",
        "z_range = z_range.transpose() #행렬형태주의\n",
        "#boundary plotting\n",
        "plt.figure(figsize=(8,5))\n",
        "X1_range, X2_range = np.meshgrid(x1_range, x2_range)\n",
        "#boundary_plotting = plt.contour(X1_range, X2_range, z_range.T)\n",
        "#하나의 등고선만을 표현 \n",
        "boundary_plotting = plt.contour(X1_range, X2_range, z_range.T,[0],colors='green')\n",
        "\n",
        "#data plotting\n",
        "plt.scatter(x1_label0, x2_label0, c='b',label='class_0') # label이 0인 값들\n",
        "plt.scatter(x1_label1, x2_label1, c='r',label='class_1') #label이 1인 값들\n",
        "plt.tight_layout()\n",
        "plt.legend()\n",
        "plt.gca().set_aspect('equal', adjustable='box')\n",
        "plt.show()"
      ],
      "execution_count": 430,
      "outputs": [
        {
          "output_type": "display_data",
          "data": {
            "image/png": "[encoded data removed]",
            "text/plain": [
              "<Figure size 576x360 with 1 Axes>"
            ]
          },
          "metadata": {
            "tags": [],
            "needs_background": "light"
          }
        }
      ]
    },
    {
      "cell_type": "code",
      "metadata": {
        "id": "HSKAy6i5ViTZ",
        "colab_type": "code",
        "colab": {}
      },
      "source": [
        ""
      ],
      "execution_count": 0,
      "outputs": []
    }
  ]
}