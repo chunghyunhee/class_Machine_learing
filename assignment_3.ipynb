{
  "nbformat": 4,
  "nbformat_minor": 0,
  "metadata": {
    "colab": {
      "name": "assignment_3.ipynb",
      "provenance": [],
      "collapsed_sections": []
    },
    "kernelspec": {
      "name": "python3",
      "display_name": "Python 3"
    }
  },
  "cells": [
    {
      "cell_type": "markdown",
      "metadata": {
        "id": "Nyh3yg6CHA8m",
        "colab_type": "text"
      },
      "source": [
        "# 1. input data\n"
      ]
    },
    {
      "cell_type": "code",
      "metadata": {
        "id": "fOQsHg3iHkzy",
        "colab_type": "code",
        "colab": {}
      },
      "source": [
        "#구글 드라이브 마운트\n",
        "#from google.colab import drive\n",
        "#drive.mount('/content/drive')"
      ],
      "execution_count": 0,
      "outputs": []
    },
    {
      "cell_type": "code",
      "metadata": {
        "id": "f4ZySagDGFdC",
        "colab_type": "code",
        "colab": {}
      },
      "source": [
        "import numpy as np\n",
        "import matplotlib.pyplot as plt"
      ],
      "execution_count": 0,
      "outputs": []
    },
    {
      "cell_type": "code",
      "metadata": {
        "id": "22Qa5cjsHCn7",
        "colab_type": "code",
        "colab": {}
      },
      "source": [
        "path = \"data.csv\"\n",
        "data = np.genfromtxt(path, delimiter=',')\n",
        "\n",
        "x_data = data[:, 0] # X,y값에 데이터 지정 (array)\n",
        "y_data = data[:, 1]"
      ],
      "execution_count": 0,
      "outputs": []
    },
    {
      "cell_type": "code",
      "metadata": {
        "id": "JwegtzjGI2TV",
        "colab_type": "code",
        "outputId": "6eb5f7bb-5c63-4cef-b63e-30e4cab6878b",
        "colab": {
          "base_uri": "https://localhost:8080/",
          "height": 320
        }
      },
      "source": [
        "# x,y에 대해 scatter plot 그린다. \n",
        "plt.figure(figsize=(5, 5)) #scatter plot을 그린다. \n",
        "plt.plot(x_data, y_data, 'ko',alpha = 0.6)\n",
        "plt.show()"
      ],
      "execution_count": 4,
      "outputs": [
        {
          "output_type": "display_data",
          "data": {
            "image/png": "[encoded data removed]",
            "text/plain": [
              "<Figure size 360x360 with 1 Axes>"
            ]
          },
          "metadata": {
            "tags": []
          }
        }
      ]
    },
    {
      "cell_type": "markdown",
      "metadata": {
        "id": "W8TuIYMWJysO",
        "colab_type": "text"
      },
      "source": [
        "# 2. Linear Regression\n",
        "- input 데이터에 fit되는 reg.를 gradient descent방법으로 찾는다. (저번과제와 동일)"
      ]
    },
    {
      "cell_type": "code",
      "metadata": {
        "id": "7dsDaIIqqBo-",
        "colab_type": "code",
        "colab": {}
      },
      "source": [
        "data = np.array([x_data,y_data]) #배열로 지정하여 값을 추가하기 위해 합친다"
      ],
      "execution_count": 0,
      "outputs": []
    },
    {
      "cell_type": "code",
      "metadata": {
        "id": "B6ciEkGUq50R",
        "colab_type": "code",
        "colab": {
          "base_uri": "https://localhost:8080/",
          "height": 1000
        },
        "outputId": "536f7edd-3dd6-4ef5-f530-57ec0ada09e4"
      },
      "source": [
        "data #데이터 확인 "
      ],
      "execution_count": 35,
      "outputs": [
        {
          "output_type": "execute_result",
          "data": {
            "text/plain": [
              "array([[-5.51841000e+00,  7.06369500e+00, -8.51561500e+00,\n",
              "        -4.96235300e+00, -4.43572400e+00, -2.91480000e-01,\n",
              "        -7.33927100e+00, -8.33790700e+00, -7.13295000e-01,\n",
              "         2.55606100e+00,  2.98030000e-01,  3.67280000e+00,\n",
              "         6.87352700e+00, -8.24238000e+00,  3.99805300e+00,\n",
              "         9.35772000e+00,  8.77679000e-01,  2.34541600e+00,\n",
              "        -5.04470000e+00, -7.02939800e+00, -5.89577900e+00,\n",
              "        -1.33430000e-01,  9.83497200e+00, -1.89431700e+00,\n",
              "        -1.07353800e+00,  2.86152000e+00,  6.16413200e+00,\n",
              "        -7.02681500e+00,  7.58720200e+00, -7.22735400e+00,\n",
              "         7.69556600e+00, -2.26094800e+00,  3.00040000e-01,\n",
              "        -6.73849200e+00, -4.30599600e+00, -2.48718900e+00,\n",
              "        -2.62987000e-01, -2.29135400e+00,  1.26406300e+00,\n",
              "         9.46346300e+00, -6.73274000e-01, -3.48218900e+00,\n",
              "         3.81297100e+00, -1.40105900e+00,  6.05747000e+00,\n",
              "        -3.05823000e+00, -6.89302900e+00,  6.33183200e+00,\n",
              "        -6.65507500e+00, -5.07775200e+00,  7.72995800e+00,\n",
              "        -7.88625600e+00,  4.52735400e+00, -5.78156000e+00,\n",
              "        -7.05145700e+00, -8.53600100e+00,  4.83759500e+00,\n",
              "        -8.97023900e+00, -9.75952500e+00,  3.56261000e-01,\n",
              "         7.23931400e+00, -5.43058800e+00, -8.44349700e+00,\n",
              "        -8.15422600e+00,  4.86118300e+00,  7.47162000e+00,\n",
              "        -4.42036500e+00, -5.97432600e+00, -4.71463700e+00,\n",
              "         2.73047800e+00, -9.26356000e-01,  3.17722200e+00,\n",
              "        -1.53206300e+00,  6.43198000e+00, -3.33069400e+00,\n",
              "        -2.92564900e+00, -5.74245300e+00, -3.41591000e-01,\n",
              "         7.17900000e-02, -4.87702700e+00, -2.20882800e+00,\n",
              "        -8.38164100e+00, -3.02641000e-01,  5.38682800e+00,\n",
              "        -9.85752400e+00,  6.18294700e+00, -5.64479700e+00,\n",
              "         4.84302800e+00,  5.77095200e+00, -8.22628000e+00,\n",
              "         6.52588000e-01, -6.05797600e+00,  5.08313500e+00,\n",
              "         4.69349000e-01,  2.87863300e+00,  5.53049500e+00,\n",
              "        -6.17739700e+00,  4.51344100e+00,  5.83620800e+00,\n",
              "        -5.62364300e+00, -2.62724500e+00,  8.70678500e+00,\n",
              "         4.17936400e+00, -3.62704800e+00,  7.79527800e+00,\n",
              "        -2.97138900e+00, -1.76216300e+00,  6.03450500e+00,\n",
              "        -5.71294800e+00,  3.88479700e+00,  5.63323400e+00,\n",
              "         1.82489500e+00,  6.55592900e+00,  5.67780200e+00,\n",
              "        -7.08200500e+00,  7.62905200e+00,  4.20643500e+00,\n",
              "        -4.26999400e+00, -9.77340300e+00, -9.46640500e+00,\n",
              "         3.53271100e+00,  4.54900600e+00,  1.64952100e+00,\n",
              "         6.78639600e+00, -7.19083300e+00,  7.22858000e-01,\n",
              "         2.81151000e+00, -9.90089200e+00,  9.74557000e-01,\n",
              "         8.99110000e+00, -4.72865800e+00, -7.46471700e+00,\n",
              "        -7.50970200e+00, -4.54724900e+00,  8.41886000e+00,\n",
              "        -6.45187300e+00,  5.55637000e+00, -2.36854100e+00,\n",
              "        -4.15687100e+00, -5.45345500e+00,  4.91216000e-01,\n",
              "        -9.28214900e+00, -6.06318800e+00,  1.02175700e+00,\n",
              "         8.87885200e+00,  8.81826300e+00,  1.64678200e+00,\n",
              "         4.99137100e+00, -9.66702400e+00, -8.35829500e+00,\n",
              "        -2.69974000e+00,  1.29111600e+00, -7.73488400e+00,\n",
              "         9.02461900e+00, -4.86670500e+00, -9.19598000e-01,\n",
              "        -6.47961300e+00, -1.55649300e+00, -3.18770600e+00,\n",
              "         2.14696700e+00, -6.94978800e+00,  1.04727000e+00,\n",
              "        -1.52061000e-01,  7.33556000e-01,  6.73172200e+00,\n",
              "         6.78338200e+00,  4.01154200e+00, -4.46251800e+00,\n",
              "         8.88488200e+00,  2.14113700e+00, -8.39699100e+00,\n",
              "         9.43906800e+00, -1.23770800e+00,  5.11150300e+00,\n",
              "         8.90217100e+00,  5.32863900e+00, -9.66002700e+00,\n",
              "         1.97992100e+00,  6.73475500e+00,  4.61963400e+00,\n",
              "         8.05022000e+00,  6.92390300e+00,  5.22892000e-01,\n",
              "        -1.83050900e+00,  2.07888800e+00,  5.85187700e+00,\n",
              "         1.86877000e+00, -9.42841400e+00, -6.21088700e+00,\n",
              "         1.44402400e+00, -9.15199300e+00,  2.55951000e+00,\n",
              "        -7.92738800e+00, -3.57042100e+00,  3.57661700e+00,\n",
              "        -2.64748600e+00, -4.06578200e+00, -6.67374500e+00,\n",
              "        -9.39530900e+00,  3.95825700e+00],\n",
              "       [-1.84261160e+01,  1.00441003e+02, -5.71903070e+01,\n",
              "        -2.04241810e+01, -2.64486660e+01,  2.19404580e+01,\n",
              "        -5.48781330e+01, -6.52638320e+01,  1.35404160e+01,\n",
              "         4.18975870e+01,  1.78070110e+01,  5.54759310e+01,\n",
              "         9.66023690e+01, -5.23206660e+01,  6.51457810e+01,\n",
              "         1.33176327e+02,  2.05772430e+01,  5.30021230e+01,\n",
              "        -2.27912620e+01, -5.30033010e+01, -4.89861000e+01,\n",
              "         1.79230540e+01,  1.21450116e+02,  2.29085300e+00,\n",
              "         2.45385220e+01,  5.85794750e+01,  7.31806000e+01,\n",
              "        -3.68940030e+01,  1.04405116e+02, -4.65895230e+01,\n",
              "         1.02200913e+02,  1.17802110e+01,  2.59686050e+01,\n",
              "        -5.11365680e+01, -3.33156260e+01,  1.05278010e+01,\n",
              "         3.77622000e+01, -7.25898800e+00,  4.14296980e+01,\n",
              "         1.10025475e+02,  2.36203450e+01, -1.47761410e+01,\n",
              "         6.57668410e+01,  1.66062520e+01,  9.12580460e+01,\n",
              "        -1.03166400e+00, -4.74108230e+01,  8.11375260e+01,\n",
              "        -3.12357910e+01, -2.96575870e+01,  1.18172743e+02,\n",
              "        -6.15277850e+01,  6.69522440e+01, -3.45716020e+01,\n",
              "        -3.70615270e+01, -5.22766020e+01,  6.94923000e+01,\n",
              "        -6.20246360e+01, -6.94519070e+01,  3.34264090e+01,\n",
              "         1.03367223e+02, -2.52657730e+01, -6.07740160e+01,\n",
              "        -4.93311790e+01,  8.42775090e+01,  9.86440700e+01,\n",
              "        -4.03383100e+00, -2.25817100e+01, -2.17820600e+01,\n",
              "         4.74168580e+01,  1.52412940e+01,  5.54188420e+01,\n",
              "         8.77968500e+00,  9.38355040e+01, -7.73469600e+00,\n",
              "        -4.96111600e+00, -3.52531540e+01,  3.61629980e+01,\n",
              "         3.46310990e+01, -1.96303770e+01,  1.83247180e+01,\n",
              "        -5.33713820e+01,  2.84499630e+01,  8.83709060e+01,\n",
              "        -6.24360150e+01,  7.66331280e+01, -3.24191710e+01,\n",
              "         7.74641890e+01,  7.65193030e+01, -7.79947540e+01,\n",
              "         2.95529310e+01, -1.74901240e+01,  7.19919140e+01,\n",
              "         3.08550340e+01,  5.58082190e+01,  8.25276630e+01,\n",
              "        -3.16651500e+01,  6.30186340e+01,  7.75980930e+01,\n",
              "        -2.25866600e+01, -2.73125200e+00,  1.20587219e+02,\n",
              "         6.41994700e+01, -1.96814550e+01,  9.94470840e+01,\n",
              "         4.24394400e+00,  3.71918700e+00,  8.91378110e+01,\n",
              "        -3.07487940e+01,  5.79136480e+01,  7.79249970e+01,\n",
              "         5.09234120e+01,  7.83583150e+01,  6.40883430e+01,\n",
              "        -4.92817450e+01,  9.86664860e+01,  6.47540160e+01,\n",
              "        -1.83211710e+01, -7.02491710e+01, -7.43430610e+01,\n",
              "         4.73392250e+01,  6.01472560e+01,  4.05528560e+01,\n",
              "         8.40086710e+01, -4.37488160e+01,  3.34605950e+01,\n",
              "         5.03216360e+01, -8.98079180e+01,  1.77692830e+01,\n",
              "         1.10713480e+02, -2.57401120e+01, -5.01756730e+01,\n",
              "        -3.40774680e+01, -1.02058220e+01,  1.08100315e+02,\n",
              "        -3.25707290e+01,  9.75357120e+01, -3.64302300e+00,\n",
              "        -2.26463620e+01, -3.92261050e+01,  4.10863760e+01,\n",
              "        -6.57885620e+01, -3.41147580e+01,  3.27034280e+01,\n",
              "         1.03972886e+02,  1.06720963e+02,  4.38889600e+01,\n",
              "         7.42125660e+01, -7.02270680e+01, -6.33583990e+01,\n",
              "        -6.46700000e-01,  3.20782630e+01, -4.01527890e+01,\n",
              "         1.22765638e+02, -2.91961770e+01,  9.41417300e+00,\n",
              "        -3.74221810e+01,  1.04568290e+01, -1.43980900e+00,\n",
              "         4.36396770e+01, -3.48121730e+01,  2.95222410e+01,\n",
              "         1.16109460e+01,  4.19205440e+01,  8.98971920e+01,\n",
              "         9.09443700e+01,  6.23537810e+01, -1.69019960e+01,\n",
              "         1.15029942e+02,  4.72831620e+01, -5.11859610e+01,\n",
              "         1.25112399e+02,  9.83521300e+00,  8.26431140e+01,\n",
              "         1.26482629e+02,  7.71924810e+01, -7.51238140e+01,\n",
              "         5.24161940e+01,  9.35648710e+01,  6.72425400e+01,\n",
              "         9.87711160e+01,  9.96986040e+01,  2.53091130e+01,\n",
              "         6.54238000e+00,  4.41963250e+01,  8.50878030e+01,\n",
              "         4.37618910e+01, -8.55487860e+01, -3.45508640e+01,\n",
              "         3.33381820e+01, -7.04598670e+01,  4.63579290e+01,\n",
              "        -5.85638130e+01, -1.92392050e+01,  5.48746690e+01,\n",
              "        -2.24310300e+00, -2.71826270e+01, -4.55798810e+01,\n",
              "        -7.09871440e+01,  6.14475370e+01]])"
            ]
          },
          "metadata": {
            "tags": []
          },
          "execution_count": 35
        }
      ]
    },
    {
      "cell_type": "code",
      "metadata": {
        "id": "-oBB7xoVIHCK",
        "colab_type": "code",
        "colab": {}
      },
      "source": [
        "X=np.transpose(np.array(data[:-1]))\n",
        "y=np.transpose(np.array(data[-1:]))\n",
        "m=y.size"
      ],
      "execution_count": 0,
      "outputs": []
    },
    {
      "cell_type": "code",
      "metadata": {
        "id": "gmY9BRzOp9T1",
        "colab_type": "code",
        "colab": {}
      },
      "source": [
        "#X에는 1을 가지는 열을 삽입한다. \n",
        "X=np.insert(X, 0,1, axis=1)"
      ],
      "execution_count": 0,
      "outputs": []
    },
    {
      "cell_type": "code",
      "metadata": {
        "id": "vOKgLYEno-_J",
        "colab_type": "code",
        "colab": {}
      },
      "source": [
        "# X벡터값과 theta값을 받았을 때, 도출할 수 있는 linear model\n",
        "def h(theta,X):\n",
        "  return X.dot(theta)"
      ],
      "execution_count": 0,
      "outputs": []
    },
    {
      "cell_type": "code",
      "metadata": {
        "id": "VKLYV46hpDJf",
        "colab_type": "code",
        "colab": {}
      },
      "source": [
        "# Objective function\n",
        "def ObjectiveFunction(theta, X, y):\n",
        "  return float((1./(2*m)) * np.dot((h(theta,X)-y).T,(h(theta,X)-y)))"
      ],
      "execution_count": 0,
      "outputs": []
    },
    {
      "cell_type": "code",
      "metadata": {
        "id": "kmS-2He-pGG-",
        "colab_type": "code",
        "colab": {}
      },
      "source": [
        "# 초기 theta값은 아주 작은 값으로 설정, 여기서는 그냥 0으로 한다. \n",
        "theta = np.zeros((2,1))"
      ],
      "execution_count": 0,
      "outputs": []
    },
    {
      "cell_type": "code",
      "metadata": {
        "id": "oMOFw2WcrZg_",
        "colab_type": "code",
        "colab": {
          "base_uri": "https://localhost:8080/",
          "height": 204
        },
        "outputId": "ca3afc0f-af31-42a4-e981-acc6613764a0"
      },
      "source": [
        "X[:10] #10개만 확인 "
      ],
      "execution_count": 50,
      "outputs": [
        {
          "output_type": "execute_result",
          "data": {
            "text/plain": [
              "array([[ 1.      , -5.51841 ],\n",
              "       [ 1.      ,  7.063695],\n",
              "       [ 1.      , -8.515615],\n",
              "       [ 1.      , -4.962353],\n",
              "       [ 1.      , -4.435724],\n",
              "       [ 1.      , -0.29148 ],\n",
              "       [ 1.      , -7.339271],\n",
              "       [ 1.      , -8.337907],\n",
              "       [ 1.      , -0.713295],\n",
              "       [ 1.      ,  2.556061]])"
            ]
          },
          "metadata": {
            "tags": []
          },
          "execution_count": 50
        }
      ]
    },
    {
      "cell_type": "code",
      "metadata": {
        "id": "sd_l7A8RrbRs",
        "colab_type": "code",
        "colab": {
          "base_uri": "https://localhost:8080/",
          "height": 36
        },
        "outputId": "3787a04e-07f4-4abc-fabb-580e580c8211"
      },
      "source": [
        "# initialized theta에 대한 ObjectiveFunction계산\n",
        "print(ObjectiveFunction(theta,X,y))"
      ],
      "execution_count": 51,
      "outputs": [
        {
          "output_type": "stream",
          "text": [
            "1827.967042715353\n"
          ],
          "name": "stdout"
        }
      ]
    },
    {
      "cell_type": "code",
      "metadata": {
        "id": "EgU8h7qzrc61",
        "colab_type": "code",
        "colab": {}
      },
      "source": [
        "# Gradient descent using Objective function\n",
        "iteration = 1500 #임의로 정한 하이퍼파라미터값(GradientDescent계산시 사용할 값 미리 지정)\n",
        "alpha = 0.01\n",
        "\n",
        "def GradientDescent(X, theta):\n",
        "    #plotting위해 저장하는 history\n",
        "    J_history = [] \n",
        "    theta_history = [] \n",
        "\n",
        "    #iteration\n",
        "    for i in range(iteration):\n",
        "        tmp = theta #동시에 update하기 위해선 교환하기 위한 새로운 변수가 필요\n",
        "        \n",
        "        J_history.append(ObjectiveFunction(theta,X,y))\n",
        "        theta_history.append(list(theta[:,0]))\n",
        "\n",
        "        #update theta\n",
        "        for j in range(len(tmp)):\n",
        "            tmp[j] = theta[j] - (alpha/m)*np.sum((h(theta,X) - y)*np.array(X[:,j]).reshape(m,1))\n",
        "        theta = tmp #(theta0, theta1)하나의 벡터로 저장한다. \n",
        "    return theta, theta_history, J_history"
      ],
      "execution_count": 0,
      "outputs": []
    },
    {
      "cell_type": "code",
      "metadata": {
        "id": "0r6eUPFDreyW",
        "colab_type": "code",
        "colab": {}
      },
      "source": [
        "# Gradient descent계산\n",
        "theta, theta_history, J_history = GradientDescent(X,theta)"
      ],
      "execution_count": 0,
      "outputs": []
    },
    {
      "cell_type": "code",
      "metadata": {
        "id": "bcdkdorlrhsF",
        "colab_type": "code",
        "colab": {
          "base_uri": "https://localhost:8080/",
          "height": 55
        },
        "outputId": "60941162-e46e-4fc3-cb68-5c25ecb28419"
      },
      "source": [
        "theta #확인"
      ],
      "execution_count": 54,
      "outputs": [
        {
          "output_type": "execute_result",
          "data": {
            "text/plain": [
              "array([[24.90738534],\n",
              "       [ 9.93463542]])"
            ]
          },
          "metadata": {
            "tags": []
          },
          "execution_count": 54
        }
      ]
    },
    {
      "cell_type": "code",
      "metadata": {
        "id": "j8z5XdoQrjTw",
        "colab_type": "code",
        "colab": {
          "base_uri": "https://localhost:8080/",
          "height": 204
        },
        "outputId": "18ed8a5c-fadd-49cd-cc50-64ec0799bb8c"
      },
      "source": [
        "J_history[:10] #cost값 10개만 확인 "
      ],
      "execution_count": 55,
      "outputs": [
        {
          "output_type": "execute_result",
          "data": {
            "text/plain": [
              "[1827.967042715353,\n",
              " 1008.0439380270274,\n",
              " 632.9533025496759,\n",
              " 459.6837475105702,\n",
              " 378.0083702997701,\n",
              " 337.93097963688234,\n",
              " 316.77522857574127,\n",
              " 304.2562525399688,\n",
              " 295.7093160391241,\n",
              " 289.0184945055795]"
            ]
          },
          "metadata": {
            "tags": []
          },
          "execution_count": 55
        }
      ]
    },
    {
      "cell_type": "code",
      "metadata": {
        "id": "7oum5e5Trkwk",
        "colab_type": "code",
        "colab": {
          "base_uri": "https://localhost:8080/",
          "height": 284
        },
        "outputId": "8c8786dc-bd16-4e47-a82b-5d06df41f46a"
      },
      "source": [
        "# fit되는 데이터 확인 \n",
        "def final(x):\n",
        "  return theta[0]+theta[1]*x\n",
        "\n",
        "plt.plot(x_data, y_data, 'ko')\n",
        "plt.plot(X[:,1], final(X[:,1]),'r')"
      ],
      "execution_count": 56,
      "outputs": [
        {
          "output_type": "execute_result",
          "data": {
            "text/plain": [
              "[<matplotlib.lines.Line2D at 0x7ff83a3bc0b8>]"
            ]
          },
          "metadata": {
            "tags": []
          },
          "execution_count": 56
        },
        {
          "output_type": "display_data",
          "data": {
            "image/png": "[encoded data removed]",
            "text/plain": [
              "<Figure size 432x288 with 1 Axes>"
            ]
          },
          "metadata": {
            "tags": []
          }
        }
      ]
    },
    {
      "cell_type": "code",
      "metadata": {
        "id": "Jke7QhnPrnXc",
        "colab_type": "code",
        "colab": {
          "base_uri": "https://localhost:8080/",
          "height": 284
        },
        "outputId": "71415158-d149-425d-93b6-ef7128530e2e"
      },
      "source": [
        "# cost값 plotting\n",
        "plt.plot(range(len(J_history)),J_history,'bo')"
      ],
      "execution_count": 59,
      "outputs": [
        {
          "output_type": "execute_result",
          "data": {
            "text/plain": [
              "[<matplotlib.lines.Line2D at 0x7ff83a20dc50>]"
            ]
          },
          "metadata": {
            "tags": []
          },
          "execution_count": 59
        },
        {
          "output_type": "display_data",
          "data": {
            "image/png": "[encoded data removed]",
            "text/plain": [
              "<Figure size 432x288 with 1 Axes>"
            ]
          },
          "metadata": {
            "tags": []
          }
        }
      ]
    },
    {
      "cell_type": "code",
      "metadata": {
        "id": "c_jAAiHKrqew",
        "colab_type": "code",
        "colab": {}
      },
      "source": [
        "theta0_history = [] \n",
        "theta1_history = []\n",
        "\n",
        "for i in range(len(theta_history)):\n",
        "  theta0_history.append(theta_history[i][1])\n",
        "  theta1_history.append(theta_history[i][0])"
      ],
      "execution_count": 0,
      "outputs": []
    },
    {
      "cell_type": "code",
      "metadata": {
        "id": "7Tyq5CYwrzZ6",
        "colab_type": "code",
        "colab": {
          "base_uri": "https://localhost:8080/",
          "height": 284
        },
        "outputId": "f564d1ca-e3ca-48eb-cea7-819dab4cd8ea"
      },
      "source": [
        "# plotting each parameter(theta0, theta1)\n",
        "# 주의할 점은 각 theta별로 분리해서 plotting 해줘야 한다는 점. \n",
        "plt.plot(theta0_history,'rx') #theta0 값\n",
        "plt.plot(theta1_history,'bx') #theta1 값 "
      ],
      "execution_count": 61,
      "outputs": [
        {
          "output_type": "execute_result",
          "data": {
            "text/plain": [
              "[<matplotlib.lines.Line2D at 0x7ff83a274cc0>]"
            ]
          },
          "metadata": {
            "tags": []
          },
          "execution_count": 61
        },
        {
          "output_type": "display_data",
          "data": {
            "image/png": "[encoded data removed]",
            "text/plain": [
              "<Figure size 432x288 with 1 Axes>"
            ]
          },
          "metadata": {
            "tags": []
          }
        }
      ]
    },
    {
      "cell_type": "code",
      "metadata": {
        "id": "HsGNCb7pr028",
        "colab_type": "code",
        "colab": {}
      },
      "source": [
        ""
      ],
      "execution_count": 0,
      "outputs": []
    }
  ]
}