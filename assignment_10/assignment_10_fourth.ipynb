{
  "nbformat": 4,
  "nbformat_minor": 0,
  "metadata": {
    "colab": {
      "name": "assignment_10_fourth.ipynb",
      "provenance": [],
      "collapsed_sections": []
    },
    "kernelspec": {
      "name": "python3",
      "display_name": "Python 3"
    }
  },
  "cells": [
    {
      "cell_type": "markdown",
      "metadata": {
        "id": "ip7sa6I2Sx5U",
        "colab_type": "text"
      },
      "source": [
        "### assignment_10 수정된 사항\n",
        "1. 초깃값 문제 - parameter수가 많으면 std를 낮춘다. (Normal에서의 std)\n",
        "2. cost에 regularization term을 준다. \n",
        "3. hidden layer의 수 튜닝, hidden layer의 노드 수 튜닝\n",
        "4. 데이터수 (train:1000, test:9000) 로 변경하여 fit하기  "
      ]
    },
    {
      "cell_type": "markdown",
      "metadata": {
        "id": "fIE0sL_F9VYC",
        "colab_type": "text"
      },
      "source": [
        "## Layer5"
      ]
    },
    {
      "cell_type": "markdown",
      "metadata": {
        "id": "zCN3FkUEomJm",
        "colab_type": "text"
      },
      "source": [
        "## data"
      ]
    },
    {
      "cell_type": "code",
      "metadata": {
        "id": "fQoUVM4Hn1Xj",
        "colab_type": "code",
        "colab": {}
      },
      "source": [
        "import matplotlib.pyplot as plt\n",
        "import numpy as np\n",
        "import pandas as pd\n",
        "\n",
        "file_data   = \"mnist.csv\"\n",
        "handle_file = open(file_data, \"r\")\n",
        "data        = handle_file.readlines()\n",
        "handle_file.close()"
      ],
      "execution_count": 0,
      "outputs": []
    },
    {
      "cell_type": "code",
      "metadata": {
        "id": "_8ZFJjWOp_BP",
        "colab_type": "code",
        "colab": {}
      },
      "source": [
        "size_row    = 28    # height of the image\n",
        "size_col    = 28    # width of the image\n",
        "\n",
        "num_image   = len(data)\n",
        "count       = 0     # count for the number of images"
      ],
      "execution_count": 0,
      "outputs": []
    },
    {
      "cell_type": "code",
      "metadata": {
        "id": "7sK0g-PvqCVn",
        "colab_type": "code",
        "colab": {}
      },
      "source": [
        "# normalize the values of the input data to be [0, 1]\n",
        "def normalize(data):\n",
        "\n",
        "    data_normalized = (data - min(data)) / (max(data) - min(data))\n",
        "\n",
        "    return(data_normalized)"
      ],
      "execution_count": 0,
      "outputs": []
    },
    {
      "cell_type": "code",
      "metadata": {
        "id": "UMtsA7pnqEpe",
        "colab_type": "code",
        "colab": {}
      },
      "source": [
        "# example of distance function between two vectors x and y\n",
        "def distance(x, y):\n",
        "\n",
        "    d = (x - y) ** 2\n",
        "    s = np.sum(d)\n",
        "    # r = np.sqrt(s)\n",
        "\n",
        "    return(s)"
      ],
      "execution_count": 0,
      "outputs": []
    },
    {
      "cell_type": "markdown",
      "metadata": {
        "id": "qvP8rEL8qsrn",
        "colab_type": "text"
      },
      "source": [
        "## optimization\n",
        "- randomly initialize weights\n",
        "- Implement foward propagation to get h(x) for any x\n",
        "- Implement code to compute cost function J\n",
        "- Implement backprop to compute partial derivations\n",
        "\n",
        "- and training the neural network\n",
        "- Use gradient descent with back propagation to minimize J(theta) as function of parameter theta.\n"
      ]
    },
    {
      "cell_type": "code",
      "metadata": {
        "id": "69jCBzs6zda6",
        "colab_type": "code",
        "colab": {}
      },
      "source": [
        "# h, sigmoid함수 정의 \n",
        "# activation function으로 sigmoid를 사용할 예정에 있음 \n",
        "def h(theta,X):\n",
        "  return np.dot(X,theta)\n",
        "\n",
        "def sigmoid(x):\n",
        "  return 1 / (1 + np.exp(-x))\n",
        "\n",
        "# 미분한 sigmoid식\n",
        "def Dsigmoid(x):\n",
        "  return sigmoid(x)*(1-sigmoid(x))"
      ],
      "execution_count": 0,
      "outputs": []
    },
    {
      "cell_type": "code",
      "metadata": {
        "id": "KWSRYPLA2bpe",
        "colab_type": "code",
        "colab": {}
      },
      "source": [
        "# 순전파 함수\n",
        "# 여기서의 theta는 각 layer별로 해당하는 theta를 전부 포함한 list에 해당한다. \n",
        "def Forward(image, theta_vector):\n",
        "    z_each_layer = []\n",
        "\n",
        "    # theta의 수대로 반복하고, 그에따라 각각 저장해야 한다. \n",
        "    for i in range(len(theta_vector)):\n",
        "      image = add_bias(image)\n",
        "      theta = theta_vector[i]\n",
        "      z = np.dot(image, theta)\n",
        "      a = sigmoid(z)\n",
        "      z_each_layer.append(a) # z와 a값 모두 저장한다\n",
        "      image = a\n",
        "\n",
        "    return z_each_layer"
      ],
      "execution_count": 0,
      "outputs": []
    },
    {
      "cell_type": "code",
      "metadata": {
        "id": "H45Vx7I40qUc",
        "colab_type": "code",
        "colab": {}
      },
      "source": [
        "# label의 원핫인코딩을 위한 함수 \n",
        "def onehotencoding(label):\n",
        "  unique = np.unique(label)\n",
        "  m = label.shape[0]\n",
        "  n = unique.shape[0]\n",
        "  empty = np.zeros((m, n))\n",
        "\n",
        "  for i in range(m):\n",
        "    for j in range(n):\n",
        "      if label[i] == unique[j]:\n",
        "        empty[i, j] = 1\n",
        "  \n",
        "  return empty"
      ],
      "execution_count": 0,
      "outputs": []
    },
    {
      "cell_type": "code",
      "metadata": {
        "id": "40zhdKA02X0O",
        "colab_type": "code",
        "colab": {}
      },
      "source": [
        "# Objective function에 대한 정의 \n",
        "# regularization term추가 (L의 값은 lambda에 해당한다)\n",
        "def ObjectiveFunction(image, theta_vector,label_list,L ):\n",
        "  h = Forward(image, theta_vector) # 순전파로 계산한 값의 h(각 layer별로 a값을 출력한다. )\n",
        "  sigmoid_value = [h[0], h[1], h[2], h[3], h[4]]\n",
        "  output_layer = sigmoid_value[-1] # 마지막 h[2]가 결국은 output layer에 해당한다. \n",
        "  n = len(theta_vector)# theta의 수에 해당한다, \n",
        "  # m = image.shape[0] # 이부분 식 수정해야 하는지 확인하기 \n",
        "\n",
        "  # cost function에 대해 regularization term을 추가한다. \n",
        "  reg_value = 0\n",
        "  for theta in range(len(theta_vector)): \n",
        "    reg_value += np.sum(theta*theta)\n",
        "  reg_value *= float(L)/(2*n) # m으로 바꿔야 하는지 확인하기 \n",
        "   \n",
        "  cost = -np.mean(np.sum(label_list*np.log(output_layer) + (1 - label_list)*np.log(1 - output_layer), axis=1)) #해당 J(theta)값\n",
        "  \n",
        "  return cost+reg_value, sigmoid_value"
      ],
      "execution_count": 0,
      "outputs": []
    },
    {
      "cell_type": "code",
      "metadata": {
        "id": "HdaZbn8U7n_O",
        "colab_type": "code",
        "colab": {}
      },
      "source": [
        "def predict(output_layer):\n",
        "  predict_label = np.argmax(output_layer, axis=1)\n",
        "  return predict_label"
      ],
      "execution_count": 0,
      "outputs": []
    },
    {
      "cell_type": "code",
      "metadata": {
        "id": "MiVig6CLcnBJ",
        "colab_type": "code",
        "colab": {}
      },
      "source": [
        "def accuracy(pred, true):\n",
        "  acc = np.mean(pred == true)\n",
        "  return acc "
      ],
      "execution_count": 0,
      "outputs": []
    },
    {
      "cell_type": "code",
      "metadata": {
        "id": "G_gbjMSVlvhP",
        "colab_type": "code",
        "colab": {}
      },
      "source": [
        "# bias 추가 \n",
        "def add_bias(image):\n",
        "  m = image.shape[0]\n",
        "  temp = np.column_stack((np.ones((m, 1)), image))\n",
        "  return temp"
      ],
      "execution_count": 0,
      "outputs": []
    },
    {
      "cell_type": "code",
      "metadata": {
        "id": "YrhPvzY6YsPe",
        "colab_type": "code",
        "colab": {}
      },
      "source": [
        "# 역전파 함수 수정 \n",
        "def Back(image, theta_list, onehot, sigmoid_list):\n",
        "  m = image.shape[0]\n",
        "  delta6 = sigmoid_list[4] - onehot\n",
        "  delta5 = np.dot(delta6, theta_list[4][1:, :].T)*sigmoid_list[3]*(1-sigmoid_list[3])\n",
        "  delta4 = np.dot(delta5, theta_list[3][1:, :].T)*sigmoid_list[2]*(1-sigmoid_list[2])\n",
        "  delta3 = np.dot(delta4, theta_list[2][1:, :].T)*sigmoid_list[1]*(1-sigmoid_list[1])\n",
        "  delta2 = np.dot(delta3, theta_list[1][1:, :].T)*sigmoid_list[0]*(1-sigmoid_list[0])\n",
        "\n",
        "  add_bias_term5 = add_bias(sigmoid_list[3])\n",
        "  add_bias_term4 = add_bias(sigmoid_list[2])\n",
        "  add_bias_term3 = add_bias(sigmoid_list[1])\n",
        "  add_bias_term2 = add_bias(sigmoid_list[0])\n",
        "  add_bias_term1 = add_bias(image)\n",
        "  \n",
        "  gradient5 = np.dot(add_bias_term5.T, delta6) / m\n",
        "  gradient4 = np.dot(add_bias_term4.T, delta5) / m\n",
        "  gradient3 = np.dot(add_bias_term3.T, delta4) / m\n",
        "  gradient2 = np.dot(add_bias_term2.T, delta3) / m\n",
        "  gradient1 = np.dot(add_bias_term1.T, delta2) / m\n",
        "  gradient_list = [gradient1, gradient2, gradient3, gradient4, gradient5]\n",
        "\n",
        "  return gradient_list"
      ],
      "execution_count": 0,
      "outputs": []
    },
    {
      "cell_type": "code",
      "metadata": {
        "id": "scaN-H9nYqBu",
        "colab_type": "code",
        "colab": {}
      },
      "source": [
        "mnist_data = np.array(pd.read_csv(file_data, header=None))"
      ],
      "execution_count": 0,
      "outputs": []
    },
    {
      "cell_type": "code",
      "metadata": {
        "id": "8Nm4POTP-64u",
        "colab_type": "code",
        "colab": {}
      },
      "source": [
        "# 전체 데이터 \n",
        "label = mnist_data[:, 0]\n",
        "image = mnist_data[:, 1:]\n",
        "\n",
        "# label데이터 split \n",
        "train_label = label[:1000]\n",
        "test_label = label[1000:]\n",
        "\n",
        "# image데이터 split\n",
        "train_image = image[:1000, :]\n",
        "test_image = image[1000:, :]\n",
        "\n",
        "# 라벨데이터 원핫 인코딩 \n",
        "train_onehot = onehotencoding(train_label)\n",
        "test_onehot = onehotencoding(test_label)"
      ],
      "execution_count": 0,
      "outputs": []
    },
    {
      "cell_type": "code",
      "metadata": {
        "id": "Ym8y_iTgDsmW",
        "colab_type": "code",
        "colab": {}
      },
      "source": [
        "# 먼저 theta의 행렬의 형태에 대한 정의가 필요하다.  \n",
        "# 랜덤으로 정한 theta (U,V,W)에 해당 \n",
        "np.random.seed(20180378)\n",
        "#theta1 = np.random.randn(785, 196)\n",
        "#theta2 = np.random.randn(197, 49)\n",
        "#theta3 = np.random.randn(50, 10)\n",
        "\n",
        "# 파라미터 수를 늘리므로 더작은 std의 N(0,std)에서 랜덤값 뽑을 것임 initializer수정\n",
        "# 초깃값 너무 작게 두면 기울기 소실이 난다. 적당한 크기로 두는 것이 중요함. \n",
        "# N(0,0.01)에서 랜덤값을 initializer한다. \n",
        "theta1 = 0.03 * np.random.randn(785, 128) \n",
        "theta2 = 0.02 * np.random.randn(129, 64)\n",
        "theta3 = 0.04 * np.random.randn(65, 32)\n",
        "theta4 = 0.05 * np.random.randn(33, 16)\n",
        "theta5 = 0.02 * np.random.randn(17, 10)\n",
        "\n",
        "\n",
        "# 정한 theta들의 리스트\n",
        "theta_vector = [theta1, theta2, theta3, theta4, theta5]\n",
        "train_cost_value_list = []\n",
        "test_cost_value_list = []\n",
        "train_accuracy_list = []\n",
        "test_accuracy_list = []"
      ],
      "execution_count": 0,
      "outputs": []
    },
    {
      "cell_type": "markdown",
      "metadata": {
        "id": "uR_vmU80bt3w",
        "colab_type": "text"
      },
      "source": [
        "## Fit"
      ]
    },
    {
      "cell_type": "code",
      "metadata": {
        "id": "ToeBychIZviO",
        "colab_type": "code",
        "colab": {}
      },
      "source": [
        "# hyperparameter값 (튜닝예정 )\n",
        "iteration = 800\n",
        "learning_rate = 1.0\n",
        "L = 90 # reg term의 lambda값 "
      ],
      "execution_count": 0,
      "outputs": []
    },
    {
      "cell_type": "code",
      "metadata": {
        "id": "w3yhygVf8cy-",
        "colab_type": "code",
        "outputId": "0b598e98-0746-4f1b-d17e-d53a08ef01f2",
        "colab": {
          "base_uri": "https://localhost:8080/",
          "height": 316
        }
      },
      "source": [
        "for iter in range(iteration):\n",
        "  # compute cost\n",
        "  train_cost_value, train_sigmoid_value = ObjectiveFunction(train_image, theta_vector, train_onehot, L)\n",
        "  test_cost_value, test_sigmoid_value = ObjectiveFunction(test_image, theta_vector, test_onehot, L)\n",
        "  # predict the final label \n",
        "  train_predict_label = predict(train_sigmoid_value[-1])\n",
        "  test_predict_label = predict(test_sigmoid_value[-1])\n",
        "  # com\n",
        "  train_accuracy = accuracy(train_predict_label, train_label)\n",
        "  test_accuracy = accuracy(test_predict_label, test_label)\n",
        "  gradient = Back(train_image, theta_vector, train_onehot, train_sigmoid_value)\n",
        "\n",
        "  train_cost_value_list.append(train_cost_value)\n",
        "  test_cost_value_list.append(test_cost_value)\n",
        "  train_accuracy_list.append(train_accuracy)\n",
        "  test_accuracy_list.append(test_accuracy)\n",
        "\n",
        "  # theta update \n",
        "  for i in range(len(theta_vector)):\n",
        "    theta_vector[i] = theta_vector[i] - learning_rate * gradient[i]\n",
        "  \n",
        "  # update되는 cost, sccuracy값 확인하기 \n",
        "  if(iter%100 == 0):\n",
        "    print(\"train:\",train_cost_value, train_accuracy )\n",
        "    print(\"test :\", test_cost_value, test_accuracy) "
      ],
      "execution_count": 45,
      "outputs": [
        {
          "output_type": "stream",
          "text": [
            "train: 276.9185682447332 0.11\n",
            "test : 276.9177569319928 0.09688888888888889\n",
            "train: 273.2409925351123 0.126\n",
            "test : 273.2551122216162 0.1121111111111111\n",
            "train: 273.2409907830626 0.126\n",
            "test : 273.2551114688088 0.1121111111111111\n",
            "train: 273.2409890380772 0.126\n",
            "test : 273.25511066039775 0.1121111111111111\n",
            "train: 273.24098723615214 0.126\n",
            "test : 273.2551097904348 0.1121111111111111\n",
            "train: 273.240985348325 0.126\n",
            "test : 273.2551088226813 0.1121111111111111\n",
            "train: 273.2409832868359 0.126\n",
            "test : 273.2551077355587 0.1121111111111111\n",
            "train: 273.240981040716 0.126\n",
            "test : 273.2551064986974 0.1121111111111111\n"
          ],
          "name": "stdout"
        }
      ]
    },
    {
      "cell_type": "markdown",
      "metadata": {
        "id": "Flt7FBK2MxHx",
        "colab_type": "text"
      },
      "source": [
        "## plotting"
      ]
    },
    {
      "cell_type": "code",
      "metadata": {
        "id": "edEcYufoG4R6",
        "colab_type": "code",
        "outputId": "e18c24c8-effe-42c8-8f38-4cbcd6d7c198",
        "colab": {
          "base_uri": "https://localhost:8080/",
          "height": 284
        }
      },
      "source": [
        "plt.plot(train_cost_value_list,'b') # train\n",
        "plt.plot(test_cost_value_list,'r') # test"
      ],
      "execution_count": 46,
      "outputs": [
        {
          "output_type": "execute_result",
          "data": {
            "text/plain": [
              "[<matplotlib.lines.Line2D at 0x7f5c1a765fd0>]"
            ]
          },
          "metadata": {
            "tags": []
          },
          "execution_count": 46
        },
        {
          "output_type": "display_data",
          "data": {
            "image/png": "[encoded data removed]",
            "text/plain": [
              "<Figure size 432x288 with 1 Axes>"
            ]
          },
          "metadata": {
            "tags": [],
            "needs_background": "light"
          }
        }
      ]
    },
    {
      "cell_type": "code",
      "metadata": {
        "id": "s2-xNfGrAYd0",
        "colab_type": "code",
        "outputId": "c40916d6-bda4-4e25-fc0e-100b3f7513eb",
        "colab": {
          "base_uri": "https://localhost:8080/",
          "height": 284
        }
      },
      "source": [
        "plt.plot(train_accuracy_list,'b')\n",
        "plt.plot(test_accuracy_list,'r')"
      ],
      "execution_count": 47,
      "outputs": [
        {
          "output_type": "execute_result",
          "data": {
            "text/plain": [
              "[<matplotlib.lines.Line2D at 0x7f5c1accc6a0>]"
            ]
          },
          "metadata": {
            "tags": []
          },
          "execution_count": 47
        },
        {
          "output_type": "display_data",
          "data": {
            "image/png": "[encoded data removed]",
            "text/plain": [
              "<Figure size 432x288 with 1 Axes>"
            ]
          },
          "metadata": {
            "tags": [],
            "needs_background": "light"
          }
        }
      ]
    },
    {
      "cell_type": "code",
      "metadata": {
        "id": "vW9t_vl8tTsi",
        "colab_type": "code",
        "outputId": "98a6cbd8-63af-439c-ebb6-ee40ce6d0af2",
        "colab": {
          "base_uri": "https://localhost:8080/",
          "height": 36
        }
      },
      "source": [
        "print(train_accuracy_list[-1]*100,'%') # final (train)"
      ],
      "execution_count": 48,
      "outputs": [
        {
          "output_type": "stream",
          "text": [
            "12.6 %\n"
          ],
          "name": "stdout"
        }
      ]
    },
    {
      "cell_type": "code",
      "metadata": {
        "id": "SvKbtxsRUc5v",
        "colab_type": "code",
        "outputId": "beff5664-dfaf-4aa6-e2db-3c2b47d6f258",
        "colab": {
          "base_uri": "https://localhost:8080/",
          "height": 36
        }
      },
      "source": [
        "print(test_accuracy_list[-1]*100,'%') # final (test)"
      ],
      "execution_count": 49,
      "outputs": [
        {
          "output_type": "stream",
          "text": [
            "11.21111111111111 %\n"
          ],
          "name": "stdout"
        }
      ]
    },
    {
      "cell_type": "markdown",
      "metadata": {
        "id": "Mi9IMnHybygz",
        "colab_type": "text"
      },
      "source": [
        "## plotting classified images(2*5)"
      ]
    },
    {
      "cell_type": "code",
      "metadata": {
        "id": "MhWAYaTTKqPJ",
        "colab_type": "code",
        "colab": {}
      },
      "source": [
        "# plot the classification example\n",
        "## 학습이 잘 된 이미지 라벨을 저장한다. \n",
        "correct_index = [] \n",
        "## 학습이 잘 되지 않은 이미지 라벨을 저장한다. \n",
        "miscorrect_index = []\n",
        "\n",
        "for i in range(len(train_label)):\n",
        "  if train_predict_label[i] == train_label[i]:\n",
        "    correct_index.append(i)\n",
        "  else:\n",
        "    miscorrect_index.append(i)"
      ],
      "execution_count": 0,
      "outputs": []
    },
    {
      "cell_type": "code",
      "metadata": {
        "id": "SJSeNYpNPyVo",
        "colab_type": "code",
        "colab": {}
      },
      "source": [
        "corrrect_index = correct_index[:10] # 10개만 확인"
      ],
      "execution_count": 0,
      "outputs": []
    },
    {
      "cell_type": "code",
      "metadata": {
        "id": "ptYxB8RiP-JV",
        "colab_type": "code",
        "colab": {}
      },
      "source": [
        "# test데이터에 대해 맞게 학습한, 맞지 않게 학습한 index를 저장함. \n",
        "correct_index2 = []\n",
        "miscorrect_index2 = []\n",
        "correct_label2 = []\n",
        "miscorrect_label2 = []\n",
        "\n",
        "for i in range(len(test_label)):\n",
        "  if test_predict_label[i] == test_label[i]:\n",
        "    correct_index2.append(i)\n",
        "    correct_label2.append(test_label[i])\n",
        "  else:\n",
        "    miscorrect_index2.append(i)\n",
        "    miscorrect_label2.append(test_predict_label[i])"
      ],
      "execution_count": 0,
      "outputs": []
    },
    {
      "cell_type": "code",
      "metadata": {
        "id": "gWrduFadQPbc",
        "colab_type": "code",
        "colab": {}
      },
      "source": [
        "correct_index2 = correct_index2[:10] #10개만 확인"
      ],
      "execution_count": 0,
      "outputs": []
    },
    {
      "cell_type": "code",
      "metadata": {
        "id": "GoMkojHrVGNH",
        "colab_type": "code",
        "colab": {}
      },
      "source": [
        "miscorrect_index2 = miscorrect_index2[:10] "
      ],
      "execution_count": 0,
      "outputs": []
    },
    {
      "cell_type": "code",
      "metadata": {
        "id": "mMGogTsNTb_t",
        "colab_type": "code",
        "outputId": "b6b2b3dc-853a-4e9c-d108-1a103e9ee5df",
        "colab": {
          "base_uri": "https://localhost:8080/",
          "height": 36
        }
      },
      "source": [
        "test_image[1,:].shape"
      ],
      "execution_count": 55,
      "outputs": [
        {
          "output_type": "execute_result",
          "data": {
            "text/plain": [
              "(784,)"
            ]
          },
          "metadata": {
            "tags": []
          },
          "execution_count": 55
        }
      ]
    },
    {
      "cell_type": "code",
      "metadata": {
        "id": "3LGpZNczReFX",
        "colab_type": "code",
        "outputId": "f7cf859d-30be-424b-86a0-b0c3131d214c",
        "colab": {
          "base_uri": "https://localhost:8080/",
          "height": 227
        }
      },
      "source": [
        "# reshape과정\n",
        "# test셋에 대하여 correct저장한 값 \n",
        "count = 0\n",
        "for i in correct_index2:\n",
        "  plt.subplot(2, 5, count+1)\n",
        "\n",
        "  first = test_image[i, :].reshape(28, 28)\n",
        "  plt.imshow(first, cmap='Greys',interpolation='None')\n",
        "  plt.title(correct_label2[count])\n",
        "  frame   = plt.gca()\n",
        "  frame.axes.get_xaxis().set_visible(False)\n",
        "  frame.axes.get_yaxis().set_visible(False)\n",
        "  count+=1\n",
        "  if(count==10):\n",
        "    break\n",
        "\n",
        "plt.show()\n"
      ],
      "execution_count": 56,
      "outputs": [
        {
          "output_type": "display_data",
          "data": {
            "image/png": "[encoded data removed]",
            "text/plain": [
              "<Figure size 432x288 with 10 Axes>"
            ]
          },
          "metadata": {
            "tags": [],
            "needs_background": "light"
          }
        }
      ]
    },
    {
      "cell_type": "code",
      "metadata": {
        "id": "BCbB86tYT8BK",
        "colab_type": "code",
        "outputId": "00f46d7a-b4e7-4012-9f85-a022ef9d2f30",
        "colab": {
          "base_uri": "https://localhost:8080/",
          "height": 227
        }
      },
      "source": [
        "# reshape과정\n",
        "# test셋에 대하여 miscorrect값을 plotting\n",
        "count = 0\n",
        "for i in miscorrect_index2:\n",
        "  plt.subplot(2, 5, count+1)\n",
        "  second = test_image[i, :].reshape(28, 28)\n",
        "  plt.imshow(second, cmap='Greys',interpolation='None')\n",
        "  plt.title(miscorrect_label2[count])\n",
        "  frame   = plt.gca()\n",
        "  frame.axes.get_xaxis().set_visible(False)\n",
        "  frame.axes.get_yaxis().set_visible(False)\n",
        "  count+=1\n",
        "  if(count==10):\n",
        "    break\n",
        "\n",
        "plt.show()"
      ],
      "execution_count": 57,
      "outputs": [
        {
          "output_type": "display_data",
          "data": {
            "image/png": "[encoded data removed]",
            "text/plain": [
              "<Figure size 432x288 with 10 Axes>"
            ]
          },
          "metadata": {
            "tags": [],
            "needs_background": "light"
          }
        }
      ]
    },
    {
      "cell_type": "code",
      "metadata": {
        "id": "PUcbB53yUVb6",
        "colab_type": "code",
        "colab": {}
      },
      "source": [
        ""
      ],
      "execution_count": 0,
      "outputs": []
    },
    {
      "cell_type": "markdown",
      "metadata": {
        "id": "eBbF0nPoVv_m",
        "colab_type": "text"
      },
      "source": [
        "## 답"
      ]
    },
    {
      "cell_type": "markdown",
      "metadata": {
        "id": "Eb3Lmny2Vx8f",
        "colab_type": "text"
      },
      "source": [
        "# 1.Plot the loss curve "
      ]
    },
    {
      "cell_type": "code",
      "metadata": {
        "id": "nj0btERbVxJf",
        "colab_type": "code",
        "outputId": "be18c1d9-cf4b-4c81-d79e-a47407fd428e",
        "colab": {
          "base_uri": "https://localhost:8080/",
          "height": 287
        }
      },
      "source": [
        "plt.plot(train_cost_value_list,'b')\n",
        "plt.plot(test_cost_value_list,'r')"
      ],
      "execution_count": 0,
      "outputs": [
        {
          "output_type": "execute_result",
          "data": {
            "text/plain": [
              "[<matplotlib.lines.Line2D at 0x7fdd3b59a9b0>]"
            ]
          },
          "metadata": {
            "tags": []
          },
          "execution_count": 38
        },
        {
          "output_type": "display_data",
          "data": {
            "image/png": "[encoded data removed]",
            "text/plain": [
              "<Figure size 432x288 with 1 Axes>"
            ]
          },
          "metadata": {
            "tags": [],
            "needs_background": "light"
          }
        }
      ]
    },
    {
      "cell_type": "markdown",
      "metadata": {
        "id": "SBwtg4k1V8GE",
        "colab_type": "text"
      },
      "source": [
        "## 2. Plot the accuracy curve"
      ]
    },
    {
      "cell_type": "code",
      "metadata": {
        "id": "UHzU08FqV7Lc",
        "colab_type": "code",
        "outputId": "7474173d-0d9d-49d8-8383-7fa7187bbef0",
        "colab": {
          "base_uri": "https://localhost:8080/",
          "height": 284
        }
      },
      "source": [
        "plt.plot(train_accuracy_list,'b')\n",
        "plt.plot(test_accuracy_list,'r')"
      ],
      "execution_count": 0,
      "outputs": [
        {
          "output_type": "execute_result",
          "data": {
            "text/plain": [
              "[<matplotlib.lines.Line2D at 0x7fdd3b6946a0>]"
            ]
          },
          "metadata": {
            "tags": []
          },
          "execution_count": 39
        },
        {
          "output_type": "display_data",
          "data": {
            "image/png": "[encoded data removed]",
            "text/plain": [
              "<Figure size 432x288 with 1 Axes>"
            ]
          },
          "metadata": {
            "tags": [],
            "needs_background": "light"
          }
        }
      ]
    },
    {
      "cell_type": "markdown",
      "metadata": {
        "id": "U8rAlLlXWEP1",
        "colab_type": "text"
      },
      "source": [
        "## 3. Plot the accuracy value"
      ]
    },
    {
      "cell_type": "code",
      "metadata": {
        "id": "z9Chx5bEWDTS",
        "colab_type": "code",
        "outputId": "1c213c97-c33f-42cd-b21f-3276884eedc2",
        "colab": {
          "base_uri": "https://localhost:8080/",
          "height": 36
        }
      },
      "source": [
        "print('train : ',train_accuracy_list[-1]*100,'%') # train accuracy"
      ],
      "execution_count": 0,
      "outputs": [
        {
          "output_type": "stream",
          "text": [
            "train :  100.0 %\n"
          ],
          "name": "stdout"
        }
      ]
    },
    {
      "cell_type": "code",
      "metadata": {
        "id": "XFX0IkhSWMAW",
        "colab_type": "code",
        "outputId": "128b46cc-10e9-4b0f-fcce-16e1a7fef49a",
        "colab": {
          "base_uri": "https://localhost:8080/",
          "height": 36
        }
      },
      "source": [
        "print('test:' ,test_accuracy_list[-1]*100,'%')"
      ],
      "execution_count": 0,
      "outputs": [
        {
          "output_type": "stream",
          "text": [
            "test: 78.66666666666666 %\n"
          ],
          "name": "stdout"
        }
      ]
    },
    {
      "cell_type": "markdown",
      "metadata": {
        "id": "7MweBS58WU_-",
        "colab_type": "text"
      },
      "source": [
        "## 4. Plot the classification example"
      ]
    },
    {
      "cell_type": "code",
      "metadata": {
        "id": "RzfxPD-LWSpU",
        "colab_type": "code",
        "outputId": "9d3a7c9e-b70c-4255-be47-64541ab58a26",
        "colab": {
          "base_uri": "https://localhost:8080/",
          "height": 227
        }
      },
      "source": [
        "# reshape과정\n",
        "# test셋에 대하여 correct저장한 값 \n",
        "count = 0\n",
        "for i in correct_index2:\n",
        "  plt.subplot(2, 5, count+1)\n",
        "\n",
        "  first = test_image[i, :].reshape(28, 28)\n",
        "  plt.imshow(first, cmap='Greys',interpolation='None')\n",
        "  plt.title(correct_label2[count])\n",
        "  frame   = plt.gca()\n",
        "  frame.axes.get_xaxis().set_visible(False)\n",
        "  frame.axes.get_yaxis().set_visible(False)\n",
        "  count+=1\n",
        "  if(count==10):\n",
        "    break\n",
        "\n",
        "plt.show()\n"
      ],
      "execution_count": 0,
      "outputs": [
        {
          "output_type": "display_data",
          "data": {
            "image/png": "[encoded data removed]",
            "text/plain": [
              "<Figure size 432x288 with 10 Axes>"
            ]
          },
          "metadata": {
            "tags": [],
            "needs_background": "light"
          }
        }
      ]
    },
    {
      "cell_type": "code",
      "metadata": {
        "id": "MtY8JCx_WaAd",
        "colab_type": "code",
        "outputId": "7c83f174-5e5d-46cc-f6a2-cf04f6126b58",
        "colab": {
          "base_uri": "https://localhost:8080/",
          "height": 227
        }
      },
      "source": [
        "# reshape과정\n",
        "# test셋에 대하여 miscorrect값을 plotting\n",
        "count = 0\n",
        "for i in miscorrect_index2:\n",
        "  plt.subplot(2, 5, count+1)\n",
        "  second = test_image[i, :].reshape(28, 28)\n",
        "  plt.imshow(second, cmap='Greys',interpolation='None')\n",
        "  plt.title(miscorrect_label2[count]) # mis predicted label\n",
        "  frame   = plt.gca()\n",
        "  frame.axes.get_xaxis().set_visible(False)\n",
        "  frame.axes.get_yaxis().set_visible(False)\n",
        "  count+=1\n",
        "  if(count==10):\n",
        "    break\n",
        "\n",
        "plt.show()"
      ],
      "execution_count": 0,
      "outputs": [
        {
          "output_type": "display_data",
          "data": {
            "image/png": "[encoded data removed]",
            "text/plain": [
              "<Figure size 432x288 with 10 Axes>"
            ]
          },
          "metadata": {
            "tags": [],
            "needs_background": "light"
          }
        }
      ]
    },
    {
      "cell_type": "code",
      "metadata": {
        "id": "v3OyOo-XWc91",
        "colab_type": "code",
        "colab": {}
      },
      "source": [
        ""
      ],
      "execution_count": 0,
      "outputs": []
    }
  ]
}