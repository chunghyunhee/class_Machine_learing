{
  "nbformat": 4,
  "nbformat_minor": 0,
  "metadata": {
    "colab": {
      "name": "assignment_10_final.ipynb",
      "provenance": [],
      "collapsed_sections": []
    },
    "kernelspec": {
      "name": "python3",
      "display_name": "Python 3"
    }
  },
  "cells": [
    {
      "cell_type": "markdown",
      "metadata": {
        "id": "ip7sa6I2Sx5U",
        "colab_type": "text"
      },
      "source": [
        "### assignment_10 수정된 사항\n",
        "1. 초깃값 문제 - parameter수가 많으면 std를 낮춘다. (Normal에서의 std)\n",
        "2. cost에 regularization term을 준다. \n",
        "3. hidden layer의 수 튜닝, hidden layer의 노드 수 튜닝\n",
        "4. 데이터수 (train:1000, test:9000) 로 변경하여 fit하기  "
      ]
    },
    {
      "cell_type": "markdown",
      "metadata": {
        "id": "1vh2h0bScpdk",
        "colab_type": "text"
      },
      "source": [
        "## second kernel : 4 Layer"
      ]
    },
    {
      "cell_type": "markdown",
      "metadata": {
        "id": "zCN3FkUEomJm",
        "colab_type": "text"
      },
      "source": [
        "## data"
      ]
    },
    {
      "cell_type": "code",
      "metadata": {
        "id": "fQoUVM4Hn1Xj",
        "colab_type": "code",
        "colab": {}
      },
      "source": [
        "import matplotlib.pyplot as plt\n",
        "import numpy as np\n",
        "import pandas as pd\n",
        "\n",
        "file_data   = \"mnist.csv\"\n",
        "handle_file = open(file_data, \"r\")\n",
        "data        = handle_file.readlines()\n",
        "handle_file.close()"
      ],
      "execution_count": 0,
      "outputs": []
    },
    {
      "cell_type": "code",
      "metadata": {
        "id": "_8ZFJjWOp_BP",
        "colab_type": "code",
        "colab": {}
      },
      "source": [
        "size_row    = 28    # height of the image\n",
        "size_col    = 28    # width of the image\n",
        "\n",
        "num_image   = len(data)\n",
        "count       = 0     # count for the number of images"
      ],
      "execution_count": 0,
      "outputs": []
    },
    {
      "cell_type": "code",
      "metadata": {
        "id": "7sK0g-PvqCVn",
        "colab_type": "code",
        "colab": {}
      },
      "source": [
        "# normalize the values of the input data to be [0, 1]\n",
        "def normalize(data):\n",
        "\n",
        "    data_normalized = (data - min(data)) / (max(data) - min(data))\n",
        "\n",
        "    return(data_normalized)"
      ],
      "execution_count": 0,
      "outputs": []
    },
    {
      "cell_type": "code",
      "metadata": {
        "id": "UMtsA7pnqEpe",
        "colab_type": "code",
        "colab": {}
      },
      "source": [
        "# example of distance function between two vectors x and y\n",
        "def distance(x, y):\n",
        "\n",
        "    d = (x - y) ** 2\n",
        "    s = np.sum(d)\n",
        "    # r = np.sqrt(s)\n",
        "\n",
        "    return(s)"
      ],
      "execution_count": 0,
      "outputs": []
    },
    {
      "cell_type": "markdown",
      "metadata": {
        "id": "qvP8rEL8qsrn",
        "colab_type": "text"
      },
      "source": [
        "## optimization\n",
        "- randomly initialize weights\n",
        "- Implement foward propagation to get h(x) for any x\n",
        "- Implement code to compute cost function J\n",
        "- Implement backprop to compute partial derivations\n",
        "\n",
        "- and training the neural network\n",
        "- Use gradient descent with back propagation to minimize J(theta) as function of parameter theta.\n"
      ]
    },
    {
      "cell_type": "code",
      "metadata": {
        "id": "69jCBzs6zda6",
        "colab_type": "code",
        "colab": {}
      },
      "source": [
        "# h, sigmoid함수 정의 \n",
        "# activation function으로 sigmoid를 사용할 예정에 있음 \n",
        "def h(theta,X):\n",
        "  return np.dot(X,theta)\n",
        "\n",
        "def sigmoid(x):\n",
        "  return 1 / (1 + np.exp(-x))\n",
        "\n",
        "# 미분한 sigmoid식\n",
        "def Dsigmoid(x):\n",
        "  return sigmoid(x)*(1-sigmoid(x))"
      ],
      "execution_count": 0,
      "outputs": []
    },
    {
      "cell_type": "code",
      "metadata": {
        "id": "KWSRYPLA2bpe",
        "colab_type": "code",
        "colab": {}
      },
      "source": [
        "# 순전파 함수\n",
        "# 여기서의 theta는 각 layer별로 해당하는 theta를 전부 포함한 list에 해당한다. \n",
        "def Forward(image, theta_vector):\n",
        "    z_each_layer = []\n",
        "\n",
        "    # theta의 수대로 반복하고, 그에따라 각각 저장해야 한다. \n",
        "    for i in range(len(theta_vector)):\n",
        "      image = add_bias(image)\n",
        "      theta = theta_vector[i]\n",
        "      z = np.dot(image, theta)\n",
        "      a = sigmoid(z)\n",
        "      z_each_layer.append(a) # z와 a값 모두 저장한다\n",
        "      image = a\n",
        "\n",
        "    return z_each_layer"
      ],
      "execution_count": 0,
      "outputs": []
    },
    {
      "cell_type": "code",
      "metadata": {
        "id": "H45Vx7I40qUc",
        "colab_type": "code",
        "colab": {}
      },
      "source": [
        "# label의 원핫인코딩을 위한 함수 \n",
        "def onehotencoding(label):\n",
        "  unique = np.unique(label)\n",
        "  m = label.shape[0]\n",
        "  n = unique.shape[0]\n",
        "  empty = np.zeros((m, n))\n",
        "\n",
        "  for i in range(m):\n",
        "    for j in range(n):\n",
        "      if label[i] == unique[j]:\n",
        "        empty[i, j] = 1\n",
        "  \n",
        "  return empty"
      ],
      "execution_count": 0,
      "outputs": []
    },
    {
      "cell_type": "code",
      "metadata": {
        "id": "40zhdKA02X0O",
        "colab_type": "code",
        "colab": {}
      },
      "source": [
        "# Objective function에 대한 정의 \n",
        "# regularization term추가 (L의 값은 lambda에 해당한다)\n",
        "def ObjectiveFunction(image, theta_vector,label_list,L ):\n",
        "  h = Forward(image, theta_vector) # 순전파로 계산한 값의 h(각 layer별로 a값을 출력한다. )\n",
        "  sigmoid_value = [h[0], h[1], h[2] ,h[3]]\n",
        "  output_layer = sigmoid_value[-1] # 마지막 h[2]가 결국은 output layer에 해당한다. \n",
        "  n = len(theta_vector)# theta의 수에 해당한다, \n",
        "  # m = image.shape[0] # 이부분 식 수정해야 하는지 확인하기 \n",
        "\n",
        "  # cost function에 대해 regularization term을 추가한다. \n",
        "  reg_value = 0\n",
        "  for theta in range(len(theta_vector)): \n",
        "    reg_value += np.sum(theta*theta)\n",
        "  reg_value *= float(L)/(2*n) # m으로 바꿔야 하는지 확인하기 \n",
        "   \n",
        "  cost = -np.mean(np.sum(label_list*np.log(output_layer) + (1 - label_list)*np.log(1 - output_layer), axis=1)) #해당 J(theta)값\n",
        "  \n",
        "  return cost+reg_value, sigmoid_value"
      ],
      "execution_count": 0,
      "outputs": []
    },
    {
      "cell_type": "code",
      "metadata": {
        "id": "HdaZbn8U7n_O",
        "colab_type": "code",
        "colab": {}
      },
      "source": [
        "def predict(output_layer):\n",
        "  predict_label = np.argmax(output_layer, axis=1)\n",
        "  return predict_label"
      ],
      "execution_count": 0,
      "outputs": []
    },
    {
      "cell_type": "code",
      "metadata": {
        "id": "MiVig6CLcnBJ",
        "colab_type": "code",
        "colab": {}
      },
      "source": [
        "def accuracy(pred, true):\n",
        "  acc = np.mean(pred == true)\n",
        "  return acc "
      ],
      "execution_count": 0,
      "outputs": []
    },
    {
      "cell_type": "code",
      "metadata": {
        "id": "G_gbjMSVlvhP",
        "colab_type": "code",
        "colab": {}
      },
      "source": [
        "# bias 추가 \n",
        "def add_bias(image):\n",
        "  m = image.shape[0]\n",
        "  temp = np.column_stack((np.ones((m, 1)), image))\n",
        "  return temp"
      ],
      "execution_count": 0,
      "outputs": []
    },
    {
      "cell_type": "code",
      "metadata": {
        "id": "YrhPvzY6YsPe",
        "colab_type": "code",
        "colab": {}
      },
      "source": [
        "# 역전파 함수 수정 \n",
        "def Back(image, theta_list, onehot, sigmoid_list):\n",
        "  m = image.shape[0]\n",
        "  delta5 = sigmoid_list[3] - onehot\n",
        "  delta4 = np.dot(delta5, theta_list[3][1:, :].T)*sigmoid_list[2]*(1-sigmoid_list[2])\n",
        "  delta3 = np.dot(delta4, theta_list[2][1:, :].T)*sigmoid_list[1]*(1-sigmoid_list[1])\n",
        "  delta2 = np.dot(delta3, theta_list[1][1:, :].T)*sigmoid_list[0]*(1-sigmoid_list[0])\n",
        "\n",
        "  add_bias_term4 = add_bias(sigmoid_list[2])\n",
        "  add_bias_term3 = add_bias(sigmoid_list[1])\n",
        "  add_bias_term2 = add_bias(sigmoid_list[0])\n",
        "  add_bias_term1 = add_bias(image)\n",
        "  \n",
        "  gradient4 = np.dot(add_bias_term4.T, delta5) / m\n",
        "  gradient3 = np.dot(add_bias_term3.T, delta4) / m\n",
        "  gradient2 = np.dot(add_bias_term2.T, delta3) / m\n",
        "  gradient1 = np.dot(add_bias_term1.T, delta2) / m\n",
        "  gradient_list = [gradient1, gradient2, gradient3, gradient4]\n",
        "\n",
        "  return gradient_list"
      ],
      "execution_count": 0,
      "outputs": []
    },
    {
      "cell_type": "code",
      "metadata": {
        "id": "scaN-H9nYqBu",
        "colab_type": "code",
        "colab": {}
      },
      "source": [
        "mnist_data = np.array(pd.read_csv(file_data, header=None))"
      ],
      "execution_count": 0,
      "outputs": []
    },
    {
      "cell_type": "code",
      "metadata": {
        "id": "8Nm4POTP-64u",
        "colab_type": "code",
        "colab": {}
      },
      "source": [
        "# 전체 데이터 \n",
        "label = mnist_data[:, 0]\n",
        "image = mnist_data[:, 1:]\n",
        "\n",
        "# label데이터 split \n",
        "train_label = label[:1000]\n",
        "test_label = label[1000:]\n",
        "\n",
        "# image데이터 split\n",
        "train_image = image[:1000, :]\n",
        "test_image = image[1000:, :]\n",
        "\n",
        "# 라벨데이터 원핫 인코딩 \n",
        "train_onehot = onehotencoding(train_label)\n",
        "test_onehot = onehotencoding(test_label)"
      ],
      "execution_count": 0,
      "outputs": []
    },
    {
      "cell_type": "code",
      "metadata": {
        "id": "2QB3a51geyan",
        "colab_type": "code",
        "colab": {}
      },
      "source": [
        "# 먼저 theta의 행렬의 형태에 대한 정의가 필요하다.  \n",
        "# 랜덤으로 정한 theta (U,V,W)에 해당 \n",
        "np.random.seed(20180378)\n",
        "\n",
        "# 파라미터 수를 늘리므로 더작은 std의 N(0,1)에서 랜덤값 뽑을 것임 initializer수정\n",
        "# 초깃값 너무 작게 두면 기울기 소실이 난다. 적당한 크기로 두는 것이 중요함. \n",
        "# N(0,0.01)에서 랜덤값을 initializer한다. \n",
        "theta1 = 0.2 * np.random.randn(785, 299) \n",
        "theta2 = 0.25 * np.random.randn(300, 299)\n",
        "theta3 = 0.2 * np.random.randn(300, 199)\n",
        "theta4 = 0.25 * np.random.randn(200, 10)\n",
        "\n",
        "\n",
        "# 정한 theta들의 리스트\n",
        "theta_vector = [theta1, theta2, theta3, theta4]\n",
        "train_cost_value_list = []\n",
        "test_cost_value_list = []\n",
        "train_accuracy_list = []\n",
        "test_accuracy_list = []"
      ],
      "execution_count": 0,
      "outputs": []
    },
    {
      "cell_type": "markdown",
      "metadata": {
        "id": "uR_vmU80bt3w",
        "colab_type": "text"
      },
      "source": [
        "## Fit"
      ]
    },
    {
      "cell_type": "code",
      "metadata": {
        "id": "ToeBychIZviO",
        "colab_type": "code",
        "colab": {}
      },
      "source": [
        "# hyperparameter값 (튜닝예정 )\n",
        "iteration = 1300\n",
        "learning_rate = 0.8\n",
        "L = 400 # reg term의 lambda값 "
      ],
      "execution_count": 0,
      "outputs": []
    },
    {
      "cell_type": "code",
      "metadata": {
        "id": "w3yhygVf8cy-",
        "colab_type": "code",
        "outputId": "523ed2ee-d001-4c73-f0c0-b0406be1f22e",
        "colab": {
          "base_uri": "https://localhost:8080/",
          "height": 540
        }
      },
      "source": [
        "for iter in range(iteration):\n",
        "  # compute cost\n",
        "  train_cost_value, train_sigmoid_value = ObjectiveFunction(train_image, theta_vector, train_onehot, L)\n",
        "  test_cost_value, test_sigmoid_value = ObjectiveFunction(test_image, theta_vector, test_onehot, L)\n",
        "  # predict the final label \n",
        "  train_predict_label = predict(train_sigmoid_value[-1])\n",
        "  test_predict_label = predict(test_sigmoid_value[-1])\n",
        "  # compute accuracy\n",
        "  train_accuracy = accuracy(train_predict_label, train_label)\n",
        "  test_accuracy = accuracy(test_predict_label, test_label)\n",
        "  gradient = Back(train_image, theta_vector, train_onehot, train_sigmoid_value)\n",
        "\n",
        "  # append\n",
        "  train_cost_value_list.append(train_cost_value)\n",
        "  test_cost_value_list.append(test_cost_value)\n",
        "  train_accuracy_list.append(train_accuracy)\n",
        "  test_accuracy_list.append(test_accuracy)\n",
        "\n",
        "  # theta update \n",
        "  for i in range(len(theta_vector)):\n",
        "    theta_vector[i] = theta_vector[i] - learning_rate * gradient[i]\n",
        "  \n",
        "  # update되는 cost, sccuracy값 확인하기 \n",
        "  if(iter%100 == 0):\n",
        "    print(\"train:\",train_cost_value, train_accuracy )\n",
        "    print(\"test :\", test_cost_value, test_accuracy) "
      ],
      "execution_count": 44,
      "outputs": [
        {
          "output_type": "stream",
          "text": [
            "/usr/local/lib/python3.6/dist-packages/ipykernel_launcher.py:7: RuntimeWarning: overflow encountered in exp\n",
            "  import sys\n"
          ],
          "name": "stderr"
        },
        {
          "output_type": "stream",
          "text": [
            "train: 705.5874704634947 0.077\n",
            "test : 705.5484073462384 0.08677777777777777\n",
            "train: 700.6263269081429 0.935\n",
            "test : 701.1653241160715 0.805\n",
            "train: 700.1578640729135 0.992\n",
            "test : 700.9121196841127 0.85\n",
            "train: 700.0764892614925 1.0\n",
            "test : 700.9266187220754 0.8523333333333334\n",
            "train: 700.0462888180396 1.0\n",
            "test : 700.9560262564962 0.8542222222222222\n",
            "train: 700.0320275070924 1.0\n",
            "test : 700.9833186424617 0.8537777777777777\n",
            "train: 700.0240450906024 1.0\n",
            "test : 701.0062979945149 0.8534444444444444\n",
            "train: 700.0190135437571 1.0\n",
            "test : 701.027744900276 0.8532222222222222\n",
            "train: 700.0155851291638 1.0\n",
            "test : 701.0444968464934 0.8535555555555555\n",
            "train: 700.0131487776663 1.0\n",
            "test : 701.0598315742224 0.8541111111111112\n",
            "train: 700.0113337843143 1.0\n",
            "test : 701.0738593262575 0.8545555555555555\n",
            "train: 700.0099296444251 1.0\n",
            "test : 701.0862915573092 0.8543333333333333\n",
            "train: 700.0088050406588 1.0\n",
            "test : 701.0979789349764 0.8542222222222222\n"
          ],
          "name": "stdout"
        }
      ]
    },
    {
      "cell_type": "markdown",
      "metadata": {
        "id": "Flt7FBK2MxHx",
        "colab_type": "text"
      },
      "source": [
        "## plotting"
      ]
    },
    {
      "cell_type": "code",
      "metadata": {
        "id": "edEcYufoG4R6",
        "colab_type": "code",
        "outputId": "f631eaa0-8294-4b57-db26-bf5feb0295a6",
        "colab": {
          "base_uri": "https://localhost:8080/",
          "height": 284
        }
      },
      "source": [
        "plt.plot(train_cost_value_list,'b') # train\n",
        "plt.plot(test_cost_value_list,'r') # test"
      ],
      "execution_count": 45,
      "outputs": [
        {
          "output_type": "execute_result",
          "data": {
            "text/plain": [
              "[<matplotlib.lines.Line2D at 0x7f8eb46e5cf8>]"
            ]
          },
          "metadata": {
            "tags": []
          },
          "execution_count": 45
        },
        {
          "output_type": "display_data",
          "data": {
            "image/png": "[encoded data removed]",
            "text/plain": [
              "<Figure size 432x288 with 1 Axes>"
            ]
          },
          "metadata": {
            "tags": [],
            "needs_background": "light"
          }
        }
      ]
    },
    {
      "cell_type": "code",
      "metadata": {
        "id": "s2-xNfGrAYd0",
        "colab_type": "code",
        "outputId": "07e99218-44dc-4536-8f4e-41e2f30fdae9",
        "colab": {
          "base_uri": "https://localhost:8080/",
          "height": 284
        }
      },
      "source": [
        "plt.plot(train_accuracy_list,'b')\n",
        "plt.plot(test_accuracy_list,'r')"
      ],
      "execution_count": 46,
      "outputs": [
        {
          "output_type": "execute_result",
          "data": {
            "text/plain": [
              "[<matplotlib.lines.Line2D at 0x7f8eb6fde6a0>]"
            ]
          },
          "metadata": {
            "tags": []
          },
          "execution_count": 46
        },
        {
          "output_type": "display_data",
          "data": {
            "image/png": "[encoded data removed]",
            "text/plain": [
              "<Figure size 432x288 with 1 Axes>"
            ]
          },
          "metadata": {
            "tags": [],
            "needs_background": "light"
          }
        }
      ]
    },
    {
      "cell_type": "code",
      "metadata": {
        "id": "vW9t_vl8tTsi",
        "colab_type": "code",
        "outputId": "7802c991-767c-4516-8808-0a7fea0ce772",
        "colab": {
          "base_uri": "https://localhost:8080/",
          "height": 36
        }
      },
      "source": [
        "print(train_accuracy_list[-1]*100,'%') # final (train)"
      ],
      "execution_count": 47,
      "outputs": [
        {
          "output_type": "stream",
          "text": [
            "100.0 %\n"
          ],
          "name": "stdout"
        }
      ]
    },
    {
      "cell_type": "code",
      "metadata": {
        "id": "SvKbtxsRUc5v",
        "colab_type": "code",
        "outputId": "33fb6362-6124-40aa-f9a1-7995345aa499",
        "colab": {
          "base_uri": "https://localhost:8080/",
          "height": 36
        }
      },
      "source": [
        "print(test_accuracy_list[-1]*100,'%') # final (test)"
      ],
      "execution_count": 48,
      "outputs": [
        {
          "output_type": "stream",
          "text": [
            "85.42222222222222 %\n"
          ],
          "name": "stdout"
        }
      ]
    },
    {
      "cell_type": "markdown",
      "metadata": {
        "id": "Mi9IMnHybygz",
        "colab_type": "text"
      },
      "source": [
        "## plotting classified images(2*5)"
      ]
    },
    {
      "cell_type": "code",
      "metadata": {
        "id": "MhWAYaTTKqPJ",
        "colab_type": "code",
        "colab": {}
      },
      "source": [
        "# plot the classification example\n",
        "## 학습이 잘 된 이미지 라벨을 저장한다. \n",
        "correct_index = [] \n",
        "## 학습이 잘 되지 않은 이미지 라벨을 저장한다. \n",
        "miscorrect_index = []\n",
        "\n",
        "for i in range(len(train_label)):\n",
        "  if train_predict_label[i] == train_label[i]:\n",
        "    correct_index.append(i)\n",
        "  else:\n",
        "    miscorrect_index.append(i)"
      ],
      "execution_count": 0,
      "outputs": []
    },
    {
      "cell_type": "code",
      "metadata": {
        "id": "SJSeNYpNPyVo",
        "colab_type": "code",
        "colab": {}
      },
      "source": [
        "corrrect_index = correct_index[:10] # 10개만 확인"
      ],
      "execution_count": 0,
      "outputs": []
    },
    {
      "cell_type": "code",
      "metadata": {
        "id": "ptYxB8RiP-JV",
        "colab_type": "code",
        "colab": {}
      },
      "source": [
        "# test데이터에 대해 맞게 학습한, 맞지 않게 학습한 index를 저장함. \n",
        "correct_index2 = []\n",
        "miscorrect_index2 = []\n",
        "correct_label2 = []\n",
        "miscorrect_label2 = []\n",
        "\n",
        "for i in range(len(test_label)):\n",
        "  if test_predict_label[i] == test_label[i]:\n",
        "    correct_index2.append(i)\n",
        "    correct_label2.append(test_label[i])\n",
        "  else:\n",
        "    miscorrect_index2.append(i)\n",
        "    miscorrect_label2.append(test_predict_label[i])"
      ],
      "execution_count": 0,
      "outputs": []
    },
    {
      "cell_type": "code",
      "metadata": {
        "id": "gWrduFadQPbc",
        "colab_type": "code",
        "colab": {}
      },
      "source": [
        "correct_index2 = correct_index2[:10] #10개만 확인"
      ],
      "execution_count": 0,
      "outputs": []
    },
    {
      "cell_type": "code",
      "metadata": {
        "id": "GoMkojHrVGNH",
        "colab_type": "code",
        "colab": {}
      },
      "source": [
        "miscorrect_index2 = miscorrect_index2[:10] "
      ],
      "execution_count": 0,
      "outputs": []
    },
    {
      "cell_type": "code",
      "metadata": {
        "id": "mMGogTsNTb_t",
        "colab_type": "code",
        "outputId": "b9a2653b-dcea-43da-abc0-140c26ebb46f",
        "colab": {
          "base_uri": "https://localhost:8080/",
          "height": 36
        }
      },
      "source": [
        "test_image[1,:].shape"
      ],
      "execution_count": 54,
      "outputs": [
        {
          "output_type": "execute_result",
          "data": {
            "text/plain": [
              "(784,)"
            ]
          },
          "metadata": {
            "tags": []
          },
          "execution_count": 54
        }
      ]
    },
    {
      "cell_type": "code",
      "metadata": {
        "id": "3LGpZNczReFX",
        "colab_type": "code",
        "outputId": "b98aa068-45f0-4f51-fd4c-3d365c0a37a4",
        "colab": {
          "base_uri": "https://localhost:8080/",
          "height": 227
        }
      },
      "source": [
        "# reshape과정\n",
        "# test셋에 대하여 correct저장한 값 \n",
        "count = 0\n",
        "for i in correct_index2:\n",
        "  plt.subplot(2, 5, count+1)\n",
        "\n",
        "  first = test_image[i, :].reshape(28, 28)\n",
        "  plt.imshow(first, cmap='Greys',interpolation='None')\n",
        "  plt.title(correct_label2[count])\n",
        "  frame   = plt.gca()\n",
        "  frame.axes.get_xaxis().set_visible(False)\n",
        "  frame.axes.get_yaxis().set_visible(False)\n",
        "  count+=1\n",
        "  if(count==10):\n",
        "    break\n",
        "\n",
        "plt.show()\n"
      ],
      "execution_count": 55,
      "outputs": [
        {
          "output_type": "display_data",
          "data": {
            "image/png": "[encoded data removed]",
            "text/plain": [
              "<Figure size 432x288 with 10 Axes>"
            ]
          },
          "metadata": {
            "tags": [],
            "needs_background": "light"
          }
        }
      ]
    },
    {
      "cell_type": "code",
      "metadata": {
        "id": "BCbB86tYT8BK",
        "colab_type": "code",
        "outputId": "0802ae72-46a9-41ac-ceff-a12b1522f6b1",
        "colab": {
          "base_uri": "https://localhost:8080/",
          "height": 227
        }
      },
      "source": [
        "# reshape과정\n",
        "# test셋에 대하여 miscorrect값을 plotting\n",
        "count = 0\n",
        "for i in miscorrect_index2:\n",
        "  plt.subplot(2, 5, count+1)\n",
        "  second = test_image[i, :].reshape(28, 28)\n",
        "  plt.imshow(second, cmap='Greys',interpolation='None')\n",
        "  plt.title(miscorrect_label2[count])\n",
        "  frame   = plt.gca()\n",
        "  frame.axes.get_xaxis().set_visible(False)\n",
        "  frame.axes.get_yaxis().set_visible(False)\n",
        "  count+=1\n",
        "  if(count==10):\n",
        "    break\n",
        "\n",
        "plt.show()"
      ],
      "execution_count": 56,
      "outputs": [
        {
          "output_type": "display_data",
          "data": {
            "image/png": "[encoded data removed]",
            "text/plain": [
              "<Figure size 432x288 with 10 Axes>"
            ]
          },
          "metadata": {
            "tags": [],
            "needs_background": "light"
          }
        }
      ]
    },
    {
      "cell_type": "code",
      "metadata": {
        "id": "PUcbB53yUVb6",
        "colab_type": "code",
        "colab": {}
      },
      "source": [
        ""
      ],
      "execution_count": 0,
      "outputs": []
    },
    {
      "cell_type": "markdown",
      "metadata": {
        "id": "eBbF0nPoVv_m",
        "colab_type": "text"
      },
      "source": [
        "## 답"
      ]
    },
    {
      "cell_type": "markdown",
      "metadata": {
        "id": "Eb3Lmny2Vx8f",
        "colab_type": "text"
      },
      "source": [
        "# 1.Plot the loss curve "
      ]
    },
    {
      "cell_type": "code",
      "metadata": {
        "id": "nj0btERbVxJf",
        "colab_type": "code",
        "outputId": "9500e31e-64a4-4a2d-be16-bf6439af1513",
        "colab": {
          "base_uri": "https://localhost:8080/",
          "height": 284
        }
      },
      "source": [
        "plt.plot(train_cost_value_list,'b')\n",
        "plt.plot(test_cost_value_list,'r')"
      ],
      "execution_count": 57,
      "outputs": [
        {
          "output_type": "execute_result",
          "data": {
            "text/plain": [
              "[<matplotlib.lines.Line2D at 0x7f8eb4145e80>]"
            ]
          },
          "metadata": {
            "tags": []
          },
          "execution_count": 57
        },
        {
          "output_type": "display_data",
          "data": {
            "image/png": "[encoded data removed]",
            "text/plain": [
              "<Figure size 432x288 with 1 Axes>"
            ]
          },
          "metadata": {
            "tags": [],
            "needs_background": "light"
          }
        }
      ]
    },
    {
      "cell_type": "markdown",
      "metadata": {
        "id": "SBwtg4k1V8GE",
        "colab_type": "text"
      },
      "source": [
        "## 2. Plot the accuracy curve"
      ]
    },
    {
      "cell_type": "code",
      "metadata": {
        "id": "UHzU08FqV7Lc",
        "colab_type": "code",
        "outputId": "cf3efd3b-188c-47e3-beee-96a29b7b0970",
        "colab": {
          "base_uri": "https://localhost:8080/",
          "height": 284
        }
      },
      "source": [
        "plt.plot(train_accuracy_list,'b')\n",
        "plt.plot(test_accuracy_list,'r')"
      ],
      "execution_count": 58,
      "outputs": [
        {
          "output_type": "execute_result",
          "data": {
            "text/plain": [
              "[<matplotlib.lines.Line2D at 0x7f8eb406ab00>]"
            ]
          },
          "metadata": {
            "tags": []
          },
          "execution_count": 58
        },
        {
          "output_type": "display_data",
          "data": {
            "image/png": "[encoded data removed]",
            "text/plain": [
              "<Figure size 432x288 with 1 Axes>"
            ]
          },
          "metadata": {
            "tags": [],
            "needs_background": "light"
          }
        }
      ]
    },
    {
      "cell_type": "markdown",
      "metadata": {
        "id": "U8rAlLlXWEP1",
        "colab_type": "text"
      },
      "source": [
        "## 3. Plot the accuracy value"
      ]
    },
    {
      "cell_type": "code",
      "metadata": {
        "id": "z9Chx5bEWDTS",
        "colab_type": "code",
        "outputId": "9350d2be-a92f-40ab-b05c-818263d82b0a",
        "colab": {
          "base_uri": "https://localhost:8080/",
          "height": 36
        }
      },
      "source": [
        "print('train : ',train_accuracy_list[-1]*100,'%') # train accuracy"
      ],
      "execution_count": 59,
      "outputs": [
        {
          "output_type": "stream",
          "text": [
            "train :  100.0 %\n"
          ],
          "name": "stdout"
        }
      ]
    },
    {
      "cell_type": "code",
      "metadata": {
        "id": "XFX0IkhSWMAW",
        "colab_type": "code",
        "outputId": "86bad997-dc47-4821-de8b-51f7d4803511",
        "colab": {
          "base_uri": "https://localhost:8080/",
          "height": 36
        }
      },
      "source": [
        "print('test:' ,test_accuracy_list[-1]*100,'%')"
      ],
      "execution_count": 60,
      "outputs": [
        {
          "output_type": "stream",
          "text": [
            "test: 85.42222222222222 %\n"
          ],
          "name": "stdout"
        }
      ]
    },
    {
      "cell_type": "markdown",
      "metadata": {
        "id": "7MweBS58WU_-",
        "colab_type": "text"
      },
      "source": [
        "## 4. Plot the classification example"
      ]
    },
    {
      "cell_type": "code",
      "metadata": {
        "id": "RzfxPD-LWSpU",
        "colab_type": "code",
        "outputId": "c30ec09d-d910-48c1-98ce-172506684a8a",
        "colab": {
          "base_uri": "https://localhost:8080/",
          "height": 227
        }
      },
      "source": [
        "# reshape과정\n",
        "# test셋에 대하여 correct저장한 값 \n",
        "count = 0\n",
        "for i in correct_index2:\n",
        "  plt.subplot(2, 5, count+1)\n",
        "\n",
        "  first = test_image[i, :].reshape(28, 28)\n",
        "  plt.imshow(first, cmap='Greys',interpolation='None')\n",
        "  plt.title(correct_label2[count])\n",
        "  frame   = plt.gca()\n",
        "  frame.axes.get_xaxis().set_visible(False)\n",
        "  frame.axes.get_yaxis().set_visible(False)\n",
        "  count+=1\n",
        "  if(count==10):\n",
        "    break\n",
        "\n",
        "plt.show()\n"
      ],
      "execution_count": 61,
      "outputs": [
        {
          "output_type": "display_data",
          "data": {
            "image/png": "[encoded data removed]",
            "text/plain": [
              "<Figure size 432x288 with 10 Axes>"
            ]
          },
          "metadata": {
            "tags": [],
            "needs_background": "light"
          }
        }
      ]
    },
    {
      "cell_type": "code",
      "metadata": {
        "id": "MtY8JCx_WaAd",
        "colab_type": "code",
        "outputId": "324a1f6e-0044-43a9-d7f9-db63f5997d31",
        "colab": {
          "base_uri": "https://localhost:8080/",
          "height": 227
        }
      },
      "source": [
        "# reshape과정\n",
        "# test셋에 대하여 miscorrect값을 plotting\n",
        "count = 0\n",
        "for i in miscorrect_index2:\n",
        "  plt.subplot(2, 5, count+1)\n",
        "  second = test_image[i, :].reshape(28, 28)\n",
        "  plt.imshow(second, cmap='Greys',interpolation='None')\n",
        "  plt.title(miscorrect_label2[count]) # mis predicted label\n",
        "  frame   = plt.gca()\n",
        "  frame.axes.get_xaxis().set_visible(False)\n",
        "  frame.axes.get_yaxis().set_visible(False)\n",
        "  count+=1\n",
        "  if(count==10):\n",
        "    break\n",
        "\n",
        "plt.show()"
      ],
      "execution_count": 62,
      "outputs": [
        {
          "output_type": "display_data",
          "data": {
            "image/png": "[encoded data removed]",
            "text/plain": [
              "<Figure size 432x288 with 10 Axes>"
            ]
          },
          "metadata": {
            "tags": [],
            "needs_background": "light"
          }
        }
      ]
    },
    {
      "cell_type": "markdown",
      "metadata": {
        "id": "VNiVu8wAq1sJ",
        "colab_type": "text"
      },
      "source": [
        "## 5. test accuracy"
      ]
    },
    {
      "cell_type": "code",
      "metadata": {
        "id": "v3OyOo-XWc91",
        "colab_type": "code",
        "colab": {
          "base_uri": "https://localhost:8080/",
          "height": 36
        },
        "outputId": "3d63a0bc-9352-49ba-c0b6-72081b4819ef"
      },
      "source": [
        "print(test_accuracy_list[-1]*100,'%') # final (test)"
      ],
      "execution_count": 63,
      "outputs": [
        {
          "output_type": "stream",
          "text": [
            "85.42222222222222 %\n"
          ],
          "name": "stdout"
        }
      ]
    },
    {
      "cell_type": "code",
      "metadata": {
        "id": "Qw2N0sIzz4No",
        "colab_type": "code",
        "colab": {}
      },
      "source": [
        ""
      ],
      "execution_count": 0,
      "outputs": []
    }
  ]
}